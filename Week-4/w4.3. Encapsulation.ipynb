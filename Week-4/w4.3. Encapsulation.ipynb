{
 "cells": [
  {
   "cell_type": "markdown",
   "metadata": {},
   "source": [
    "# Encapsulation"
   ]
  },
  {
   "cell_type": "markdown",
   "metadata": {},
   "source": [
    "Encapsulation in Python is the concept of bundling the data (attributes) and the methods (functions) that operate on the data within a single unit, which is called a class. It allows you to control access to the data, protecting it from unauthorized modification.\n",
    "\n",
    "Key features of encapsulation include:\n",
    "\n",
    "1. **Data Hiding:** The attributes of a class are often declared as private, meaning they can only be accessed and modified within the class itself. This is done by using naming conventions (e.g., prefixing attribute names with underscores) and by using getter and setter methods.\n",
    "\n",
    "2. **Access Control:** You can define which parts of a class are accessible from outside the class and which are not. This helps to prevent accidental modification or misuse of sensitive data.\n",
    "\n",
    "3. **Code Modularity:** Encapsulation allows you to organize your code into logical units (classes), making it easier to manage and understand.\n",
    "\n",
    "Here's an example of encapsulation in Python:"
   ]
  },
  {
   "cell_type": "code",
   "execution_count": 27,
   "metadata": {},
   "outputs": [
    {
     "name": "stdout",
     "output_type": "stream",
     "text": [
      "Name: John Doe\n",
      "Age: 30\n",
      "Updated Name: Jane Smith\n",
      "Updated Age: 25\n"
     ]
    }
   ],
   "source": [
    "class Person:\n",
    "    def __init__(self, name, age):\n",
    "        self._name = name  # Protected attribute\n",
    "        self._age = age    # Protected attribute\n",
    "\n",
    "    def get_name(self):\n",
    "        return self._name\n",
    "\n",
    "    def set_name(self, name):\n",
    "        self._name = name\n",
    "\n",
    "    def get_age(self):\n",
    "        return self._age\n",
    "\n",
    "    def set_age(self, age):\n",
    "        self._age = age\n",
    "\n",
    "# Example usage\n",
    "person = Person(\"John Doe\", 30)\n",
    "\n",
    "# Accessing attributes using getter methods\n",
    "print(f\"Name: {person.get_name()}\")\n",
    "print(f\"Age: {person.get_age()}\")\n",
    "\n",
    "# Modifying attributes using setter methods\n",
    "person.set_name(\"Jane Smith\")\n",
    "person.set_age(25)\n",
    "\n",
    "print(f\"Updated Name: {person.get_name()}\")\n",
    "print(f\"Updated Age: {person.get_age()}\")\n"
   ]
  },
  {
   "cell_type": "markdown",
   "metadata": {},
   "source": [
    "In this example, the Person class encapsulates the name and age attributes. These attributes are defined as \"protected\" by prefixing them with an underscore (e.g., _name, _age). Getter and setter methods (get_name, set_name, get_age, set_age) are used to access and modify these attributes.\n",
    "\n",
    "By using this approach, we can control how the attributes are accessed and modified, providing an additional level of security and flexibility in our code."
   ]
  },
  {
   "cell_type": "code",
   "execution_count": null,
   "metadata": {},
   "outputs": [],
   "source": []
  },
  {
   "cell_type": "markdown",
   "metadata": {},
   "source": [
    "Here are a couple of real-world examples of encapsulation:\n",
    "\n",
    "1. **Bank Account:**\n",
    "* In a banking system, a bank account can be represented as a class. The balance of an account is an attribute that should not be directly accessible or modifiable from outside the class.\n",
    "* The balance should be encapsulated, meaning that it should only be accessed and modified through specific methods provided by the class (e.g., get_balance, deposit, withdraw).\n",
    "* This ensures that the balance is managed securely and that operations on it are controlled and monitored.\n",
    "\n",
    "2. **Car Interface:**\n",
    "* Consider a car as a class. It has various attributes like speed, fuel level, and mileage. These attributes should be protected from direct modification outside of the class to maintain the integrity of the car's state.\n",
    "* Methods like accelerate, brake, and refuel can be used to interact with the car. These methods encapsulate the behavior of the car and control how it responds to different inputs.\n",
    "* This encapsulation ensures that the car operates safely and according to its intended design.\n",
    "\n",
    "3. **Employee Management:**\n",
    "* In a human resources system, an employee's personal information like name, age, and salary should be encapsulated within the Employee class.\n",
    "* Access to this information should be controlled through methods like get_name, get_age, and get_salary. Modifying the salary, for example, should be done through a method like set_salary, which may have additional logic (e.g., authorization checks).\n",
    "* This encapsulation ensures that sensitive employee data is handled securely.\n",
    "\n",
    "4. **Database Connections:**\n",
    "* When working with databases, connection details such as the host, port, username, and password should be encapsulated. These details should not be directly accessible or modifiable from outside the database connection class.\n",
    "* Methods like connect, disconnect, and execute_query can be used to interact with the database. These methods encapsulate the logic for establishing and managing the connection.\n",
    "* This encapsulation helps in maintaining a secure and controlled access to the database.\n",
    "\n",
    "In all these examples, encapsulation provides a way to protect and manage the internal state of an object or system. It allows for controlled access to attributes and behavior, which is crucial for maintaining the integrity and security of data and operations."
   ]
  },
  {
   "cell_type": "code",
   "execution_count": null,
   "metadata": {},
   "outputs": [],
   "source": []
  },
  {
   "cell_type": "markdown",
   "metadata": {},
   "source": [
    "**For Example:** Let's consider a real-world example of encapsulation in a software application:\n",
    "\n",
    "**Email System:**\n",
    "In an email system, you could have a class called Email that encapsulates the details of an email message. This class might have attributes like sender, recipient, subject, and body."
   ]
  },
  {
   "cell_type": "code",
   "execution_count": 28,
   "metadata": {},
   "outputs": [],
   "source": [
    "class Email:\n",
    "    def __init__(self, sender, recipient, subject, body):\n",
    "        self._sender = sender\n",
    "        self._recipient = recipient\n",
    "        self._subject = subject\n",
    "        self._body = body\n",
    "\n",
    "    def send_email(self):\n",
    "        # Code to send the email using a mail server\n",
    "        print(f\"Email sent from {self._sender} to {self._recipient}\")\n",
    "\n",
    "    def display_email(self):\n",
    "        print(f\"Subject: {self._subject}\")\n",
    "        print(f\"From: {self._sender}\")\n",
    "        print(f\"To: {self._recipient}\")\n",
    "        print(f\"Body: {self._body}\")\n"
   ]
  },
  {
   "cell_type": "markdown",
   "metadata": {},
   "source": [
    "In this example, the Email class encapsulates the attributes of an email message: sender, recipient, subject, and body. These attributes are defined as \"protected\" by prefixing them with an underscore (e.g., _sender, _recipient, etc.).\n",
    "\n",
    "The class provides methods like send_email and display_email to interact with the email. These methods encapsulate the behavior associated with sending and displaying an email.\n",
    "\n",
    "Usage example:"
   ]
  },
  {
   "cell_type": "code",
   "execution_count": 30,
   "metadata": {},
   "outputs": [
    {
     "name": "stdout",
     "output_type": "stream",
     "text": [
      "Subject: Meeting Agenda\n",
      "From: ali@gmail.com\n",
      "To: abbas@gmail.com\n",
      "Body: Discussing the upcoming project.\n",
      "Email sent from ali@gmail.com to abbas@gmail.com\n"
     ]
    }
   ],
   "source": [
    "# Create an email instance\n",
    "email = Email(\"ali@gmail.com\", \"abbas@gmail.com\", \"Meeting Agenda\", \"Discussing the upcoming project.\")\n",
    "\n",
    "# Display the email details\n",
    "email.display_email()\n",
    "\n",
    "# Send the email\n",
    "email.send_email()\n"
   ]
  },
  {
   "cell_type": "markdown",
   "metadata": {},
   "source": [
    "In this scenario, encapsulation ensures that the email attributes are accessed and modified using the methods provided by the Email class. This helps in maintaining control over the email data and behavior, ensuring that it is used in a way consistent with the application's design."
   ]
  },
  {
   "cell_type": "code",
   "execution_count": null,
   "metadata": {},
   "outputs": [],
   "source": []
  },
  {
   "cell_type": "code",
   "execution_count": null,
   "metadata": {},
   "outputs": [],
   "source": []
  },
  {
   "cell_type": "code",
   "execution_count": 1,
   "metadata": {},
   "outputs": [],
   "source": [
    "class test : \n",
    "    def __init__(self , a,b ) : \n",
    "        self.a = a \n",
    "        self.b = b "
   ]
  },
  {
   "cell_type": "code",
   "execution_count": 2,
   "metadata": {},
   "outputs": [],
   "source": [
    "t = test(21, 656)"
   ]
  },
  {
   "cell_type": "code",
   "execution_count": 3,
   "metadata": {},
   "outputs": [
    {
     "data": {
      "text/plain": [
       "21"
      ]
     },
     "execution_count": 3,
     "metadata": {},
     "output_type": "execute_result"
    }
   ],
   "source": [
    "t.a"
   ]
  },
  {
   "cell_type": "code",
   "execution_count": 4,
   "metadata": {},
   "outputs": [
    {
     "data": {
      "text/plain": [
       "656"
      ]
     },
     "execution_count": 4,
     "metadata": {},
     "output_type": "execute_result"
    }
   ],
   "source": [
    "t.b"
   ]
  },
  {
   "cell_type": "code",
   "execution_count": 5,
   "metadata": {},
   "outputs": [],
   "source": [
    "t.a = 2513"
   ]
  },
  {
   "cell_type": "code",
   "execution_count": 6,
   "metadata": {},
   "outputs": [
    {
     "data": {
      "text/plain": [
       "2513"
      ]
     },
     "execution_count": 6,
     "metadata": {},
     "output_type": "execute_result"
    }
   ],
   "source": [
    "t.a"
   ]
  },
  {
   "cell_type": "code",
   "execution_count": 7,
   "metadata": {},
   "outputs": [],
   "source": [
    "class car:\n",
    "    def __init__(self, year, make, model, speed):\n",
    "        self.__year = year\n",
    "        self.__make = make\n",
    "        self.__model = model\n",
    "        self.__speed = 0"
   ]
  },
  {
   "cell_type": "code",
   "execution_count": 8,
   "metadata": {},
   "outputs": [],
   "source": [
    "obj_car = car(2021 , \"toyota\" , \"innova\" , 12)"
   ]
  },
  {
   "cell_type": "code",
   "execution_count": 11,
   "metadata": {},
   "outputs": [
    {
     "data": {
      "text/plain": [
       "2021"
      ]
     },
     "execution_count": 11,
     "metadata": {},
     "output_type": "execute_result"
    }
   ],
   "source": [
    "obj_car._car__year"
   ]
  },
  {
   "cell_type": "code",
   "execution_count": 12,
   "metadata": {},
   "outputs": [],
   "source": [
    "obj_car._car__year = 2023"
   ]
  },
  {
   "cell_type": "code",
   "execution_count": 13,
   "metadata": {},
   "outputs": [
    {
     "data": {
      "text/plain": [
       "2023"
      ]
     },
     "execution_count": 13,
     "metadata": {},
     "output_type": "execute_result"
    }
   ],
   "source": [
    "obj_car._car__year"
   ]
  },
  {
   "cell_type": "code",
   "execution_count": 14,
   "metadata": {},
   "outputs": [
    {
     "data": {
      "text/plain": [
       "0"
      ]
     },
     "execution_count": 14,
     "metadata": {},
     "output_type": "execute_result"
    }
   ],
   "source": [
    "obj_car._car__speed"
   ]
  },
  {
   "cell_type": "code",
   "execution_count": 15,
   "metadata": {},
   "outputs": [],
   "source": [
    "class car:\n",
    "    \n",
    "    def __init__(self , year , make , model ,speed ) :\n",
    "        self.__year = year \n",
    "        self.__make = make\n",
    "        self.__model = model\n",
    "        self.__speed = 0 \n",
    "    \n",
    "    def set_speed(self , speed) : \n",
    "        self.__speed = 0 if speed < 0 else speed \n",
    "    \n",
    "    def get_speed(self) : \n",
    "        return self.__speed\n",
    "        \n",
    "        "
   ]
  },
  {
   "cell_type": "code",
   "execution_count": 17,
   "metadata": {},
   "outputs": [],
   "source": [
    "obj_car = car(2021 , \"toyota\" , \"innova\" , 12)"
   ]
  },
  {
   "cell_type": "code",
   "execution_count": 23,
   "metadata": {},
   "outputs": [],
   "source": [
    "obj_car.set_speed(3453)\n"
   ]
  },
  {
   "cell_type": "code",
   "execution_count": 19,
   "metadata": {},
   "outputs": [
    {
     "data": {
      "text/plain": [
       "3453"
      ]
     },
     "execution_count": 19,
     "metadata": {},
     "output_type": "execute_result"
    }
   ],
   "source": [
    "obj_car._car__speed"
   ]
  },
  {
   "cell_type": "code",
   "execution_count": 25,
   "metadata": {},
   "outputs": [],
   "source": [
    "obj_car.set_speed(-1234)"
   ]
  },
  {
   "cell_type": "code",
   "execution_count": 21,
   "metadata": {},
   "outputs": [
    {
     "data": {
      "text/plain": [
       "0"
      ]
     },
     "execution_count": 21,
     "metadata": {},
     "output_type": "execute_result"
    }
   ],
   "source": [
    "obj_car._car__speed"
   ]
  },
  {
   "cell_type": "code",
   "execution_count": 26,
   "metadata": {},
   "outputs": [
    {
     "data": {
      "text/plain": [
       "0"
      ]
     },
     "execution_count": 26,
     "metadata": {},
     "output_type": "execute_result"
    }
   ],
   "source": [
    "obj_car.get_speed()"
   ]
  },
  {
   "cell_type": "code",
   "execution_count": null,
   "metadata": {},
   "outputs": [],
   "source": []
  },
  {
   "cell_type": "code",
   "execution_count": null,
   "metadata": {},
   "outputs": [],
   "source": []
  },
  {
   "cell_type": "code",
   "execution_count": 31,
   "metadata": {},
   "outputs": [],
   "source": [
    "class bank_acount:\n",
    "    \n",
    "    def __init__(self , balance ):\n",
    "        self.__balance = balance\n",
    "    \n",
    "    def deposit(self , amount ) :\n",
    "        self.__balance = self.__balance + amount\n",
    "    \n",
    "    def withdraw(self , amount) : \n",
    "        if self.__balance >= amount : \n",
    "            self.__balance = self.__balance -amount\n",
    "            return True\n",
    "        else : \n",
    "            return False\n",
    "        \n",
    "    def get_balance(self) : \n",
    "        return self.__balance           "
   ]
  },
  {
   "cell_type": "code",
   "execution_count": 32,
   "metadata": {},
   "outputs": [],
   "source": [
    "obj_bank_account = bank_acount(1000)"
   ]
  },
  {
   "cell_type": "code",
   "execution_count": 33,
   "metadata": {},
   "outputs": [
    {
     "data": {
      "text/plain": [
       "1000"
      ]
     },
     "execution_count": 33,
     "metadata": {},
     "output_type": "execute_result"
    }
   ],
   "source": [
    "obj_bank_account.get_balance()"
   ]
  },
  {
   "cell_type": "code",
   "execution_count": 34,
   "metadata": {},
   "outputs": [],
   "source": [
    "obj_bank_account.deposit(5000)"
   ]
  },
  {
   "cell_type": "code",
   "execution_count": 35,
   "metadata": {},
   "outputs": [
    {
     "data": {
      "text/plain": [
       "6000"
      ]
     },
     "execution_count": 35,
     "metadata": {},
     "output_type": "execute_result"
    }
   ],
   "source": [
    "obj_bank_account.get_balance()"
   ]
  },
  {
   "cell_type": "code",
   "execution_count": 36,
   "metadata": {},
   "outputs": [
    {
     "data": {
      "text/plain": [
       "False"
      ]
     },
     "execution_count": 36,
     "metadata": {},
     "output_type": "execute_result"
    }
   ],
   "source": [
    "obj_bank_account.withdraw(25000)"
   ]
  },
  {
   "cell_type": "code",
   "execution_count": 37,
   "metadata": {},
   "outputs": [
    {
     "data": {
      "text/plain": [
       "True"
      ]
     },
     "execution_count": 37,
     "metadata": {},
     "output_type": "execute_result"
    }
   ],
   "source": [
    "obj_bank_account.withdraw(499)"
   ]
  },
  {
   "cell_type": "code",
   "execution_count": 38,
   "metadata": {},
   "outputs": [
    {
     "data": {
      "text/plain": [
       "5501"
      ]
     },
     "execution_count": 38,
     "metadata": {},
     "output_type": "execute_result"
    }
   ],
   "source": [
    "obj_bank_account.get_balance()"
   ]
  },
  {
   "cell_type": "code",
   "execution_count": null,
   "metadata": {},
   "outputs": [],
   "source": []
  }
 ],
 "metadata": {
  "kernelspec": {
   "display_name": ".venv",
   "language": "python",
   "name": "python3"
  },
  "language_info": {
   "codemirror_mode": {
    "name": "ipython",
    "version": 3
   },
   "file_extension": ".py",
   "mimetype": "text/x-python",
   "name": "python",
   "nbconvert_exporter": "python",
   "pygments_lexer": "ipython3",
   "version": "3.10.11"
  },
  "orig_nbformat": 4
 },
 "nbformat": 4,
 "nbformat_minor": 2
}
