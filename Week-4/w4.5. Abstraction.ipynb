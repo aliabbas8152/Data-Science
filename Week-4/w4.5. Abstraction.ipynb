{
 "cells": [
  {
   "cell_type": "markdown",
   "metadata": {},
   "source": [
    "# Abstraction\n",
    "Abstraction in Python is a fundamental concept in object-oriented programming that involves hiding the implementation details of an object and exposing only the necessary information or functionalities to the user.\n",
    "\n",
    "In simpler terms, abstraction allows you to focus on what an object does, rather than how it does it. It provides a high-level view of an object, enabling you to interact with it without needing to understand the internal complexities.\n",
    "\n",
    "Here are some key points about abstraction:\n",
    "\n",
    "1. **Focus on Interface:** Abstraction emphasizes the interface or the set of methods and attributes that an object exposes to the outside world. Users interact with the object through this interface.\n",
    "\n",
    "2. **Hide Complexity:** It allows you to hide the internal workings and complexities of an object. This is achieved by defining public methods and attributes that provide a clear and simplified view of the object's behavior.\n",
    "\n",
    "3. **Reduce Complexity:** By abstracting away the implementation details, users can work with the object at a higher level of understanding. They don't need to know how every single detail is handled, just how to use the provided interface.\n",
    "\n",
    "4. **Promote Code Reuse:** Abstraction helps in creating reusable code components. By defining abstract classes and interfaces, you can create a blueprint that can be implemented by multiple objects with different underlying implementations.\n",
    "\n",
    "5. **Enhance Maintainability:** Abstraction makes code more maintainable because it separates the user's perspective from the internal workings. If the implementation changes, it can be done without affecting the users of the object.\n",
    "\n",
    "Example:\n",
    "Consider a television remote control. The user interacts with it through buttons like power, volume up/down, and channel up/down. The user doesn't need to know how the remote control internally communicates with the TV or how it changes the channels. The abstraction here is the interface provided by the remote control.\n",
    "\n",
    "In Python, abstraction can be achieved through the use of classes and interfaces. Abstract base classes (defined using the ABC module) provide a way to define interfaces that must be implemented by subclasses.\n",
    "\n",
    "Here's a simple example of abstraction in Python:"
   ]
  },
  {
   "cell_type": "code",
   "execution_count": 1,
   "metadata": {},
   "outputs": [
    {
     "name": "stdout",
     "output_type": "stream",
     "text": [
      "78.5\n"
     ]
    }
   ],
   "source": [
    "from abc import ABC, abstractmethod\n",
    "\n",
    "class Shape(ABC):\n",
    "    @abstractmethod\n",
    "    def area(self):\n",
    "        pass\n",
    "\n",
    "class Circle(Shape):\n",
    "    def __init__(self, radius):\n",
    "        self.radius = radius\n",
    "\n",
    "    def area(self):\n",
    "        return 3.14 * self.radius**2\n",
    "\n",
    "circle = Circle(5)\n",
    "print(circle.area())  # Output: 78.5\n"
   ]
  },
  {
   "cell_type": "markdown",
   "metadata": {},
   "source": [
    "In this example, Shape is an abstract base class with an abstract method area(). Circle is a subclass of Shape and it must implement the area() method. This enforces a certain level of abstraction, ensuring that any subclass of Shape provides an implementation for area()."
   ]
  },
  {
   "cell_type": "markdown",
   "metadata": {},
   "source": [
    "For Example: \n",
    "1. **Car Dashboard:**\n",
    "When you drive a car, you interact with the dashboard. It provides essential information like speed, fuel level, temperature, etc. You don't need to know how the engine, transmission, or sensors work internally. The dashboard abstracts away the complexities of the car's mechanics.\n",
    "\n",
    "2. **ATM Machine:**\n",
    "When you use an ATM to withdraw money, you interact with a simple interface: the screen and buttons. You don't need to understand the intricacies of how the ATM communicates with the bank's servers, manages cash, or validates your card. The ATM provides an abstraction of these processes.\n",
    "\n",
    "3. **Smartphone:**\n",
    "A smartphone provides a user-friendly interface through its screen, buttons, and touch gestures. Users can make calls, send messages, take photos, and use various applications without needing to understand the complex hardware and software components that power the device.\n",
    "\n",
    "4. **Electricity Grid:**\n",
    "When you plug in an electronic device, you simply use the electrical outlet. You don't need to know how electricity is generated, transmitted, or distributed through power lines. The outlet abstracts away the details of the entire electrical grid system.\n",
    "\n",
    "5. **Search Engines:**\n",
    "Search engines like Google provide a simple search bar for users. Behind the scenes, complex algorithms crawl the web, index pages, and retrieve relevant search results. Users interact with the search engine's abstraction without needing to understand these complex processes.\n",
    "\n",
    "6. **Library Catalog:**\n",
    "In a library, users search for books using the catalog system. They don't need to know how the library organizes and stores books, or how the catalog database is managed. The catalog provides a simplified interface for finding and accessing books.\n",
    "\n",
    "7. **Elevator Control Panel:**\n",
    "When you use an elevator, you press a button to select your floor. You don't need to know how the elevator's motor, pulleys, and control systems work. The control panel abstracts away these details, allowing you to easily navigate between floors."
   ]
  },
  {
   "cell_type": "code",
   "execution_count": 2,
   "metadata": {},
   "outputs": [
    {
     "name": "stdout",
     "output_type": "stream",
     "text": [
      "Account Number: 123456\n",
      "Current Balance: 1300\n"
     ]
    }
   ],
   "source": [
    "class BankAccount:\n",
    "    def __init__(self, account_number, balance):\n",
    "        self.account_number = account_number\n",
    "        self.balance = balance\n",
    "\n",
    "    def deposit(self, amount):\n",
    "        self.balance += amount\n",
    "\n",
    "    def withdraw(self, amount):\n",
    "        if amount <= self.balance:\n",
    "            self.balance -= amount\n",
    "        else:\n",
    "            print(\"Insufficient funds\")\n",
    "\n",
    "    def get_balance(self):\n",
    "        return self.balance\n",
    "\n",
    "# Creating an instance of BankAccount\n",
    "account = BankAccount(\"123456\", 1000)\n",
    "\n",
    "# Using abstraction to interact with the account\n",
    "account.deposit(500)\n",
    "account.withdraw(200)\n",
    "balance = account.get_balance()\n",
    "\n",
    "print(f\"Account Number: {account.account_number}\")\n",
    "print(f\"Current Balance: {balance}\")\n"
   ]
  },
  {
   "cell_type": "markdown",
   "metadata": {},
   "source": [
    "In this example, we have a BankAccount class that represents a bank account. It has attributes like account_number and balance, as well as methods like deposit, withdraw, and get_balance.\n",
    "\n",
    "The user interacts with the account through these methods, which serve as an abstraction of the underlying processes:\n",
    "\n",
    "* **deposit(amount)** : allows the user to deposit money into the account.\n",
    "* **withdraw(amount)** : allows the user to withdraw money, provided there are sufficient funds.\n",
    "* **get_balance()** : retrieves the current balance.\n",
    "\n",
    "The user doesn't need to understand how the bank account internally manages transactions or updates balances. They interact with the account using a simplified interface provided by the BankAccount class."
   ]
  },
  {
   "cell_type": "code",
   "execution_count": null,
   "metadata": {},
   "outputs": [],
   "source": []
  },
  {
   "cell_type": "code",
   "execution_count": null,
   "metadata": {},
   "outputs": [],
   "source": []
  },
  {
   "cell_type": "code",
   "execution_count": 3,
   "metadata": {},
   "outputs": [],
   "source": [
    "import abc\n",
    "\n",
    "class pwskills :\n",
    "    \n",
    "    @abc.abstractmethod\n",
    "    def student_details(self):\n",
    "        pass\n",
    "    \n",
    "    @abc.abstractmethod\n",
    "    def student_assignment(self):\n",
    "        pass\n",
    "    \n",
    "    \n",
    "    @abc.abstractmethod\n",
    "    def student_marks(self):\n",
    "        pass"
   ]
  },
  {
   "cell_type": "code",
   "execution_count": 4,
   "metadata": {},
   "outputs": [],
   "source": [
    "class data_science(pwskills):\n",
    "    \n",
    "    def student_details(self):\n",
    "        return \"it will try to return a details of data science masters \"\n",
    "    \n",
    "    def student_assignment(self):\n",
    "        return \"it will return a details of student assignemnt for data science masters \"\n",
    "    "
   ]
  },
  {
   "cell_type": "code",
   "execution_count": 11,
   "metadata": {},
   "outputs": [],
   "source": [
    "class web_dev(pwskills):\n",
    "     def student_details(self):\n",
    "            return \"this will return a detils of web dev \"\n",
    "    \n",
    "    \n",
    "     def student_marks(self):\n",
    "             return \"this will return a makrs of web dev class\""
   ]
  },
  {
   "cell_type": "code",
   "execution_count": 6,
   "metadata": {},
   "outputs": [
    {
     "data": {
      "text/plain": [
       "'it will try to return a details of data science masters '"
      ]
     },
     "execution_count": 6,
     "metadata": {},
     "output_type": "execute_result"
    }
   ],
   "source": [
    "ds = data_science()\n",
    "ds.student_details()"
   ]
  },
  {
   "cell_type": "code",
   "execution_count": 12,
   "metadata": {},
   "outputs": [
    {
     "data": {
      "text/plain": [
       "'this will return a detils of web dev '"
      ]
     },
     "execution_count": 12,
     "metadata": {},
     "output_type": "execute_result"
    }
   ],
   "source": [
    "wb = web_dev()\n",
    "wb.student_details()"
   ]
  },
  {
   "cell_type": "code",
   "execution_count": null,
   "metadata": {},
   "outputs": [],
   "source": []
  },
  {
   "cell_type": "code",
   "execution_count": null,
   "metadata": {},
   "outputs": [],
   "source": []
  },
  {
   "cell_type": "markdown",
   "metadata": {},
   "source": [
    "Here are some additional examples of abstraction in Python programming:"
   ]
  },
  {
   "cell_type": "code",
   "execution_count": 13,
   "metadata": {},
   "outputs": [],
   "source": [
    "# Example of abstraction using file handling\n",
    "with open('example.txt', 'w') as file:\n",
    "    file.write('Hello, World!')\n"
   ]
  },
  {
   "cell_type": "markdown",
   "metadata": {},
   "source": [
    "In this example, we use the open() function to interact with a file. We can write data to the file without needing to understand the low-level operations involved in managing file systems."
   ]
  },
  {
   "cell_type": "code",
   "execution_count": 14,
   "metadata": {},
   "outputs": [],
   "source": [
    "class Animal:\n",
    "    def make_sound(self):\n",
    "        pass\n",
    "\n",
    "class Dog(Animal):\n",
    "    def make_sound(self):\n",
    "        print(\"Bark\")\n",
    "\n",
    "class Cat(Animal):\n",
    "    def make_sound(self):\n",
    "        print(\"Meow\")\n"
   ]
  },
  {
   "cell_type": "markdown",
   "metadata": {},
   "source": [
    "In this example, we have an abstract base class Animal with a method make_sound(). Subclasses Dog and Cat implement this method with their own specific sounds. Users can interact with animals through the make_sound() method, without needing to know the internal details of each animal's sound."
   ]
  },
  {
   "cell_type": "code",
   "execution_count": null,
   "metadata": {},
   "outputs": [],
   "source": []
  }
 ],
 "metadata": {
  "kernelspec": {
   "display_name": ".venv",
   "language": "python",
   "name": "python3"
  },
  "language_info": {
   "codemirror_mode": {
    "name": "ipython",
    "version": 3
   },
   "file_extension": ".py",
   "mimetype": "text/x-python",
   "name": "python",
   "nbconvert_exporter": "python",
   "pygments_lexer": "ipython3",
   "version": "3.10.11"
  },
  "orig_nbformat": 4
 },
 "nbformat": 4,
 "nbformat_minor": 2
}
