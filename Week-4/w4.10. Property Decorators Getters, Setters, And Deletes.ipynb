{
 "cells": [
  {
   "cell_type": "markdown",
   "metadata": {},
   "source": [
    "# Property Decorators Getters, Setter, Deleter"
   ]
  },
  {
   "cell_type": "markdown",
   "metadata": {},
   "source": [
    "In Python, the `property` decorator is a built-in function that allows you to define methods that are accessed like attributes, rather than calling them like regular methods. This can be useful for controlling access to attributes, allowing you to implement getters, setters, and deleters.\n",
    "\n",
    "Here's how you can use the `property` decorator along with getter, setter, and deleter methods:\n",
    "\n",
    "### Getter:\n",
    "\n",
    "A getter method is used to retrieve the value of an attribute. It is decorated with `@property`.\n",
    "\n",
    "```python\n",
    "class Person:\n",
    "    def __init__(self, first_name, last_name):\n",
    "        self._first_name = first_name\n",
    "        self._last_name = last_name\n",
    "\n",
    "    @property\n",
    "    def full_name(self):\n",
    "        return f\"{self._first_name} {self._last_name}\"\n",
    "\n",
    "# Usage:\n",
    "person = Person(\"John\", \"Doe\")\n",
    "print(person.full_name)  # Output: John Doe\n",
    "```\n",
    "\n",
    "In this example, `full_name` is a getter method. When you access `person.full_name`, it behaves like an attribute and returns the concatenation of `first_name` and `last_name`.\n",
    "\n",
    "### Setter:\n",
    "\n",
    "A setter method is used to modify the value of an attribute. It is decorated with `@<attribute_name>.setter`.\n",
    "\n",
    "```python\n",
    "class Person:\n",
    "    def __init__(self, first_name, last_name):\n",
    "        self._first_name = first_name\n",
    "        self._last_name = last_name\n",
    "\n",
    "    @property\n",
    "    def full_name(self):\n",
    "        return f\"{self._first_name} {self._last_name}\"\n",
    "\n",
    "    @full_name.setter\n",
    "    def full_name(self, value):\n",
    "        first_name, last_name = value.split(' ')\n",
    "        self._first_name = first_name\n",
    "        self._last_name = last_name\n",
    "\n",
    "# Usage:\n",
    "person = Person(\"John\", \"Doe\")\n",
    "person.full_name = \"Jane Doe\"\n",
    "print(person.full_name)  # Output: Jane Doe\n",
    "```\n",
    "\n",
    "In this example, `full_name` is both a getter and a setter method. When you assign a value to `person.full_name`, the setter method is called to split the value into `first_name` and `last_name` and update the internal attributes.\n",
    "\n",
    "### Deleter:\n",
    "\n",
    "A deleter method is used to delete an attribute. It is decorated with `@<attribute_name>.deleter`.\n",
    "\n",
    "```python\n",
    "class Person:\n",
    "    def __init__(self, first_name, last_name):\n",
    "        self._first_name = first_name\n",
    "        self._last_name = last_name\n",
    "\n",
    "    @property\n",
    "    def full_name(self):\n",
    "        return f\"{self._first_name} {self._last_name}\"\n",
    "\n",
    "    @full_name.setter\n",
    "    def full_name(self, value):\n",
    "        first_name, last_name = value.split(' ')\n",
    "        self._first_name = first_name\n",
    "        self._last_name = last_name\n",
    "\n",
    "    @full_name.deleter\n",
    "    def full_name(self):\n",
    "        del self._first_name\n",
    "        del self._last_name\n",
    "\n",
    "# Usage:\n",
    "person = Person(\"John\", \"Doe\")\n",
    "del person.full_name\n",
    "# Attempting to access person.full_name after deletion will raise an AttributeError.\n",
    "```\n",
    "\n",
    "In this example, the `full_name` attribute has a deleter method. When you use the `del` statement to delete `person.full_name`, the deleter method is called and it deletes the underlying attributes `_first_name` and `_last_name`.\n",
    "\n",
    "Using getters, setters, and deleters with properties allows you to implement controlled access to attributes. This can be particularly useful for validating or modifying data before it is stored or retrieved."
   ]
  },
  {
   "cell_type": "code",
   "execution_count": 7,
   "metadata": {},
   "outputs": [],
   "source": [
    "class school:\n",
    "    def __init__(self, price, name):\n",
    "        self.__course_price = price\n",
    "        self.cource_name = name"
   ]
  },
  {
   "cell_type": "code",
   "execution_count": 2,
   "metadata": {},
   "outputs": [],
   "source": [
    "s = school(3000, \"DS\")"
   ]
  },
  {
   "cell_type": "code",
   "execution_count": 3,
   "metadata": {},
   "outputs": [
    {
     "data": {
      "text/plain": [
       "'DS'"
      ]
     },
     "execution_count": 3,
     "metadata": {},
     "output_type": "execute_result"
    }
   ],
   "source": [
    "s.cource_name"
   ]
  },
  {
   "cell_type": "code",
   "execution_count": 4,
   "metadata": {},
   "outputs": [
    {
     "ename": "AttributeError",
     "evalue": "'school' object has no attribute '__course_price'",
     "output_type": "error",
     "traceback": [
      "\u001b[1;31m---------------------------------------------------------------------------\u001b[0m",
      "\u001b[1;31mAttributeError\u001b[0m                            Traceback (most recent call last)",
      "\u001b[1;32mc:\\Codes\\pythonFiles\\Data Science PW\\Week-4\\w4.10. Property Decorators Getters, Setters, And Deletes.ipynb Cell 4\u001b[0m line \u001b[0;36m1\n\u001b[1;32m----> <a href='vscode-notebook-cell:/c%3A/Codes/pythonFiles/Data%20Science%20PW/Week-4/w4.10.%20Property%20Decorators%20Getters%2C%20Setters%2C%20And%20Deletes.ipynb#W3sZmlsZQ%3D%3D?line=0'>1</a>\u001b[0m s\u001b[39m.\u001b[39;49m__course_price\n",
      "\u001b[1;31mAttributeError\u001b[0m: 'school' object has no attribute '__course_price'"
     ]
    }
   ],
   "source": [
    "s.__course_price"
   ]
  },
  {
   "cell_type": "code",
   "execution_count": 6,
   "metadata": {},
   "outputs": [
    {
     "data": {
      "text/plain": [
       "3000"
      ]
     },
     "execution_count": 6,
     "metadata": {},
     "output_type": "execute_result"
    }
   ],
   "source": [
    "s._school__course_price"
   ]
  },
  {
   "cell_type": "code",
   "execution_count": 8,
   "metadata": {},
   "outputs": [],
   "source": [
    "class school1:\n",
    "    def __init__(self, price, name):\n",
    "        self.__course_price = price\n",
    "        self.cource_name = name\n",
    "\n",
    "    @property\n",
    "    def price_access(self):\n",
    "        return self.__course_price"
   ]
  },
  {
   "cell_type": "code",
   "execution_count": 9,
   "metadata": {},
   "outputs": [],
   "source": [
    "s1 = school1(300, \"web dev\")"
   ]
  },
  {
   "cell_type": "code",
   "execution_count": 10,
   "metadata": {},
   "outputs": [
    {
     "data": {
      "text/plain": [
       "'web dev'"
      ]
     },
     "execution_count": 10,
     "metadata": {},
     "output_type": "execute_result"
    }
   ],
   "source": [
    "s1.cource_name"
   ]
  },
  {
   "cell_type": "code",
   "execution_count": 12,
   "metadata": {},
   "outputs": [
    {
     "data": {
      "text/plain": [
       "300"
      ]
     },
     "execution_count": 12,
     "metadata": {},
     "output_type": "execute_result"
    }
   ],
   "source": [
    "s1.price_access"
   ]
  },
  {
   "cell_type": "code",
   "execution_count": 14,
   "metadata": {},
   "outputs": [
    {
     "data": {
      "text/plain": [
       "300"
      ]
     },
     "execution_count": 14,
     "metadata": {},
     "output_type": "execute_result"
    }
   ],
   "source": [
    "s1._school1__course_price"
   ]
  },
  {
   "cell_type": "code",
   "execution_count": 15,
   "metadata": {},
   "outputs": [],
   "source": [
    "s1.cource_name = \"ds\""
   ]
  },
  {
   "cell_type": "code",
   "execution_count": 16,
   "metadata": {},
   "outputs": [
    {
     "data": {
      "text/plain": [
       "'ds'"
      ]
     },
     "execution_count": 16,
     "metadata": {},
     "output_type": "execute_result"
    }
   ],
   "source": [
    "s1.cource_name"
   ]
  },
  {
   "cell_type": "code",
   "execution_count": 17,
   "metadata": {},
   "outputs": [
    {
     "ename": "AttributeError",
     "evalue": "can't set attribute 'price_access'",
     "output_type": "error",
     "traceback": [
      "\u001b[1;31m---------------------------------------------------------------------------\u001b[0m",
      "\u001b[1;31mAttributeError\u001b[0m                            Traceback (most recent call last)",
      "\u001b[1;32mc:\\Codes\\pythonFiles\\Data Science PW\\Week-4\\w4.10. Property Decorators Getters, Setters, And Deletes.ipynb Cell 13\u001b[0m line \u001b[0;36m1\n\u001b[1;32m----> <a href='vscode-notebook-cell:/c%3A/Codes/pythonFiles/Data%20Science%20PW/Week-4/w4.10.%20Property%20Decorators%20Getters%2C%20Setters%2C%20And%20Deletes.ipynb#X15sZmlsZQ%3D%3D?line=0'>1</a>\u001b[0m s1\u001b[39m.\u001b[39;49mprice_access \u001b[39m=\u001b[39m \u001b[39m3000\u001b[39m\n",
      "\u001b[1;31mAttributeError\u001b[0m: can't set attribute 'price_access'"
     ]
    }
   ],
   "source": [
    "s1.price_access = 3000"
   ]
  },
  {
   "cell_type": "code",
   "execution_count": 18,
   "metadata": {},
   "outputs": [],
   "source": [
    "class school2:\n",
    "    def __init__(self, price, name):\n",
    "        self.__course_price = price\n",
    "        self.cource_name = name\n",
    "\n",
    "    @property\n",
    "    def price_access(self):\n",
    "        return self.__course_price\n",
    "    \n",
    "    @price_access.setter\n",
    "    def set_price(self, price):\n",
    "        if price<=3000:\n",
    "            pass\n",
    "        else:\n",
    "            self.__course_price=price"
   ]
  },
  {
   "cell_type": "code",
   "execution_count": 19,
   "metadata": {},
   "outputs": [],
   "source": [
    "s2 = school2(3500, \"DS\")"
   ]
  },
  {
   "cell_type": "code",
   "execution_count": 20,
   "metadata": {},
   "outputs": [
    {
     "data": {
      "text/plain": [
       "3500"
      ]
     },
     "execution_count": 20,
     "metadata": {},
     "output_type": "execute_result"
    }
   ],
   "source": [
    "s2.price_access"
   ]
  },
  {
   "cell_type": "code",
   "execution_count": 21,
   "metadata": {},
   "outputs": [],
   "source": [
    "s2.set_price = 2000"
   ]
  },
  {
   "cell_type": "code",
   "execution_count": 22,
   "metadata": {},
   "outputs": [
    {
     "data": {
      "text/plain": [
       "3500"
      ]
     },
     "execution_count": 22,
     "metadata": {},
     "output_type": "execute_result"
    }
   ],
   "source": [
    "s2.price_access"
   ]
  },
  {
   "cell_type": "code",
   "execution_count": 23,
   "metadata": {},
   "outputs": [],
   "source": [
    "s2.set_price = 4000"
   ]
  },
  {
   "cell_type": "code",
   "execution_count": 24,
   "metadata": {},
   "outputs": [
    {
     "data": {
      "text/plain": [
       "4000"
      ]
     },
     "execution_count": 24,
     "metadata": {},
     "output_type": "execute_result"
    }
   ],
   "source": [
    "s2.price_access"
   ]
  },
  {
   "cell_type": "code",
   "execution_count": 25,
   "metadata": {},
   "outputs": [],
   "source": [
    "class school3:\n",
    "    def __init__(self, price, name):\n",
    "        self.__course_price = price\n",
    "        self.cource_name = name\n",
    "\n",
    "    @property\n",
    "    def price_access(self):\n",
    "        return self.__course_price\n",
    "    \n",
    "    @price_access.setter\n",
    "    def set_price(self, price):\n",
    "        if price<=3000:\n",
    "            pass\n",
    "        else:\n",
    "            self.__course_price=price\n",
    "\n",
    "    @price_access.deleter\n",
    "    def del_price(self):\n",
    "        del self.__course_price        "
   ]
  },
  {
   "cell_type": "code",
   "execution_count": 26,
   "metadata": {},
   "outputs": [],
   "source": [
    "s3 = school3(3500, \"DS\")"
   ]
  },
  {
   "cell_type": "code",
   "execution_count": 27,
   "metadata": {},
   "outputs": [
    {
     "data": {
      "text/plain": [
       "3500"
      ]
     },
     "execution_count": 27,
     "metadata": {},
     "output_type": "execute_result"
    }
   ],
   "source": [
    "s3.price_access"
   ]
  },
  {
   "cell_type": "code",
   "execution_count": 28,
   "metadata": {},
   "outputs": [],
   "source": [
    "del s3.del_price"
   ]
  },
  {
   "cell_type": "code",
   "execution_count": 29,
   "metadata": {},
   "outputs": [
    {
     "ename": "AttributeError",
     "evalue": "'school3' object has no attribute '_school3__course_price'",
     "output_type": "error",
     "traceback": [
      "\u001b[1;31m---------------------------------------------------------------------------\u001b[0m",
      "\u001b[1;31mAttributeError\u001b[0m                            Traceback (most recent call last)",
      "\u001b[1;32mc:\\Codes\\pythonFiles\\Data Science PW\\Week-4\\w4.10. Property Decorators Getters, Setters, And Deletes.ipynb Cell 25\u001b[0m line \u001b[0;36m1\n\u001b[1;32m----> <a href='vscode-notebook-cell:/c%3A/Codes/pythonFiles/Data%20Science%20PW/Week-4/w4.10.%20Property%20Decorators%20Getters%2C%20Setters%2C%20And%20Deletes.ipynb#X33sZmlsZQ%3D%3D?line=0'>1</a>\u001b[0m s3\u001b[39m.\u001b[39;49mprice_access\n",
      "\u001b[1;32mc:\\Codes\\pythonFiles\\Data Science PW\\Week-4\\w4.10. Property Decorators Getters, Setters, And Deletes.ipynb Cell 25\u001b[0m line \u001b[0;36m8\n\u001b[0;32m      <a href='vscode-notebook-cell:/c%3A/Codes/pythonFiles/Data%20Science%20PW/Week-4/w4.10.%20Property%20Decorators%20Getters%2C%20Setters%2C%20And%20Deletes.ipynb#X33sZmlsZQ%3D%3D?line=5'>6</a>\u001b[0m \u001b[39m@property\u001b[39m\n\u001b[0;32m      <a href='vscode-notebook-cell:/c%3A/Codes/pythonFiles/Data%20Science%20PW/Week-4/w4.10.%20Property%20Decorators%20Getters%2C%20Setters%2C%20And%20Deletes.ipynb#X33sZmlsZQ%3D%3D?line=6'>7</a>\u001b[0m \u001b[39mdef\u001b[39;00m \u001b[39mprice_access\u001b[39m(\u001b[39mself\u001b[39m):\n\u001b[1;32m----> <a href='vscode-notebook-cell:/c%3A/Codes/pythonFiles/Data%20Science%20PW/Week-4/w4.10.%20Property%20Decorators%20Getters%2C%20Setters%2C%20And%20Deletes.ipynb#X33sZmlsZQ%3D%3D?line=7'>8</a>\u001b[0m     \u001b[39mreturn\u001b[39;00m \u001b[39mself\u001b[39;49m\u001b[39m.\u001b[39;49m__course_price\n",
      "\u001b[1;31mAttributeError\u001b[0m: 'school3' object has no attribute '_school3__course_price'"
     ]
    }
   ],
   "source": [
    "s3.price_access"
   ]
  },
  {
   "cell_type": "code",
   "execution_count": null,
   "metadata": {},
   "outputs": [],
   "source": []
  }
 ],
 "metadata": {
  "kernelspec": {
   "display_name": "Python 3",
   "language": "python",
   "name": "python3"
  },
  "language_info": {
   "codemirror_mode": {
    "name": "ipython",
    "version": 3
   },
   "file_extension": ".py",
   "mimetype": "text/x-python",
   "name": "python",
   "nbconvert_exporter": "python",
   "pygments_lexer": "ipython3",
   "version": "3.10.11"
  }
 },
 "nbformat": 4,
 "nbformat_minor": 2
}
