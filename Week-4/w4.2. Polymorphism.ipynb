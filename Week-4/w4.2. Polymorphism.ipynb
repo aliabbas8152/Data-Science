{
 "cells": [
  {
   "cell_type": "markdown",
   "metadata": {},
   "source": [
    "# Polymorphism"
   ]
  },
  {
   "cell_type": "markdown",
   "metadata": {},
   "source": [
    "Polymorphism in Python refers to the ability of different objects or data types to exhibit different behaviors or have different forms in response to the same function or method call.\n",
    "\n",
    "There are two main types of polymorphism:\n",
    "\n",
    "1. Compile-time (Static) Polymorphism:\n",
    "\n",
    "* This type of polymorphism is also known as early binding or static binding.\n",
    "* It is achieved through method overloading or operator overloading.\n",
    "* Method overloading allows a class to define multiple methods with the same name but with different arguments or parameter types.\n",
    "* Operator overloading involves defining special methods in a class that allow it to respond to certain operators (e.g., +, -) in a custom way.\n",
    "\n",
    "2. Run-time (Dynamic) Polymorphism:\n",
    "\n",
    "* This type of polymorphism is also known as late binding or dynamic binding.\n",
    "* It is achieved through method overriding.\n",
    "* Method overriding occurs when a subclass provides a specific implementation for a method that is already defined in its parent class. When you call the method on an instance of the subclass, the overridden method is executed.\n",
    "\n",
    "Here's an example to illustrate method overriding:"
   ]
  },
  {
   "cell_type": "code",
   "execution_count": 17,
   "metadata": {},
   "outputs": [
    {
     "name": "stdout",
     "output_type": "stream",
     "text": [
      "Generic animal sound\n",
      "Bark\n",
      "Meow\n"
     ]
    }
   ],
   "source": [
    "class Animal:\n",
    "    def make_sound(self):\n",
    "        print(\"Generic animal sound\")\n",
    "\n",
    "class Dog(Animal):\n",
    "    def make_sound(self):\n",
    "        print(\"Bark\")\n",
    "\n",
    "class Cat(Animal):\n",
    "    def make_sound(self):\n",
    "        print(\"Meow\")\n",
    "\n",
    "# Example of run-time polymorphism\n",
    "def animal_sounds(animal):\n",
    "    animal.make_sound()\n",
    "\n",
    "# Using the function with different types of animals\n",
    "animal_sounds(Animal())  # Output: \"Generic animal sound\"\n",
    "animal_sounds(Dog())     # Output: \"Bark\"\n",
    "animal_sounds(Cat())     # Output: \"Meow\"\n"
   ]
  },
  {
   "cell_type": "markdown",
   "metadata": {},
   "source": [
    "In this example, Animal is the base class with a make_sound method. Both Dog and Cat are subclasses of Animal and they override the make_sound method with their own implementations. When the animal_sounds function is called with different types of animals, the appropriate version of make_sound is executed based on the actual type of the object.\n",
    "\n",
    "Polymorphism allows for more flexible and modular code. It enables code to work with different types of objects without needing to know their specific types at compile time. This makes it easier to write code that can handle a wide range of scenarios and data types."
   ]
  },
  {
   "cell_type": "code",
   "execution_count": null,
   "metadata": {},
   "outputs": [],
   "source": []
  },
  {
   "cell_type": "markdown",
   "metadata": {},
   "source": [
    "For Example:\n",
    "* A real-world example of polymorphism can be found in a program that deals with different types of shapes. Let's consider a program that calculates the area of different shapes like circles, rectangles, and triangles."
   ]
  },
  {
   "cell_type": "code",
   "execution_count": 22,
   "metadata": {},
   "outputs": [
    {
     "name": "stdout",
     "output_type": "stream",
     "text": [
      "Area of the shape is: 78.5\n",
      "Area of the shape is: 24\n",
      "Area of the shape is: 12.0\n"
     ]
    }
   ],
   "source": [
    "class Shape:\n",
    "    def area(self):\n",
    "        pass\n",
    "\n",
    "class Circle(Shape):\n",
    "    def __init__(self, radius):\n",
    "        self.radius = radius\n",
    "    \n",
    "    def area(self):\n",
    "        return 3.14 * self.radius**2\n",
    "\n",
    "class Rectangle(Shape):\n",
    "    def __init__(self, length, width):\n",
    "        self.length = length\n",
    "        self.width = width\n",
    "    \n",
    "    def area(self):\n",
    "        return self.length * self.width\n",
    "\n",
    "class Triangle(Shape):\n",
    "    def __init__(self, base, height):\n",
    "        self.base = base\n",
    "        self.height = height\n",
    "    \n",
    "    def area(self):\n",
    "        return 0.5 * self.base * self.height\n",
    "\n",
    "# Example of polymorphism\n",
    "shapes = [Circle(5), Rectangle(4, 6), Triangle(3, 8)]\n",
    "\n",
    "for shape in shapes:\n",
    "    print(f\"Area of the shape is: {shape.area()}\")\n"
   ]
  },
  {
   "cell_type": "markdown",
   "metadata": {},
   "source": [
    "In this example, we have a Shape class with an area method. This method is defined with pass in the base class because it doesn't make sense to calculate the area of a generic shape.\n",
    "\n",
    "We then have specific shapes (Circle, Rectangle, and Triangle) that inherit from the Shape class. Each of these shapes overrides the area method with its own implementation, since the way to calculate the area of each shape is different.\n",
    "\n",
    "When we create instances of these shapes and call the area method on them, polymorphism comes into play. Even though we're calling the same method (area), the appropriate version of the method for the actual type of the object is executed. This allows us to calculate the areas of circles, rectangles, and triangles without having to know the specific type at compile time.\n",
    "\n",
    "This example demonstrates how polymorphism enables a program to work with different types of objects in a seamless and flexible manner."
   ]
  },
  {
   "cell_type": "code",
   "execution_count": null,
   "metadata": {},
   "outputs": [],
   "source": []
  },
  {
   "cell_type": "code",
   "execution_count": null,
   "metadata": {},
   "outputs": [],
   "source": []
  },
  {
   "cell_type": "code",
   "execution_count": 1,
   "metadata": {},
   "outputs": [],
   "source": [
    "def test(a,b):     # This single function can behave differently according to the argument passed in it \n",
    "    return a+b"
   ]
  },
  {
   "cell_type": "code",
   "execution_count": 2,
   "metadata": {},
   "outputs": [
    {
     "data": {
      "text/plain": [
       "14"
      ]
     },
     "execution_count": 2,
     "metadata": {},
     "output_type": "execute_result"
    }
   ],
   "source": [
    "test(8,6)    # performing as addtion operation on integer"
   ]
  },
  {
   "cell_type": "code",
   "execution_count": 5,
   "metadata": {},
   "outputs": [
    {
     "data": {
      "text/plain": [
       "'ali abbas'"
      ]
     },
     "execution_count": 5,
     "metadata": {},
     "output_type": "execute_result"
    }
   ],
   "source": [
    "test(\"ali \", \"abbas\")       # performing as concatination operation on string"
   ]
  },
  {
   "cell_type": "code",
   "execution_count": 7,
   "metadata": {},
   "outputs": [
    {
     "data": {
      "text/plain": [
       "[1, 2, 3, 4, 5, 6, 7, 8, 9]"
      ]
     },
     "execution_count": 7,
     "metadata": {},
     "output_type": "execute_result"
    }
   ],
   "source": [
    "test([1,2,3,4,5], [6,7,8,9])      # performing as concatination or append operation on string"
   ]
  },
  {
   "cell_type": "code",
   "execution_count": null,
   "metadata": {},
   "outputs": [],
   "source": []
  },
  {
   "cell_type": "code",
   "execution_count": 8,
   "metadata": {},
   "outputs": [],
   "source": [
    "class python:\n",
    "    def syllabus(self):\n",
    "        print(\"This is my method for python syllabus.\")"
   ]
  },
  {
   "cell_type": "code",
   "execution_count": 9,
   "metadata": {},
   "outputs": [],
   "source": [
    "class web_dev:\n",
    "    def syllabus(self):\n",
    "        print(\"This is my method for Web Dev syllabus.\")"
   ]
  },
  {
   "cell_type": "code",
   "execution_count": 10,
   "metadata": {},
   "outputs": [],
   "source": [
    "def class_parcer(class_obj):\n",
    "    for i in class_obj:\n",
    "        i.syllabus()"
   ]
  },
  {
   "cell_type": "code",
   "execution_count": 11,
   "metadata": {},
   "outputs": [],
   "source": [
    "obj_python = python()"
   ]
  },
  {
   "cell_type": "code",
   "execution_count": 12,
   "metadata": {},
   "outputs": [],
   "source": [
    "obj_web_dev = web_dev()"
   ]
  },
  {
   "cell_type": "code",
   "execution_count": 13,
   "metadata": {},
   "outputs": [],
   "source": [
    "class_obj = [obj_python, obj_web_dev]"
   ]
  },
  {
   "cell_type": "code",
   "execution_count": 14,
   "metadata": {},
   "outputs": [
    {
     "name": "stdout",
     "output_type": "stream",
     "text": [
      "This is my method for python syllabus.\n",
      "This is my method for Web Dev syllabus.\n"
     ]
    }
   ],
   "source": [
    "class_parcer(class_obj)"
   ]
  },
  {
   "cell_type": "code",
   "execution_count": null,
   "metadata": {},
   "outputs": [],
   "source": []
  },
  {
   "cell_type": "code",
   "execution_count": null,
   "metadata": {},
   "outputs": [],
   "source": []
  }
 ],
 "metadata": {
  "kernelspec": {
   "display_name": ".venv",
   "language": "python",
   "name": "python3"
  },
  "language_info": {
   "codemirror_mode": {
    "name": "ipython",
    "version": 3
   },
   "file_extension": ".py",
   "mimetype": "text/x-python",
   "name": "python",
   "nbconvert_exporter": "python",
   "pygments_lexer": "ipython3",
   "version": "3.10.11"
  },
  "orig_nbformat": 4
 },
 "nbformat": 4,
 "nbformat_minor": 2
}
