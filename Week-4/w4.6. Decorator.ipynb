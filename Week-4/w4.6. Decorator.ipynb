{
 "cells": [
  {
   "cell_type": "markdown",
   "metadata": {},
   "source": [
    "# Decorator\n",
    "In Python, a decorator is a special type of function that allows you to modify or enhance the behavior of other functions or methods. Decorators provide a convenient syntax to wrap or extend the functionality of a function without modifying its source code directly.\n",
    "\n",
    "Here are some key points about decorators:\n",
    "\n",
    "1. **Functions as First-Class Citizens:** In Python, functions are considered first-class citizens, which means they can be passed as arguments to other functions and returned as values from other functions.\n",
    "\n",
    "2. **Nested Functions:** In order to understand decorators, it's important to be familiar with the concept of nested functions. This means defining a function inside another function.\n",
    "\n",
    "3. **Syntax with @:** Decorators are applied using the @ symbol followed by the name of the decorator function. They are placed just above the function they are decorating.\n",
    "\n",
    "Example:"
   ]
  },
  {
   "cell_type": "code",
   "execution_count": null,
   "metadata": {},
   "outputs": [],
   "source": [
    "@my_decorator\n",
    "def my_function():\n",
    "    # Function code here\n"
   ]
  },
  {
   "cell_type": "markdown",
   "metadata": {},
   "source": [
    "4. **Higher-Order Functions:** Decorators are essentially higher-order functions, which means they take a function as an input and return a modified function as output.\n",
    "\n",
    "5. **Enhancing Functionality:** Decorators can be used to add functionality before or after the execution of the original function. They can also completely replace the original function if needed.\n",
    "\n",
    "6. **Common Use Cases:**\n",
    "     - *Logging:* Decorators can be used to log information before and after a function call.\n",
    "     - *Authentication/Authorization:* Decorators can check if a user has the required permissions before allowing access to a function.\n",
    "     - *Caching:* Decorators can store the results of expensive function calls and return the cached result when the same inputs occur again.\n",
    "     - *Timing:* Decorators can be used to measure the execution time of a function.\n",
    "\n",
    "\n",
    "7. **Decorator Syntax Example:**"
   ]
  },
  {
   "cell_type": "code",
   "execution_count": 19,
   "metadata": {},
   "outputs": [
    {
     "name": "stdout",
     "output_type": "stream",
     "text": [
      "Before function execution\n",
      "Executing my_function\n",
      "After function execution\n"
     ]
    }
   ],
   "source": [
    "def my_decorator(func):\n",
    "    def wrapper():\n",
    "        print(\"Before function execution\")\n",
    "        func()\n",
    "        print(\"After function execution\")\n",
    "    return wrapper\n",
    "\n",
    "@my_decorator\n",
    "def my_function():\n",
    "    print(\"Executing my_function\")\n",
    "\n",
    "my_function()"
   ]
  },
  {
   "cell_type": "markdown",
   "metadata": {},
   "source": [
    "In this example, my_decorator is a decorator function that takes another function func as an argument. It defines a nested function wrapper which adds behavior before and after calling func. The decorator returns wrapper, which is used to replace my_function.\n",
    "\n",
    "Decorators are a powerful feature in Python that allow for code reuse, separation of concerns, and the extension of functionalities without modifying the original functions. They are commonly used in libraries and frameworks to provide hooks for customization."
   ]
  },
  {
   "cell_type": "markdown",
   "metadata": {},
   "source": [
    "Here's another example of a decorator in Python, this time demonstrating a simple logging decorator:\n",
    "\n"
   ]
  },
  {
   "cell_type": "code",
   "execution_count": 20,
   "metadata": {},
   "outputs": [
    {
     "name": "stdout",
     "output_type": "stream",
     "text": [
      "Calling function: add_numbers\n",
      "Function add_numbers returned: 8\n",
      "Calling function: multiply_numbers\n",
      "Function multiply_numbers returned: 8\n",
      "Sum: 8\n",
      "Product: 8\n"
     ]
    }
   ],
   "source": [
    "def log_function(func):\n",
    "    def wrapper(*args, **kwargs):\n",
    "        print(f\"Calling function: {func.__name__}\")\n",
    "        result = func(*args, **kwargs)\n",
    "        print(f\"Function {func.__name__} returned: {result}\")\n",
    "        return result\n",
    "    return wrapper\n",
    "\n",
    "@log_function\n",
    "def add_numbers(x, y):\n",
    "    return x + y\n",
    "\n",
    "@log_function\n",
    "def multiply_numbers(a, b):\n",
    "    return a * b\n",
    "\n",
    "result_sum = add_numbers(3, 5)\n",
    "result_product = multiply_numbers(2, 4)\n",
    "\n",
    "print(f\"Sum: {result_sum}\")\n",
    "print(f\"Product: {result_product}\")\n"
   ]
  },
  {
   "cell_type": "markdown",
   "metadata": {},
   "source": [
    "In this example, we have a decorator log_function that adds logging before and after a function's execution. It takes a function func as an argument, defines a wrapper function that logs information, calls func, and returns the result.\n",
    "\n",
    "The decorator is then applied to two functions: add_numbers and multiply_numbers. When these functions are called, they are wrapped by the log_function decorator, which provides additional logging functionality."
   ]
  },
  {
   "cell_type": "markdown",
   "metadata": {},
   "source": [
    "As you can see, the decorator log_function allows us to enhance the behavior of add_numbers and multiply_numbers without modifying their source code directly. This is a practical example of how decorators can be used to extend the functionality of functions."
   ]
  },
  {
   "cell_type": "code",
   "execution_count": null,
   "metadata": {},
   "outputs": [],
   "source": []
  },
  {
   "cell_type": "code",
   "execution_count": null,
   "metadata": {},
   "outputs": [],
   "source": []
  },
  {
   "cell_type": "code",
   "execution_count": 1,
   "metadata": {},
   "outputs": [],
   "source": [
    "def test():\n",
    "    print(\"this is the start of my fun\")\n",
    "    print(4+5)\n",
    "    print(\"this is the end of my fun\")"
   ]
  },
  {
   "cell_type": "code",
   "execution_count": 2,
   "metadata": {},
   "outputs": [
    {
     "name": "stdout",
     "output_type": "stream",
     "text": [
      "this is the start of my fun\n",
      "9\n",
      "this is the end of my fun\n"
     ]
    }
   ],
   "source": [
    "test()"
   ]
  },
  {
   "cell_type": "code",
   "execution_count": 3,
   "metadata": {},
   "outputs": [],
   "source": [
    "# creating decorator \n",
    "def deco(func):\n",
    "    def inner_deco():\n",
    "        print(\"this is the start of my fun\")\n",
    "        func()\n",
    "        print(\"this is the end of my fun\")\n",
    "    return inner_deco\n",
    "        "
   ]
  },
  {
   "cell_type": "code",
   "execution_count": 4,
   "metadata": {},
   "outputs": [],
   "source": [
    "@deco           # applying decorator\n",
    "def test1():\n",
    "    print(4+5)"
   ]
  },
  {
   "cell_type": "code",
   "execution_count": 5,
   "metadata": {},
   "outputs": [
    {
     "name": "stdout",
     "output_type": "stream",
     "text": [
      "this is the start of my fun\n",
      "9\n",
      "this is the end of my fun\n"
     ]
    }
   ],
   "source": [
    "test1()"
   ]
  },
  {
   "cell_type": "code",
   "execution_count": 6,
   "metadata": {},
   "outputs": [],
   "source": [
    "import time\n",
    "def timer_test(func) :\n",
    "    def timer_test_inner():\n",
    "        start = time.time()\n",
    "        func()\n",
    "        end = time.time()\n",
    "        print(end-start)\n",
    "    return timer_test_inner\n"
   ]
  },
  {
   "cell_type": "code",
   "execution_count": 10,
   "metadata": {},
   "outputs": [],
   "source": [
    "@timer_test\n",
    "def test2():\n",
    "    print(45252231305465+675482628+98+25)"
   ]
  },
  {
   "cell_type": "code",
   "execution_count": 11,
   "metadata": {},
   "outputs": [
    {
     "name": "stdout",
     "output_type": "stream",
     "text": [
      "45252906788216\n",
      "0.0\n"
     ]
    }
   ],
   "source": [
    "test2()"
   ]
  },
  {
   "cell_type": "code",
   "execution_count": 16,
   "metadata": {},
   "outputs": [],
   "source": [
    "@timer_test\n",
    "def test3():\n",
    "    for i in range(10000000):\n",
    "        pass"
   ]
  },
  {
   "cell_type": "code",
   "execution_count": 17,
   "metadata": {},
   "outputs": [
    {
     "name": "stdout",
     "output_type": "stream",
     "text": [
      "0.1344614028930664\n"
     ]
    }
   ],
   "source": [
    "test3()"
   ]
  },
  {
   "cell_type": "code",
   "execution_count": null,
   "metadata": {},
   "outputs": [],
   "source": []
  },
  {
   "cell_type": "code",
   "execution_count": null,
   "metadata": {},
   "outputs": [],
   "source": []
  }
 ],
 "metadata": {
  "kernelspec": {
   "display_name": ".venv",
   "language": "python",
   "name": "python3"
  },
  "language_info": {
   "codemirror_mode": {
    "name": "ipython",
    "version": 3
   },
   "file_extension": ".py",
   "mimetype": "text/x-python",
   "name": "python",
   "nbconvert_exporter": "python",
   "pygments_lexer": "ipython3",
   "version": "3.10.11"
  },
  "orig_nbformat": 4
 },
 "nbformat": 4,
 "nbformat_minor": 2
}
