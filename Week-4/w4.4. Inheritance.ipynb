{
 "cells": [
  {
   "cell_type": "markdown",
   "metadata": {},
   "source": [
    "# Inheritance"
   ]
  },
  {
   "cell_type": "markdown",
   "metadata": {},
   "source": [
    "Inheritance in Python is a fundamental object-oriented programming concept that allows a class (known as the subclass or child class) to inherit attributes and methods from another class (known as the superclass or parent class).\n",
    "\n",
    "The subclass can then extend or override the inherited attributes and methods, as well as add new attributes and methods specific to itself. This promotes code reuse and helps create a hierarchy of related classes.\n",
    "\n",
    "Here's an example to illustrate inheritance:"
   ]
  },
  {
   "cell_type": "code",
   "execution_count": 15,
   "metadata": {},
   "outputs": [
    {
     "name": "stdout",
     "output_type": "stream",
     "text": [
      "Bark\n",
      "Meow\n",
      "Fido\n",
      "Whiskers\n"
     ]
    }
   ],
   "source": [
    "class Animal:\n",
    "    def __init__(self, name):\n",
    "        self.name = name\n",
    "\n",
    "    def speak(self):\n",
    "        print(\"Generic animal sound\")\n",
    "\n",
    "class Dog(Animal):\n",
    "    def speak(self):\n",
    "        print(\"Bark\")\n",
    "\n",
    "class Cat(Animal):\n",
    "    def speak(self):\n",
    "        print(\"Meow\")\n",
    "\n",
    "# Creating instances\n",
    "dog = Dog(\"Fido\")\n",
    "cat = Cat(\"Whiskers\")\n",
    "\n",
    "# Calling methods\n",
    "dog.speak()  # Output: \"Bark\"\n",
    "cat.speak()  # Output: \"Meow\"\n",
    "\n",
    "print(dog.name)  # Output: \"Fido\"\n",
    "print(cat.name)  # Output: \"Whiskers\"\n"
   ]
  },
  {
   "cell_type": "markdown",
   "metadata": {},
   "source": [
    "In this example, we have a Animal class with an __init__ method that initializes the name attribute. It also has a speak method that provides a generic animal sound.\n",
    "\n",
    "The Dog and Cat classes are subclasses of Animal. They inherit the __init__ method and speak method from Animal. However, they each override the speak method with their own implementations.\n",
    "\n",
    "When we create instances of Dog and Cat, they have access to the speak method defined in their respective classes. Additionally, they inherit the name attribute from Animal.\n",
    "\n",
    "Inheritance allows for code reuse and the creation of specialized classes that build upon the behavior of more general classes. It helps in organizing and managing code in a hierarchical and structured manner."
   ]
  },
  {
   "cell_type": "code",
   "execution_count": null,
   "metadata": {},
   "outputs": [],
   "source": []
  },
  {
   "cell_type": "markdown",
   "metadata": {},
   "source": [
    "**Example:**  Here are some real-world examples of inheritance:\n",
    "\n",
    "1. **Vehicles:**\n",
    "* Superclass: Vehicle\n",
    "* Subclasses: Car, Bicycle, Motorcycle\n",
    "\n",
    "The Vehicle class could have common attributes and methods like speed, fuel_capacity, and start_engine(). Each specific type of vehicle (car, bicycle, motorcycle) inherits these attributes and methods, and may add their own unique features. For example, a car can have methods like drive(), while a bicycle might have pedal().\n",
    "\n",
    "2. **Employees:**\n",
    "* Superclass: Employee\n",
    "* Subclasses: Manager, Engineer, Salesperson\n",
    "\n",
    "The Employee class could have attributes like name, employee_id, and methods like calculate_salary(). Subclasses can inherit these common attributes and methods, and each type of employee can have additional attributes and methods specific to their roles. For example, a manager may have a method approve_leave(), while an engineer may have write_code().\n",
    "\n",
    "3. **Animals:**\n",
    "* Superclass: Animal\n",
    "* Subclasses: Dog, Cat, Bird\n",
    "\n",
    "The Animal class may have attributes like species, age, and methods like make_sound(). Each specific type of animal inherits these attributes and methods, and may have their own unique behaviors. For example, a dog can have a method bark(), while a bird might have fly().\n",
    "\n",
    "4. **Geometry:**\n",
    "* Superclass: Shape\n",
    "* Subclasses: Circle, Rectangle, Triangle\n",
    "\n",
    "The Shape class could have common attributes like area, perimeter, and methods to calculate these properties. Each specific type of shape inherits these attributes and methods, and provides their own formulas to calculate area and perimeter based on their specific characteristics.\n",
    "\n",
    "5. **Bank Accounts:**\n",
    "* Superclass: Account\n",
    "* Subclasses: SavingsAccount, CheckingAccount\n",
    "\n",
    "The Account class might have attributes like account_number, balance, and methods like deposit() and withdraw(). Subclasses inherit these attributes and methods and may add features specific to the type of account. For example, a savings account might have a method calculate_interest(), while a checking account may have a method write_check().\n",
    "\n",
    "These examples illustrate how inheritance allows us to model relationships between different types of objects in a way that promotes code reuse and organization. It enables us to create hierarchies of related classes, making it easier to manage and extend the functionality of our programs.Here are some real-world examples of inheritance:"
   ]
  },
  {
   "cell_type": "code",
   "execution_count": null,
   "metadata": {},
   "outputs": [],
   "source": []
  },
  {
   "cell_type": "markdown",
   "metadata": {},
   "source": [
    "**For Example:** Let's consider a real-world example of inheritance in the context of a school management system:"
   ]
  },
  {
   "cell_type": "code",
   "execution_count": 26,
   "metadata": {},
   "outputs": [
    {
     "name": "stdout",
     "output_type": "stream",
     "text": [
      "Name: John Doe, Age: 15\n",
      "Student ID: 12345\n",
      "Name: Jane Smith, Age: 30\n",
      "Employee ID: T5678\n"
     ]
    }
   ],
   "source": [
    "class Person:\n",
    "    def __init__(self, name, age):\n",
    "        self.name = name\n",
    "        self.age = age\n",
    "\n",
    "    def display_info(self):\n",
    "        print(f\"Name: {self.name}, Age: {self.age}\")\n",
    "\n",
    "class Student(Person):\n",
    "    def __init__(self, name, age, student_id):\n",
    "        super().__init__(name, age)\n",
    "        self.student_id = student_id\n",
    "\n",
    "    def display_info(self):\n",
    "        super().display_info()\n",
    "        print(f\"Student ID: {self.student_id}\")\n",
    "\n",
    "class Teacher(Person):\n",
    "    def __init__(self, name, age, employee_id):\n",
    "        super().__init__(name, age)\n",
    "        self.employee_id = employee_id\n",
    "\n",
    "    def display_info(self):\n",
    "        super().display_info()\n",
    "        print(f\"Employee ID: {self.employee_id}\")\n",
    "\n",
    "# Creating instances\n",
    "student = Student(\"John Doe\", 15, \"12345\")\n",
    "teacher = Teacher(\"Jane Smith\", 30, \"T5678\")\n",
    "\n",
    "# Displaying information\n",
    "student.display_info()\n",
    "teacher.display_info()"
   ]
  },
  {
   "cell_type": "code",
   "execution_count": 27,
   "metadata": {},
   "outputs": [
    {
     "data": {
      "text/plain": [
       "'John Doe'"
      ]
     },
     "execution_count": 27,
     "metadata": {},
     "output_type": "execute_result"
    }
   ],
   "source": [
    "student.name"
   ]
  },
  {
   "cell_type": "markdown",
   "metadata": {},
   "source": [
    "* In this example, we have a Person class which represents a generic person with attributes name and age, and a method display_info to print out their information.\n",
    "\n",
    "* We then have two subclasses: Student and Teacher. Both of them inherit from Person, which means they have the attributes and methods of a person.\n",
    "\n",
    "* The Student subclass adds an additional attribute student_id and overrides the display_info method to include the student's ID.\n",
    "\n",
    "* The Teacher subclass adds an additional attribute employee_id and overrides the display_info method to include the teacher's employee ID.\n",
    "\n",
    "By using inheritance, we're able to reuse the common attributes and methods defined in the Person class for both students and teachers, while also adding specific attributes and behaviors unique to each role. This promotes code reuse and helps in organizing the classes in a logical and structured way."
   ]
  },
  {
   "cell_type": "code",
   "execution_count": null,
   "metadata": {},
   "outputs": [],
   "source": []
  },
  {
   "cell_type": "markdown",
   "metadata": {},
   "source": [
    "### Types of Inheritance"
   ]
  },
  {
   "cell_type": "markdown",
   "metadata": {},
   "source": [
    "Inheritance in Python can be categorized into several types based on how subclasses inherit attributes and methods from superclasses. The main types are:\n",
    "\n",
    "1. **Single Inheritance:**\n",
    "* Single inheritance involves one subclass inheriting from a single superclass.\n",
    "\n",
    "Example:"
   ]
  },
  {
   "cell_type": "code",
   "execution_count": 16,
   "metadata": {},
   "outputs": [],
   "source": [
    "class Animal:\n",
    "    def __init__(self, name):\n",
    "        self.name = name\n",
    "\n",
    "    def speak(self):\n",
    "        print(\"Generic animal sound\")\n",
    "\n",
    "class Dog(Animal):\n",
    "    def speak(self):\n",
    "        print(\"Bark\")\n"
   ]
  },
  {
   "cell_type": "code",
   "execution_count": 22,
   "metadata": {},
   "outputs": [],
   "source": [
    "class Vehicle:\n",
    "    def start_engine(self):\n",
    "        print(\"Engine started\")\n",
    "\n",
    "class Car(Vehicle):\n",
    "    def drive(self):\n",
    "        print(\"Car is being driven\")\n"
   ]
  },
  {
   "cell_type": "markdown",
   "metadata": {},
   "source": [
    "In this example, Car is a subclass of Vehicle. It inherits the start_engine method from Vehicle and adds its own drive method."
   ]
  },
  {
   "cell_type": "code",
   "execution_count": null,
   "metadata": {},
   "outputs": [],
   "source": []
  },
  {
   "cell_type": "markdown",
   "metadata": {},
   "source": [
    "2. **Multiple Inheritance:**\n",
    "* Multiple inheritance involves a subclass inheriting from multiple superclasses.\n",
    "\n",
    "Example:"
   ]
  },
  {
   "cell_type": "code",
   "execution_count": 17,
   "metadata": {},
   "outputs": [],
   "source": [
    "class A:\n",
    "    def method_a(self):\n",
    "        print(\"Method A\")\n",
    "\n",
    "class B:\n",
    "    def method_b(self):\n",
    "        print(\"Method B\")\n",
    "\n",
    "class C(A, B):\n",
    "    def method_c(self):\n",
    "        print(\"Method C\")\n"
   ]
  },
  {
   "cell_type": "code",
   "execution_count": 23,
   "metadata": {},
   "outputs": [],
   "source": [
    "class Phone:\n",
    "    def make_call(self):\n",
    "        print(\"Making a phone call\")\n",
    "\n",
    "class Computer:\n",
    "    def browse(self):\n",
    "        print(\"Browsing the web\")\n",
    "\n",
    "class Smartphone(Phone, Computer):\n",
    "    def play_game(self):\n",
    "        print(\"Playing a game\")\n"
   ]
  },
  {
   "cell_type": "markdown",
   "metadata": {},
   "source": [
    "In this example, Smartphone inherits methods from both Phone and Computer. It can make calls, browse the web, and play games."
   ]
  },
  {
   "cell_type": "code",
   "execution_count": null,
   "metadata": {},
   "outputs": [],
   "source": []
  },
  {
   "cell_type": "markdown",
   "metadata": {},
   "source": [
    "3. **Multilevel Inheritance:**\n",
    "* Multilevel inheritance involves a subclass inheriting from another subclass.\n",
    "\n",
    "Example:"
   ]
  },
  {
   "cell_type": "code",
   "execution_count": 18,
   "metadata": {},
   "outputs": [],
   "source": [
    "class Animal:\n",
    "    def speak(self):\n",
    "        print(\"Generic animal sound\")\n",
    "\n",
    "class Dog(Animal):\n",
    "    def bark(self):\n",
    "        print(\"Bark\")\n",
    "\n",
    "class Poodle(Dog):\n",
    "    def tiny_bark(self):\n",
    "        print(\"Tiny Bark\")\n"
   ]
  },
  {
   "cell_type": "markdown",
   "metadata": {},
   "source": [
    "Here, Poodle inherits from Dog, which in turn inherits from Animal. This creates a hierarchy of classes."
   ]
  },
  {
   "cell_type": "code",
   "execution_count": null,
   "metadata": {},
   "outputs": [],
   "source": []
  },
  {
   "cell_type": "markdown",
   "metadata": {},
   "source": [
    "4.**Hierarchical Inheritance:**\n",
    "* Hierarchical inheritance involves multiple subclasses inheriting from a single superclass.\n",
    "\n",
    "Example:"
   ]
  },
  {
   "cell_type": "code",
   "execution_count": 19,
   "metadata": {},
   "outputs": [],
   "source": [
    "class Animal:\n",
    "    def speak(self):\n",
    "        print(\"Generic animal sound\")\n",
    "\n",
    "class Dog(Animal):\n",
    "    def bark(self):\n",
    "        print(\"Bark\")\n",
    "\n",
    "class Cat(Animal):\n",
    "    def meow(self):\n",
    "        print(\"Meow\")\n"
   ]
  },
  {
   "cell_type": "code",
   "execution_count": 24,
   "metadata": {},
   "outputs": [],
   "source": [
    "class Furniture:\n",
    "    def is_comfortable(self):\n",
    "        print(\"Generic comfort level\")\n",
    "\n",
    "class Chair(Furniture):\n",
    "    def has_backrest(self):\n",
    "        print(\"Has a backrest\")\n",
    "\n",
    "class Table(Furniture):\n",
    "    def has_legs(self):\n",
    "        print(\"Has legs\")\n"
   ]
  },
  {
   "cell_type": "markdown",
   "metadata": {},
   "source": [
    "Both Chair and Table inherit from the common superclass Furniture.\n"
   ]
  },
  {
   "cell_type": "code",
   "execution_count": null,
   "metadata": {},
   "outputs": [],
   "source": []
  },
  {
   "cell_type": "markdown",
   "metadata": {},
   "source": [
    "5. **Hybrid (Combination) Inheritance:**\n",
    "* Hybrid inheritance is a combination of multiple types of inheritance.\n",
    "\n",
    "Example:"
   ]
  },
  {
   "cell_type": "code",
   "execution_count": 20,
   "metadata": {},
   "outputs": [],
   "source": [
    "class A:\n",
    "    def method_a(self):\n",
    "        print(\"Method A\")\n",
    "\n",
    "class B(A):\n",
    "    def method_b(self):\n",
    "        print(\"Method B\")\n",
    "\n",
    "class C(A):\n",
    "    def method_c(self):\n",
    "        print(\"Method C\")\n",
    "\n",
    "class D(B, C):\n",
    "    def method_d(self):\n",
    "        print(\"Method D\")\n"
   ]
  },
  {
   "cell_type": "code",
   "execution_count": 25,
   "metadata": {},
   "outputs": [],
   "source": [
    "class Person:\n",
    "    def introduce(self):\n",
    "        print(\"I am a person\")\n",
    "\n",
    "class Student(Person):\n",
    "    def study(self):\n",
    "        print(\"Studying\")\n",
    "\n",
    "class Teacher(Person):\n",
    "    def teach(self):\n",
    "        print(\"Teaching\")\n",
    "\n",
    "class Administrator(Student, Teacher):\n",
    "    def manage(self):\n",
    "        print(\"Managing the institution\")\n"
   ]
  },
  {
   "cell_type": "markdown",
   "metadata": {},
   "source": [
    "In this example, Administrator inherits from both Student and Teacher, which themselves inherit from Person."
   ]
  },
  {
   "cell_type": "code",
   "execution_count": null,
   "metadata": {},
   "outputs": [],
   "source": []
  },
  {
   "cell_type": "markdown",
   "metadata": {},
   "source": [
    "6. **Cyclic (Illegal) Inheritance:**\n",
    "* Cyclic inheritance occurs when a class inherits from itself, either directly or indirectly.\n",
    "\n",
    "Example:"
   ]
  },
  {
   "cell_type": "code",
   "execution_count": 21,
   "metadata": {},
   "outputs": [],
   "source": [
    "class A(A):\n",
    "    pass\n"
   ]
  },
  {
   "cell_type": "markdown",
   "metadata": {},
   "source": [
    "This is an illegal form of inheritance, and Python will raise a TypeError because it creates a cyclic dependency."
   ]
  },
  {
   "cell_type": "markdown",
   "metadata": {},
   "source": [
    "Each of these types serves different purposes and has its own use cases. It's important to choose the appropriate type of inheritance based on the design and requirements of your application."
   ]
  },
  {
   "cell_type": "code",
   "execution_count": null,
   "metadata": {},
   "outputs": [],
   "source": []
  },
  {
   "cell_type": "code",
   "execution_count": null,
   "metadata": {},
   "outputs": [],
   "source": []
  },
  {
   "cell_type": "code",
   "execution_count": null,
   "metadata": {},
   "outputs": [],
   "source": []
  },
  {
   "cell_type": "code",
   "execution_count": 1,
   "metadata": {},
   "outputs": [],
   "source": [
    "class parent:\n",
    "    \n",
    "    def test_parent(self) : \n",
    "        print(\"this is my parent class \")"
   ]
  },
  {
   "cell_type": "code",
   "execution_count": 2,
   "metadata": {},
   "outputs": [],
   "source": [
    "class child(parent):\n",
    "    pass"
   ]
  },
  {
   "cell_type": "code",
   "execution_count": 3,
   "metadata": {},
   "outputs": [],
   "source": [
    "child_obj = child()"
   ]
  },
  {
   "cell_type": "code",
   "execution_count": 4,
   "metadata": {},
   "outputs": [
    {
     "name": "stdout",
     "output_type": "stream",
     "text": [
      "this is my parent class \n"
     ]
    }
   ],
   "source": [
    "child_obj.test_parent()"
   ]
  },
  {
   "cell_type": "code",
   "execution_count": 5,
   "metadata": {},
   "outputs": [],
   "source": [
    "# Multi-level Inheritance\n",
    "\n",
    "class class1 :\n",
    "    def test_class1(self) : \n",
    "        print(\"this is my class1 \" )\n",
    "\n",
    "class class2(class1) : \n",
    "    def test_class2(self) : \n",
    "        print(\"this is my class2\" )\n",
    "\n",
    "class class3(class2) : \n",
    "    def test_class3(self) : \n",
    "        print(\"this is my class3 \")                        "
   ]
  },
  {
   "cell_type": "code",
   "execution_count": 6,
   "metadata": {},
   "outputs": [],
   "source": [
    "obj_class3  = class3()"
   ]
  },
  {
   "cell_type": "code",
   "execution_count": 7,
   "metadata": {},
   "outputs": [
    {
     "name": "stdout",
     "output_type": "stream",
     "text": [
      "this is my class1 \n"
     ]
    }
   ],
   "source": [
    "obj_class3.test_class1()"
   ]
  },
  {
   "cell_type": "code",
   "execution_count": 8,
   "metadata": {},
   "outputs": [
    {
     "name": "stdout",
     "output_type": "stream",
     "text": [
      "this is my class2\n"
     ]
    }
   ],
   "source": [
    "obj_class3.test_class2()"
   ]
  },
  {
   "cell_type": "code",
   "execution_count": 9,
   "metadata": {},
   "outputs": [
    {
     "name": "stdout",
     "output_type": "stream",
     "text": [
      "this is my class3 \n"
     ]
    }
   ],
   "source": [
    "obj_class3.test_class3()"
   ]
  },
  {
   "cell_type": "code",
   "execution_count": 10,
   "metadata": {},
   "outputs": [],
   "source": [
    "# Multiple Inheritance\n",
    "class class1:\n",
    "    def test_class1(self) : \n",
    "        print(\"this is my class 1\" )\n",
    "\n",
    "class class2 :\n",
    "    def test_class2(self) : \n",
    "        print(\"this is my class 2\")\n",
    "\n",
    "class class3 (class1 , class2) : \n",
    "    pass                "
   ]
  },
  {
   "cell_type": "code",
   "execution_count": 11,
   "metadata": {},
   "outputs": [],
   "source": [
    "obj_class3 = class3()"
   ]
  },
  {
   "cell_type": "code",
   "execution_count": 12,
   "metadata": {},
   "outputs": [
    {
     "name": "stdout",
     "output_type": "stream",
     "text": [
      "this is my class 1\n"
     ]
    }
   ],
   "source": [
    "obj_class3.test_class1()"
   ]
  },
  {
   "cell_type": "code",
   "execution_count": 14,
   "metadata": {},
   "outputs": [
    {
     "name": "stdout",
     "output_type": "stream",
     "text": [
      "this is my class 2\n"
     ]
    }
   ],
   "source": [
    "obj_class3.test_class2()"
   ]
  },
  {
   "cell_type": "code",
   "execution_count": null,
   "metadata": {},
   "outputs": [],
   "source": []
  }
 ],
 "metadata": {
  "kernelspec": {
   "display_name": ".venv",
   "language": "python",
   "name": "python3"
  },
  "language_info": {
   "codemirror_mode": {
    "name": "ipython",
    "version": 3
   },
   "file_extension": ".py",
   "mimetype": "text/x-python",
   "name": "python",
   "nbconvert_exporter": "python",
   "pygments_lexer": "ipython3",
   "version": "3.10.11"
  },
  "orig_nbformat": 4
 },
 "nbformat": 4,
 "nbformat_minor": 2
}
