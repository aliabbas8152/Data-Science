{
 "cells": [
  {
   "cell_type": "markdown",
   "metadata": {},
   "source": [
    "# Static Method"
   ]
  },
  {
   "cell_type": "markdown",
   "metadata": {},
   "source": [
    "In Python, a static method is a method that belongs to a class rather than an instance of the class. This means that you can call a static method on the class itself, rather than on an instance of the class. Static methods are defined using the `@staticmethod` decorator.\n",
    "\n",
    "Here's how you define a static method in Python:\n",
    "\n",
    "```python\n",
    "class MyClass:\n",
    "    @staticmethod\n",
    "    def static_method(arg1, arg2):\n",
    "        # This is a static method\n",
    "        # It does not have access to class or instance variables\n",
    "        print(f\"This is a static method. Args: {arg1}, {arg2}\")\n",
    "```\n",
    "\n",
    "In this example, `static_method` is a static method belonging to the class `MyClass`. It takes two arguments (`arg1` and `arg2`), but it does not have access to any class or instance variables. It behaves like a regular function, but it is defined within the class.\n",
    "\n",
    "You can call a static method directly on the class, without creating an instance of the class:\n",
    "\n",
    "```python\n",
    "MyClass.static_method(1, 2)  # Output: This is a static method. Args: 1, 2\n",
    "```\n",
    "\n",
    "Static methods are often used to group functions that have some logical connection to a class, but don't require access to class or instance variables. They can be thought of as utility functions that are related to the class.\n",
    "\n",
    "It's important to note that static methods do not have access to `self` (the instance) or `cls` (the class) parameters. This means you cannot access or modify class or instance variables within a static method.\n",
    "\n",
    "Here's an example to illustrate this:\n",
    "\n",
    "```python\n",
    "class MyClass:\n",
    "    class_variable = 10\n",
    "\n",
    "    def __init__(self, value):\n",
    "        self.instance_variable = value\n",
    "\n",
    "    @staticmethod\n",
    "    def static_method():\n",
    "        print(f\"Class variable: {MyClass.class_variable}\")\n",
    "        # This would raise an error because static methods can't access instance variables\n",
    "        # print(f\"Instance variable: {self.instance_variable}\")\n",
    "\n",
    "# Creating an instance of MyClass\n",
    "obj = MyClass(5)\n",
    "\n",
    "# Calling the static method\n",
    "obj.static_method()\n",
    "```\n",
    "\n",
    "In this example, if you try to call `obj.static_method()`, it will work, but if you uncomment the line that tries to access `self.instance_variable`, it will raise an error because static methods don't have access to instance variables.\n",
    "\n",
    "Remember, you use static methods when you have a function that logically belongs to a class, but doesn't require access to class or instance variables."
   ]
  },
  {
   "cell_type": "code",
   "execution_count": 3,
   "metadata": {},
   "outputs": [
    {
     "name": "stdout",
     "output_type": "stream",
     "text": [
      "Class variable: 10\n"
     ]
    },
    {
     "ename": "NameError",
     "evalue": "name 'self' is not defined",
     "output_type": "error",
     "traceback": [
      "\u001b[1;31m---------------------------------------------------------------------------\u001b[0m",
      "\u001b[1;31mNameError\u001b[0m                                 Traceback (most recent call last)",
      "\u001b[1;32mc:\\Codes\\pythonFiles\\Data Science PW\\Week-4\\w4.8. Static Method.ipynb Cell 3\u001b[0m line \u001b[0;36m1\n\u001b[0;32m     <a href='vscode-notebook-cell:/c%3A/Codes/pythonFiles/Data%20Science%20PW/Week-4/w4.8.%20Static%20Method.ipynb#X16sZmlsZQ%3D%3D?line=13'>14</a>\u001b[0m obj \u001b[39m=\u001b[39m MyClass(\u001b[39m5\u001b[39m)\n\u001b[0;32m     <a href='vscode-notebook-cell:/c%3A/Codes/pythonFiles/Data%20Science%20PW/Week-4/w4.8.%20Static%20Method.ipynb#X16sZmlsZQ%3D%3D?line=15'>16</a>\u001b[0m \u001b[39m# Calling the static method\u001b[39;00m\n\u001b[1;32m---> <a href='vscode-notebook-cell:/c%3A/Codes/pythonFiles/Data%20Science%20PW/Week-4/w4.8.%20Static%20Method.ipynb#X16sZmlsZQ%3D%3D?line=16'>17</a>\u001b[0m obj\u001b[39m.\u001b[39;49mstatic_method()\n\u001b[0;32m     <a href='vscode-notebook-cell:/c%3A/Codes/pythonFiles/Data%20Science%20PW/Week-4/w4.8.%20Static%20Method.ipynb#X16sZmlsZQ%3D%3D?line=18'>19</a>\u001b[0m MyClass\u001b[39m.\u001b[39mstatic_method()\n",
      "\u001b[1;32mc:\\Codes\\pythonFiles\\Data Science PW\\Week-4\\w4.8. Static Method.ipynb Cell 3\u001b[0m line \u001b[0;36m1\n\u001b[0;32m      <a href='vscode-notebook-cell:/c%3A/Codes/pythonFiles/Data%20Science%20PW/Week-4/w4.8.%20Static%20Method.ipynb#X16sZmlsZQ%3D%3D?line=8'>9</a>\u001b[0m \u001b[39mprint\u001b[39m(\u001b[39mf\u001b[39m\u001b[39m\"\u001b[39m\u001b[39mClass variable: \u001b[39m\u001b[39m{\u001b[39;00mMyClass\u001b[39m.\u001b[39mclass_variable\u001b[39m}\u001b[39;00m\u001b[39m\"\u001b[39m)\n\u001b[0;32m     <a href='vscode-notebook-cell:/c%3A/Codes/pythonFiles/Data%20Science%20PW/Week-4/w4.8.%20Static%20Method.ipynb#X16sZmlsZQ%3D%3D?line=9'>10</a>\u001b[0m \u001b[39m# This would raise an error because static methods can't access instance variables\u001b[39;00m\n\u001b[1;32m---> <a href='vscode-notebook-cell:/c%3A/Codes/pythonFiles/Data%20Science%20PW/Week-4/w4.8.%20Static%20Method.ipynb#X16sZmlsZQ%3D%3D?line=10'>11</a>\u001b[0m \u001b[39mprint\u001b[39m(\u001b[39mf\u001b[39m\u001b[39m\"\u001b[39m\u001b[39mInstance variable: \u001b[39m\u001b[39m{\u001b[39;00m\u001b[39mself\u001b[39;49m\u001b[39m.\u001b[39minstance_variable\u001b[39m}\u001b[39;00m\u001b[39m\"\u001b[39m)\n",
      "\u001b[1;31mNameError\u001b[0m: name 'self' is not defined"
     ]
    }
   ],
   "source": [
    "class MyClass:\n",
    "    class_variable = 10\n",
    "\n",
    "    def __init__(self, value):\n",
    "        self.instance_variable = value\n",
    "\n",
    "    @staticmethod\n",
    "    def static_method():\n",
    "        print(f\"Class variable: {MyClass.class_variable}\")\n",
    "        # This would raise an error because static methods can't access instance variables\n",
    "        print(f\"Instance variable: {self.instance_variable}\")    # Static methods do not have access to self (the instance) or cls (the class) parameters.\n",
    "\n",
    "# Creating an instance of MyClass\n",
    "obj = MyClass(5)\n",
    "\n",
    "# Calling the static method\n",
    "obj.static_method()\n",
    "\n",
    "MyClass.static_method()"
   ]
  },
  {
   "cell_type": "code",
   "execution_count": 8,
   "metadata": {},
   "outputs": [],
   "source": [
    "class MyClass:\n",
    "    class_variable = 10\n",
    "\n",
    "    def __init__(self, value):\n",
    "        self.instance_variable = value\n",
    "\n",
    "    def hi(self):\n",
    "        print(\"Hello\")    \n",
    "\n",
    "    @staticmethod\n",
    "    def static_method():\n",
    "        print(f\"Class variable: {MyClass.class_variable}\")\n",
    "        # This would raise an error because static methods can't access instance variables\n",
    "        # print(f\"Instance variable: {self.instance_variable}\")    # Static methods do not have access to self (the instance) or cls (the class) parameters.\n"
   ]
  },
  {
   "cell_type": "code",
   "execution_count": 6,
   "metadata": {},
   "outputs": [],
   "source": [
    "a = MyClass()"
   ]
  },
  {
   "cell_type": "code",
   "execution_count": 11,
   "metadata": {},
   "outputs": [
    {
     "ename": "TypeError",
     "evalue": "MyClass.hi() missing 1 required positional argument: 'self'",
     "output_type": "error",
     "traceback": [
      "\u001b[1;31m---------------------------------------------------------------------------\u001b[0m",
      "\u001b[1;31mTypeError\u001b[0m                                 Traceback (most recent call last)",
      "\u001b[1;32mc:\\Codes\\pythonFiles\\Data Science PW\\Week-4\\w4.8. Static Method.ipynb Cell 6\u001b[0m line \u001b[0;36m1\n\u001b[1;32m----> <a href='vscode-notebook-cell:/c%3A/Codes/pythonFiles/Data%20Science%20PW/Week-4/w4.8.%20Static%20Method.ipynb#X15sZmlsZQ%3D%3D?line=0'>1</a>\u001b[0m MyClass\u001b[39m.\u001b[39;49mhi()\n",
      "\u001b[1;31mTypeError\u001b[0m: MyClass.hi() missing 1 required positional argument: 'self'"
     ]
    }
   ],
   "source": []
  },
  {
   "cell_type": "code",
   "execution_count": null,
   "metadata": {},
   "outputs": [],
   "source": []
  },
  {
   "cell_type": "code",
   "execution_count": null,
   "metadata": {},
   "outputs": [],
   "source": []
  },
  {
   "cell_type": "code",
   "execution_count": 1,
   "metadata": {},
   "outputs": [],
   "source": [
    "class school:\n",
    "    def student_details(self, name, mail_id, number):\n",
    "        print(name, mail_id, number)"
   ]
  },
  {
   "cell_type": "code",
   "execution_count": 3,
   "metadata": {},
   "outputs": [],
   "source": [
    "a = school()"
   ]
  },
  {
   "cell_type": "code",
   "execution_count": 5,
   "metadata": {},
   "outputs": [
    {
     "name": "stdout",
     "output_type": "stream",
     "text": [
      "ali ali@gmail.com 1234567890\n"
     ]
    }
   ],
   "source": [
    "a.student_details(\"ali\", \"ali@gmail.com\", 1234567890)"
   ]
  },
  {
   "cell_type": "code",
   "execution_count": 6,
   "metadata": {},
   "outputs": [],
   "source": [
    "class school1:\n",
    "    def student_details(self , name , mail_id , number) : \n",
    "        print(name , mail_id, number)\n",
    "        \n",
    "    @staticmethod\n",
    "    def mentor_class(list_mentor) : \n",
    "        print(list_mentor)\n",
    "        \n",
    "    def mentor(self , mentor_list) :\n",
    "        print(mentor_list)"
   ]
  },
  {
   "cell_type": "code",
   "execution_count": 7,
   "metadata": {},
   "outputs": [],
   "source": [
    "b = school1()"
   ]
  },
  {
   "cell_type": "code",
   "execution_count": 8,
   "metadata": {},
   "outputs": [
    {
     "name": "stdout",
     "output_type": "stream",
     "text": [
      "['ali', 'abbas']\n"
     ]
    }
   ],
   "source": [
    "b.mentor([\"ali\", \"abbas\"])"
   ]
  },
  {
   "cell_type": "code",
   "execution_count": 9,
   "metadata": {},
   "outputs": [
    {
     "ename": "TypeError",
     "evalue": "school1.mentor() missing 1 required positional argument: 'mentor_list'",
     "output_type": "error",
     "traceback": [
      "\u001b[1;31m---------------------------------------------------------------------------\u001b[0m",
      "\u001b[1;31mTypeError\u001b[0m                                 Traceback (most recent call last)",
      "\u001b[1;32me:\\Codes\\pythonFiles\\Data Science PW\\Week-4\\w4.8. Static Method.ipynb Cell 8\u001b[0m line \u001b[0;36m1\n\u001b[1;32m----> <a href='vscode-notebook-cell:/e%3A/Codes/pythonFiles/Data%20Science%20PW/Week-4/w4.8.%20Static%20Method.ipynb#X10sZmlsZQ%3D%3D?line=0'>1</a>\u001b[0m school1\u001b[39m.\u001b[39;49mmentor([\u001b[39m\"\u001b[39;49m\u001b[39mali\u001b[39;49m\u001b[39m\"\u001b[39;49m, \u001b[39m\"\u001b[39;49m\u001b[39mabbas\u001b[39;49m\u001b[39m\"\u001b[39;49m])\n",
      "\u001b[1;31mTypeError\u001b[0m: school1.mentor() missing 1 required positional argument: 'mentor_list'"
     ]
    }
   ],
   "source": [
    "school1.mentor([\"ali\", \"abbas\"])"
   ]
  },
  {
   "cell_type": "code",
   "execution_count": 10,
   "metadata": {},
   "outputs": [
    {
     "name": "stdout",
     "output_type": "stream",
     "text": [
      "['ali', 'abbas']\n"
     ]
    }
   ],
   "source": [
    "b.mentor_class([\"ali\", \"abbas\"])"
   ]
  },
  {
   "cell_type": "code",
   "execution_count": 13,
   "metadata": {},
   "outputs": [
    {
     "name": "stdout",
     "output_type": "stream",
     "text": [
      "['ali', 'abbas']\n"
     ]
    }
   ],
   "source": [
    "school1.mentor_class([\"ali\", \"abbas\"]) # Static method is directly accessible to class and takes less memory. the number of objects that we create the instance method will be created the same which takes more space in the memory but static method will be created for once for all the objects.  "
   ]
  },
  {
   "cell_type": "code",
   "execution_count": 12,
   "metadata": {},
   "outputs": [
    {
     "ename": "TypeError",
     "evalue": "school1.student_details() missing 1 required positional argument: 'number'",
     "output_type": "error",
     "traceback": [
      "\u001b[1;31m---------------------------------------------------------------------------\u001b[0m",
      "\u001b[1;31mTypeError\u001b[0m                                 Traceback (most recent call last)",
      "\u001b[1;32me:\\Codes\\pythonFiles\\Data Science PW\\Week-4\\w4.8. Static Method.ipynb Cell 11\u001b[0m line \u001b[0;36m1\n\u001b[1;32m----> <a href='vscode-notebook-cell:/e%3A/Codes/pythonFiles/Data%20Science%20PW/Week-4/w4.8.%20Static%20Method.ipynb#X14sZmlsZQ%3D%3D?line=0'>1</a>\u001b[0m school1\u001b[39m.\u001b[39;49mstudent_details(\u001b[39m\"\u001b[39;49m\u001b[39mali\u001b[39;49m\u001b[39m\"\u001b[39;49m, \u001b[39m\"\u001b[39;49m\u001b[39mali@gmail.com\u001b[39;49m\u001b[39m\"\u001b[39;49m, \u001b[39m1234567890\u001b[39;49m)\n",
      "\u001b[1;31mTypeError\u001b[0m: school1.student_details() missing 1 required positional argument: 'number'"
     ]
    }
   ],
   "source": [
    "school1.student_details(\"ali\", \"ali@gmail.com\", 1234567890)"
   ]
  },
  {
   "cell_type": "code",
   "execution_count": 12,
   "metadata": {},
   "outputs": [],
   "source": [
    "class school2:\n",
    "    def student_details(self , name , mail_id , number) : \n",
    "        print(name , mail_id, number)\n",
    "        \n",
    "    @staticmethod\n",
    "    def mentor_mail_id(mail_id):\n",
    "        print(mail_id)\n",
    "\n",
    "    @staticmethod\n",
    "    def mentor_class(list_mentor) : \n",
    "        print(list_mentor)\n",
    "        school2.mentor_mail_id([\"ali@gmail.com\", \"abbas@gmail.com\"])\n",
    "\n",
    "\n",
    "    @classmethod\n",
    "    def class_name(cls, class_name):\n",
    "        cls.mentor_class([\"ali\", \"abbas\"])    \n",
    "        \n",
    "    def mentor(self , mentor_list) :\n",
    "        print(mentor_list)\n",
    "        self.mentor_class([\"krish\", \"sudh\"])"
   ]
  },
  {
   "cell_type": "code",
   "execution_count": 14,
   "metadata": {},
   "outputs": [],
   "source": [
    "s2 = school2()"
   ]
  },
  {
   "cell_type": "code",
   "execution_count": 15,
   "metadata": {},
   "outputs": [
    {
     "name": "stdout",
     "output_type": "stream",
     "text": [
      "ali ali@gmail.com 123456789\n"
     ]
    }
   ],
   "source": [
    "s2.student_details(\"ali\", \"ali@gmail.com\", 123456789)"
   ]
  },
  {
   "cell_type": "code",
   "execution_count": 16,
   "metadata": {},
   "outputs": [
    {
     "name": "stdout",
     "output_type": "stream",
     "text": [
      "['ali@gmail.com', 'abbas@gmail.com']\n"
     ]
    }
   ],
   "source": [
    "s2.mentor_mail_id([\"ali@gmail.com\", \"abbas@gmail.com\"])"
   ]
  },
  {
   "cell_type": "code",
   "execution_count": 17,
   "metadata": {},
   "outputs": [
    {
     "name": "stdout",
     "output_type": "stream",
     "text": [
      "['ali', 'abbas']\n",
      "['ali@gmail.com', 'abbas@gmail.com']\n"
     ]
    }
   ],
   "source": [
    "s2.class_name(\"DS\")"
   ]
  },
  {
   "cell_type": "code",
   "execution_count": 18,
   "metadata": {},
   "outputs": [
    {
     "name": "stdout",
     "output_type": "stream",
     "text": [
      "['ali@gmail.com', 'abbas@gmail.com']\n"
     ]
    }
   ],
   "source": [
    "s2.mentor_mail_id([\"ali@gmail.com\", \"abbas@gmail.com\"])"
   ]
  },
  {
   "cell_type": "code",
   "execution_count": null,
   "metadata": {},
   "outputs": [],
   "source": []
  }
 ],
 "metadata": {
  "kernelspec": {
   "display_name": ".venv",
   "language": "python",
   "name": "python3"
  },
  "language_info": {
   "codemirror_mode": {
    "name": "ipython",
    "version": 3
   },
   "file_extension": ".py",
   "mimetype": "text/x-python",
   "name": "python",
   "nbconvert_exporter": "python",
   "pygments_lexer": "ipython3",
   "version": "3.10.11"
  }
 },
 "nbformat": 4,
 "nbformat_minor": 2
}
