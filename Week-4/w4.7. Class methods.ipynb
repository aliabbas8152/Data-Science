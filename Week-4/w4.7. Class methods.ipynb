{
 "cells": [
  {
   "cell_type": "markdown",
   "metadata": {},
   "source": [
    "# Class Method"
   ]
  },
  {
   "cell_type": "markdown",
   "metadata": {},
   "source": [
    "In Python, a class method is a method that is bound to the class rather than to an instance of the class. This means that it can be called on the class itself, rather than on an object created from the class. Class methods are defined using the `@classmethod` decorator.\n",
    "\n",
    "Here's an example to illustrate the concept of a class method:\n",
    "\n",
    "```python\n",
    "class MyClass:\n",
    "    class_attribute = 0\n",
    "\n",
    "    def __init__(self, value):\n",
    "        self.value = value\n",
    "        MyClass.class_attribute += 1\n",
    "\n",
    "    def instance_method(self):\n",
    "        return f\"This is an instance method with value {self.value}\"\n",
    "\n",
    "    @classmethod\n",
    "    def class_method(cls):\n",
    "        return f\"This is a class method. Class attribute value: {cls.class_attribute}\"\n",
    "\n",
    "# Creating instances of the class\n",
    "obj1 = MyClass(10)\n",
    "obj2 = MyClass(20)\n",
    "\n",
    "# Calling instance method\n",
    "print(obj1.instance_method())  # Output: This is an instance method with value 10\n",
    "\n",
    "# Calling class method\n",
    "print(MyClass.class_method())  # Output: This is a class method. Class attribute value: 2\n",
    "```\n",
    "\n",
    "In this example, we have a class called `MyClass` with a class attribute `class_attribute` set to 0. We define an `__init__` method that initializes an instance with a `value` and increments `class_attribute`. We also have an `instance_method` which can be called on instances of `MyClass`.\n",
    "\n",
    "The interesting part is the `class_method` which is decorated with `@classmethod`. It takes `cls` (conventionally named) as the first argument, representing the class itself. Inside the class method, we can access class attributes and call other class methods.\n",
    "\n",
    "In the example, we create two instances (`obj1` and `obj2`). Then, we call `instance_method` on `obj1` and `class_method` on `MyClass` itself. Note how `class_method` is called directly on the class, not on an instance.\n",
    "\n",
    "Class methods are commonly used in scenarios where you want to perform operations related to the class itself, such as managing class-level attributes or creating factory methods for class instantiation. They are also used in inheritance when you want subclasses to use a method defined in a superclass without having to override it.\n",
    "\n",
    "Remember, class methods should have `cls` as their first parameter, and they can't modify object state (i.e., they can't modify instance variables) because they're not bound to a specific instance. Instead, they're typically used to work with class-level attributes."
   ]
  },
  {
   "cell_type": "code",
   "execution_count": null,
   "metadata": {},
   "outputs": [],
   "source": []
  },
  {
   "cell_type": "markdown",
   "metadata": {},
   "source": [
    "Class methods have several important use cases:\n",
    "\n",
    "1. **Alternative Constructors**: They are commonly used as alternative constructors. This means you can use a class method to provide different ways to create instances of a class. For example, you might have a class that can be initialized using different sets of parameters.\n",
    "\n",
    "    ```python\n",
    "    class Person:\n",
    "        def __init__(self, name, age):\n",
    "            self.name = name\n",
    "            self.age = age\n",
    "\n",
    "        @classmethod\n",
    "        def from_birth_year(cls, name, birth_year):\n",
    "            return cls(name, 2023 - birth_year)\n",
    "\n",
    "    person1 = Person('Alice', 30)\n",
    "    person2 = Person.from_birth_year('Bob', 1990)\n",
    "    ```\n",
    "\n",
    "2. **Managing Class-Level Attributes**: Class methods are useful when you want to manage attributes that apply to the entire class, rather than individual instances. For instance, a counter for the number of instances created.\n",
    "\n",
    "    ```python\n",
    "    class MyClass:\n",
    "        count = 0\n",
    "\n",
    "        def __init__(self):\n",
    "            MyClass.count += 1\n",
    "\n",
    "        @classmethod\n",
    "        def get_count(cls):\n",
    "            return cls.count\n",
    "    ```\n",
    "\n",
    "3. **Factory Methods**: They can be used to create instances based on certain conditions. For example, a factory method that creates different subclasses based on some parameter.\n",
    "\n",
    "    ```python\n",
    "    class Shape:\n",
    "        @classmethod\n",
    "        def create_shape(cls, shape_type):\n",
    "            if shape_type == 'circle':\n",
    "                return Circle()\n",
    "            elif shape_type == 'square':\n",
    "                return Square()\n",
    "            else:\n",
    "                return None\n",
    "    ```\n",
    "\n",
    "4. **Inheritance**: Class methods can be overridden by subclasses. This is useful when you have a base class method that needs to be customized by subclasses.\n",
    "\n",
    "    ```python\n",
    "    class BaseClass:\n",
    "        @classmethod\n",
    "        def class_method(cls):\n",
    "            return \"Base class method\"\n",
    "\n",
    "    class SubClass(BaseClass):\n",
    "        @classmethod\n",
    "        def class_method(cls):\n",
    "            return \"Subclass method\"\n",
    "    ```\n",
    "\n",
    "5. **Singleton Patterns**: Class methods can be used to implement a Singleton pattern, where you ensure that only one instance of a class is created.\n",
    "\n",
    "    ```python\n",
    "    class Singleton:\n",
    "        _instance = None\n",
    "\n",
    "        def __new__(cls, *args, **kwargs):\n",
    "            if not cls._instance:\n",
    "                cls._instance = super().__new__(cls, *args, **kwargs)\n",
    "            return cls._instance\n",
    "    ```\n",
    "\n",
    "6. **Accessing Class Attributes**: They provide a way to access and modify class attributes within a method.\n",
    "\n",
    "    ```python\n",
    "    class MyClass:\n",
    "        class_attr = 0\n",
    "\n",
    "        @classmethod\n",
    "        def increment_class_attr(cls):\n",
    "            cls.class_attr += 1\n",
    "    ```\n",
    "\n",
    "These are just a few examples, but they illustrate how class methods can be very powerful for managing class-level behavior and attributes in Python. They are an important tool in an object-oriented programmer's toolkit."
   ]
  },
  {
   "cell_type": "code",
   "execution_count": null,
   "metadata": {},
   "outputs": [],
   "source": []
  },
  {
   "cell_type": "markdown",
   "metadata": {},
   "source": [
    "Certainly! Here are some more examples of how class methods can be used in Python:\n",
    "\n",
    "1. **Date Parsing**:\n",
    "\n",
    "   ```python\n",
    "   class Date:\n",
    "       def __init__(self, day, month, year):\n",
    "           self.day = day\n",
    "           self.month = month\n",
    "           self.year = year\n",
    "\n",
    "       @classmethod\n",
    "       def from_string(cls, date_string):\n",
    "           day, month, year = map(int, date_string.split('-'))\n",
    "           return cls(day, month, year)\n",
    "\n",
    "   # Usage\n",
    "   date = Date.from_string('05-10-2023')\n",
    "   ```\n",
    "\n",
    "2. **Database Connection Pool**:\n",
    "\n",
    "   ```python\n",
    "   class Database:\n",
    "       connection_pool = []\n",
    "\n",
    "       def __init__(self, connection):\n",
    "           self.connection = connection\n",
    "\n",
    "       @classmethod\n",
    "       def create_connection(cls):\n",
    "           connection = cls.connection_pool.pop() if cls.connection_pool else None\n",
    "           return cls(connection) if connection else None\n",
    "\n",
    "       def close_connection(self):\n",
    "           self.connection_pool.append(self.connection)\n",
    "           self.connection = None\n",
    "   ```\n",
    "\n",
    "3. **File Operations**:\n",
    "\n",
    "   ```python\n",
    "   class FileManager:\n",
    "       @classmethod\n",
    "       def read_file(cls, filename):\n",
    "           with open(filename, 'r') as file:\n",
    "               return file.read()\n",
    "\n",
    "       @classmethod\n",
    "       def write_file(cls, filename, content):\n",
    "           with open(filename, 'w') as file:\n",
    "               file.write(content)\n",
    "   ```\n",
    "\n",
    "4. **Mathematical Operations**:\n",
    "\n",
    "   ```python\n",
    "   class MathOperations:\n",
    "       @classmethod\n",
    "       def add(cls, x, y):\n",
    "           return x + y\n",
    "\n",
    "       @classmethod\n",
    "       def multiply(cls, x, y):\n",
    "           return x * y\n",
    "   ```\n",
    "\n",
    "5. **Configurations**:\n",
    "\n",
    "   ```python\n",
    "   class Config:\n",
    "       settings = {}\n",
    "\n",
    "       @classmethod\n",
    "       def set_setting(cls, key, value):\n",
    "           cls.settings[key] = value\n",
    "\n",
    "       @classmethod\n",
    "       def get_setting(cls, key):\n",
    "           return cls.settings.get(key)\n",
    "   ```\n",
    "\n",
    "6. **User Authentication**:\n",
    "\n",
    "   ```python\n",
    "   class User:\n",
    "       users = []\n",
    "\n",
    "       def __init__(self, username, password):\n",
    "           self.username = username\n",
    "           self.password = password\n",
    "\n",
    "           User.users.append(self)\n",
    "\n",
    "       @classmethod\n",
    "       def find_user(cls, username):\n",
    "           for user in cls.users:\n",
    "               if user.username == username:\n",
    "                   return user\n",
    "           return None\n",
    "\n",
    "       @classmethod\n",
    "       def list_users(cls):\n",
    "           return [user.username for user in cls.users]\n",
    "   ```\n",
    "\n",
    "These examples cover a range of scenarios where class methods can be used to handle common tasks or patterns in programming. They demonstrate how class methods can be a useful tool for organizing and managing code within a class."
   ]
  },
  {
   "cell_type": "code",
   "execution_count": 11,
   "metadata": {},
   "outputs": [
    {
     "name": "stdout",
     "output_type": "stream",
     "text": [
      "<__main__.Date object at 0x000001CE7A93E7A0>\n"
     ]
    }
   ],
   "source": [
    "class Date:\n",
    "    def __init__(self, day, month, year):\n",
    "        self.day = day\n",
    "        self.month = month\n",
    "        self.year = year\n",
    "\n",
    "    @classmethod\n",
    "    def from_string(cls, date_string):\n",
    "        day, month, year = map(int, date_string.split('-'))\n",
    "        return cls(day, month, year)\n",
    "\n",
    "# Usage\n",
    "date = Date.from_string('05-10-2023')\n",
    "print(date)"
   ]
  },
  {
   "cell_type": "code",
   "execution_count": null,
   "metadata": {},
   "outputs": [],
   "source": []
  },
  {
   "cell_type": "code",
   "execution_count": null,
   "metadata": {},
   "outputs": [],
   "source": []
  },
  {
   "cell_type": "code",
   "execution_count": 1,
   "metadata": {},
   "outputs": [],
   "source": [
    "class school:\n",
    "    def __init__(self, name , email):   \n",
    "        \n",
    "        self.name = name\n",
    "        self.email = email\n",
    "    \n",
    "    def student_details(self):\n",
    "        print(self.name , self.email)"
   ]
  },
  {
   "cell_type": "code",
   "execution_count": 2,
   "metadata": {},
   "outputs": [],
   "source": [
    "s = school('ali', 'ali@gmail.com')"
   ]
  },
  {
   "cell_type": "code",
   "execution_count": 3,
   "metadata": {},
   "outputs": [
    {
     "data": {
      "text/plain": [
       "'ali'"
      ]
     },
     "execution_count": 3,
     "metadata": {},
     "output_type": "execute_result"
    }
   ],
   "source": [
    "s.name"
   ]
  },
  {
   "cell_type": "code",
   "execution_count": 4,
   "metadata": {},
   "outputs": [
    {
     "data": {
      "text/plain": [
       "'ali@gmail.com'"
      ]
     },
     "execution_count": 4,
     "metadata": {},
     "output_type": "execute_result"
    }
   ],
   "source": [
    "s.email"
   ]
  },
  {
   "cell_type": "code",
   "execution_count": 6,
   "metadata": {},
   "outputs": [
    {
     "name": "stdout",
     "output_type": "stream",
     "text": [
      "ali ali@gmail.com\n"
     ]
    }
   ],
   "source": [
    "s.student_details()"
   ]
  },
  {
   "cell_type": "code",
   "execution_count": 1,
   "metadata": {},
   "outputs": [],
   "source": [
    "class school1:\n",
    "    def __init__(self, name , email):   \n",
    "        \n",
    "        self.name = name\n",
    "        self.email = email\n",
    "\n",
    "    @classmethod          # Decorator            # equivalent to constructor\n",
    "    def details(cls, name1, email1):\n",
    "        return cls(name1, email1)    \n",
    "    \n",
    "    def student_details(self):   # instance method\n",
    "        print(self.name , self.email)"
   ]
  },
  {
   "cell_type": "code",
   "execution_count": 2,
   "metadata": {},
   "outputs": [
    {
     "data": {
      "text/plain": [
       "<__main__.school1 at 0x28d7978e230>"
      ]
     },
     "execution_count": 2,
     "metadata": {},
     "output_type": "execute_result"
    }
   ],
   "source": [
    "school1.details(\"abbas\", \"abbas@gmail.com\")"
   ]
  },
  {
   "cell_type": "code",
   "execution_count": 14,
   "metadata": {},
   "outputs": [],
   "source": [
    "s1 = school1.details(\"abbas\", \"abbas@gmail.com\")"
   ]
  },
  {
   "cell_type": "code",
   "execution_count": 15,
   "metadata": {},
   "outputs": [
    {
     "data": {
      "text/plain": [
       "'abbas'"
      ]
     },
     "execution_count": 15,
     "metadata": {},
     "output_type": "execute_result"
    }
   ],
   "source": [
    "s1.name"
   ]
  },
  {
   "cell_type": "code",
   "execution_count": 16,
   "metadata": {},
   "outputs": [
    {
     "data": {
      "text/plain": [
       "'abbas@gmail.com'"
      ]
     },
     "execution_count": 16,
     "metadata": {},
     "output_type": "execute_result"
    }
   ],
   "source": [
    "s1.email"
   ]
  },
  {
   "cell_type": "code",
   "execution_count": 12,
   "metadata": {},
   "outputs": [
    {
     "name": "stdout",
     "output_type": "stream",
     "text": [
      "abbas abbas@gmail.com\n"
     ]
    }
   ],
   "source": [
    "s1.student_details()"
   ]
  },
  {
   "cell_type": "code",
   "execution_count": 21,
   "metadata": {},
   "outputs": [],
   "source": [
    "class school2:\n",
    "    mobile_number = 1234567890\n",
    "    \n",
    "    # Constructor\n",
    "    def __init__(self, name , email):   \n",
    "        \n",
    "        self.name = name\n",
    "        self.email = email\n",
    "    \n",
    "    # class Method\n",
    "    @classmethod          # Decorator            # equivalent to constructor\n",
    "    def details(cls, name1, email1):\n",
    "        return cls(name1, email1)    \n",
    "    \n",
    "\n",
    "    # instance method\n",
    "    def student_details(self):       \n",
    "        print(self.name , self.email, school2.mobile_number)"
   ]
  },
  {
   "cell_type": "code",
   "execution_count": 22,
   "metadata": {},
   "outputs": [
    {
     "data": {
      "text/plain": [
       "1234567890"
      ]
     },
     "execution_count": 22,
     "metadata": {},
     "output_type": "execute_result"
    }
   ],
   "source": [
    "school2.mobile_number"
   ]
  },
  {
   "cell_type": "code",
   "execution_count": 23,
   "metadata": {},
   "outputs": [],
   "source": [
    "# Class method ........ by calling variable of calss method\n",
    "s2 = school2.details(\"ali\", \"ali@gmail.com\")    "
   ]
  },
  {
   "cell_type": "code",
   "execution_count": 24,
   "metadata": {},
   "outputs": [
    {
     "name": "stdout",
     "output_type": "stream",
     "text": [
      "ali ali@gmail.com 1234567890\n"
     ]
    }
   ],
   "source": [
    "s2.student_details()"
   ]
  },
  {
   "cell_type": "code",
   "execution_count": 25,
   "metadata": {},
   "outputs": [],
   "source": [
    "# Constructor .........  by creating an object \n",
    "s2_obj = school2(\"abbas\", \"abbas@gmail.com\")"
   ]
  },
  {
   "cell_type": "code",
   "execution_count": 26,
   "metadata": {},
   "outputs": [
    {
     "name": "stdout",
     "output_type": "stream",
     "text": [
      "abbas abbas@gmail.com 1234567890\n"
     ]
    }
   ],
   "source": [
    "s2_obj.student_details()"
   ]
  },
  {
   "cell_type": "code",
   "execution_count": 1,
   "metadata": {},
   "outputs": [],
   "source": [
    "class school3:\n",
    "    mobile_number = 1234567890\n",
    "    \n",
    "    # Constructor\n",
    "    def __init__(self, name , email):            # cls and self --- Binding to a class\n",
    "        \n",
    "        self.name = name\n",
    "        self.email = email\n",
    "    \n",
    "    @classmethod\n",
    "    def change_number(cls, mobile):\n",
    "        school3.mobile_number = mobile\n",
    "\n",
    "\n",
    "    # class Method\n",
    "    @classmethod            # Decorator          # equivalent to constructor\n",
    "    def details(cls, name1, email1):\n",
    "        return cls(name1, email1)    \n",
    "    \n",
    "\n",
    "    # instance method\n",
    "    def student_details(self):       \n",
    "        print(self.name , self.email, school2.mobile_number)"
   ]
  },
  {
   "cell_type": "code",
   "execution_count": 2,
   "metadata": {},
   "outputs": [
    {
     "data": {
      "text/plain": [
       "1234567890"
      ]
     },
     "execution_count": 2,
     "metadata": {},
     "output_type": "execute_result"
    }
   ],
   "source": [
    "school3.mobile_number"
   ]
  },
  {
   "cell_type": "code",
   "execution_count": 3,
   "metadata": {},
   "outputs": [],
   "source": [
    "school3.change_number(9521364120)"
   ]
  },
  {
   "cell_type": "code",
   "execution_count": 4,
   "metadata": {},
   "outputs": [
    {
     "data": {
      "text/plain": [
       "9521364120"
      ]
     },
     "execution_count": 4,
     "metadata": {},
     "output_type": "execute_result"
    }
   ],
   "source": [
    "school3.mobile_number"
   ]
  },
  {
   "cell_type": "code",
   "execution_count": 5,
   "metadata": {},
   "outputs": [],
   "source": [
    "s3_obj = school3(\"Ali\", \"paikar@gmail.com\")"
   ]
  },
  {
   "cell_type": "code",
   "execution_count": 6,
   "metadata": {},
   "outputs": [
    {
     "data": {
      "text/plain": [
       "<__main__.school3 at 0x1ce7a48df90>"
      ]
     },
     "execution_count": 6,
     "metadata": {},
     "output_type": "execute_result"
    }
   ],
   "source": [
    "s3_obj.details('Abbas', 'abbas@gmail.com')"
   ]
  },
  {
   "cell_type": "code",
   "execution_count": 8,
   "metadata": {},
   "outputs": [
    {
     "ename": "NameError",
     "evalue": "name 'school2' is not defined",
     "output_type": "error",
     "traceback": [
      "\u001b[1;31m---------------------------------------------------------------------------\u001b[0m",
      "\u001b[1;31mNameError\u001b[0m                                 Traceback (most recent call last)",
      "\u001b[1;32me:\\Codes\\pythonFiles\\Data Science PW\\Week-4\\w4.7. Class methods.ipynb Cell 24\u001b[0m line \u001b[0;36m1\n\u001b[1;32m----> <a href='vscode-notebook-cell:/e%3A/Codes/pythonFiles/Data%20Science%20PW/Week-4/w4.7.%20Class%20methods.ipynb#X32sZmlsZQ%3D%3D?line=0'>1</a>\u001b[0m s3_obj\u001b[39m.\u001b[39;49mstudent_details()\n",
      "\u001b[1;32me:\\Codes\\pythonFiles\\Data Science PW\\Week-4\\w4.7. Class methods.ipynb Cell 24\u001b[0m line \u001b[0;36m2\n\u001b[0;32m     <a href='vscode-notebook-cell:/e%3A/Codes/pythonFiles/Data%20Science%20PW/Week-4/w4.7.%20Class%20methods.ipynb#X32sZmlsZQ%3D%3D?line=21'>22</a>\u001b[0m \u001b[39mdef\u001b[39;00m \u001b[39mstudent_details\u001b[39m(\u001b[39mself\u001b[39m):       \n\u001b[1;32m---> <a href='vscode-notebook-cell:/e%3A/Codes/pythonFiles/Data%20Science%20PW/Week-4/w4.7.%20Class%20methods.ipynb#X32sZmlsZQ%3D%3D?line=22'>23</a>\u001b[0m     \u001b[39mprint\u001b[39m(\u001b[39mself\u001b[39m\u001b[39m.\u001b[39mname , \u001b[39mself\u001b[39m\u001b[39m.\u001b[39memail, school2\u001b[39m.\u001b[39mmobile_number)\n",
      "\u001b[1;31mNameError\u001b[0m: name 'school2' is not defined"
     ]
    }
   ],
   "source": [
    "s3_obj.student_details()"
   ]
  },
  {
   "cell_type": "code",
   "execution_count": 6,
   "metadata": {},
   "outputs": [],
   "source": [
    "class school4:\n",
    "    mobile_number = 1234567890\n",
    "    \n",
    "    # Constructor\n",
    "    def __init__(self, name , email):            # cls and self --- Binding to a class\n",
    "        \n",
    "        self.name = name\n",
    "        self.email = email\n",
    "    \n",
    "    @classmethod\n",
    "    def change_number(cls, mobile):\n",
    "        school3.mobile_number = mobile\n",
    "\n",
    "\n",
    "    # class Method\n",
    "    @classmethod            # Decorator          # equivalent to constructor\n",
    "    def details(cls, name1, email1):\n",
    "        return cls(name1, email1)    \n",
    "    \n",
    "\n",
    "    # instance method\n",
    "    def student_details(self):       \n",
    "        print(self.name , self.email, school2.mobile_number)"
   ]
  },
  {
   "cell_type": "code",
   "execution_count": 7,
   "metadata": {},
   "outputs": [],
   "source": [
    "def course_details(cls, course_name):\n",
    "    print(\"Course Details, \", course_name)"
   ]
  },
  {
   "cell_type": "code",
   "execution_count": 8,
   "metadata": {},
   "outputs": [],
   "source": [
    "school4.course_details = classmethod(course_details)"
   ]
  },
  {
   "cell_type": "code",
   "execution_count": 10,
   "metadata": {},
   "outputs": [
    {
     "name": "stdout",
     "output_type": "stream",
     "text": [
      "Course Details,  Data\n"
     ]
    }
   ],
   "source": [
    "school4.course_details(\"Data\")"
   ]
  },
  {
   "cell_type": "code",
   "execution_count": 11,
   "metadata": {},
   "outputs": [],
   "source": [
    "s4 = school4(\"ali\", \"ali@gmail.com\")"
   ]
  },
  {
   "cell_type": "code",
   "execution_count": 12,
   "metadata": {},
   "outputs": [
    {
     "name": "stdout",
     "output_type": "stream",
     "text": [
      "Course Details,  web\n"
     ]
    }
   ],
   "source": [
    "s4.course_details(\"web\")"
   ]
  },
  {
   "cell_type": "code",
   "execution_count": 13,
   "metadata": {},
   "outputs": [],
   "source": [
    "class school5:\n",
    "    mobile_number = 1234567890\n",
    "    \n",
    "    # Constructor\n",
    "    def __init__(self, name , email):            # cls and self --- Binding to a class\n",
    "        \n",
    "        self.name = name\n",
    "        self.email = email\n",
    "    \n",
    "    @classmethod\n",
    "    def change_number(cls, mobile):\n",
    "        school3.mobile_number = mobile\n",
    "\n",
    "\n",
    "    # class Method\n",
    "    @classmethod            # Decorator          # equivalent to constructor\n",
    "    def details(cls, name1, email1):\n",
    "        return cls(name1, email1)    \n",
    "    \n",
    "\n",
    "    # instance method\n",
    "    def student_details(self):       \n",
    "        print(self.name , self.email, school2.mobile_number)"
   ]
  },
  {
   "cell_type": "code",
   "execution_count": 14,
   "metadata": {},
   "outputs": [],
   "source": [
    "del school5.change_number"
   ]
  },
  {
   "cell_type": "code",
   "execution_count": 15,
   "metadata": {},
   "outputs": [
    {
     "ename": "AttributeError",
     "evalue": "type object 'school5' has no attribute 'change_number'",
     "output_type": "error",
     "traceback": [
      "\u001b[1;31m---------------------------------------------------------------------------\u001b[0m",
      "\u001b[1;31mAttributeError\u001b[0m                            Traceback (most recent call last)",
      "\u001b[1;32me:\\Codes\\pythonFiles\\Data Science PW\\Week-4\\w4.7. Class methods.ipynb Cell 42\u001b[0m line \u001b[0;36m1\n\u001b[1;32m----> <a href='vscode-notebook-cell:/e%3A/Codes/pythonFiles/Data%20Science%20PW/Week-4/w4.7.%20Class%20methods.ipynb#X56sZmlsZQ%3D%3D?line=0'>1</a>\u001b[0m school5\u001b[39m.\u001b[39;49mchange_number\n",
      "\u001b[1;31mAttributeError\u001b[0m: type object 'school5' has no attribute 'change_number'"
     ]
    }
   ],
   "source": [
    "school5.change_number"
   ]
  },
  {
   "cell_type": "code",
   "execution_count": 16,
   "metadata": {},
   "outputs": [],
   "source": [
    "delattr(school5, \"details\")"
   ]
  },
  {
   "cell_type": "code",
   "execution_count": 17,
   "metadata": {},
   "outputs": [
    {
     "data": {
      "text/plain": [
       "1234567890"
      ]
     },
     "execution_count": 17,
     "metadata": {},
     "output_type": "execute_result"
    }
   ],
   "source": [
    "school5.mobile_number"
   ]
  },
  {
   "cell_type": "code",
   "execution_count": 18,
   "metadata": {},
   "outputs": [],
   "source": [
    "delattr(school5, \"mobile_number\")"
   ]
  },
  {
   "cell_type": "code",
   "execution_count": 19,
   "metadata": {},
   "outputs": [
    {
     "ename": "AttributeError",
     "evalue": "type object 'school5' has no attribute 'mobile_number'",
     "output_type": "error",
     "traceback": [
      "\u001b[1;31m---------------------------------------------------------------------------\u001b[0m",
      "\u001b[1;31mAttributeError\u001b[0m                            Traceback (most recent call last)",
      "\u001b[1;32me:\\Codes\\pythonFiles\\Data Science PW\\Week-4\\w4.7. Class methods.ipynb Cell 46\u001b[0m line \u001b[0;36m1\n\u001b[1;32m----> <a href='vscode-notebook-cell:/e%3A/Codes/pythonFiles/Data%20Science%20PW/Week-4/w4.7.%20Class%20methods.ipynb#X63sZmlsZQ%3D%3D?line=0'>1</a>\u001b[0m school5\u001b[39m.\u001b[39;49mmobile_number\n",
      "\u001b[1;31mAttributeError\u001b[0m: type object 'school5' has no attribute 'mobile_number'"
     ]
    }
   ],
   "source": [
    "school5.mobile_number"
   ]
  },
  {
   "cell_type": "code",
   "execution_count": null,
   "metadata": {},
   "outputs": [],
   "source": []
  }
 ],
 "metadata": {
  "kernelspec": {
   "display_name": ".venv",
   "language": "python",
   "name": "python3"
  },
  "language_info": {
   "codemirror_mode": {
    "name": "ipython",
    "version": 3
   },
   "file_extension": ".py",
   "mimetype": "text/x-python",
   "name": "python",
   "nbconvert_exporter": "python",
   "pygments_lexer": "ipython3",
   "version": "3.10.11"
  },
  "orig_nbformat": 4
 },
 "nbformat": 4,
 "nbformat_minor": 2
}
