{
 "cells": [
  {
   "cell_type": "code",
   "execution_count": 1,
   "metadata": {},
   "outputs": [],
   "source": [
    "# Q1. Create one variable containing following type of data:\n",
    "\n",
    "# (i)\tstring\n",
    "\n",
    "# (ii)\tlist\n",
    "\n",
    "# (iii)\tfloat\n",
    "\n",
    "# (iv)\ttuple \n",
    "\n",
    "\n",
    "# Answer \n",
    "s = 'I am Ali Abbas'\n",
    "\n",
    "l = [1, 24, 165, -16, 26.2, 'ali', True, 0, 'Abbas', False]  \n",
    "\n",
    "f = 19.99\n",
    "\n",
    "t = (0, 1, 'Ali', -5, 3.5, True)"
   ]
  },
  {
   "cell_type": "code",
   "execution_count": 9,
   "metadata": {},
   "outputs": [
    {
     "data": {
      "text/plain": [
       "str"
      ]
     },
     "execution_count": 9,
     "metadata": {},
     "output_type": "execute_result"
    }
   ],
   "source": [
    "# Q2. Given are some following variables containing data:\n",
    "\n",
    "# (i)\tvar1 = ‘ ‘\n",
    "\n",
    "# (ii)\tvar2 = ‘[ DS , ML , Python]’\n",
    "\n",
    "# (iii)\tvar3 = [ ‘DS’ , ’ML’ , ‘Python’ ]\n",
    "\n",
    "# (iv)\tvar4 = 1.\n",
    "\n",
    "# Answer\n",
    "var1 = ''   # strng\n",
    "type(var1)"
   ]
  },
  {
   "cell_type": "code",
   "execution_count": 5,
   "metadata": {},
   "outputs": [
    {
     "data": {
      "text/plain": [
       "str"
      ]
     },
     "execution_count": 5,
     "metadata": {},
     "output_type": "execute_result"
    }
   ],
   "source": [
    "var2 = '[ DS , ML , Python]'  # string\n",
    "type(var2)"
   ]
  },
  {
   "cell_type": "code",
   "execution_count": 6,
   "metadata": {},
   "outputs": [
    {
     "data": {
      "text/plain": [
       "list"
      ]
     },
     "execution_count": 6,
     "metadata": {},
     "output_type": "execute_result"
    }
   ],
   "source": [
    "var3 = [ 'DS' , 'ML' , 'Python' ]   # list\n",
    "type(var3)"
   ]
  },
  {
   "cell_type": "code",
   "execution_count": 8,
   "metadata": {},
   "outputs": [
    {
     "data": {
      "text/plain": [
       "int"
      ]
     },
     "execution_count": 8,
     "metadata": {},
     "output_type": "execute_result"
    }
   ],
   "source": [
    "var4 = 1     # integer\n",
    "type(var4)"
   ]
  },
  {
   "cell_type": "code",
   "execution_count": null,
   "metadata": {},
   "outputs": [],
   "source": [
    "# Q3. Explain the use of the following operators using an example:\n",
    "\n",
    "# (i)\t/\n",
    "\n",
    "# (ii)\t% \n",
    "\n",
    "# (iii)\t//\n",
    "\n",
    "# (iv)\t**"
   ]
  },
  {
   "cell_type": "code",
   "execution_count": 10,
   "metadata": {},
   "outputs": [
    {
     "data": {
      "text/plain": [
       "2.0"
      ]
     },
     "execution_count": 10,
     "metadata": {},
     "output_type": "execute_result"
    }
   ],
   "source": [
    "4/2      # this gives the value in floating point"
   ]
  },
  {
   "cell_type": "code",
   "execution_count": 11,
   "metadata": {},
   "outputs": [
    {
     "data": {
      "text/plain": [
       "2"
      ]
     },
     "execution_count": 11,
     "metadata": {},
     "output_type": "execute_result"
    }
   ],
   "source": [
    "5%3      # this gives the remainder"
   ]
  },
  {
   "cell_type": "code",
   "execution_count": 12,
   "metadata": {},
   "outputs": [
    {
     "data": {
      "text/plain": [
       "2"
      ]
     },
     "execution_count": 12,
     "metadata": {},
     "output_type": "execute_result"
    }
   ],
   "source": [
    "4//2      # this gives the value in integer"
   ]
  },
  {
   "cell_type": "code",
   "execution_count": 13,
   "metadata": {},
   "outputs": [
    {
     "data": {
      "text/plain": [
       "9"
      ]
     },
     "execution_count": 13,
     "metadata": {},
     "output_type": "execute_result"
    }
   ],
   "source": [
    "3**2      # this gives the exponential value"
   ]
  },
  {
   "cell_type": "code",
   "execution_count": 16,
   "metadata": {},
   "outputs": [
    {
     "name": "stdout",
     "output_type": "stream",
     "text": [
      "1\n",
      "<class 'int'>\n",
      "24\n",
      "<class 'int'>\n",
      "16.5\n",
      "<class 'float'>\n",
      "-16\n",
      "<class 'int'>\n",
      "ali\n",
      "<class 'str'>\n",
      "True\n",
      "<class 'bool'>\n",
      "0\n",
      "<class 'int'>\n",
      "Abbas\n",
      "<class 'str'>\n",
      "False\n",
      "<class 'bool'>\n",
      "(29+6j)\n",
      "<class 'complex'>\n"
     ]
    }
   ],
   "source": [
    "#Q4. Create a list of length 10 of your choice containing multiple types of data. Using for loop print the element and its data type.\n",
    "\n",
    "# Answer\n",
    "\n",
    "l = [1, 24, 16.5, -16, 'ali', True, 0, 'Abbas', False, 29+6j] \n",
    "for i in l:\n",
    "    print(i)\n",
    "    print(type(i))"
   ]
  },
  {
   "cell_type": "code",
   "execution_count": 35,
   "metadata": {},
   "outputs": [
    {
     "name": "stdout",
     "output_type": "stream",
     "text": [
      "100 is divisible by 5 exactly 20 times.\n"
     ]
    }
   ],
   "source": [
    "# Q5. Using a while loop, verify if the number A is purely divisible by number B and if so then how many times it can be divisible.\n",
    "\n",
    "# Answer\n",
    "\n",
    "A = int(input('Enter A: '))\n",
    "B = int(input('Enter B: '))\n",
    "\n",
    "while A % B == 0:\n",
    "    count = A // B\n",
    "    print(f'{A} is divisible by {B} exactly {count} times.') \n",
    "    break\n",
    "else:\n",
    "    print(f'{A} is not divisble by {B}.')       "
   ]
  },
  {
   "cell_type": "code",
   "execution_count": 22,
   "metadata": {},
   "outputs": [
    {
     "name": "stdout",
     "output_type": "stream",
     "text": [
      "0 is divisible by 3\n",
      "1 is not divisible by 3\n",
      "2 is not divisible by 3\n",
      "3 is divisible by 3\n",
      "4 is not divisible by 3\n",
      "5 is not divisible by 3\n",
      "6 is divisible by 3\n",
      "7 is not divisible by 3\n",
      "8 is not divisible by 3\n",
      "9 is divisible by 3\n",
      "10 is not divisible by 3\n",
      "11 is not divisible by 3\n",
      "12 is divisible by 3\n",
      "13 is not divisible by 3\n",
      "14 is not divisible by 3\n",
      "15 is divisible by 3\n",
      "16 is not divisible by 3\n",
      "17 is not divisible by 3\n",
      "18 is divisible by 3\n",
      "19 is not divisible by 3\n",
      "20 is not divisible by 3\n",
      "21 is divisible by 3\n",
      "22 is not divisible by 3\n",
      "23 is not divisible by 3\n",
      "24 is divisible by 3\n"
     ]
    }
   ],
   "source": [
    "# Q6. Create a list containing 25 int type data. Using for loop and if-else condition print if the element is divisible by 3 or not.\n",
    "\n",
    "# Answer\n",
    "a = list(range(25))\n",
    "\n",
    "for i in a :\n",
    "    if i%3==0:\n",
    "        print(i, 'is divisible by 3')\n",
    "    else:\n",
    "        print(i, 'is not divisible by 3')    "
   ]
  },
  {
   "cell_type": "code",
   "execution_count": 3,
   "metadata": {},
   "outputs": [
    {
     "data": {
      "text/plain": [
       "[1, 'changing', 16.5, -16, 'ali', True, 0, 'Abbas', False, (29+6j)]"
      ]
     },
     "execution_count": 3,
     "metadata": {},
     "output_type": "execute_result"
    }
   ],
   "source": [
    "# Q7. What do you understand about mutable and immutable data types? Give examples for both showing this property.\n",
    "\n",
    "# Mutable: it means we can change the elements. example is list. that is we can change the elements inside the list. so, list is mutable.\n",
    "l = [1, 24, 16.5, -16, 'ali', True, 0, 'Abbas', False, 29+6j] \n",
    "\n",
    "l[1]= 'changing'\n",
    "\n",
    "l"
   ]
  },
  {
   "cell_type": "code",
   "execution_count": 2,
   "metadata": {},
   "outputs": [
    {
     "ename": "TypeError",
     "evalue": "'tuple' object does not support item assignment",
     "output_type": "error",
     "traceback": [
      "\u001b[1;31m---------------------------------------------------------------------------\u001b[0m",
      "\u001b[1;31mTypeError\u001b[0m                                 Traceback (most recent call last)",
      "Cell \u001b[1;32mIn[2], line 4\u001b[0m\n\u001b[0;32m      1\u001b[0m \u001b[39m# immutable: it means we can't change the elements. example is tuple. that is we can not change any elements inside the tuple once inserted. so, tuples are immutable. if we try to change the elements it will show an error.\u001b[39;00m\n\u001b[0;32m      2\u001b[0m t \u001b[39m=\u001b[39m (\u001b[39m1\u001b[39m, \u001b[39m24\u001b[39m, \u001b[39m16.5\u001b[39m, \u001b[39m-\u001b[39m\u001b[39m16\u001b[39m, \u001b[39m'\u001b[39m\u001b[39mali\u001b[39m\u001b[39m'\u001b[39m, \u001b[39mTrue\u001b[39;00m, \u001b[39m0\u001b[39m, \u001b[39m'\u001b[39m\u001b[39mAbbas\u001b[39m\u001b[39m'\u001b[39m, \u001b[39mFalse\u001b[39;00m, \u001b[39m29\u001b[39m\u001b[39m+\u001b[39m\u001b[39m6\u001b[39mj)\n\u001b[1;32m----> 4\u001b[0m t[\u001b[39m1\u001b[39;49m] \u001b[39m=\u001b[39m \u001b[39m\"\u001b[39m\u001b[39mchanging\u001b[39m\u001b[39m\"\u001b[39m\n",
      "\u001b[1;31mTypeError\u001b[0m: 'tuple' object does not support item assignment"
     ]
    }
   ],
   "source": [
    "# immutable: it means we can't change the elements. example is tuple. that is we can not change any elements inside the tuple once inserted. so, tuples are immutable. if we try to change the elements it will show an error.\n",
    "t = (1, 24, 16.5, -16, 'ali', True, 0, 'Abbas', False, 29+6j)\n",
    "\n",
    "t[1] = \"changing\""
   ]
  },
  {
   "cell_type": "code",
   "execution_count": 8,
   "metadata": {},
   "outputs": [
    {
     "data": {
      "text/plain": [
       "True"
      ]
     },
     "execution_count": 8,
     "metadata": {},
     "output_type": "execute_result"
    }
   ],
   "source": [
    "not False"
   ]
  },
  {
   "cell_type": "code",
   "execution_count": null,
   "metadata": {},
   "outputs": [],
   "source": []
  }
 ],
 "metadata": {
  "kernelspec": {
   "display_name": ".venv",
   "language": "python",
   "name": "python3"
  },
  "language_info": {
   "codemirror_mode": {
    "name": "ipython",
    "version": 3
   },
   "file_extension": ".py",
   "mimetype": "text/x-python",
   "name": "python",
   "nbconvert_exporter": "python",
   "pygments_lexer": "ipython3",
   "version": "3.10.11"
  },
  "orig_nbformat": 4
 },
 "nbformat": 4,
 "nbformat_minor": 2
}
