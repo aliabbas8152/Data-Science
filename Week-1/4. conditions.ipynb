{
 "cells": [
  {
   "cell_type": "code",
   "execution_count": 12,
   "metadata": {},
   "outputs": [
    {
     "name": "stdout",
     "output_type": "stream",
     "text": [
      "11  is greater than 10.\n"
     ]
    }
   ],
   "source": [
    "a = 11\n",
    "if a > 10:\n",
    "    print( a, ' is greater than 10.')"
   ]
  },
  {
   "cell_type": "code",
   "execution_count": 6,
   "metadata": {},
   "outputs": [
    {
     "name": "stdout",
     "output_type": "stream",
     "text": [
      "a is greater than 10.\n"
     ]
    }
   ],
   "source": [
    "a = 12 \n",
    "if a > 10:\n",
    "    print('a is greater than 10.')\n",
    "else:\n",
    "    print(\"a is smaller than 10.\")    "
   ]
  },
  {
   "cell_type": "code",
   "execution_count": 3,
   "metadata": {},
   "outputs": [
    {
     "data": {
      "text/plain": [
       "0"
      ]
     },
     "execution_count": 3,
     "metadata": {},
     "output_type": "execute_result"
    }
   ],
   "source": [
    "12 % 2"
   ]
  },
  {
   "cell_type": "code",
   "execution_count": 8,
   "metadata": {},
   "outputs": [
    {
     "name": "stdout",
     "output_type": "stream",
     "text": [
      "a is greater than 10\n"
     ]
    }
   ],
   "source": [
    "a = int(input())\n",
    "if a > 10:\n",
    "    print('a is greater than 10')\n",
    "elif a<10:\n",
    "    print('a is smaller than 10')\n",
    "else:\n",
    "    print('a is equal to 10.')        "
   ]
  },
  {
   "cell_type": "code",
   "execution_count": 12,
   "metadata": {},
   "outputs": [
    {
     "name": "stdout",
     "output_type": "stream",
     "text": [
      "0\n",
      "1\n",
      "2\n",
      "3\n",
      "4\n",
      "5\n",
      "6\n",
      "7\n",
      "8\n",
      "9\n",
      "10\n",
      "this will execute once while will be exeecuted succesfully\n"
     ]
    }
   ],
   "source": [
    "n = 10\n",
    "i = 0\n",
    "\n",
    "while i<=n:\n",
    "    print(i)\n",
    "    i+=1\n",
    "else:\n",
    "    print('this will execute once while will be exeecuted succesfully')    "
   ]
  },
  {
   "cell_type": "code",
   "execution_count": 17,
   "metadata": {},
   "outputs": [
    {
     "name": "stdout",
     "output_type": "stream",
     "text": [
      "0\n",
      "1\n",
      "2\n"
     ]
    }
   ],
   "source": [
    "n = 10\n",
    "i = 0\n",
    "\n",
    "while i<=n:\n",
    "    print(i)\n",
    "    i+=1\n",
    "    if i==3:\n",
    "        break #this interrupted the loop and exited the loop\n",
    "else:\n",
    "    print('this will execute once while will be exeecuted succesfully')"
   ]
  },
  {
   "cell_type": "code",
   "execution_count": 20,
   "metadata": {},
   "outputs": [
    {
     "name": "stdout",
     "output_type": "stream",
     "text": [
      "1\n",
      "2\n",
      "4\n",
      "5\n",
      "6\n",
      "7\n",
      "8\n",
      "9\n",
      "10\n",
      "11\n",
      "this will execute once while will be exeecuted succesfully\n"
     ]
    }
   ],
   "source": [
    "n = 10\n",
    "i = 0\n",
    "\n",
    "while i<=n:\n",
    "\n",
    "    i+=1\n",
    "    if i==3:\n",
    "        continue #this makes skip the value\n",
    "    print(i)\n",
    "else:\n",
    "    print('this will execute once while will be exeecuted succesfully')"
   ]
  },
  {
   "cell_type": "code",
   "execution_count": 25,
   "metadata": {},
   "outputs": [
    {
     "name": "stdout",
     "output_type": "stream",
     "text": [
      "A\n",
      "l\n",
      "i\n",
      " \n",
      "A\n",
      "b\n",
      "b\n",
      "a\n",
      "s\n"
     ]
    }
   ],
   "source": [
    "n = 'Ali Abbas'\n",
    "for i in n:\n",
    "    print(i)"
   ]
  },
  {
   "cell_type": "code",
   "execution_count": 28,
   "metadata": {},
   "outputs": [],
   "source": [
    "l = [1, 24, 165, -16, 26.2, 'ali', 'jawed', True, 0, 'Abbas', False]  "
   ]
  },
  {
   "cell_type": "code",
   "execution_count": 29,
   "metadata": {},
   "outputs": [
    {
     "name": "stdout",
     "output_type": "stream",
     "text": [
      "1\n",
      "24\n",
      "165\n",
      "-16\n",
      "26.2\n",
      "ali\n",
      "jawed\n",
      "True\n",
      "0\n",
      "Abbas\n",
      "False\n",
      "this is will be executed once for loop will complete\n"
     ]
    }
   ],
   "source": [
    "for j in l:\n",
    "    print(j)\n",
    "else:\n",
    "    print('this is will be executed once for loop will complete')  "
   ]
  },
  {
   "cell_type": "code",
   "execution_count": 30,
   "metadata": {},
   "outputs": [
    {
     "name": "stdout",
     "output_type": "stream",
     "text": [
      "1\n",
      "24\n",
      "165\n",
      "-16\n",
      "26.2\n",
      "ali\n"
     ]
    }
   ],
   "source": [
    "for j in l:\n",
    "    print(j)\n",
    "    if j=='ali':\n",
    "        break #this forecefully terminating the loop\n",
    "else:\n",
    "    print('this is will be executed once for loop will complete')  "
   ]
  },
  {
   "cell_type": "code",
   "execution_count": 36,
   "metadata": {},
   "outputs": [
    {
     "name": "stdout",
     "output_type": "stream",
     "text": [
      "1\n",
      "24\n",
      "165\n",
      "-16\n",
      "26.2\n",
      "ali\n",
      "True\n",
      "0\n",
      "Abbas\n",
      "False\n",
      "this is will be executed once for loop will complete\n"
     ]
    }
   ],
   "source": [
    "for j in l:\n",
    "    if j =='jawed':\n",
    "        continue #this will skip the value and continue the loop\n",
    "    print(j)\n",
    "\n",
    "else:\n",
    "    print('this is will be executed once for loop will complete')  "
   ]
  },
  {
   "cell_type": "code",
   "execution_count": 41,
   "metadata": {},
   "outputs": [
    {
     "data": {
      "text/plain": [
       "[0, 1, 2, 3, 4, 5, 6, 7, 8, 9]"
      ]
     },
     "execution_count": 41,
     "metadata": {},
     "output_type": "execute_result"
    }
   ],
   "source": [
    "list(range(10))\n",
    "# range will generate the values excluding upper bound value"
   ]
  },
  {
   "cell_type": "code",
   "execution_count": 39,
   "metadata": {},
   "outputs": [
    {
     "data": {
      "text/plain": [
       "(0, 1, 2, 3, 4, 5, 6, 7, 8, 9)"
      ]
     },
     "execution_count": 39,
     "metadata": {},
     "output_type": "execute_result"
    }
   ],
   "source": [
    "tuple(range(10))"
   ]
  },
  {
   "cell_type": "code",
   "execution_count": 42,
   "metadata": {},
   "outputs": [
    {
     "name": "stdout",
     "output_type": "stream",
     "text": [
      "15\n"
     ]
    }
   ],
   "source": [
    "sum = 0\n",
    "\n",
    "for i in range(1, 6):\n",
    "\n",
    "    sum += i\n",
    "\n",
    "print(sum)"
   ]
  },
  {
   "cell_type": "code",
   "execution_count": 43,
   "metadata": {},
   "outputs": [
    {
     "name": "stdout",
     "output_type": "stream",
     "text": [
      "0\n",
      "1\n",
      "2\n",
      "3\n",
      "4\n"
     ]
    }
   ],
   "source": [
    "count = 0\n",
    "\n",
    "while count < 5:\n",
    "\n",
    "    print(count)\n",
    "\n",
    "    count += 1"
   ]
  },
  {
   "cell_type": "code",
   "execution_count": 44,
   "metadata": {},
   "outputs": [
    {
     "name": "stdout",
     "output_type": "stream",
     "text": [
      "x is greater than 5\n"
     ]
    }
   ],
   "source": [
    "x = 10\n",
    "\n",
    "if x > 5:\n",
    "\n",
    "    print(\"x is greater than 5\")\n",
    "\n",
    "elif x == 5:\n",
    "\n",
    "    print(\"x is equal to 5\")\n",
    "\n",
    "else:\n",
    "\n",
    "    print(\"x is less than 5\")"
   ]
  },
  {
   "cell_type": "code",
   "execution_count": 45,
   "metadata": {},
   "outputs": [
    {
     "name": "stdout",
     "output_type": "stream",
     "text": [
      "[1, 2, 3, 4]\n"
     ]
    }
   ],
   "source": [
    "my_list = [1, 2, 3]\n",
    "\n",
    "new_list = my_list\n",
    "\n",
    "new_list.append(4)\n",
    "\n",
    "print(my_list)"
   ]
  }
 ],
 "metadata": {
  "kernelspec": {
   "display_name": ".venv",
   "language": "python",
   "name": "python3"
  },
  "language_info": {
   "codemirror_mode": {
    "name": "ipython",
    "version": 3
   },
   "file_extension": ".py",
   "mimetype": "text/x-python",
   "name": "python",
   "nbconvert_exporter": "python",
   "pygments_lexer": "ipython3",
   "version": "3.10.11"
  },
  "orig_nbformat": 4
 },
 "nbformat": 4,
 "nbformat_minor": 2
}
