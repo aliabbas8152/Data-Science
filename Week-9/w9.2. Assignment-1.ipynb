{
 "cells": [
  {
   "cell_type": "markdown",
   "metadata": {},
   "source": [
    "# Pandas Basic Assignment"
   ]
  },
  {
   "cell_type": "code",
   "execution_count": null,
   "metadata": {},
   "outputs": [],
   "source": []
  },
  {
   "cell_type": "markdown",
   "metadata": {},
   "source": [
    "### Q1. Create a Pandas Series that contains the following data: 4, 8, 15, 16, 23, and 42. Then, print the series."
   ]
  },
  {
   "cell_type": "code",
   "execution_count": 5,
   "metadata": {},
   "outputs": [
    {
     "name": "stdout",
     "output_type": "stream",
     "text": [
      "0     4\n",
      "1     8\n",
      "2    15\n",
      "3    16\n",
      "4    23\n",
      "5    42\n",
      "dtype: int64\n",
      "<class 'pandas.core.series.Series'>\n"
     ]
    }
   ],
   "source": [
    "import pandas as pd\n",
    "\n",
    "# Create the Pandas Series\n",
    "series = pd.Series([4, 8, 15, 16, 23, 42])\n",
    "\n",
    "# Print the Series\n",
    "print(series)\n",
    "\n",
    "# Print the data type of the Series\n",
    "print(type(series))"
   ]
  },
  {
   "cell_type": "code",
   "execution_count": null,
   "metadata": {},
   "outputs": [],
   "source": []
  },
  {
   "cell_type": "markdown",
   "metadata": {},
   "source": [
    "### Q2. Create a variable of list type containing 10 elements in it, and apply pandas.Series function on the variable print it."
   ]
  },
  {
   "cell_type": "code",
   "execution_count": 7,
   "metadata": {},
   "outputs": [
    {
     "name": "stdout",
     "output_type": "stream",
     "text": [
      "0     1\n",
      "1     2\n",
      "2     3\n",
      "3     4\n",
      "4     5\n",
      "5     6\n",
      "6     7\n",
      "7     8\n",
      "8     9\n",
      "9    10\n",
      "dtype: int64\n"
     ]
    }
   ],
   "source": [
    "import pandas as pd\n",
    "\n",
    "# Create a list with 10 elements\n",
    "my_list = [1, 2, 3, 4, 5, 6, 7, 8, 9, 10]\n",
    "\n",
    "# Convert the list into a pandas Series\n",
    "series = pd.Series(my_list)\n",
    "\n",
    "# Print the pandas Series\n",
    "print(series)\n"
   ]
  },
  {
   "cell_type": "code",
   "execution_count": null,
   "metadata": {},
   "outputs": [],
   "source": []
  },
  {
   "cell_type": "markdown",
   "metadata": {},
   "source": [
    "### Q3. Create a Pandas DataFrame that contains the following data:\n",
    "#### Name, Age, Gender\n",
    "#### Alice, 25, Female\n",
    "#### Bob, 30, Male\n",
    "#### Claire, 27, Female\n",
    "### Then, print the DataFrame."
   ]
  },
  {
   "cell_type": "code",
   "execution_count": 8,
   "metadata": {},
   "outputs": [
    {
     "name": "stdout",
     "output_type": "stream",
     "text": [
      "     Name  Age  Gender\n",
      "0   Alice   25  Female\n",
      "1     Bob   30    Male\n",
      "2  Claire   27  Female\n"
     ]
    }
   ],
   "source": [
    "import pandas as pd\n",
    "\n",
    "# Create a dictionary \n",
    "data = {'Name': ['Alice', 'Bob', 'Claire'], 'Age': [25, 30, 27], 'Gender': ['Female', 'Male', 'Female']}\n",
    "\n",
    "# Convert the dictionary into a pandas DataFrame\n",
    "df = pd.DataFrame(data)\n",
    "\n",
    "# Print the pandas DataFrame\n",
    "print(df)\n"
   ]
  },
  {
   "cell_type": "code",
   "execution_count": null,
   "metadata": {},
   "outputs": [],
   "source": []
  },
  {
   "cell_type": "markdown",
   "metadata": {},
   "source": [
    "### Q4. What is ‘DataFrame’ in pandas and how is it different from pandas.series? Explain with an example."
   ]
  },
  {
   "cell_type": "markdown",
   "metadata": {},
   "source": [
    "**DataFrame:** In pandas, a DataFrame is a two-dimensional labeled data structure that consists of rows and columns, similar to a table or spreadsheet. It is one of the primary data structures used in pandas for data manipulation and analysis. Each column in a DataFrame can have a different data type, and it is capable of handling heterogeneous data.\n",
    "\n",
    "**Example:**"
   ]
  },
  {
   "cell_type": "code",
   "execution_count": 9,
   "metadata": {},
   "outputs": [
    {
     "name": "stdout",
     "output_type": "stream",
     "text": [
      "      Name  Age         City\n",
      "0    Alice   25     New York\n",
      "1      Bob   30  Los Angeles\n",
      "2  Charlie   35      Chicago\n",
      "3    David   40      Houston\n"
     ]
    }
   ],
   "source": [
    "import pandas as pd\n",
    "\n",
    "# Create a dictionary \n",
    "data = {\n",
    "    'Name': ['Alice', 'Bob', 'Charlie', 'David'],\n",
    "    'Age': [25, 30, 35, 40],\n",
    "    'City': ['New York', 'Los Angeles', 'Chicago', 'Houston']\n",
    "}\n",
    "\n",
    "# Create DataFrame\n",
    "df = pd.DataFrame(data)\n",
    "\n",
    "# Print the pandas DataFrame\n",
    "print(df)"
   ]
  },
  {
   "cell_type": "markdown",
   "metadata": {},
   "source": [
    "**Series:** On the other hand, a Series is a one-dimensional labeled array capable of holding any data type (e.g., integers, strings, floats, etc.). It is essentially a single column of data with associated index labels. A DataFrame is composed of one or more Series, where each Series represents a column of the DataFrame.\n",
    "\n",
    "**Example:**"
   ]
  },
  {
   "cell_type": "code",
   "execution_count": 12,
   "metadata": {},
   "outputs": [
    {
     "name": "stdout",
     "output_type": "stream",
     "text": [
      "0    25\n",
      "1    30\n",
      "2    35\n",
      "3    40\n",
      "Name: Age, dtype: int64\n"
     ]
    }
   ],
   "source": [
    "import pandas as pd\n",
    "\n",
    "# Create the Pandas Series\n",
    "ages = pd.Series([25, 30, 35, 40], name='Age')\n",
    "\n",
    "# Print the Panda Series\n",
    "print(ages)"
   ]
  },
  {
   "cell_type": "code",
   "execution_count": null,
   "metadata": {},
   "outputs": [],
   "source": []
  },
  {
   "cell_type": "markdown",
   "metadata": {},
   "source": [
    "### Q5. What are some common functions you can use to manipulate data in a Pandas DataFrame? Can you give an example of when you might use one of these functions?"
   ]
  },
  {
   "cell_type": "markdown",
   "metadata": {},
   "source": [
    "There are numerous functions available in pandas for data manipulation in a DataFrame. Some common functions include:\n",
    "\n",
    "1. **`head()` and `tail()`:** These functions allow you to view the first few rows (`head()`) or last few rows (`tail()`) of the DataFrame. They are useful for quickly inspecting the structure and contents of the DataFrame.\n",
    "\n",
    "2. **`info()`:** This function provides a concise summary of the DataFrame, including the data types, number of non-null values, and memory usage. It is helpful for understanding the composition of the DataFrame.\n",
    "\n",
    "3. **`describe()`:** This function generates descriptive statistics for numeric columns in the DataFrame, such as count, mean, standard deviation, minimum, maximum, and quartile values. It provides insights into the distribution and variability of the data.\n",
    "\n",
    "4. **`shape`:** This attribute returns a tuple representing the dimensions of the DataFrame (number of rows, number of columns). It is useful for quickly determining the size of the DataFrame.\n",
    "\n",
    "5. **`loc[]` and `iloc[]`:** These indexing methods allow you to access rows and columns of the DataFrame by label (`loc[]`) or integer position (`iloc[]`). They are useful for selecting specific subsets of data from the DataFrame.\n",
    "\n",
    "6. **`drop()`:** This function allows you to remove rows or columns from the DataFrame based on labels or integer index. It is useful for cleaning or preprocessing the data by eliminating unwanted observations or features.\n",
    "\n",
    "7. **`fillna()`:** This function allows you to fill missing (NaN) values in the DataFrame with specified values or methods, such as a constant value, mean, median, or interpolation. It is helpful for handling missing data before performing analysis or modeling.\n",
    "\n",
    "8. **`groupby()`:** This function enables you to group data in the DataFrame based on one or more columns and perform aggregation operations (e.g., sum, mean, count) within each group. It is useful for generating summary statistics or exploring relationships between variables.\n",
    "\n",
    "9. **`merge()` and `concat()`:** These functions allow you to combine multiple DataFrames either by merging on common columns (`merge()`) or concatenating along a specified axis (`concat()`). They are useful for integrating data from different sources or performing relational operations.\n",
    "\n",
    "10. **`apply()`:** This function allows you to apply a custom function to each element, row, or column of the DataFrame. It is useful for performing element-wise transformations or calculations that are not provided by built-in pandas functions.\n",
    "\n",
    "For example, you might use the `fillna()` function to replace missing values in a DataFrame with the mean value of each column:"
   ]
  },
  {
   "cell_type": "code",
   "execution_count": 13,
   "metadata": {},
   "outputs": [
    {
     "name": "stdout",
     "output_type": "stream",
     "text": [
      "          A         B\n",
      "0  1.000000  5.000000\n",
      "1  2.000000  6.666667\n",
      "2  2.333333  7.000000\n",
      "3  4.000000  8.000000\n"
     ]
    }
   ],
   "source": [
    "import pandas as pd\n",
    "\n",
    "# Create a DataFrame with missing values\n",
    "data = {'A': [1, 2, None, 4],\n",
    "        'B': [5, None, 7, 8]}\n",
    "df = pd.DataFrame(data)\n",
    "\n",
    "# Fill missing values with the mean of each column\n",
    "df_filled = df.fillna(df.mean())\n",
    "\n",
    "print(df_filled)"
   ]
  },
  {
   "cell_type": "markdown",
   "metadata": {},
   "source": [
    "In this example, missing values in columns 'A' and 'B' are filled with the mean values of each respective column. This ensures that the DataFrame is ready for further analysis or modeling without losing too much information due to missing data."
   ]
  },
  {
   "cell_type": "code",
   "execution_count": null,
   "metadata": {},
   "outputs": [],
   "source": []
  },
  {
   "cell_type": "markdown",
   "metadata": {},
   "source": [
    "### Q6. Which of the following is mutable in nature Series, DataFrame, Panel?"
   ]
  },
  {
   "cell_type": "markdown",
   "metadata": {},
   "source": [
    "In pandas, both Series and DataFrame are mutable objects, meaning their contents can be modified after creation. However, Panel objects are considered deprecated in recent versions of pandas and have been replaced by the more flexible and powerful MultiIndex DataFrame.\n",
    "\n",
    "Therefore, the correct answer is:\n",
    "\n",
    "- Series\n",
    "- DataFrame"
   ]
  },
  {
   "cell_type": "code",
   "execution_count": null,
   "metadata": {},
   "outputs": [],
   "source": []
  },
  {
   "cell_type": "markdown",
   "metadata": {},
   "source": [
    "### Q7. Create a DataFrame using multiple Series. Explain with an example."
   ]
  },
  {
   "cell_type": "markdown",
   "metadata": {},
   "source": [
    "To create a DataFrame using multiple Series in pandas, you can pass a dictionary where the keys represent the column names and the values are the Series objects. Each Series will become a column in the resulting DataFrame. \n",
    "\n",
    "**Example:**"
   ]
  },
  {
   "cell_type": "code",
   "execution_count": 14,
   "metadata": {},
   "outputs": [
    {
     "name": "stdout",
     "output_type": "stream",
     "text": [
      "     Name  Age  Gender\n",
      "0   Alice   25  Female\n",
      "1     Bob   30    Male\n",
      "2  Claire   27  Female\n"
     ]
    }
   ],
   "source": [
    "import pandas as pd\n",
    "\n",
    "# Define multiple Series\n",
    "s1 = pd.Series(['Alice', 'Bob', 'Claire'], name='Name')\n",
    "s2 = pd.Series([25, 30, 27], name='Age')\n",
    "s3 = pd.Series(['Female', 'Male', 'Female'], name='Gender')\n",
    "\n",
    "# Create a DataFrame using the Series\n",
    "df = pd.DataFrame({'Name': s1, 'Age': s2, 'Gender': s3})\n",
    "\n",
    "# Print the DataFrame\n",
    "print(df)\n"
   ]
  },
  {
   "cell_type": "markdown",
   "metadata": {},
   "source": [
    "**Note:** The index labels are automatically generated as integers starting from 0, as we did not specify any index labels explicitly."
   ]
  },
  {
   "cell_type": "code",
   "execution_count": null,
   "metadata": {},
   "outputs": [],
   "source": []
  }
 ],
 "metadata": {
  "kernelspec": {
   "display_name": "Python 3",
   "language": "python",
   "name": "python3"
  },
  "language_info": {
   "codemirror_mode": {
    "name": "ipython",
    "version": 3
   },
   "file_extension": ".py",
   "mimetype": "text/x-python",
   "name": "python",
   "nbconvert_exporter": "python",
   "pygments_lexer": "ipython3",
   "version": "3.10.11"
  }
 },
 "nbformat": 4,
 "nbformat_minor": 2
}
