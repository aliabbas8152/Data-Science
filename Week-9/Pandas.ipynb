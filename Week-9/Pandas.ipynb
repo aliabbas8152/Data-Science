{
 "cells": [
  {
   "cell_type": "markdown",
   "metadata": {},
   "source": [
    "# Basics of Pandas"
   ]
  },
  {
   "cell_type": "code",
   "execution_count": null,
   "metadata": {},
   "outputs": [],
   "source": []
  },
  {
   "cell_type": "markdown",
   "metadata": {},
   "source": [
    "Pandas is a powerful and versatile open-source data manipulation and analysis library for Python. It is widely used in data science and machine learning due to its rich data structures and functions designed to make data manipulation and analysis easy and efficient. Here are the basics you need to know about pandas:\n",
    "\n",
    "### Key Features\n",
    "1. **Data Structures**: Pandas provides two primary data structures:\n",
    "   - **Series**: A one-dimensional labeled array capable of holding any data type (integers, strings, floating point numbers, etc.).\n",
    "   - **DataFrame**: A two-dimensional labeled data structure with columns of potentially different types, similar to a spreadsheet or SQL table.\n",
    "\n",
    "2. **Data Alignment**: Automatic alignment of data for operations on data structures, making it easy to manage missing data.\n",
    "\n",
    "3. **Data Cleaning and Preparation**: Functions for handling missing data, removing duplicates, transforming data, and more.\n",
    "\n",
    "4. **Data Aggregation and Grouping**: Powerful group-by functionality to perform split-apply-combine operations on data sets.\n",
    "\n",
    "5. **Time Series Support**: Functions for working with time series data, including date range generation and frequency conversion.\n",
    "\n",
    "6. **Integration with Other Libraries**: Easily integrates with other Python libraries like NumPy, SciPy, Matplotlib, and scikit-learn.\n",
    "\n",
    "### Getting Started with Pandas\n",
    "\n",
    "#### Installation\n",
    "To install pandas, you can use pip:\n",
    "\n",
    "```bash\n",
    "pip install pandas\n",
    "```\n",
    "\n",
    "#### Importing Pandas\n",
    "To use pandas, you need to import it in your Python script:"
   ]
  },
  {
   "cell_type": "code",
   "execution_count": 1,
   "metadata": {},
   "outputs": [],
   "source": [
    "import pandas as pd"
   ]
  },
  {
   "cell_type": "markdown",
   "metadata": {},
   "source": [
    "### Creating Data Structures\n",
    "\n",
    "#### Creating a Series\n",
    "You can create a Series by passing a list, dictionary, or scalar value:"
   ]
  },
  {
   "cell_type": "code",
   "execution_count": 2,
   "metadata": {},
   "outputs": [
    {
     "name": "stdout",
     "output_type": "stream",
     "text": [
      "0    1.0\n",
      "1    3.0\n",
      "2    5.0\n",
      "3    NaN\n",
      "4    6.0\n",
      "5    8.0\n",
      "dtype: float64\n",
      "a    1\n",
      "b    2\n",
      "c    3\n",
      "dtype: int64\n"
     ]
    }
   ],
   "source": [
    "import pandas as pd\n",
    "import numpy as np\n",
    "\n",
    "# From a list\n",
    "s = pd.Series([1, 3, 5, np.nan, 6, 8])\n",
    "print(s)\n",
    "\n",
    "# From a dictionary\n",
    "data = {'a': 1, 'b': 2, 'c': 3}\n",
    "s = pd.Series(data)\n",
    "print(s)"
   ]
  },
  {
   "cell_type": "code",
   "execution_count": null,
   "metadata": {},
   "outputs": [],
   "source": []
  },
  {
   "cell_type": "markdown",
   "metadata": {},
   "source": [
    "#### Creating a DataFrame\n",
    "You can create a DataFrame by passing a dictionary of lists, a list of dictionaries, or a NumPy array:"
   ]
  },
  {
   "cell_type": "code",
   "execution_count": 3,
   "metadata": {},
   "outputs": [
    {
     "name": "stdout",
     "output_type": "stream",
     "text": [
      "   A  B\n",
      "0  1  5\n",
      "1  2  6\n",
      "2  3  7\n",
      "3  4  8\n",
      "   A   B\n",
      "0  1   2\n",
      "1  5  10\n",
      "   A  B  C\n",
      "0  1  2  3\n",
      "1  4  5  6\n"
     ]
    }
   ],
   "source": [
    "import pandas as pd\n",
    "import numpy as np\n",
    "\n",
    "# From a dictionary of lists\n",
    "data = {'A': [1, 2, 3, 4], 'B': [5, 6, 7, 8]}\n",
    "df = pd.DataFrame(data)\n",
    "print(df)\n",
    "\n",
    "# From a list of dictionaries\n",
    "data = [{'A': 1, 'B': 2}, {'A': 5, 'B': 10}]\n",
    "df = pd.DataFrame(data)\n",
    "print(df)\n",
    "\n",
    "# From a NumPy array\n",
    "data = np.array([[1, 2, 3], [4, 5, 6]])\n",
    "df = pd.DataFrame(data, columns=['A', 'B', 'C'])\n",
    "print(df)"
   ]
  },
  {
   "cell_type": "code",
   "execution_count": null,
   "metadata": {},
   "outputs": [],
   "source": []
  },
  {
   "cell_type": "markdown",
   "metadata": {},
   "source": [
    "### DataFrame Operations\n",
    "\n",
    "#### Viewing Data"
   ]
  },
  {
   "cell_type": "code",
   "execution_count": 4,
   "metadata": {},
   "outputs": [
    {
     "name": "stdout",
     "output_type": "stream",
     "text": [
      "   A  B  C\n",
      "0  1  2  3\n",
      "1  4  5  6\n",
      "   A  B  C\n",
      "0  1  2  3\n",
      "1  4  5  6\n",
      "RangeIndex(start=0, stop=2, step=1)\n",
      "Index(['A', 'B', 'C'], dtype='object')\n",
      "[[1 2 3]\n",
      " [4 5 6]]\n",
      "             A        B        C\n",
      "count  2.00000  2.00000  2.00000\n",
      "mean   2.50000  3.50000  4.50000\n",
      "std    2.12132  2.12132  2.12132\n",
      "min    1.00000  2.00000  3.00000\n",
      "25%    1.75000  2.75000  3.75000\n",
      "50%    2.50000  3.50000  4.50000\n",
      "75%    3.25000  4.25000  5.25000\n",
      "max    4.00000  5.00000  6.00000\n",
      "   0  1\n",
      "A  1  4\n",
      "B  2  5\n",
      "C  3  6\n",
      "   C  B  A\n",
      "0  3  2  1\n",
      "1  6  5  4\n",
      "   A  B  C\n",
      "0  1  2  3\n",
      "1  4  5  6\n"
     ]
    }
   ],
   "source": [
    "# Display the first few rows\n",
    "print(df.head())\n",
    "\n",
    "# Display the last few rows\n",
    "print(df.tail())\n",
    "\n",
    "# Display the DataFrame's index, columns, and values\n",
    "print(df.index)\n",
    "print(df.columns)\n",
    "print(df.values)\n",
    "\n",
    "# Basic statistical details\n",
    "print(df.describe())\n",
    "\n",
    "# Transpose the DataFrame\n",
    "print(df.T)\n",
    "\n",
    "# Sort by index\n",
    "print(df.sort_index(axis=1, ascending=False))\n",
    "\n",
    "# Sort by values\n",
    "print(df.sort_values(by='B'))"
   ]
  },
  {
   "cell_type": "markdown",
   "metadata": {},
   "source": [
    "#### Selection"
   ]
  },
  {
   "cell_type": "code",
   "execution_count": 5,
   "metadata": {},
   "outputs": [
    {
     "name": "stdout",
     "output_type": "stream",
     "text": [
      "0    1\n",
      "1    4\n",
      "Name: A, dtype: int32\n",
      "   A  B  C\n",
      "0  1  2  3\n",
      "1  4  5  6\n",
      "A    1\n",
      "B    2\n",
      "C    3\n",
      "Name: 0, dtype: int32\n",
      "A    1\n",
      "B    2\n",
      "C    3\n",
      "Name: 0, dtype: int32\n",
      "   A  B  C\n",
      "1  4  5  6\n"
     ]
    }
   ],
   "source": [
    "# Selecting a single column\n",
    "print(df['A'])\n",
    "\n",
    "# Selecting by row index\n",
    "print(df[0:3])\n",
    "\n",
    "# Selecting by label\n",
    "print(df.loc[0])\n",
    "\n",
    "# Selecting by position\n",
    "print(df.iloc[0])\n",
    "\n",
    "# Boolean indexing\n",
    "print(df[df['A'] > 2])"
   ]
  },
  {
   "cell_type": "code",
   "execution_count": null,
   "metadata": {},
   "outputs": [],
   "source": []
  },
  {
   "cell_type": "markdown",
   "metadata": {},
   "source": [
    "### Handling Missing Data"
   ]
  },
  {
   "cell_type": "code",
   "execution_count": 6,
   "metadata": {},
   "outputs": [
    {
     "name": "stdout",
     "output_type": "stream",
     "text": [
      "       A      B      C\n",
      "0  False  False  False\n",
      "1  False  False  False\n"
     ]
    },
    {
     "data": {
      "text/html": [
       "<div>\n",
       "<style scoped>\n",
       "    .dataframe tbody tr th:only-of-type {\n",
       "        vertical-align: middle;\n",
       "    }\n",
       "\n",
       "    .dataframe tbody tr th {\n",
       "        vertical-align: top;\n",
       "    }\n",
       "\n",
       "    .dataframe thead th {\n",
       "        text-align: right;\n",
       "    }\n",
       "</style>\n",
       "<table border=\"1\" class=\"dataframe\">\n",
       "  <thead>\n",
       "    <tr style=\"text-align: right;\">\n",
       "      <th></th>\n",
       "      <th>A</th>\n",
       "      <th>B</th>\n",
       "      <th>C</th>\n",
       "    </tr>\n",
       "  </thead>\n",
       "  <tbody>\n",
       "    <tr>\n",
       "      <th>0</th>\n",
       "      <td>1</td>\n",
       "      <td>2</td>\n",
       "      <td>3</td>\n",
       "    </tr>\n",
       "    <tr>\n",
       "      <th>1</th>\n",
       "      <td>4</td>\n",
       "      <td>5</td>\n",
       "      <td>6</td>\n",
       "    </tr>\n",
       "  </tbody>\n",
       "</table>\n",
       "</div>"
      ],
      "text/plain": [
       "   A  B  C\n",
       "0  1  2  3\n",
       "1  4  5  6"
      ]
     },
     "execution_count": 6,
     "metadata": {},
     "output_type": "execute_result"
    }
   ],
   "source": [
    "# Detect missing values\n",
    "print(df.isna())\n",
    "\n",
    "# Drop rows with missing values\n",
    "df.dropna()\n",
    "\n",
    "# Fill missing values\n",
    "df.fillna(value=5)"
   ]
  },
  {
   "cell_type": "markdown",
   "metadata": {},
   "source": [
    "### Grouping"
   ]
  },
  {
   "cell_type": "code",
   "execution_count": 7,
   "metadata": {},
   "outputs": [
    {
     "name": "stdout",
     "output_type": "stream",
     "text": [
      "   B  C\n",
      "A      \n",
      "1  2  3\n",
      "4  5  6\n"
     ]
    }
   ],
   "source": [
    "# Group by a column and aggregate\n",
    "grouped = df.groupby('A').sum()\n",
    "print(grouped)"
   ]
  },
  {
   "cell_type": "code",
   "execution_count": null,
   "metadata": {},
   "outputs": [],
   "source": []
  },
  {
   "cell_type": "markdown",
   "metadata": {},
   "source": [
    "### Merging and Joining"
   ]
  },
  {
   "cell_type": "code",
   "execution_count": 8,
   "metadata": {},
   "outputs": [
    {
     "name": "stdout",
     "output_type": "stream",
     "text": [
      "    A   B\n",
      "0  A0  B0\n",
      "1  A1  B1\n",
      "2  A2  B2\n",
      "0  A3  B3\n",
      "1  A4  B4\n",
      "2  A5  B5\n",
      "  key   A   B\n",
      "0  K0  A0  B0\n",
      "1  K1  A1  B1\n",
      "2  K2  A2  B2\n"
     ]
    }
   ],
   "source": [
    "# Concatenating DataFrames\n",
    "df1 = pd.DataFrame({'A': ['A0', 'A1', 'A2'], 'B': ['B0', 'B1', 'B2']})\n",
    "df2 = pd.DataFrame({'A': ['A3', 'A4', 'A5'], 'B': ['B3', 'B4', 'B5']})\n",
    "result = pd.concat([df1, df2])\n",
    "print(result)\n",
    "\n",
    "# Merging DataFrames\n",
    "left = pd.DataFrame({'key': ['K0', 'K1', 'K2'], 'A': ['A0', 'A1', 'A2']})\n",
    "right = pd.DataFrame({'key': ['K0', 'K1', 'K2'], 'B': ['B0', 'B1', 'B2']})\n",
    "result = pd.merge(left, right, on='key')\n",
    "print(result)"
   ]
  },
  {
   "cell_type": "code",
   "execution_count": null,
   "metadata": {},
   "outputs": [],
   "source": []
  },
  {
   "cell_type": "markdown",
   "metadata": {},
   "source": [
    "### Input/Output"
   ]
  },
  {
   "cell_type": "code",
   "execution_count": null,
   "metadata": {},
   "outputs": [],
   "source": [
    "# Reading from a CSV file\n",
    "df = pd.read_csv('data.csv')\n",
    "\n",
    "# Writing to a CSV file\n",
    "df.to_csv('output.csv')\n",
    "\n",
    "# Reading from an Excel file\n",
    "df = pd.read_excel('data.xlsx', sheet_name='Sheet1')\n",
    "\n",
    "# Writing to an Excel file\n",
    "df.to_excel('output.xlsx', sheet_name='Sheet1')"
   ]
  },
  {
   "cell_type": "markdown",
   "metadata": {},
   "source": [
    "These are the fundamental concepts and operations in pandas. Mastering these basics will allow you to perform a wide range of data manipulation and analysis tasks."
   ]
  },
  {
   "cell_type": "code",
   "execution_count": null,
   "metadata": {},
   "outputs": [],
   "source": []
  },
  {
   "cell_type": "code",
   "execution_count": null,
   "metadata": {},
   "outputs": [],
   "source": []
  },
  {
   "cell_type": "markdown",
   "metadata": {},
   "source": [
    "Certainly! Let's dive a bit deeper into some additional basic functionalities of pandas that are frequently used in data analysis.\n",
    "\n",
    "### Advanced DataFrame Operations\n",
    "\n",
    "#### Column Operations\n",
    "You can add, modify, and delete columns in a DataFrame easily.\n",
    "```python\n",
    "# Add a new column\n",
    "df['C'] = df['A'] + df['B']\n",
    "\n",
    "# Modify an existing column\n",
    "df['A'] = df['A'] * 2\n",
    "\n",
    "# Delete a column\n",
    "df = df.drop('C', axis=1)\n",
    "```\n",
    "\n",
    "#### Renaming\n",
    "You can rename the columns or the index of a DataFrame.\n",
    "```python\n",
    "# Rename columns\n",
    "df = df.rename(columns={'A': 'Alpha', 'B': 'Beta'})\n",
    "\n",
    "# Rename index\n",
    "df = df.rename(index={0: 'first', 1: 'second'})\n",
    "```\n",
    "\n",
    "#### Setting and Resetting Index\n",
    "You can set a column as the index of a DataFrame and reset it back to default integer index.\n",
    "```python\n",
    "# Set a column as index\n",
    "df = df.set_index('Alpha')\n",
    "\n",
    "# Reset index\n",
    "df = df.reset_index()\n",
    "```\n",
    "\n",
    "### DataFrame Methods\n",
    "\n",
    "#### Apply Method\n",
    "The `apply` method allows you to apply a function along an axis of the DataFrame.\n",
    "```python\n",
    "# Applying a function to each column\n",
    "df.apply(np.sqrt)\n",
    "\n",
    "# Applying a function to each row\n",
    "df.apply(lambda x: x.max() - x.min(), axis=1)\n",
    "```\n",
    "\n",
    "#### Applymap Method\n",
    "The `applymap` method applies a function to each element of the DataFrame.\n",
    "```python\n",
    "# Applying a function to each element\n",
    "df.applymap(lambda x: x * 2)\n",
    "```\n",
    "\n",
    "#### Map Method\n",
    "The `map` method is used for element-wise operations on Series.\n",
    "```python\n",
    "# Mapping a function to a Series\n",
    "df['Alpha'] = df['Alpha'].map(lambda x: x * 2)\n",
    "```\n",
    "\n",
    "### Handling Duplicates\n",
    "Pandas provides methods to handle duplicate data in your DataFrame.\n",
    "```python\n",
    "# Detecting duplicates\n",
    "df.duplicated()\n",
    "\n",
    "# Removing duplicates\n",
    "df = df.drop_duplicates()\n",
    "```\n",
    "\n",
    "### Combining DataFrames\n",
    "Besides `concat` and `merge`, there are other ways to combine DataFrames.\n",
    "\n",
    "#### Join Method\n",
    "The `join` method is useful for combining DataFrames with a shared index.\n",
    "```python\n",
    "df1 = pd.DataFrame({'A': ['A0', 'A1', 'A2']}, index=['K0', 'K1', 'K2'])\n",
    "df2 = pd.DataFrame({'B': ['B0', 'B1', 'B2']}, index=['K0', 'K1', 'K2'])\n",
    "result = df1.join(df2)\n",
    "print(result)\n",
    "```\n",
    "\n",
    "### Pivot Tables\n",
    "Pivot tables are useful for summarizing data.\n",
    "```python\n",
    "# Creating a pivot table\n",
    "pivot_df = df.pivot_table(values='B', index='A', columns='C', aggfunc=np.mean)\n",
    "print(pivot_df)\n",
    "```\n",
    "\n",
    "### Working with Time Series Data\n",
    "Pandas has strong support for working with time series data.\n",
    "\n",
    "#### Date Range Generation\n",
    "```python\n",
    "# Generating a date range\n",
    "dates = pd.date_range('20230101', periods=6)\n",
    "print(dates)\n",
    "```\n",
    "\n",
    "#### Converting to Datetime\n",
    "```python\n",
    "# Converting a column to datetime\n",
    "df['date'] = pd.to_datetime(df['date'])\n",
    "```\n",
    "\n",
    "#### Resampling\n",
    "Resampling is used to convert a time series from one frequency to another.\n",
    "```python\n",
    "# Resampling to monthly frequency\n",
    "df.set_index('date').resample('M').sum()\n",
    "```\n",
    "\n",
    "### Data Input/Output (continued)\n",
    "In addition to CSV and Excel, pandas can read and write to a variety of formats.\n",
    "\n",
    "#### Reading and Writing JSON\n",
    "```python\n",
    "# Reading from a JSON file\n",
    "df = pd.read_json('data.json')\n",
    "\n",
    "# Writing to a JSON file\n",
    "df.to_json('output.json')\n",
    "```\n",
    "\n",
    "#### Reading and Writing SQL\n",
    "You can read from and write to SQL databases using pandas.\n",
    "```python\n",
    "from sqlalchemy import create_engine\n",
    "\n",
    "# Create an engine\n",
    "engine = create_engine('sqlite:///:memory:')\n",
    "\n",
    "# Write to SQL\n",
    "df.to_sql('table_name', engine)\n",
    "\n",
    "# Read from SQL\n",
    "df = pd.read_sql('table_name', engine)\n",
    "```\n",
    "\n",
    "### Visualization\n",
    "Pandas integrates with Matplotlib for data visualization.\n",
    "```python\n",
    "import matplotlib.pyplot as plt\n",
    "\n",
    "# Simple line plot\n",
    "df.plot()\n",
    "plt.show()\n",
    "\n",
    "# Bar plot\n",
    "df.plot(kind='bar')\n",
    "plt.show()\n",
    "```\n",
    "\n",
    "### Best Practices\n",
    "1. **Use Vectorized Operations**: Avoid looping through rows and columns. Instead, use vectorized operations for better performance.\n",
    "2. **Understand Data Types**: Know the data types of your columns and convert them if necessary for better performance and memory usage.\n",
    "3. **Chain Methods**: Pandas methods can often be chained together for cleaner and more readable code.\n",
    "\n",
    "By mastering these additional basics, you'll be well-equipped to handle a wide range of data manipulation and analysis tasks using pandas."
   ]
  },
  {
   "cell_type": "code",
   "execution_count": null,
   "metadata": {},
   "outputs": [],
   "source": []
  }
 ],
 "metadata": {
  "kernelspec": {
   "display_name": "Python 3",
   "language": "python",
   "name": "python3"
  },
  "language_info": {
   "codemirror_mode": {
    "name": "ipython",
    "version": 3
   },
   "file_extension": ".py",
   "mimetype": "text/x-python",
   "name": "python",
   "nbconvert_exporter": "python",
   "pygments_lexer": "ipython3",
   "version": "3.10.11"
  }
 },
 "nbformat": 4,
 "nbformat_minor": 2
}
