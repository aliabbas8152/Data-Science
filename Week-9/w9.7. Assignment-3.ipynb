{
 "cells": [
  {
   "cell_type": "markdown",
   "metadata": {},
   "source": [
    "# Pandas Advance-2"
   ]
  },
  {
   "cell_type": "code",
   "execution_count": null,
   "metadata": {},
   "outputs": [],
   "source": []
  },
  {
   "cell_type": "markdown",
   "metadata": {},
   "source": [
    "### Consider following code to answer further questions:"
   ]
  },
  {
   "cell_type": "code",
   "execution_count": 1,
   "metadata": {},
   "outputs": [],
   "source": [
    "import pandas as pd\n",
    "\n",
    "course_name = ['Data Science', 'Machine Learning', 'Big Data', 'Data Engineer']\n",
    "duration = [2,3,6,4]\n",
    "\n",
    "df = pd.DataFrame(data = {'course_name' : course_name, 'duration' : duration})"
   ]
  },
  {
   "cell_type": "code",
   "execution_count": 2,
   "metadata": {},
   "outputs": [
    {
     "data": {
      "text/html": [
       "<div>\n",
       "<style scoped>\n",
       "    .dataframe tbody tr th:only-of-type {\n",
       "        vertical-align: middle;\n",
       "    }\n",
       "\n",
       "    .dataframe tbody tr th {\n",
       "        vertical-align: top;\n",
       "    }\n",
       "\n",
       "    .dataframe thead th {\n",
       "        text-align: right;\n",
       "    }\n",
       "</style>\n",
       "<table border=\"1\" class=\"dataframe\">\n",
       "  <thead>\n",
       "    <tr style=\"text-align: right;\">\n",
       "      <th></th>\n",
       "      <th>course_name</th>\n",
       "      <th>duration</th>\n",
       "    </tr>\n",
       "  </thead>\n",
       "  <tbody>\n",
       "    <tr>\n",
       "      <th>0</th>\n",
       "      <td>Data Science</td>\n",
       "      <td>2</td>\n",
       "    </tr>\n",
       "    <tr>\n",
       "      <th>1</th>\n",
       "      <td>Machine Learning</td>\n",
       "      <td>3</td>\n",
       "    </tr>\n",
       "    <tr>\n",
       "      <th>2</th>\n",
       "      <td>Big Data</td>\n",
       "      <td>6</td>\n",
       "    </tr>\n",
       "    <tr>\n",
       "      <th>3</th>\n",
       "      <td>Data Engineer</td>\n",
       "      <td>4</td>\n",
       "    </tr>\n",
       "  </tbody>\n",
       "</table>\n",
       "</div>"
      ],
      "text/plain": [
       "        course_name  duration\n",
       "0      Data Science         2\n",
       "1  Machine Learning         3\n",
       "2          Big Data         6\n",
       "3     Data Engineer         4"
      ]
     },
     "execution_count": 2,
     "metadata": {},
     "output_type": "execute_result"
    }
   ],
   "source": [
    "df"
   ]
  },
  {
   "cell_type": "code",
   "execution_count": null,
   "metadata": {},
   "outputs": [],
   "source": []
  },
  {
   "cell_type": "markdown",
   "metadata": {},
   "source": [
    "### Q1. Write a code to print the data present in the second row of the dataframe, df."
   ]
  },
  {
   "cell_type": "code",
   "execution_count": 3,
   "metadata": {},
   "outputs": [
    {
     "name": "stdout",
     "output_type": "stream",
     "text": [
      "course_name    Machine Learning\n",
      "duration                      3\n",
      "Name: 1, dtype: object\n"
     ]
    }
   ],
   "source": [
    "# Print the data present in the second row\n",
    "second_row = df.iloc[1]  \n",
    "print(second_row)"
   ]
  },
  {
   "cell_type": "code",
   "execution_count": null,
   "metadata": {},
   "outputs": [],
   "source": []
  },
  {
   "cell_type": "markdown",
   "metadata": {},
   "source": [
    "### Q2. What is the difference between the functions loc and iloc in pandas.DataFrame?"
   ]
  },
  {
   "cell_type": "markdown",
   "metadata": {},
   "source": [
    "In pandas, `loc` and `iloc` are two methods used for accessing data in a DataFrame, but they operate differently and are used for different types of indexing. Here's a detailed explanation of the differences between them:\n",
    "\n",
    "### `loc`\n",
    "\n",
    "- **Label-based indexing**: The `loc` function is used for accessing a group of rows and columns by labels or a boolean array.\n",
    "- **Inclusive**: When slicing, `loc` includes both the start and the stop labels.\n",
    "- **Usage**: It is primarily used when you need to select rows and columns by their labels (names).\n",
    "\n",
    "#### Example:"
   ]
  },
  {
   "cell_type": "code",
   "execution_count": 4,
   "metadata": {},
   "outputs": [
    {
     "name": "stdout",
     "output_type": "stream",
     "text": [
      "course_name    Machine Learning\n",
      "duration                      3\n",
      "Name: 1, dtype: object\n",
      "        course_name  duration\n",
      "1  Machine Learning         3\n",
      "2          Big Data         6\n",
      "3     Data Engineer         4\n"
     ]
    }
   ],
   "source": [
    "import pandas as pd\n",
    "\n",
    "data = {\n",
    "    'course_name': ['Data Science', 'Machine Learning', 'Big Data', 'Data Engineer'],\n",
    "    'duration': [2, 3, 6, 4]\n",
    "}\n",
    "df = pd.DataFrame(data)\n",
    "\n",
    "# Access rows by labels (here using row indices as labels)\n",
    "print(df.loc[1])  # Access the row with label 1\n",
    "print(df.loc[1:3])  # Access rows with labels from 1 to 3 (inclusive)"
   ]
  },
  {
   "cell_type": "markdown",
   "metadata": {},
   "source": [
    "### `iloc`\n",
    "\n",
    "- **Integer-based indexing**: The `iloc` function is used for accessing a group of rows and columns by integer position (similar to numpy indexing).\n",
    "- **Exclusive**: When slicing, `iloc` does not include the stop index.\n",
    "- **Usage**: It is primarily used when you need to select rows and columns by their integer location (position).\n",
    "\n",
    "#### Example:"
   ]
  },
  {
   "cell_type": "code",
   "execution_count": 5,
   "metadata": {},
   "outputs": [
    {
     "name": "stdout",
     "output_type": "stream",
     "text": [
      "course_name    Machine Learning\n",
      "duration                      3\n",
      "Name: 1, dtype: object\n",
      "        course_name  duration\n",
      "1  Machine Learning         3\n",
      "2          Big Data         6\n"
     ]
    }
   ],
   "source": [
    "import pandas as pd\n",
    "\n",
    "data = {\n",
    "    'course_name': ['Data Science', 'Machine Learning', 'Big Data', 'Data Engineer'],\n",
    "    'duration': [2, 3, 6, 4]\n",
    "}\n",
    "df = pd.DataFrame(data)\n",
    "\n",
    "# Access rows by integer position\n",
    "print(df.iloc[1])  # Access the second row (index 1)\n",
    "print(df.iloc[1:3])  # Access rows from position 1 to 3 (3 is exclusive)"
   ]
  },
  {
   "cell_type": "markdown",
   "metadata": {},
   "source": [
    "### Summary of Differences\n",
    "\n",
    "| Feature          | `loc`                                      | `iloc`                                |\n",
    "|------------------|--------------------------------------------|---------------------------------------|\n",
    "| Type of Indexing | Label-based                                | Integer-based                         |\n",
    "| Inclusion        | Includes both start and stop labels        | Stop index is exclusive               |\n",
    "| Usage            | Select by row/column labels (names)        | Select by row/column positions (integers) |\n",
    "| Example          | `df.loc[1]` (row with label 1)             | `df.iloc[1]` (second row, index 1)    |\n",
    "|                  | `df.loc[1:3]` (rows with labels 1 to 3)    | `df.iloc[1:3]` (rows 1 and 2)         |\n",
    "\n",
    "Understanding these differences is crucial for effectively manipulating and accessing data within a pandas DataFrame."
   ]
  },
  {
   "cell_type": "code",
   "execution_count": null,
   "metadata": {},
   "outputs": [],
   "source": []
  },
  {
   "cell_type": "markdown",
   "metadata": {},
   "source": [
    "### Q3. Reindex the given dataframe using a variable, reindex = [3,0,1,2] and store it in the variable, new_df then find the output for both new_df.loc[2] and new_df.iloc[2].\n",
    "\n",
    "### Did you observe any difference in both the outputs? If so then explain it."
   ]
  },
  {
   "cell_type": "code",
   "execution_count": 6,
   "metadata": {},
   "outputs": [],
   "source": [
    "# Reindex the DataFrame\n",
    "reindex = [3, 0, 1, 2]\n",
    "new_df = df.reindex(reindex)"
   ]
  },
  {
   "cell_type": "code",
   "execution_count": 7,
   "metadata": {},
   "outputs": [
    {
     "data": {
      "text/html": [
       "<div>\n",
       "<style scoped>\n",
       "    .dataframe tbody tr th:only-of-type {\n",
       "        vertical-align: middle;\n",
       "    }\n",
       "\n",
       "    .dataframe tbody tr th {\n",
       "        vertical-align: top;\n",
       "    }\n",
       "\n",
       "    .dataframe thead th {\n",
       "        text-align: right;\n",
       "    }\n",
       "</style>\n",
       "<table border=\"1\" class=\"dataframe\">\n",
       "  <thead>\n",
       "    <tr style=\"text-align: right;\">\n",
       "      <th></th>\n",
       "      <th>course_name</th>\n",
       "      <th>duration</th>\n",
       "    </tr>\n",
       "  </thead>\n",
       "  <tbody>\n",
       "    <tr>\n",
       "      <th>3</th>\n",
       "      <td>Data Engineer</td>\n",
       "      <td>4</td>\n",
       "    </tr>\n",
       "    <tr>\n",
       "      <th>0</th>\n",
       "      <td>Data Science</td>\n",
       "      <td>2</td>\n",
       "    </tr>\n",
       "    <tr>\n",
       "      <th>1</th>\n",
       "      <td>Machine Learning</td>\n",
       "      <td>3</td>\n",
       "    </tr>\n",
       "    <tr>\n",
       "      <th>2</th>\n",
       "      <td>Big Data</td>\n",
       "      <td>6</td>\n",
       "    </tr>\n",
       "  </tbody>\n",
       "</table>\n",
       "</div>"
      ],
      "text/plain": [
       "        course_name  duration\n",
       "3     Data Engineer         4\n",
       "0      Data Science         2\n",
       "1  Machine Learning         3\n",
       "2          Big Data         6"
      ]
     },
     "execution_count": 7,
     "metadata": {},
     "output_type": "execute_result"
    }
   ],
   "source": [
    "new_df"
   ]
  },
  {
   "cell_type": "code",
   "execution_count": 8,
   "metadata": {},
   "outputs": [
    {
     "data": {
      "text/plain": [
       "course_name    Big Data\n",
       "duration              6\n",
       "Name: 2, dtype: object"
      ]
     },
     "execution_count": 8,
     "metadata": {},
     "output_type": "execute_result"
    }
   ],
   "source": [
    "# Accessing rows using loc \n",
    "new_df.loc[2]"
   ]
  },
  {
   "cell_type": "code",
   "execution_count": 9,
   "metadata": {},
   "outputs": [
    {
     "data": {
      "text/plain": [
       "course_name    Machine Learning\n",
       "duration                      3\n",
       "Name: 1, dtype: object"
      ]
     },
     "execution_count": 9,
     "metadata": {},
     "output_type": "execute_result"
    }
   ],
   "source": [
    "# Accessing rows using iloc\n",
    "new_df.iloc[2]"
   ]
  },
  {
   "cell_type": "code",
   "execution_count": null,
   "metadata": {},
   "outputs": [],
   "source": []
  },
  {
   "cell_type": "markdown",
   "metadata": {},
   "source": [
    "Yes, there is a difference in the outputs of `new_df.loc[2]` and `new_df.iloc[2]`. This difference arises due to the different indexing methods used by `loc` and `iloc`.\n",
    "\n",
    "### Difference between the `new_df.loc[2]` and `new_df.iloc[2]`\n",
    "\n",
    "#### `new_df.loc[2]`\n",
    "- **Label-based indexing**: `loc` accesses rows based on the DataFrame's index labels.\n",
    "- When the DataFrame is reindexed with `[3, 0, 1, 2]`, the new DataFrame `new_df` has its rows reordered but retains the original index labels.\n",
    "- Therefore, `new_df.loc[2]` retrieves the row where the label is `2`, which corresponds to the original DataFrame's row with index `2`.\n",
    "\n",
    "#### `new_df.iloc[2]`\n",
    "- **Integer-based indexing**: `iloc` accesses rows based on their integer position within the DataFrame.\n",
    "- After reindexing, `new_df.iloc[2]` retrieves the third row (index `2`) in the reindexed DataFrame.\n",
    "- The third row in `new_df` (after reindexing) is the row with the original index `1` from the initial DataFrame.\n",
    "\n",
    "### Summary\n",
    "\n",
    "- **`loc`** accesses data by the original index labels, which remain the same even after reindexing. So `new_df.loc[2]` fetches the row labeled `2` from the original DataFrame.\n",
    "- **`iloc`** accesses data by the new positional order after reindexing. So `new_df.iloc[2]` fetches the third row in the new order, which corresponds to the original DataFrame's row with index `1`.\n",
    "\n",
    "This distinction is crucial when working with reindexed DataFrames, as it determines how data is accessed and manipulated."
   ]
  },
  {
   "cell_type": "code",
   "execution_count": null,
   "metadata": {},
   "outputs": [],
   "source": []
  },
  {
   "cell_type": "markdown",
   "metadata": {},
   "source": [
    "### Consider the below code to answer further questions:"
   ]
  },
  {
   "cell_type": "code",
   "execution_count": 10,
   "metadata": {},
   "outputs": [],
   "source": [
    "import pandas as pd\n",
    "import numpy as np\n",
    "\n",
    "columns = ['column_1', 'column_2', 'column_3', 'column_4', 'column_5', 'column_6']\n",
    "indices = [1,2,3,4,5,6]\n",
    "\n",
    "#Creating a dataframe:\n",
    "df1 = pd.DataFrame(np.random.rand(6,6), columns = columns, index = indices)"
   ]
  },
  {
   "cell_type": "code",
   "execution_count": 11,
   "metadata": {},
   "outputs": [
    {
     "data": {
      "text/html": [
       "<div>\n",
       "<style scoped>\n",
       "    .dataframe tbody tr th:only-of-type {\n",
       "        vertical-align: middle;\n",
       "    }\n",
       "\n",
       "    .dataframe tbody tr th {\n",
       "        vertical-align: top;\n",
       "    }\n",
       "\n",
       "    .dataframe thead th {\n",
       "        text-align: right;\n",
       "    }\n",
       "</style>\n",
       "<table border=\"1\" class=\"dataframe\">\n",
       "  <thead>\n",
       "    <tr style=\"text-align: right;\">\n",
       "      <th></th>\n",
       "      <th>column_1</th>\n",
       "      <th>column_2</th>\n",
       "      <th>column_3</th>\n",
       "      <th>column_4</th>\n",
       "      <th>column_5</th>\n",
       "      <th>column_6</th>\n",
       "    </tr>\n",
       "  </thead>\n",
       "  <tbody>\n",
       "    <tr>\n",
       "      <th>1</th>\n",
       "      <td>0.258387</td>\n",
       "      <td>0.956806</td>\n",
       "      <td>0.788675</td>\n",
       "      <td>0.290290</td>\n",
       "      <td>0.456269</td>\n",
       "      <td>0.266467</td>\n",
       "    </tr>\n",
       "    <tr>\n",
       "      <th>2</th>\n",
       "      <td>0.517488</td>\n",
       "      <td>0.537336</td>\n",
       "      <td>0.755917</td>\n",
       "      <td>0.484624</td>\n",
       "      <td>0.983846</td>\n",
       "      <td>0.581980</td>\n",
       "    </tr>\n",
       "    <tr>\n",
       "      <th>3</th>\n",
       "      <td>0.988600</td>\n",
       "      <td>0.000091</td>\n",
       "      <td>0.707379</td>\n",
       "      <td>0.442343</td>\n",
       "      <td>0.524788</td>\n",
       "      <td>0.890631</td>\n",
       "    </tr>\n",
       "    <tr>\n",
       "      <th>4</th>\n",
       "      <td>0.196124</td>\n",
       "      <td>0.541649</td>\n",
       "      <td>0.138888</td>\n",
       "      <td>0.605881</td>\n",
       "      <td>0.501048</td>\n",
       "      <td>0.717742</td>\n",
       "    </tr>\n",
       "    <tr>\n",
       "      <th>5</th>\n",
       "      <td>0.305511</td>\n",
       "      <td>0.319328</td>\n",
       "      <td>0.463107</td>\n",
       "      <td>0.605374</td>\n",
       "      <td>0.531932</td>\n",
       "      <td>0.793015</td>\n",
       "    </tr>\n",
       "    <tr>\n",
       "      <th>6</th>\n",
       "      <td>0.827138</td>\n",
       "      <td>0.137251</td>\n",
       "      <td>0.234982</td>\n",
       "      <td>0.688302</td>\n",
       "      <td>0.384415</td>\n",
       "      <td>0.003614</td>\n",
       "    </tr>\n",
       "  </tbody>\n",
       "</table>\n",
       "</div>"
      ],
      "text/plain": [
       "   column_1  column_2  column_3  column_4  column_5  column_6\n",
       "1  0.258387  0.956806  0.788675  0.290290  0.456269  0.266467\n",
       "2  0.517488  0.537336  0.755917  0.484624  0.983846  0.581980\n",
       "3  0.988600  0.000091  0.707379  0.442343  0.524788  0.890631\n",
       "4  0.196124  0.541649  0.138888  0.605881  0.501048  0.717742\n",
       "5  0.305511  0.319328  0.463107  0.605374  0.531932  0.793015\n",
       "6  0.827138  0.137251  0.234982  0.688302  0.384415  0.003614"
      ]
     },
     "execution_count": 11,
     "metadata": {},
     "output_type": "execute_result"
    }
   ],
   "source": [
    "df1"
   ]
  },
  {
   "cell_type": "code",
   "execution_count": null,
   "metadata": {},
   "outputs": [],
   "source": []
  },
  {
   "cell_type": "markdown",
   "metadata": {},
   "source": [
    "### Q4. Write a code to find the following statistical measurements for the above dataframe df1:\n",
    "#### (i) mean of each and every column present in the dataframe.\n",
    "#### (ii) standard deviation of column, ‘column_2’"
   ]
  },
  {
   "cell_type": "code",
   "execution_count": 13,
   "metadata": {},
   "outputs": [
    {
     "name": "stdout",
     "output_type": "stream",
     "text": [
      "Mean of each column:\n",
      "column_1    0.515541\n",
      "column_2    0.415410\n",
      "column_3    0.514825\n",
      "column_4    0.519469\n",
      "column_5    0.563716\n",
      "column_6    0.542242\n",
      "dtype: float64\n"
     ]
    }
   ],
   "source": [
    "# (i) Mean of each and every column in the dataframe\n",
    "mean_of_columns = df1.mean()\n",
    "print(\"Mean of each column:\")\n",
    "print(mean_of_columns)"
   ]
  },
  {
   "cell_type": "code",
   "execution_count": 14,
   "metadata": {},
   "outputs": [
    {
     "name": "stdout",
     "output_type": "stream",
     "text": [
      "Standard deviation of 'column_2':\n",
      "0.34146918225222855\n"
     ]
    }
   ],
   "source": [
    "# (ii) Standard deviation of the column 'column_2'\n",
    "std_column_2 = df1['column_2'].std()\n",
    "print(\"Standard deviation of 'column_2':\")\n",
    "print(std_column_2)"
   ]
  },
  {
   "cell_type": "code",
   "execution_count": null,
   "metadata": {},
   "outputs": [],
   "source": []
  },
  {
   "cell_type": "markdown",
   "metadata": {},
   "source": [
    "### Q5. Replace the data present in the second row of column, ‘column_2’ by a string variable then find the mean of column, column_2.\n",
    "\n",
    "### If you are getting errors in executing it then explain why.\n",
    "\n",
    "#### [Hint: To replace the data use df1.loc[] and equate this to string data of your choice.]"
   ]
  },
  {
   "cell_type": "code",
   "execution_count": 15,
   "metadata": {},
   "outputs": [
    {
     "name": "stderr",
     "output_type": "stream",
     "text": [
      "C:\\Users\\aliab\\AppData\\Local\\Temp\\ipykernel_26252\\2132056084.py:2: FutureWarning: Setting an item of incompatible dtype is deprecated and will raise in a future error of pandas. Value 'string_value' has dtype incompatible with float64, please explicitly cast to a compatible dtype first.\n",
      "  df1.loc[2, 'column_2'] = 'string_value'\n"
     ]
    }
   ],
   "source": [
    "# Replacing the data in the second row of 'column_2' with a string\n",
    "df1.loc[2, 'column_2'] = 'string_value'"
   ]
  },
  {
   "cell_type": "code",
   "execution_count": 16,
   "metadata": {},
   "outputs": [
    {
     "name": "stdout",
     "output_type": "stream",
     "text": [
      "Error: unsupported operand type(s) for +: 'float' and 'str'\n"
     ]
    }
   ],
   "source": [
    "# Attempting to find the mean of 'column_2'\n",
    "try:\n",
    "    mean_column_2 = df1['column_2'].mean()\n",
    "    print(\"Mean of 'column_2':\", mean_column_2)\n",
    "except Exception as e:\n",
    "    print(\"Error:\", e)"
   ]
  },
  {
   "cell_type": "markdown",
   "metadata": {},
   "source": [
    "**Explanation of the Error:**\n",
    "The error message indicates that pandas tried to convert the entire column to a numeric type in order to calculate the mean, but it failed because of the presence of the string 'string_value'.\n",
    "\n",
    "Pandas cannot compute the mean of a column containing non-numeric data. If you need to calculate the mean, you must ensure that all the values in the column are numeric."
   ]
  },
  {
   "cell_type": "code",
   "execution_count": null,
   "metadata": {},
   "outputs": [],
   "source": []
  },
  {
   "cell_type": "markdown",
   "metadata": {},
   "source": [
    "### Q6. What do you understand about the windows function in pandas and list the types of windows functions?"
   ]
  },
  {
   "cell_type": "markdown",
   "metadata": {},
   "source": [
    "In pandas, the window functions are used for performing operations on a rolling window of observations. These functions are useful for time series data and other sequential data where you need to compute statistics over a window of values.\n",
    "\n",
    "### Understanding Window Functions\n",
    "\n",
    "Window functions allow you to calculate values over a sliding window of time or rows, providing a way to aggregate and analyze data over a specifiee d range. They are particularly helpful for time series analysis, smoothing data, and performing moving calculations like averages, sums, and more.\n",
    "\n",
    "### Types of Window Functions\n",
    "\n",
    "1. **Rolling Window**: This applies a function over a sliding window of a specified size. For example, you might calculate a moving average or moving sum.\n",
    "   - `rolling()`\n",
    "   - `Rolling.mean()`, `Rolling.sum()`, `Rolling.max()`, etc."
   ]
  },
  {
   "cell_type": "code",
   "execution_count": 17,
   "metadata": {},
   "outputs": [
    {
     "name": "stdout",
     "output_type": "stream",
     "text": [
      "   value  rolling_mean\n",
      "0      1           NaN\n",
      "1      2           NaN\n",
      "2      3           2.0\n",
      "3      4           3.0\n",
      "4      5           4.0\n",
      "5      6           5.0\n",
      "6      7           6.0\n",
      "7      8           7.0\n",
      "8      9           8.0\n",
      "9     10           9.0\n"
     ]
    }
   ],
   "source": [
    "import pandas as pd\n",
    "\n",
    "# data\n",
    "data = {'value': [1, 2, 3, 4, 5, 6, 7, 8, 9, 10]}\n",
    "df = pd.DataFrame(data)\n",
    "\n",
    "# Rolling window with window size of 3\n",
    "df['rolling_mean'] = df['value'].rolling(window=3).mean()\n",
    "print(df)"
   ]
  },
  {
   "cell_type": "markdown",
   "metadata": {},
   "source": [
    "2. **Expanding Window**: This applies a function over an expanding window starting from the beginning of the dataset up to the current point. Each point in the dataset will include all previous points in its calculation.\n",
    "   - `expanding()`\n",
    "   - `Expanding.mean()`, `Expanding.sum()`, `Expanding.max()`, etc."
   ]
  },
  {
   "cell_type": "code",
   "execution_count": 18,
   "metadata": {},
   "outputs": [
    {
     "name": "stdout",
     "output_type": "stream",
     "text": [
      "   value  rolling_mean  expanding_mean\n",
      "0      1           NaN             1.0\n",
      "1      2           NaN             1.5\n",
      "2      3           2.0             2.0\n",
      "3      4           3.0             2.5\n",
      "4      5           4.0             3.0\n",
      "5      6           5.0             3.5\n",
      "6      7           6.0             4.0\n",
      "7      8           7.0             4.5\n",
      "8      9           8.0             5.0\n",
      "9     10           9.0             5.5\n"
     ]
    }
   ],
   "source": [
    "# Expanding window\n",
    "df['expanding_mean'] = df['value'].expanding(min_periods=1).mean()\n",
    "print(df)"
   ]
  },
  {
   "cell_type": "markdown",
   "metadata": {},
   "source": [
    "3. **Exponentially Weighted Window**: This applies a function over an exponentially weighted window, where more recent observations have more weight.\n",
    "   - `ewm()`\n",
    "   - `EWM.mean()`, `EWM.sum()`, `EWM.std()`, etc."
   ]
  },
  {
   "cell_type": "code",
   "execution_count": 19,
   "metadata": {},
   "outputs": [
    {
     "name": "stdout",
     "output_type": "stream",
     "text": [
      "   value  rolling_mean  expanding_mean  ewm_mean\n",
      "0      1           NaN             1.0  1.000000\n",
      "1      2           NaN             1.5  1.500000\n",
      "2      3           2.0             2.0  2.250000\n",
      "3      4           3.0             2.5  3.125000\n",
      "4      5           4.0             3.0  4.062500\n",
      "5      6           5.0             3.5  5.031250\n",
      "6      7           6.0             4.0  6.015625\n",
      "7      8           7.0             4.5  7.007812\n",
      "8      9           8.0             5.0  8.003906\n",
      "9     10           9.0             5.5  9.001953\n"
     ]
    }
   ],
   "source": [
    "# Exponentially weighted window\n",
    "df['ewm_mean'] = df['value'].ewm(span=3, adjust=False).mean()\n",
    "print(df)"
   ]
  },
  {
   "cell_type": "markdown",
   "metadata": {},
   "source": [
    "### Conclusion\n",
    "\n",
    "Window functions in pandas are powerful tools for time series and sequential data analysis. They provide various ways to calculate moving statistics, smoothing data, and analyzing trends over time. Understanding and using these functions can greatly enhance your data analysis capabilities."
   ]
  },
  {
   "cell_type": "code",
   "execution_count": null,
   "metadata": {},
   "outputs": [],
   "source": []
  },
  {
   "cell_type": "markdown",
   "metadata": {},
   "source": [
    "### Q7. Write a code to print only the current month and year at the time of answering this question.  [Hint: Use pandas.datetime function]"
   ]
  },
  {
   "cell_type": "code",
   "execution_count": 21,
   "metadata": {},
   "outputs": [
    {
     "name": "stdout",
     "output_type": "stream",
     "text": [
      "Current Month: 6\n",
      "Current Year: 2024\n"
     ]
    }
   ],
   "source": [
    "# Get the current date and time\n",
    "current_datetime = pd.Timestamp.now()\n",
    "\n",
    "# Extract the current month and year\n",
    "current_month = current_datetime.month\n",
    "current_year = current_datetime.year\n",
    "\n",
    "print(f\"Current Month: {current_month}\")\n",
    "print(f\"Current Year: {current_year}\")"
   ]
  },
  {
   "cell_type": "code",
   "execution_count": null,
   "metadata": {},
   "outputs": [],
   "source": []
  },
  {
   "cell_type": "markdown",
   "metadata": {},
   "source": [
    "### Q8. Write a Python program that takes in two dates as input (in the format YYYY-MM-DD) and calculates the difference between them in days, hours, and minutes using Pandas time delta. The program should prompt the user to enter the dates and display the result."
   ]
  },
  {
   "cell_type": "code",
   "execution_count": 24,
   "metadata": {},
   "outputs": [
    {
     "name": "stdout",
     "output_type": "stream",
     "text": [
      "Difference betwween 1999-06-19 and 2024-06-01 is: 9114 days, 0 hours, and 0 minutes\n"
     ]
    }
   ],
   "source": [
    "import pandas as pd\n",
    "\n",
    "# Function to calculate the difference between two dates\n",
    "def date_difference(date1, date2):\n",
    "    # Convert strings to datetime\n",
    "    datetime1 = pd.to_datetime(date1)\n",
    "    datetime2 = pd.to_datetime(date2)\n",
    "    \n",
    "    # Calculate the difference using Timedelta\n",
    "    time_difference = pd.Timedelta(datetime2 - datetime1)\n",
    "    \n",
    "    # Extract days, hours, and minutes from the difference\n",
    "    days = time_difference.days\n",
    "    hours = time_difference.components.hours\n",
    "    minutes = time_difference.components.minutes\n",
    "    \n",
    "    return days, hours, minutes\n",
    "\n",
    "# Prompt the user to enter two dates\n",
    "date1 = input(\"Enter the first date (YYYY-MM-DD): \")\n",
    "date2 = input(\"Enter the second date (YYYY-MM-DD): \")\n",
    "\n",
    "# Calculate the difference\n",
    "days, hours, minutes = date_difference(date1, date2)\n",
    "\n",
    "# Display the result\n",
    "print(f\"Difference betwween {date1} and {date2} is: {days} days, {hours} hours, and {minutes} minutes\")"
   ]
  },
  {
   "cell_type": "code",
   "execution_count": null,
   "metadata": {},
   "outputs": [],
   "source": []
  },
  {
   "cell_type": "markdown",
   "metadata": {},
   "source": [
    "### Q9. Write a Python program that reads a CSV file containing categorical data and converts a specified column to a categorical data type. The program should prompt the user to enter the file path, column name, and category order, and then display the sorted data."
   ]
  },
  {
   "cell_type": "code",
   "execution_count": 28,
   "metadata": {},
   "outputs": [
    {
     "name": "stdout",
     "output_type": "stream",
     "text": [
      "Sorted Data:\n",
      "                                              MSA ViolentCrime  Murder  Rape  \\\n",
      "2                               Albany, GA M.S.A.        667.9     7.8  30.4   \n",
      "3                               Albany, OR M.S.A.        114.3     2.5  28.2   \n",
      "0                              Abilene, TX M.S.A.        412.5     5.3  56.0   \n",
      "1                                Akron, OH M.S.A.        238.4     5.1  38.2   \n",
      "4                          Albuquerque, NM M.S.A.        792.6     6.1  63.8   \n",
      "..                                            ...          ...     ...   ...   \n",
      "373                   Guayama, Puerto Rico M.S.A.        251.6    11.4   6.3   \n",
      "374                  Mayaguez, Puerto Rico M.S.A.        237.5    11.5   5.2   \n",
      "375                     Ponce, Puerto Rico M.S.A.        231.4    18.0   5.0   \n",
      "376                San German, Puerto Rico M.S.A.         92.1     5.4   4.6   \n",
      "377  San Juan-Carolina-Caguas, Puerto Rico M.S.A.        262.0    20.6   4.9   \n",
      "\n",
      "     Robbery  AggravatedAssault PropertyCrime Burglary    Theft  \\\n",
      "2      157.9              471.8       3,894.1  1,099.6  2,652.8   \n",
      "3       20.7               63.0       3,208.4    484.6  2,476.1   \n",
      "0       78.4              272.8       3,609.0    852.0  2,493.6   \n",
      "1       75.2              119.8       2,552.4    575.3  1,853.0   \n",
      "4      206.7              516.0       4,607.8    883.4  3,047.6   \n",
      "..       ...                ...           ...      ...      ...   \n",
      "373     74.6              159.3         823.2    265.5    531.1   \n",
      "374     82.3              138.6       1,320.0    377.1    861.6   \n",
      "375     66.2              142.2         885.0    214.4    632.4   \n",
      "376     16.1               66.0         420.0    168.9    226.5   \n",
      "377    157.8               78.7       1,281.2    281.8    835.0   \n",
      "\n",
      "     MotorVehicleTheft                                         State    City  \n",
      "2                141.7                                            GA  Albany  \n",
      "3                247.7                                            OR  Albany  \n",
      "0                263.4                                            TX     NaN  \n",
      "1                124.1                                            OH     NaN  \n",
      "4                676.9                                            NM     NaN  \n",
      "..                 ...                                           ...     ...  \n",
      "373               26.6                   Guayama, Puerto Rico M.S.A.     NaN  \n",
      "374               81.3                  Mayaguez, Puerto Rico M.S.A.     NaN  \n",
      "375               38.1                     Ponce, Puerto Rico M.S.A.     NaN  \n",
      "376               24.6                San German, Puerto Rico M.S.A.     NaN  \n",
      "377              164.3  San Juan-Carolina-Caguas, Puerto Rico M.S.A.     NaN  \n",
      "\n",
      "[378 rows x 12 columns]\n"
     ]
    }
   ],
   "source": [
    "import pandas as pd\n",
    "\n",
    "# Function to read CSV file, convert specified column to categorical type, and display sorted data\n",
    "def process_categorical_data(file_path, column_name, category_order):\n",
    "    # Read CSV file\n",
    "    try:\n",
    "        df = pd.read_csv(file_path)\n",
    "    except FileNotFoundError:\n",
    "        print(\"File not found. Please enter a valid file path.\")\n",
    "        return\n",
    "    \n",
    "    # Convert specified column to categorical type with specified category order\n",
    "    try:\n",
    "        df[column_name] = pd.Categorical(df[column_name], categories=category_order, ordered=True)\n",
    "    except KeyError:\n",
    "        print(\"Column not found. Please enter a valid column name.\")\n",
    "        return\n",
    "    \n",
    "    # Display sorted data\n",
    "    sorted_df = df.sort_values(by=column_name)\n",
    "    print(\"Sorted Data:\")\n",
    "    print(sorted_df)\n",
    "\n",
    "# Prompt user for file path, column name, and category order\n",
    "file_path = input(\"Enter the file path of the CSV file: \")\n",
    "column_name = input(\"Enter the column name to convert to categorical type: \")\n",
    "category_order_str = input(\"Enter the category order (comma-separated): \")\n",
    "category_order = category_order_str.split(\",\")\n",
    "\n",
    "# Call function to process data\n",
    "process_categorical_data(file_path, column_name, category_order)\n"
   ]
  },
  {
   "cell_type": "code",
   "execution_count": null,
   "metadata": {},
   "outputs": [],
   "source": []
  },
  {
   "cell_type": "markdown",
   "metadata": {},
   "source": [
    "### Q10. Write a Python program that reads a CSV file containing sales data for different products and visualizes the data using a stacked bar chart to show the sales of each product category over time. The program should prompt the user to enter the file path and display the chart."
   ]
  },
  {
   "cell_type": "code",
   "execution_count": 29,
   "metadata": {},
   "outputs": [
    {
     "data": {
      "image/png": "[encoded data removed]",
      "text/plain": [
       "<Figure size 1000x600 with 1 Axes>"
      ]
     },
     "metadata": {},
     "output_type": "display_data"
    }
   ],
   "source": [
    "import pandas as pd\n",
    "import matplotlib.pyplot as plt\n",
    "\n",
    "# Function to read CSV file and visualize sales data using a stacked bar chart\n",
    "def visualize_sales_data(file_path):\n",
    "    # Read CSV file\n",
    "    try:\n",
    "        df = pd.read_csv(file_path)\n",
    "    except FileNotFoundError:\n",
    "        print(\"File not found. Please enter a valid file path.\")\n",
    "        return\n",
    "    \n",
    "    # Convert date column to datetime type\n",
    "    df['Date'] = pd.to_datetime(df['Date'])\n",
    "    \n",
    "    # Group data by date and product category, summing the sales\n",
    "    grouped_df = df.groupby(['Date', 'Product_Category'])['Sales'].sum().unstack(fill_value=0)\n",
    "    \n",
    "    # Plot stacked bar chart\n",
    "    grouped_df.plot(kind='bar', stacked=True, figsize=(10, 6))\n",
    "    plt.title('Sales of Each Product Category Over Time')\n",
    "    plt.xlabel('Date')\n",
    "    plt.ylabel('Sales')\n",
    "    plt.xticks(rotation=45)\n",
    "    plt.legend(title='Product Category', bbox_to_anchor=(1.05, 1), loc='upper left')\n",
    "    plt.tight_layout()\n",
    "    plt.show()\n",
    "\n",
    "# Prompt user for file path\n",
    "file_path = input(\"Enter the file path of the CSV file: \")\n",
    "\n",
    "# Call function to visualize sales data\n",
    "visualize_sales_data(file_path)\n"
   ]
  },
  {
   "cell_type": "code",
   "execution_count": null,
   "metadata": {},
   "outputs": [],
   "source": []
  },
  {
   "cell_type": "markdown",
   "metadata": {},
   "source": [
    "### Q11. You are given a CSV file containing student data that includes the student ID and their test score. Write a Python program that reads the CSV file, calculates the mean, median, and mode of the test scores, and displays the results in a table."
   ]
  },
  {
   "cell_type": "code",
   "execution_count": 40,
   "metadata": {},
   "outputs": [
    {
     "name": "stdout",
     "output_type": "stream",
     "text": [
      "+-----------+--------+\n",
      "| Statistic | Value  |\n",
      "+-----------+--------+\n",
      "| Mean      | 83.5   |\n",
      "| Median    | 85.0   |\n",
      "| Mode      | 85     |\n",
      "+-----------+--------+\n"
     ]
    }
   ],
   "source": [
    "import pandas as pd\n",
    "\n",
    "# Function to calculate mean, median, and mode of test scores\n",
    "def calculate_statistics(file_path):\n",
    "    # Read CSV file into DataFrame\n",
    "    try:\n",
    "        df = pd.read_csv(file_path)\n",
    "    except FileNotFoundError:\n",
    "        print(\"File not found. Please enter a valid file path.\")\n",
    "        return\n",
    "    \n",
    "    # Calculate mean, median, and mode\n",
    "    mean = df['Test Score'].mean()\n",
    "    median = df['Test Score'].median()\n",
    "    mode = df['Test Score'].mode().tolist()\n",
    "    \n",
    "    return mean, median, mode\n",
    "\n",
    "# Function to display statistics in a table\n",
    "def display_statistics(mean, median, mode):\n",
    "    print(\"+-----------+--------+\")\n",
    "    print(\"| Statistic | Value  |\")\n",
    "    print(\"+-----------+--------+\")\n",
    "    print(f\"| Mean      | {mean:.1f}   |\")\n",
    "    print(f\"| Median    | {median}   |\")\n",
    "    print(f\"| Mode      | {', '.join(map(str, mode))}     |\")\n",
    "    print(\"+-----------+--------+\")\n",
    "\n",
    "# Prompt user for file path\n",
    "file_path = input(\"Enter the file path of the CSV file containing the student data: \")\n",
    "\n",
    "# Calculate statistics\n",
    "mean, median, mode = calculate_statistics(file_path)\n",
    "\n",
    "# Display statistics\n",
    "display_statistics(mean, median, mode)\n"
   ]
  },
  {
   "cell_type": "code",
   "execution_count": null,
   "metadata": {},
   "outputs": [],
   "source": []
  },
  {
   "cell_type": "code",
   "execution_count": null,
   "metadata": {},
   "outputs": [],
   "source": []
  }
 ],
 "metadata": {
  "kernelspec": {
   "display_name": "Python 3",
   "language": "python",
   "name": "python3"
  },
  "language_info": {
   "codemirror_mode": {
    "name": "ipython",
    "version": 3
   },
   "file_extension": ".py",
   "mimetype": "text/x-python",
   "name": "python",
   "nbconvert_exporter": "python",
   "pygments_lexer": "ipython3",
   "version": "3.10.11"
  }
 },
 "nbformat": 4,
 "nbformat_minor": 2
}
