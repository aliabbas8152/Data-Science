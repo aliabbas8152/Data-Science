{
 "cells": [
  {
   "cell_type": "markdown",
   "metadata": {},
   "source": [
    "# Pandas Advance Assignment"
   ]
  },
  {
   "cell_type": "code",
   "execution_count": null,
   "metadata": {},
   "outputs": [],
   "source": []
  },
  {
   "cell_type": "markdown",
   "metadata": {},
   "source": [
    "### Q1. List any five functions of the pandas library with execution."
   ]
  },
  {
   "cell_type": "markdown",
   "metadata": {},
   "source": [
    "The five common functions in the pandas library, along with examples of their execution: "
   ]
  },
  {
   "cell_type": "code",
   "execution_count": 1,
   "metadata": {},
   "outputs": [],
   "source": [
    "import pandas as pd\n",
    "\n",
    "# DataFrames\n",
    "data1 = {'Name': ['Alice', 'Bob', 'Charlie', 'David', 'Eva'],\n",
    "        'Age': [24, 27, 22, 32, 29],\n",
    "        'City': ['New York', 'Los Angeles', 'Chicago', 'Houston', 'Phoenix']}\n",
    "df1 = pd.DataFrame(data1)\n",
    "\n",
    "data2 = {'Name': ['Alice', 'Bob', 'Charlie', 'David', 'Eva'],\n",
    "        'Salary': [70000, 80000, 50000, 120000, 90000]}\n",
    "df2 = pd.DataFrame(data2)"
   ]
  },
  {
   "cell_type": "markdown",
   "metadata": {},
   "source": [
    "1. **`head()`**: This function is used to return the first n rows of a DataFrame."
   ]
  },
  {
   "cell_type": "code",
   "execution_count": 2,
   "metadata": {},
   "outputs": [
    {
     "name": "stdout",
     "output_type": "stream",
     "text": [
      "      Name  Age         City\n",
      "0    Alice   24     New York\n",
      "1      Bob   27  Los Angeles\n",
      "2  Charlie   22      Chicago\n"
     ]
    }
   ],
   "source": [
    "# Display the first 3 rows of df1\n",
    "print(df1.head(3))"
   ]
  },
  {
   "cell_type": "code",
   "execution_count": null,
   "metadata": {},
   "outputs": [],
   "source": []
  },
  {
   "cell_type": "markdown",
   "metadata": {},
   "source": [
    "2. **`info()`**: This function prints a concise summary of a DataFrame."
   ]
  },
  {
   "cell_type": "code",
   "execution_count": 3,
   "metadata": {},
   "outputs": [
    {
     "name": "stdout",
     "output_type": "stream",
     "text": [
      "<class 'pandas.core.frame.DataFrame'>\n",
      "RangeIndex: 5 entries, 0 to 4\n",
      "Data columns (total 3 columns):\n",
      " #   Column  Non-Null Count  Dtype \n",
      "---  ------  --------------  ----- \n",
      " 0   Name    5 non-null      object\n",
      " 1   Age     5 non-null      int64 \n",
      " 2   City    5 non-null      object\n",
      "dtypes: int64(1), object(2)\n",
      "memory usage: 248.0+ bytes\n"
     ]
    }
   ],
   "source": [
    "# Print concise summary of df1\n",
    "df1.info()"
   ]
  },
  {
   "cell_type": "code",
   "execution_count": null,
   "metadata": {},
   "outputs": [],
   "source": []
  },
  {
   "cell_type": "markdown",
   "metadata": {},
   "source": [
    "3. **`describe()`**: This function generates descriptive statistics of a DataFrame."
   ]
  },
  {
   "cell_type": "code",
   "execution_count": 4,
   "metadata": {},
   "outputs": [
    {
     "name": "stdout",
     "output_type": "stream",
     "text": [
      "             Age\n",
      "count   5.000000\n",
      "mean   26.800000\n",
      "std     3.962323\n",
      "min    22.000000\n",
      "25%    24.000000\n",
      "50%    27.000000\n",
      "75%    29.000000\n",
      "max    32.000000\n"
     ]
    }
   ],
   "source": [
    "# Generate descriptive statistics of df1\n",
    "print(df1.describe())"
   ]
  },
  {
   "cell_type": "code",
   "execution_count": null,
   "metadata": {},
   "outputs": [],
   "source": []
  },
  {
   "cell_type": "markdown",
   "metadata": {},
   "source": [
    "4. **`groupby()`**: This function is used for grouping data and performing aggregate operations."
   ]
  },
  {
   "cell_type": "code",
   "execution_count": 8,
   "metadata": {},
   "outputs": [
    {
     "name": "stdout",
     "output_type": "stream",
     "text": [
      "City\n",
      "Chicago        22.0\n",
      "Houston        32.0\n",
      "Los Angeles    27.0\n",
      "New York       24.0\n",
      "Phoenix        29.0\n",
      "Name: Age, dtype: float64\n"
     ]
    }
   ],
   "source": [
    "# Group by 'City' and calculate mean age\n",
    "grouped_df = df1.groupby('City')['Age'].mean()\n",
    "print(grouped_df)"
   ]
  },
  {
   "cell_type": "code",
   "execution_count": null,
   "metadata": {},
   "outputs": [],
   "source": []
  },
  {
   "cell_type": "markdown",
   "metadata": {},
   "source": [
    "5. **`merge()`**: This function is used to merge two DataFrames based on a key."
   ]
  },
  {
   "cell_type": "code",
   "execution_count": 6,
   "metadata": {},
   "outputs": [
    {
     "name": "stdout",
     "output_type": "stream",
     "text": [
      "      Name  Age         City  Salary\n",
      "0    Alice   24     New York   70000\n",
      "1      Bob   27  Los Angeles   80000\n",
      "2  Charlie   22      Chicago   50000\n",
      "3    David   32      Houston  120000\n",
      "4      Eva   29      Phoenix   90000\n"
     ]
    }
   ],
   "source": [
    "# Merge df1 and df2 on 'Name'\n",
    "merged_df = pd.merge(df1, df2, on='Name')\n",
    "print(merged_df)"
   ]
  },
  {
   "cell_type": "code",
   "execution_count": null,
   "metadata": {},
   "outputs": [],
   "source": []
  },
  {
   "cell_type": "markdown",
   "metadata": {},
   "source": [
    "### Q2. Given a Pandas DataFrame df with columns 'A', 'B', and 'C', write a Python function to re-index the DataFrame with a new index that starts from 1 and increments by 2 for each row."
   ]
  },
  {
   "cell_type": "code",
   "execution_count": 9,
   "metadata": {},
   "outputs": [
    {
     "name": "stdout",
     "output_type": "stream",
     "text": [
      "      Name  Age         City\n",
      "1    Alice   24     New York\n",
      "3      Bob   27  Los Angeles\n",
      "5  Charlie   22      Chicago\n",
      "7    David   32      Houston\n",
      "9      Eva   29      Phoenix\n"
     ]
    }
   ],
   "source": [
    "import pandas as pd\n",
    "\n",
    "def reindex_dataframe(df):\n",
    "    # Create a new index starting from 1 and incrementing by 2\n",
    "    new_index = range(1, 2 * len(df) + 1, 2)\n",
    "    \n",
    "    # Set the new index to the DataFrame\n",
    "    df.index = new_index\n",
    "    \n",
    "    return df\n",
    "\n",
    "# DataFrame\n",
    "data = {'Name': ['Alice', 'Bob', 'Charlie', 'David', 'Eva'],\n",
    "        'Age': [24, 27, 22, 32, 29],\n",
    "        'City': ['New York', 'Los Angeles', 'Chicago', 'Houston', 'Phoenix']}\n",
    "df = pd.DataFrame(data)\n",
    "\n",
    "# Reindex the DataFrame\n",
    "reindexed_df = reindex_dataframe(df)\n",
    "print(reindexed_df)\n"
   ]
  },
  {
   "cell_type": "code",
   "execution_count": null,
   "metadata": {},
   "outputs": [],
   "source": []
  },
  {
   "cell_type": "markdown",
   "metadata": {},
   "source": [
    "### Q3. You have a Pandas DataFrame df with a column named 'Values'. Write a Python function that iterates over the DataFrame and calculates the sum of the first three values in the 'Values' column. The function should print the sum to the console.\n",
    "\n",
    "#### For example, if the 'Values' column of df contains the values [10, 20, 30, 40, 50], your function should calculate and print the sum of the first three values, which is 60."
   ]
  },
  {
   "cell_type": "code",
   "execution_count": 18,
   "metadata": {},
   "outputs": [
    {
     "name": "stdout",
     "output_type": "stream",
     "text": [
      "Sum of the First three Value is: 60\n"
     ]
    }
   ],
   "source": [
    "import pandas as pd\n",
    "\n",
    "def Sum_of_Values(df):\n",
    "    # Find the sum of the 1st three values\n",
    "    sum = df.head(3)['Values'].sum()\n",
    "    \n",
    "    return sum\n",
    "\n",
    "# DataFrame\n",
    "data = {'Name': ['Alice', 'Bob', 'Charlie', 'David', 'Eva'],\n",
    "        'Age': [24, 27, 22, 32, 29],\n",
    "        'City': ['New York', 'Los Angeles', 'Chicago', 'Houston', 'Phoenix'],\n",
    "        'Values': [10,20,30,40,50]\n",
    "        }\n",
    "df = pd.DataFrame(data)\n",
    "\n",
    "# print the DataFrame\n",
    "sum = Sum_of_Values(df)\n",
    "print('Sum of the First three Value is:', sum)\n"
   ]
  },
  {
   "cell_type": "code",
   "execution_count": null,
   "metadata": {},
   "outputs": [],
   "source": []
  },
  {
   "cell_type": "markdown",
   "metadata": {},
   "source": [
    "### Q4. Given a Pandas DataFrame df with a column 'Text', write a Python function to create a new column 'Word_Count' that contains the number of words in each row of the 'Text' column."
   ]
  },
  {
   "cell_type": "code",
   "execution_count": 64,
   "metadata": {},
   "outputs": [
    {
     "name": "stdout",
     "output_type": "stream",
     "text": [
      "                                                Text  Word_Count\n",
      "0  New York City, often called NYC, is the most p...          15\n",
      "1  Los Angeles is the second-most populous city i...          11\n",
      "2      Chicago, often referred to as the Windy City.           8\n",
      "3  Houston boasts a rich cultural scene, with att...          24\n",
      "4  Phoenix, Arizona is the capital and most popul...          15\n"
     ]
    }
   ],
   "source": [
    "import pandas as pd\n",
    "\n",
    "def Word_count(df):\n",
    "    # Using str.split and str.len to count words\n",
    "    df['Word_Count'] = df['Text'].str.split().str.len()\n",
    "    \n",
    "    return df\n",
    "\n",
    "# DataFrame\n",
    "data = {'Text': ['New York City, often called NYC, is the most populous city in the United States.', 'Los Angeles is the second-most populous city in the United States.', 'Chicago, often referred to as the Windy City.', 'Houston boasts a rich cultural scene, with attractions such as the Museum of Fine Arts, the Space Center Houston, and the Sam Houston Monument.', 'Phoenix, Arizona is the capital and most populous city of the U.S. state of Arizona.']}\n",
    "df = pd.DataFrame(data)\n",
    "\n",
    "# print the DataFrame\n",
    "df = Word_count(df)\n",
    "print(df)\n"
   ]
  },
  {
   "cell_type": "code",
   "execution_count": null,
   "metadata": {},
   "outputs": [],
   "source": []
  },
  {
   "cell_type": "markdown",
   "metadata": {},
   "source": [
    "### Q5. How are DataFrame.size() and DataFrame.shape() different?"
   ]
  },
  {
   "cell_type": "markdown",
   "metadata": {},
   "source": [
    "`DataFrame.size` and `DataFrame.shape` are two attributes in pandas that provide information about the dimensions of a DataFrame, but they return different types of information:\n",
    "\n",
    "### `DataFrame.shape`\n",
    "\n",
    "- **Purpose**: Provides the dimensions of the DataFrame.\n",
    "- **Output**: Returns a tuple representing the number of rows and columns in the DataFrame.\n",
    "- **Usage**: Useful for quickly understanding the structure of the DataFrame.\n",
    "\n",
    "#### Example"
   ]
  },
  {
   "cell_type": "code",
   "execution_count": 65,
   "metadata": {},
   "outputs": [
    {
     "name": "stdout",
     "output_type": "stream",
     "text": [
      "(3, 3)\n"
     ]
    }
   ],
   "source": [
    "import pandas as pd\n",
    "\n",
    "data = {'A': [1, 2, 3], 'B': [4, 5, 6], 'C': [7, 8, 9]}\n",
    "df = pd.DataFrame(data)\n",
    "\n",
    "# Get the shape of the DataFrame\n",
    "shape = df.shape\n",
    "print(shape)"
   ]
  },
  {
   "cell_type": "markdown",
   "metadata": {},
   "source": [
    "This output indicates that the DataFrame has 3 rows and 3 columns."
   ]
  },
  {
   "cell_type": "markdown",
   "metadata": {},
   "source": [
    "### `DataFrame.size`\n",
    "\n",
    "- **Purpose**: Provides the total number of elements in the DataFrame.\n",
    "- **Output**: Returns an integer representing the total number of elements (i.e., the product of the number of rows and columns).\n",
    "- **Usage**: Useful for understanding the total amount of data within the DataFrame.\n",
    "\n",
    "#### Example"
   ]
  },
  {
   "cell_type": "code",
   "execution_count": 66,
   "metadata": {},
   "outputs": [
    {
     "name": "stdout",
     "output_type": "stream",
     "text": [
      "9\n"
     ]
    }
   ],
   "source": [
    "import pandas as pd\n",
    "\n",
    "data = {'A': [1, 2, 3], 'B': [4, 5, 6], 'C': [7, 8, 9]}\n",
    "df = pd.DataFrame(data)\n",
    "\n",
    "# Get the size of the DataFrame\n",
    "size = df.size\n",
    "print(size)"
   ]
  },
  {
   "cell_type": "markdown",
   "metadata": {},
   "source": [
    "This output indicates that there are 9 elements in the DataFrame (3 rows * 3 columns)."
   ]
  },
  {
   "cell_type": "markdown",
   "metadata": {},
   "source": [
    "### Summary of Differences\n",
    "- **`DataFrame.shape`**: Returns a tuple (number of rows, number of columns).\n",
    "- **`DataFrame.size`**: Returns an integer (total number of elements).\n",
    "\n",
    "### Use Case Comparison\n",
    "- **Use `DataFrame.shape`** when you need to know the exact dimensions of the DataFrame, such as for reshaping or indexing operations.\n",
    "- **Use `DataFrame.size`** when you need to know the total amount of data, such as for quick sanity checks or understanding the overall data volume."
   ]
  },
  {
   "cell_type": "code",
   "execution_count": null,
   "metadata": {},
   "outputs": [],
   "source": []
  },
  {
   "cell_type": "markdown",
   "metadata": {},
   "source": [
    "### Q6. Which function of pandas do we use to read an excel file?"
   ]
  },
  {
   "cell_type": "markdown",
   "metadata": {},
   "source": [
    "To read an Excel file in pandas, you use the `read_excel` function. This function allows you to import data from an Excel file into a pandas DataFrame.\n",
    "\n",
    "### Syntax\n",
    "```python\n",
    "pandas.read_excel(io, sheet_name=0, header=0, names=None, index_col=None, usecols=None, dtype=None, engine=None, converters=None, true_values=None, false_values=None, skiprows=None, nrows=None, na_values=None, parse_dates=False, date_parser=None, thousands=None, comment=None, skipfooter=0, convert_float=True, mangle_dupe_cols=True, storage_options=None)\n",
    "```\n",
    "\n",
    "### Parameters\n",
    "Some of the commonly used parameters include:\n",
    "- **io**: The file path or object, or URL of the Excel file to be read.\n",
    "- **sheet_name**: The sheet to read. This can be the sheet name (string), sheet index (integer), or a list of sheet names/indices.\n",
    "- **header**: Row number(s) to use as the column names. Defaults to the first row (0).\n",
    "- **names**: List of column names to use.\n",
    "- **index_col**: Column(s) to set as index (row labels).\n",
    "- **usecols**: Return a subset of the columns.\n",
    "- **dtype**: Data type for data or columns.\n",
    "\n",
    "### Example"
   ]
  },
  {
   "cell_type": "code",
   "execution_count": 67,
   "metadata": {},
   "outputs": [
    {
     "name": "stdout",
     "output_type": "stream",
     "text": [
      "      Rk          Player Pos Age   Tm   G  GS    MP   FG  FGA  ...   FT%  ORB  \\\n",
      "0      1      Quincy Acy  PF  24  NYK  68  22  1287  152  331  ...  .784   79   \n",
      "1      2    Jordan Adams  SG  20  MEM  30   0   248   35   86  ...  .609    9   \n",
      "2      3    Steven Adams   C  21  OKC  70  67  1771  217  399  ...  .502  199   \n",
      "3      4     Jeff Adrien  PF  28  MIN  17   0   215   19   44  ...  .579   23   \n",
      "4      5   Arron Afflalo  SG  29  TOT  78  72  2502  375  884  ...  .843   27   \n",
      "..   ...             ...  ..  ..  ...  ..  ..   ...  ...  ...  ...   ...  ...   \n",
      "670  490  Thaddeus Young  PF  26  TOT  76  68  2434  451  968  ...  .655  127   \n",
      "671  490  Thaddeus Young  PF  26  MIN  48  48  1605  289  641  ...  .682   75   \n",
      "672  490  Thaddeus Young  PF  26  BRK  28  20   829  162  327  ...  .606   52   \n",
      "673  491     Cody Zeller   C  22  CHO  62  45  1487  172  373  ...  .774   97   \n",
      "674  492    Tyler Zeller   C  25  BOS  82  59  1731  340  619  ...  .823  146   \n",
      "\n",
      "     DRB  TRB  AST  STL BLK  TOV   PF   PTS  \n",
      "0    222  301   68   27  22   60  147   398  \n",
      "1     19   28   16   16   7   14   24    94  \n",
      "2    324  523   66   38  86   99  222   537  \n",
      "3     54   77   15    4   9    9   30    60  \n",
      "4    220  247  129   41   7  116  167  1035  \n",
      "..   ...  ...  ...  ...  ..  ...  ...   ...  \n",
      "670  284  411  173  124  25  117  171  1071  \n",
      "671  170  245  135   86  17   75  115   685  \n",
      "672  114  166   38   38   8   42   56   386  \n",
      "673  265  362  100   34  49   62  156   472  \n",
      "674  319  465  113   18  52   76  205   833  \n",
      "\n",
      "[675 rows x 30 columns]\n"
     ]
    }
   ],
   "source": [
    "import pandas as pd\n",
    "\n",
    "# Read an Excel file\n",
    "df = pd.read_excel('players.xlsx')\n",
    "\n",
    "# Display the DataFrame\n",
    "print(df)"
   ]
  },
  {
   "cell_type": "code",
   "execution_count": null,
   "metadata": {},
   "outputs": [],
   "source": []
  },
  {
   "cell_type": "markdown",
   "metadata": {},
   "source": [
    "### Q7. You have a Pandas DataFrame df that contains a column named 'Email' that contains email addresses in the format 'username@domain.com'. Write a Python function that creates a new column 'Username' in df that contains only the username part of each email address.\n",
    "\n",
    "#### The username is the part of the email address that appears before the '@' symbol. For example, if the email address is 'john.doe@example.com', the 'Username' column should contain 'john.doe'. Your function should extract the username from each email address and store it in the new 'Username' column."
   ]
  },
  {
   "cell_type": "code",
   "execution_count": 77,
   "metadata": {},
   "outputs": [
    {
     "name": "stdout",
     "output_type": "stream",
     "text": [
      "                                 Email         Username\n",
      "0                  johndoe@example.com          johndoe\n",
      "1        alice.smith@emailprovider.net      alice.smith\n",
      "2             webmaster@companyxyz.com        webmaster\n",
      "3           marketing@yourbusiness.org        marketing\n",
      "4             support@techhelpdesk.com          support\n",
      "5                  sales@productco.com            sales\n",
      "6            contact@startupventure.io          contact\n",
      "7              info@creativeagency.com             info\n",
      "8                  admin@mywebsite.org            admin\n",
      "9           hrmanager@corporateinc.com        hrmanager\n",
      "10          socialmedia@brandingco.net      socialmedia\n",
      "11           blogeditor@contenthub.org       blogeditor\n",
      "12  customerservice@ecommercestore.com  customerservice\n",
      "13          events@communitycenter.org           events\n",
      "14         freelancer@designstudio.net       freelancer\n",
      "15     newsletter@subscriptionnews.com       newsletter\n",
      "16           techguru@techbloggers.com         techguru\n",
      "17               booklover@library.org        booklover\n",
      "18     traveler@adventureexplorers.net         traveler\n",
      "19        foodie@restaurantreviews.com           foodie\n"
     ]
    }
   ],
   "source": [
    "import pandas as pd\n",
    "\n",
    "def User_names(df):\n",
    "    # Using str.split to extract username \n",
    "    df['Username'] = df['Email'].str.split('@').str[0]\n",
    "\n",
    "    return df\n",
    "\n",
    "# DataFrame\n",
    "data = {'Email': ['johndoe@example.com',\n",
    "    'alice.smith@emailprovider.net',\n",
    "    'webmaster@companyxyz.com',\n",
    "    'marketing@yourbusiness.org',\n",
    "    'support@techhelpdesk.com',\n",
    "    'sales@productco.com',\n",
    "    'contact@startupventure.io',\n",
    "    'info@creativeagency.com',\n",
    "    'admin@mywebsite.org',\n",
    "    'hrmanager@corporateinc.com',\n",
    "    'socialmedia@brandingco.net',\n",
    "    'blogeditor@contenthub.org',\n",
    "    'customerservice@ecommercestore.com',\n",
    "    'events@communitycenter.org',\n",
    "    'freelancer@designstudio.net',\n",
    "    'newsletter@subscriptionnews.com',\n",
    "    'techguru@techbloggers.com',\n",
    "    'booklover@library.org',\n",
    "    'traveler@adventureexplorers.net',\n",
    "    'foodie@restaurantreviews.com']}\n",
    "\n",
    "df = pd.DataFrame(data)\n",
    "\n",
    "# print the DataFrame\n",
    "df = User_names(df)\n",
    "print(df)\n"
   ]
  },
  {
   "cell_type": "code",
   "execution_count": null,
   "metadata": {},
   "outputs": [],
   "source": []
  },
  {
   "cell_type": "markdown",
   "metadata": {},
   "source": [
    "### Q8. You have a Pandas DataFrame df with columns 'A', 'B', and 'C'. Write a Python function that selects all rows where the value in column 'A' is greater than 5 and the value in column 'B' is less than 10. The function should return a new DataFrame that contains only the selected rows."
   ]
  },
  {
   "cell_type": "code",
   "execution_count": 80,
   "metadata": {},
   "outputs": [
    {
     "name": "stdout",
     "output_type": "stream",
     "text": [
      "   A  B  C\n",
      "1  8  2  7\n",
      "2  6  9  4\n",
      "4  9  1  2\n"
     ]
    }
   ],
   "source": [
    "import pandas as pd\n",
    "\n",
    "def New_Dataframe(df):\n",
    "    \n",
    "    return df[(df['A'] > 5) & (df['B'] < 10) ]\n",
    "\n",
    "# DataFrame\n",
    "data = {'A': [3,8,6,2,9],\n",
    "        'B': [5,2,9,3,1],\n",
    "        'C': [1,7,4,5,2]\n",
    "        }\n",
    "\n",
    "df = pd.DataFrame(data)\n",
    "\n",
    "# print the DataFrame\n",
    "df = New_Dataframe(df)\n",
    "print(df)\n"
   ]
  },
  {
   "cell_type": "code",
   "execution_count": null,
   "metadata": {},
   "outputs": [],
   "source": []
  },
  {
   "cell_type": "markdown",
   "metadata": {},
   "source": [
    "### Q9. Given a Pandas DataFrame df with a column 'Values', write a Python function to calculate the mean, median, and standard deviation of the values in the 'Values' column."
   ]
  },
  {
   "cell_type": "code",
   "execution_count": 83,
   "metadata": {},
   "outputs": [
    {
     "name": "stdout",
     "output_type": "stream",
     "text": [
      "{'mean': 30.0, 'median': 30.0, 'std_dev': 15.811388300841896}\n"
     ]
    }
   ],
   "source": [
    "import pandas as pd\n",
    "\n",
    "def calculate_statistics(df):\n",
    "    # Calculate mean\n",
    "    mean_val = df['Values'].mean()\n",
    "    \n",
    "    # Calculate median\n",
    "    median_val = df['Values'].median()\n",
    "    \n",
    "    # Calculate standard deviation\n",
    "    std_val = df['Values'].std()\n",
    "    \n",
    "    # Return the results as a dictionary\n",
    "    return {'mean': mean_val, 'median': median_val, 'std_dev': std_val}\n",
    "\n",
    "# Example usage\n",
    "data = {'Values': [10, 20, 30, 40, 50]}\n",
    "df = pd.DataFrame(data)\n",
    "\n",
    "# Calculate the statistics\n",
    "statistics = calculate_statistics(df)\n",
    "print(statistics)\n"
   ]
  },
  {
   "cell_type": "code",
   "execution_count": null,
   "metadata": {},
   "outputs": [],
   "source": []
  },
  {
   "cell_type": "markdown",
   "metadata": {},
   "source": [
    "### Q10. Given a Pandas DataFrame df with a column 'Sales' and a column 'Date', write a Python function to create a new column 'MovingAverage' that contains the moving average of the sales for the past 7 days for each row in the DataFrame. The moving average should be calculated using a window of size 7 and should include the current day."
   ]
  },
  {
   "cell_type": "markdown",
   "metadata": {},
   "source": [
    "A moving average is a statistical calculation used to analyze data points by creating a series of averages of different subsets of the full dataset. It is commonly used to smooth out short-term fluctuations and highlight longer-term trends or cycles in time-series data.\n",
    "\n",
    "The moving average is calculated by taking the average of a specified number of consecutive data points within a sliding window or interval. The size of the window, also known as the period or lag, determines the number of data points included in each average. For example, a 7-day moving average would use the average of the current day and the previous 6 days."
   ]
  },
  {
   "cell_type": "code",
   "execution_count": 85,
   "metadata": {},
   "outputs": [
    {
     "name": "stdout",
     "output_type": "stream",
     "text": [
      "            Sales  MovingAverage\n",
      "Date                            \n",
      "2022-01-01    100     100.000000\n",
      "2022-01-02    200     150.000000\n",
      "2022-01-03    150     150.000000\n",
      "2022-01-04    300     187.500000\n",
      "2022-01-05    250     200.000000\n",
      "2022-01-06    400     233.333333\n",
      "2022-01-07    350     250.000000\n"
     ]
    }
   ],
   "source": [
    "import pandas as pd\n",
    "\n",
    "def calculate_moving_average(df):\n",
    "    # Convert 'Date' column to datetime format and set it as index\n",
    "    df['Date'] = pd.to_datetime(df['Date'])\n",
    "    df.set_index('Date', inplace=True)\n",
    "    \n",
    "    # Calculate moving average using rolling window of size 7\n",
    "    df['MovingAverage'] = df['Sales'].rolling(window=7, min_periods=1).mean()\n",
    "    \n",
    "    return df\n",
    "\n",
    "\n",
    "# Create a DataFrame\n",
    "data = {'Date': ['2022-01-01', '2022-01-02', '2022-01-03', '2022-01-04', '2022-01-05', '2022-01-06', '2022-01-07'],\n",
    "        'Sales': [100, 200, 150, 300, 250, 400, 350]}\n",
    "df = pd.DataFrame(data)\n",
    "\n",
    "# Calculate moving average\n",
    "df = calculate_moving_average(df)\n",
    "\n",
    "print(df)\n"
   ]
  },
  {
   "cell_type": "code",
   "execution_count": null,
   "metadata": {},
   "outputs": [],
   "source": []
  },
  {
   "cell_type": "markdown",
   "metadata": {},
   "source": [
    "### Q11. You have a Pandas DataFrame df with a column 'Date'. Write a Python function that creates a new column 'Weekday' in the DataFrame. The 'Weekday' column should contain the weekday name (e.g. Monday, Tuesday) corresponding to each date in the 'Date' column."
   ]
  },
  {
   "cell_type": "code",
   "execution_count": 86,
   "metadata": {},
   "outputs": [
    {
     "name": "stdout",
     "output_type": "stream",
     "text": [
      "        Date    Weekday\n",
      "0 2023-01-01     Sunday\n",
      "1 2023-01-02     Monday\n",
      "2 2023-01-03    Tuesday\n",
      "3 2023-01-04  Wednesday\n",
      "4 2023-01-05   Thursday\n"
     ]
    }
   ],
   "source": [
    "import pandas as pd\n",
    "\n",
    "def Weekday_column(df):\n",
    "    # Convert 'Date' column to datetime format\n",
    "    df['Date'] = pd.to_datetime(df['Date'])\n",
    "    \n",
    "    # Add a new column 'Weekday' containing the weekday name\n",
    "    df['Weekday'] = df['Date'].dt.day_name()\n",
    "    \n",
    "    return df\n",
    "\n",
    "\n",
    "# Create a DataFrame\n",
    "data = {'Date': ['2023-01-01', '2023-01-02', '2023-01-03', '2023-01-04', '2023-01-05']}\n",
    "df = pd.DataFrame(data)\n",
    "\n",
    "# Add weekday column\n",
    "df = Weekday_column(df)\n",
    "\n",
    "print(df)\n"
   ]
  },
  {
   "cell_type": "code",
   "execution_count": null,
   "metadata": {},
   "outputs": [],
   "source": []
  },
  {
   "cell_type": "markdown",
   "metadata": {},
   "source": [
    "### Q12. Given a Pandas DataFrame df with a column 'Date' that contains timestamps, write a Python function to select all rows where the date is between '2023-01-01' and '2023-01-31'."
   ]
  },
  {
   "cell_type": "code",
   "execution_count": 92,
   "metadata": {},
   "outputs": [
    {
     "name": "stdout",
     "output_type": "stream",
     "text": [
      "        Date  Value\n",
      "0 2023-01-01     10\n",
      "1 2023-01-31     20\n",
      "3 2023-01-15     40\n"
     ]
    }
   ],
   "source": [
    "import pandas as pd\n",
    "\n",
    "def select_rows_in_date_range(df, start_date, end_date):\n",
    "    # Convert 'Date' column to datetime format\n",
    "    df['Date'] = pd.to_datetime(df['Date'])\n",
    "    \n",
    "    # Filter rows where date is between start_date and end_date\n",
    "    result = df[(df['Date'] >= start_date) & (df['Date'] <= end_date)]\n",
    "    \n",
    "    return result\n",
    "\n",
    "\n",
    "# Create a DataFrame\n",
    "data = {'Date': ['2023-01-01', '2023-01-31', '2023-02-15', '2023-01-15', '2023-02-28'],\n",
    "        'Value': [10, 20, 30, 40, 50]}\n",
    "df = pd.DataFrame(data)\n",
    "\n",
    "# Define start and end dates\n",
    "start_date = '2023-01-01'\n",
    "end_date = '2023-01-31'\n",
    "\n",
    "# Select rows in date range\n",
    "df = select_rows_in_date_range(df, start_date, end_date)\n",
    "\n",
    "print(df)\n"
   ]
  },
  {
   "cell_type": "code",
   "execution_count": null,
   "metadata": {},
   "outputs": [],
   "source": []
  },
  {
   "cell_type": "markdown",
   "metadata": {},
   "source": [
    "### Q13. To use the basic functions of pandas, what is the first and foremost necessary library that needs to be imported?"
   ]
  },
  {
   "cell_type": "markdown",
   "metadata": {},
   "source": [
    "To use the basic functions of pandas, the first and foremost library that needs to be imported is the pandas library itself. The conventional way to import pandas is by using the import statement in Python:"
   ]
  },
  {
   "cell_type": "code",
   "execution_count": 93,
   "metadata": {},
   "outputs": [],
   "source": [
    "import pandas as pd"
   ]
  },
  {
   "cell_type": "markdown",
   "metadata": {},
   "source": [
    "In this statement:\n",
    "- `import pandas` imports the pandas library.\n",
    "- `as pd` provides an alias `pd` for the pandas library. This alias is commonly used in pandas code for brevity and readability.\n",
    "\n",
    "Once pandas is imported, we can then access its functions and classes using the `pd` alias. For example, to create a DataFrame or Series, manipulate data, perform operations, or use any other pandas functionality, we would use the `pd` alias followed by the specific function or method name."
   ]
  },
  {
   "cell_type": "code",
   "execution_count": null,
   "metadata": {},
   "outputs": [],
   "source": []
  },
  {
   "cell_type": "code",
   "execution_count": null,
   "metadata": {},
   "outputs": [],
   "source": []
  }
 ],
 "metadata": {
  "kernelspec": {
   "display_name": "Python 3",
   "language": "python",
   "name": "python3"
  },
  "language_info": {
   "codemirror_mode": {
    "name": "ipython",
    "version": 3
   },
   "file_extension": ".py",
   "mimetype": "text/x-python",
   "name": "python",
   "nbconvert_exporter": "python",
   "pygments_lexer": "ipython3",
   "version": "3.10.11"
  }
 },
 "nbformat": 4,
 "nbformat_minor": 2
}
