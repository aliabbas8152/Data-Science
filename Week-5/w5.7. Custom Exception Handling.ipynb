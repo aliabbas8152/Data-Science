{
 "cells": [
  {
   "cell_type": "markdown",
   "metadata": {},
   "source": [
    "# Custom Exception Handling"
   ]
  },
  {
   "cell_type": "markdown",
   "metadata": {},
   "source": [
    "Custom exceptions in Python allow you to define your own exception classes to handle specific error conditions that may arise in your application. This is useful when you want to create more meaningful and specialized exceptions that convey information about the nature of the error. Custom exceptions are usually derived from the built-in `Exception` class or one of its subclasses.\n",
    "\n",
    "Here's an example of creating and using a custom exception:\n",
    "\n",
    "```python\n",
    "class NegativeValueError(Exception):\n",
    "    def __init__(self, value):\n",
    "        self.value = value\n",
    "        super().__init__(f\"Negative values are not allowed: {value}\")\n",
    "\n",
    "def calculate_square_root(number):\n",
    "    if number < 0:\n",
    "        raise NegativeValueError(number)\n",
    "    else:\n",
    "        return number ** 0.5\n",
    "\n",
    "try:\n",
    "    result = calculate_square_root(-4)\n",
    "    print(\"Square root:\", result)\n",
    "except NegativeValueError as e:\n",
    "    print(f\"Error: {e}\")\n",
    "```\n",
    "\n",
    "In this example:\n",
    "- We define a custom exception class `NegativeValueError`, which takes a `value` parameter in its constructor and sets an error message using the `super().__init__()` method.\n",
    "- The `calculate_square_root` function checks if the input number is negative. If it is, it raises a `NegativeValueError` with the given value.\n",
    "- In the `try` block, we attempt to calculate the square root of -4. Since it's a negative value, the `NegativeValueError` exception is raised.\n",
    "- The `except NegativeValueError as e` block catches the custom exception, and we can access the error message and value from the exception instance.\n",
    "\n",
    "Custom exceptions are beneficial for the following reasons:\n",
    "\n",
    "1. **Clarity:** They make your code more readable by providing clear information about the type of error that occurred.\n",
    "\n",
    "2. **Consistency:** By using custom exceptions, you can establish a consistent approach to handling specific types of errors throughout your codebase.\n",
    "\n",
    "3. **Debugging:** Custom exceptions can include additional information or attributes that aid in debugging or logging.\n",
    "\n",
    "Remember to use custom exceptions judiciously, creating them when there's a clear need to distinguish different types of errors in your application. When defining custom exceptions, follow the Python convention of inheriting from the base `Exception` class or one of its subclasses."
   ]
  },
  {
   "cell_type": "code",
   "execution_count": null,
   "metadata": {},
   "outputs": [],
   "source": []
  },
  {
   "cell_type": "code",
   "execution_count": 10,
   "metadata": {},
   "outputs": [
    {
     "name": "stdout",
     "output_type": "stream",
     "text": [
      "Error: Negative values are not allowed: -4\n"
     ]
    }
   ],
   "source": [
    "class NegativeValueError(Exception):\n",
    "    def __init__(self, value):\n",
    "        self.value = value\n",
    "        super().__init__(f\"Negative values are not allowed: {value}\")\n",
    "\n",
    "def calculate_square_root(number):\n",
    "    if number < 0:\n",
    "        raise NegativeValueError(number)\n",
    "    else:\n",
    "        return number ** 0.5\n",
    "\n",
    "try:\n",
    "    result = calculate_square_root(-4)\n",
    "    print(\"Square root:\", result)\n",
    "except NegativeValueError as e:\n",
    "    print(f\"Error: {e}\")\n"
   ]
  },
  {
   "cell_type": "code",
   "execution_count": null,
   "metadata": {},
   "outputs": [],
   "source": []
  },
  {
   "cell_type": "code",
   "execution_count": null,
   "metadata": {},
   "outputs": [],
   "source": []
  },
  {
   "cell_type": "code",
   "execution_count": 7,
   "metadata": {},
   "outputs": [],
   "source": [
    "class validateage(Exception):\n",
    "    def __init__(self, msg):\n",
    "        self.msg = msg"
   ]
  },
  {
   "cell_type": "code",
   "execution_count": 8,
   "metadata": {},
   "outputs": [],
   "source": [
    "def validate_age(age):\n",
    "    if age < 0:\n",
    "        raise validateage(\"Age should not be lesser than 0...\")\n",
    "    elif age == 0:\n",
    "        raise validateage(\"Age should be greater than 0...\")\n",
    "    elif age > 200:\n",
    "        raise validateage(\"Age is too high...\")\n",
    "    else:\n",
    "        print(\"Age is valid..:-..\")"
   ]
  },
  {
   "cell_type": "code",
   "execution_count": 9,
   "metadata": {},
   "outputs": [
    {
     "name": "stdout",
     "output_type": "stream",
     "text": [
      "Age should be greater than 0...\n"
     ]
    }
   ],
   "source": [
    "try:\n",
    "    age = int(input(\"Enter your age : \"))\n",
    "    validate_age(age)\n",
    "except validateage as e:\n",
    "    print(e)    "
   ]
  },
  {
   "cell_type": "code",
   "execution_count": null,
   "metadata": {},
   "outputs": [],
   "source": []
  }
 ],
 "metadata": {
  "kernelspec": {
   "display_name": "Python 3",
   "language": "python",
   "name": "python3"
  },
  "language_info": {
   "codemirror_mode": {
    "name": "ipython",
    "version": 3
   },
   "file_extension": ".py",
   "mimetype": "text/x-python",
   "name": "python",
   "nbconvert_exporter": "python",
   "pygments_lexer": "ipython3",
   "version": "3.10.11"
  }
 },
 "nbformat": 4,
 "nbformat_minor": 2
}
