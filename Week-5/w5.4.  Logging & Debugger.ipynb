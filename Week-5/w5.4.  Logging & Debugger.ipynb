{
 "cells": [
  {
   "cell_type": "code",
   "execution_count": 1,
   "metadata": {},
   "outputs": [
    {
     "name": "stdout",
     "output_type": "stream",
     "text": [
      "this is my print statement.\n"
     ]
    }
   ],
   "source": [
    "print(\"this is my print statement.\")"
   ]
  },
  {
   "cell_type": "markdown",
   "metadata": {},
   "source": [
    "# Logging & Debugger"
   ]
  },
  {
   "cell_type": "markdown",
   "metadata": {},
   "source": [
    "Certainly! Let's dive into more details about logging and debugging in Python.\n",
    "\n",
    "### Logging in Python:\n",
    "\n",
    "Logging is the process of recording information about a program's execution to help diagnose issues, monitor performance, and gain insights into the program's behavior. In Python, the `logging` module provides a flexible framework for emitting log messages from applications.\n",
    "\n",
    "#### Basic Logging Concepts:\n",
    "\n",
    "1. **Log Levels:**\n",
    "   - `DEBUG`: Detailed information, typically useful for debugging.\n",
    "   - `INFO`: General information about the program's execution.\n",
    "   - `WARNING`: Indicates a potential issue that does not prevent the program from running.\n",
    "   - `ERROR`: Indicates a more serious issue that prevented the program from performing a specific function.\n",
    "   - `CRITICAL`: A very serious error, indicating that the program itself may be unable to continue running.\n",
    "\n",
    "2. **Log Handlers:**\n",
    "   - Handlers define where the log messages go. Examples include the console, files, sockets, etc.\n",
    "\n",
    "3. **Log Formatters:**\n",
    "   - Formatters specify the layout of log records in the output.\n",
    "\n",
    "#### Example:\n",
    "\n",
    "```python\n",
    "import logging\n",
    "\n",
    "# Configure the logging module\n",
    "logging.basicConfig(level=logging.DEBUG,  # Set the logging level\n",
    "                    format='%(asctime)s - %(levelname)s - %(message)s',\n",
    "                    filename='app.log',  # Log to a file\n",
    "                    filemode='w')\n",
    "\n",
    "# Example usage\n",
    "def example_function():\n",
    "    logging.debug('This is a debug message')\n",
    "    logging.info('This is an info message')\n",
    "    logging.warning('This is a warning message')\n",
    "    logging.error('This is an error message')\n",
    "    logging.critical('This is a critical message')\n",
    "\n",
    "if __name__ == \"__main__\":\n",
    "    example_function()\n",
    "```\n",
    "\n",
    "In this example:\n",
    "- The logging level is set to `DEBUG`, meaning all messages of level `DEBUG` and above will be recorded.\n",
    "- The log messages include a timestamp, log level, and the actual message.\n",
    "- The messages are written to a file named 'app.log'.\n",
    "\n",
    "### Debugger in Python (`pdb`):\n",
    "\n",
    "The Python Debugger (`pdb`) is a built-in interactive source code debugger. It allows you to pause the execution of your program, inspect variables, and step through code to identify and fix issues.\n",
    "\n",
    "#### Basic Debugger Commands:\n",
    "\n",
    "- `n` (next): Execute the current line and stop at the first possible occasion.\n",
    "- `c` (continue): Continue execution until the next breakpoint is encountered.\n",
    "- `q` (quit): Quit the debugger and end the program.\n",
    "- `s` (step): Execute the current line and stop at the first possible occasion (entering a new function).\n",
    "\n",
    "#### Example:\n",
    "\n",
    "```python\n",
    "import pdb\n",
    "\n",
    "def example_function(x, y):\n",
    "    result = x + y\n",
    "    pdb.set_trace()  # Insert a breakpoint\n",
    "    result *= 2\n",
    "    return result\n",
    "\n",
    "if __name__ == \"__main__\":\n",
    "    result = example_function(3, 4)\n",
    "    print(\"Final result:\", result)\n",
    "```\n",
    "\n",
    "In this example:\n",
    "- `pdb.set_trace()` is used to insert a breakpoint.\n",
    "- When the program reaches this point, it enters the interactive debugger, allowing you to inspect variables and control the program's execution.\n",
    "\n",
    "Both logging and debugging are essential tools for software development. Logging helps you understand what your program is doing, especially in production environments, while debugging is crucial for identifying and fixing issues during development. Combining both techniques provides a powerful set of tools for building robust and maintainable Python applications."
   ]
  },
  {
   "cell_type": "code",
   "execution_count": null,
   "metadata": {},
   "outputs": [],
   "source": []
  },
  {
   "cell_type": "code",
   "execution_count": 13,
   "metadata": {},
   "outputs": [],
   "source": [
    "import logging"
   ]
  },
  {
   "cell_type": "code",
   "execution_count": 9,
   "metadata": {},
   "outputs": [],
   "source": [
    "logging.basicConfig(filename=\"test6.log\", level = logging.INFO)      # logging.INFO will be able to log below info like info, warning, error and critical "
   ]
  },
  {
   "cell_type": "code",
   "execution_count": 4,
   "metadata": {},
   "outputs": [],
   "source": [
    "logging.info(\"This is my line of execution.\")\n"
   ]
  },
  {
   "cell_type": "code",
   "execution_count": 8,
   "metadata": {},
   "outputs": [],
   "source": [
    "logging.error(\"This is my error.\")"
   ]
  },
  {
   "cell_type": "code",
   "execution_count": 6,
   "metadata": {},
   "outputs": [],
   "source": [
    "logging.critical(\"This is my critical.\")"
   ]
  },
  {
   "cell_type": "code",
   "execution_count": 7,
   "metadata": {},
   "outputs": [],
   "source": [
    "logging.warning(\"This is my  warning.\")"
   ]
  },
  {
   "cell_type": "code",
   "execution_count": 10,
   "metadata": {},
   "outputs": [],
   "source": [
    "logging.debug(\"This is my info related to debug\")"
   ]
  },
  {
   "cell_type": "code",
   "execution_count": 11,
   "metadata": {},
   "outputs": [],
   "source": [
    "logging.shutdown()"
   ]
  },
  {
   "cell_type": "markdown",
   "metadata": {},
   "source": [
    "1. NOSET\n",
    "2. DEBUG\n",
    "3. INFO\n",
    "4. WARNING\n",
    "5. ERROR\n",
    "6. CRITICAL"
   ]
  },
  {
   "cell_type": "code",
   "execution_count": 1,
   "metadata": {},
   "outputs": [],
   "source": [
    "import logging\n",
    "logging.basicConfig(filename=\"test7.log\", level = logging.DEBUG, format='%(asctime)s %(message)s')"
   ]
  },
  {
   "cell_type": "code",
   "execution_count": 2,
   "metadata": {},
   "outputs": [],
   "source": [
    "logging.info(\"This is my info log.\")"
   ]
  },
  {
   "cell_type": "code",
   "execution_count": 3,
   "metadata": {},
   "outputs": [],
   "source": [
    "logging.debug(\"This is my debug\")"
   ]
  },
  {
   "cell_type": "code",
   "execution_count": 4,
   "metadata": {},
   "outputs": [],
   "source": [
    "logging.warning(\"This is my warning.\")"
   ]
  },
  {
   "cell_type": "code",
   "execution_count": 5,
   "metadata": {},
   "outputs": [],
   "source": [
    "logging.shutdown()"
   ]
  },
  {
   "cell_type": "code",
   "execution_count": 1,
   "metadata": {},
   "outputs": [],
   "source": [
    "import logging\n",
    "logging.basicConfig(filename=\"test8.log\", level = logging.DEBUG, format='%(asctime)s %(name)s %(levelname)s %(message)s' )"
   ]
  },
  {
   "cell_type": "code",
   "execution_count": 2,
   "metadata": {},
   "outputs": [],
   "source": [
    "logging.info(\"This is my info log.\")\n",
    "logging.debug(\"This is my debug\")\n",
    "logging.warning(\"This is my warning.\")\n",
    "logging.critical(\"This is my critical.\")\n",
    "logging.error(\"This is my error.\")"
   ]
  },
  {
   "cell_type": "code",
   "execution_count": 3,
   "metadata": {},
   "outputs": [],
   "source": [
    "l = [1,2,3,[4,5,6], \"ali\", \"abbas\"]"
   ]
  },
  {
   "cell_type": "code",
   "execution_count": 7,
   "metadata": {},
   "outputs": [],
   "source": [
    "l1_int = []\n",
    "l2_str = []\n",
    "\n",
    "for i in l:\n",
    "    if type(i) == list:\n",
    "        for j in i:\n",
    "            if type(j) == int:\n",
    "                l1_int.append(j)\n",
    "    elif type(i) == int:\n",
    "        l1_int.append(i)\n",
    "    elif type(i) == str:\n",
    "        l2_str.append(i)          "
   ]
  },
  {
   "cell_type": "code",
   "execution_count": 5,
   "metadata": {},
   "outputs": [
    {
     "name": "stdout",
     "output_type": "stream",
     "text": [
      "[1, 2, 3, 4, 5, 6]\n"
     ]
    }
   ],
   "source": [
    "print(l1_int)"
   ]
  },
  {
   "cell_type": "code",
   "execution_count": 6,
   "metadata": {},
   "outputs": [
    {
     "name": "stdout",
     "output_type": "stream",
     "text": [
      "['ali', 'abbas']\n"
     ]
    }
   ],
   "source": [
    "print(l2_str)"
   ]
  },
  {
   "cell_type": "code",
   "execution_count": 9,
   "metadata": {},
   "outputs": [],
   "source": [
    "l1_int = []\n",
    "l2_str = []\n",
    "\n",
    "for i in l:\n",
    "    logging.info(\"this is the start of my first for loop {}\".format(l))\n",
    "    logging.info(\"This is the value of i am logging {}\".format(i))\n",
    "    if type(i) == list:\n",
    "        for j in i:\n",
    "            logging.info(\"logging my j {j} and i is {i}\".format(i=i, j=j))\n",
    "            if type(j) == int:\n",
    "                l1_int.append(j)\n",
    "    elif type(i) == int:\n",
    "        l1_int.append(i)\n",
    "    elif type(i) == str:\n",
    "        l2_str.append(i)      \n",
    "logging.info(\"this is my final result with all int {l1}, with all str{l2}\".format(l1=l1_int, l2=l2_str))            "
   ]
  },
  {
   "cell_type": "code",
   "execution_count": null,
   "metadata": {},
   "outputs": [],
   "source": []
  },
  {
   "cell_type": "code",
   "execution_count": null,
   "metadata": {},
   "outputs": [],
   "source": []
  },
  {
   "cell_type": "code",
   "execution_count": null,
   "metadata": {},
   "outputs": [],
   "source": []
  }
 ],
 "metadata": {
  "kernelspec": {
   "display_name": "Python 3",
   "language": "python",
   "name": "python3"
  },
  "language_info": {
   "codemirror_mode": {
    "name": "ipython",
    "version": 3
   },
   "file_extension": ".py",
   "mimetype": "text/x-python",
   "name": "python",
   "nbconvert_exporter": "python",
   "pygments_lexer": "ipython3",
   "version": "3.10.11"
  }
 },
 "nbformat": 4,
 "nbformat_minor": 2
}
