{
 "cells": [
  {
   "cell_type": "markdown",
   "metadata": {},
   "source": [
    "# Exceptions Handling With Try Except"
   ]
  },
  {
   "cell_type": "markdown",
   "metadata": {},
   "source": [
    "Exception handling in Python allows you to deal with errors, anomalies, or unexpected situations that may occur during the execution of your program. It helps you gracefully handle these situations and prevent your program from crashing. The primary mechanism for handling exceptions in Python is the `try`, `except` block.\n",
    "\n",
    "### Basic Exception Handling:\n",
    "\n",
    "```python\n",
    "try:\n",
    "    # Code that might raise an exception\n",
    "    x = int(input(\"Enter a number: \"))\n",
    "    result = 10 / x\n",
    "    print(\"Result:\", result)\n",
    "\n",
    "except ZeroDivisionError:\n",
    "    print(\"Cannot divide by zero!\")\n",
    "\n",
    "except ValueError:\n",
    "    print(\"Invalid input. Please enter a valid number.\")\n",
    "\n",
    "except Exception as e:\n",
    "    print(\"An unexpected error occurred:\", e)\n",
    "\n",
    "else:\n",
    "    print(\"No exceptions were raised.\")\n",
    "\n",
    "finally:\n",
    "    print(\"This code will always be executed, whether an exception occurred or not.\")\n",
    "```\n",
    "\n",
    "In this example:\n",
    "- The `try` block contains the code that might raise an exception.\n",
    "- If an exception occurs, the corresponding `except` block is executed. You can have multiple `except` blocks to handle different types of exceptions.\n",
    "- The `else` block is executed if no exceptions occur in the `try` block.\n",
    "- The `finally` block contains code that will be executed no matter what, whether an exception occurred or not.\n",
    "\n",
    "### Exception Hierarchy:\n",
    "\n",
    "Python has a hierarchy of built-in exceptions. The more specific exceptions should be caught before more general ones. For example, `ValueError` should be caught before `Exception` to handle input validation before handling generic exceptions.\n",
    "\n",
    "### Custom Exceptions:\n",
    "\n",
    "You can also create your own custom exceptions by creating a new class that inherits from the `Exception` class or one of its subclasses. This allows you to define and raise exceptions that are specific to your application.\n",
    "\n",
    "```python\n",
    "class MyCustomError(Exception):\n",
    "    pass\n",
    "\n",
    "try:\n",
    "    raise MyCustomError(\"This is a custom exception.\")\n",
    "except MyCustomError as e:\n",
    "    print(\"Caught an instance of MyCustomError:\", e)\n",
    "```\n",
    "\n",
    "### Logging Exceptions:\n",
    "\n",
    "It's often a good practice to log exceptions using the `logging` module to keep track of errors, especially in production environments.\n",
    "\n",
    "```python\n",
    "import logging\n",
    "\n",
    "try:\n",
    "    # Code that might raise an exception\n",
    "    x = int(input(\"Enter a number: \"))\n",
    "    result = 10 / x\n",
    "    print(\"Result:\", result)\n",
    "\n",
    "except Exception as e:\n",
    "    logging.error(\"An exception occurred: %s\", e)\n",
    "```\n",
    "\n",
    "Exception handling is an important aspect of writing robust and reliable code. It helps you anticipate potential issues, handle them gracefully, and provide meaningful feedback to users or developers when something goes wrong."
   ]
  },
  {
   "cell_type": "code",
   "execution_count": null,
   "metadata": {},
   "outputs": [],
   "source": []
  },
  {
   "cell_type": "code",
   "execution_count": 17,
   "metadata": {},
   "outputs": [
    {
     "name": "stdout",
     "output_type": "stream",
     "text": [
      "Invalid input. Please enter a valid number.\n",
      "This code will always be executed, whether an exception occurred or not.\n"
     ]
    }
   ],
   "source": [
    "try:\n",
    "    # Code that might raise an exception\n",
    "    x = int(input(\"Enter a number: \"))\n",
    "    result = 10 / x\n",
    "    print(\"Result:\", result)\n",
    "\n",
    "except ZeroDivisionError:\n",
    "    print(\"Cannot divide by zero!\")\n",
    "\n",
    "except ValueError:\n",
    "    print(\"Invalid input. Please enter a valid number.\")\n",
    "\n",
    "except Exception as e:\n",
    "    print(\"An unexpected error occurred:\", e)\n",
    "\n",
    "else:\n",
    "    print(\"No exceptions were raised.\")\n",
    "\n",
    "finally:\n",
    "    print(\"This code will always be executed, whether an exception occurred or not.\")\n"
   ]
  },
  {
   "cell_type": "code",
   "execution_count": 18,
   "metadata": {},
   "outputs": [
    {
     "name": "stdout",
     "output_type": "stream",
     "text": [
      "Caught an instance of MyCustomError: This is a custom exception.\n"
     ]
    }
   ],
   "source": [
    "class MyCustomError(Exception):\n",
    "    pass\n",
    "\n",
    "try:\n",
    "    raise MyCustomError(\"This is a custom exception.\")\n",
    "except MyCustomError as e:\n",
    "    print(\"Caught an instance of MyCustomError:\", e)\n"
   ]
  },
  {
   "cell_type": "code",
   "execution_count": 20,
   "metadata": {},
   "outputs": [
    {
     "name": "stderr",
     "output_type": "stream",
     "text": [
      "ERROR:root:An exception occurred: division by zero\n"
     ]
    }
   ],
   "source": [
    "import logging\n",
    "\n",
    "try:\n",
    "    # Code that might raise an exception\n",
    "    x = int(input(\"Enter a number: \"))\n",
    "    result = 10 / x\n",
    "    print(\"Result:\", result)\n",
    "\n",
    "except Exception as e:\n",
    "    logging.error(\"An exception occurred: %s\", e)\n"
   ]
  },
  {
   "cell_type": "code",
   "execution_count": null,
   "metadata": {},
   "outputs": [],
   "source": []
  },
  {
   "cell_type": "code",
   "execution_count": null,
   "metadata": {},
   "outputs": [],
   "source": []
  },
  {
   "cell_type": "code",
   "execution_count": 1,
   "metadata": {},
   "outputs": [],
   "source": [
    "a =10"
   ]
  },
  {
   "cell_type": "code",
   "execution_count": 2,
   "metadata": {},
   "outputs": [
    {
     "ename": "ZeroDivisionError",
     "evalue": "division by zero",
     "output_type": "error",
     "traceback": [
      "\u001b[1;31m---------------------------------------------------------------------------\u001b[0m",
      "\u001b[1;31mZeroDivisionError\u001b[0m                         Traceback (most recent call last)",
      "\u001b[1;32mc:\\Codes\\pythonFiles\\Data Science PW\\Week-5\\w5.6. Exceptions Handling With Try Except.ipynb Cell 3\u001b[0m line \u001b[0;36m1\n\u001b[1;32m----> <a href='vscode-notebook-cell:/c%3A/Codes/pythonFiles/Data%20Science%20PW/Week-5/w5.6.%20Exceptions%20Handling%20With%20Try%20Except.ipynb#W2sZmlsZQ%3D%3D?line=0'>1</a>\u001b[0m a\u001b[39m/\u001b[39;49m\u001b[39m0\u001b[39;49m\n",
      "\u001b[1;31mZeroDivisionError\u001b[0m: division by zero"
     ]
    }
   ],
   "source": [
    "a/0"
   ]
  },
  {
   "cell_type": "code",
   "execution_count": 4,
   "metadata": {},
   "outputs": [
    {
     "ename": "FileNotFoundError",
     "evalue": "[Errno 2] No such file or directory: 'test.txt'",
     "output_type": "error",
     "traceback": [
      "\u001b[1;31m---------------------------------------------------------------------------\u001b[0m",
      "\u001b[1;31mFileNotFoundError\u001b[0m                         Traceback (most recent call last)",
      "\u001b[1;32mc:\\Codes\\pythonFiles\\Data Science PW\\Week-5\\w5.6. Exceptions Handling With Try Except.ipynb Cell 4\u001b[0m line \u001b[0;36m1\n\u001b[1;32m----> <a href='vscode-notebook-cell:/c%3A/Codes/pythonFiles/Data%20Science%20PW/Week-5/w5.6.%20Exceptions%20Handling%20With%20Try%20Except.ipynb#W3sZmlsZQ%3D%3D?line=0'>1</a>\u001b[0m f \u001b[39m=\u001b[39m \u001b[39mopen\u001b[39;49m(\u001b[39m\"\u001b[39;49m\u001b[39mtest.txt\u001b[39;49m\u001b[39m\"\u001b[39;49m, \u001b[39m\"\u001b[39;49m\u001b[39mr\u001b[39;49m\u001b[39m\"\u001b[39;49m)\n\u001b[0;32m      <a href='vscode-notebook-cell:/c%3A/Codes/pythonFiles/Data%20Science%20PW/Week-5/w5.6.%20Exceptions%20Handling%20With%20Try%20Except.ipynb#W3sZmlsZQ%3D%3D?line=1'>2</a>\u001b[0m \u001b[39mprint\u001b[39m(\u001b[39m\"\u001b[39m\u001b[39mthis is ali.\u001b[39m\u001b[39m\"\u001b[39m)\n",
      "File \u001b[1;32m~\\AppData\\Local\\Packages\\PythonSoftwareFoundation.Python.3.10_qbz5n2kfra8p0\\LocalCache\\local-packages\\Python310\\site-packages\\IPython\\core\\interactiveshell.py:308\u001b[0m, in \u001b[0;36m_modified_open\u001b[1;34m(file, *args, **kwargs)\u001b[0m\n\u001b[0;32m    301\u001b[0m \u001b[39mif\u001b[39;00m file \u001b[39min\u001b[39;00m {\u001b[39m0\u001b[39m, \u001b[39m1\u001b[39m, \u001b[39m2\u001b[39m}:\n\u001b[0;32m    302\u001b[0m     \u001b[39mraise\u001b[39;00m \u001b[39mValueError\u001b[39;00m(\n\u001b[0;32m    303\u001b[0m         \u001b[39mf\u001b[39m\u001b[39m\"\u001b[39m\u001b[39mIPython won\u001b[39m\u001b[39m'\u001b[39m\u001b[39mt let you open fd=\u001b[39m\u001b[39m{\u001b[39;00mfile\u001b[39m}\u001b[39;00m\u001b[39m by default \u001b[39m\u001b[39m\"\u001b[39m\n\u001b[0;32m    304\u001b[0m         \u001b[39m\"\u001b[39m\u001b[39mas it is likely to crash IPython. If you know what you are doing, \u001b[39m\u001b[39m\"\u001b[39m\n\u001b[0;32m    305\u001b[0m         \u001b[39m\"\u001b[39m\u001b[39myou can use builtins\u001b[39m\u001b[39m'\u001b[39m\u001b[39m open.\u001b[39m\u001b[39m\"\u001b[39m\n\u001b[0;32m    306\u001b[0m     )\n\u001b[1;32m--> 308\u001b[0m \u001b[39mreturn\u001b[39;00m io_open(file, \u001b[39m*\u001b[39margs, \u001b[39m*\u001b[39m\u001b[39m*\u001b[39mkwargs)\n",
      "\u001b[1;31mFileNotFoundError\u001b[0m: [Errno 2] No such file or directory: 'test.txt'"
     ]
    }
   ],
   "source": [
    "f = open(\"test.txt\", \"r\")\n",
    "print(\"this is ali.\")"
   ]
  },
  {
   "cell_type": "code",
   "execution_count": 6,
   "metadata": {},
   "outputs": [
    {
     "name": "stdout",
     "output_type": "stream",
     "text": [
      "there is some error with my code.. [Errno 2] No such file or directory: 'test.txt'\n",
      "10\n"
     ]
    }
   ],
   "source": [
    "try:\n",
    "    f = open(\"test.txt\", 'r')\n",
    "except Exception as e:\n",
    "    print(\"there is some error with my code..\", e)\n",
    "a = 10\n",
    "print(a)"
   ]
  },
  {
   "cell_type": "code",
   "execution_count": 7,
   "metadata": {},
   "outputs": [
    {
     "name": "stdout",
     "output_type": "stream",
     "text": [
      "this block will execute once try will execute itself withhout an exception....\n"
     ]
    }
   ],
   "source": [
    "try:\n",
    "    f = open(\"test.txt\", 'w')\n",
    "    f.write(\"this is my msg.\")\n",
    "    \n",
    "except Exception as e:\n",
    "    print(\"there is some error with my code..\", e)\n",
    "\n",
    "else:\n",
    "    f.close()\n",
    "    print(\"this block will execute once try will execute itself withhout an exception....\")\n"
   ]
  },
  {
   "cell_type": "code",
   "execution_count": 11,
   "metadata": {},
   "outputs": [
    {
     "name": "stdout",
     "output_type": "stream",
     "text": [
      "this is my msg.\n",
      "this block will execute once try will execute itself withhout an exception....\n"
     ]
    }
   ],
   "source": [
    "try:\n",
    "    f = open(\"test.txt\", 'r')\n",
    "    data = f.read()\n",
    "    print(data)\n",
    "except Exception as e:\n",
    "    print(\"there is some error with my code..\", e)\n",
    "\n",
    "else:\n",
    "    f.close()\n",
    "    print(\"this block will execute once try will execute itself withhout an exception....\")\n"
   ]
  },
  {
   "cell_type": "code",
   "execution_count": 12,
   "metadata": {},
   "outputs": [
    {
     "name": "stdout",
     "output_type": "stream",
     "text": [
      "This will always execute...\n"
     ]
    },
    {
     "ename": "FileNotFoundError",
     "evalue": "[Errno 2] No such file or directory: 'test0.txt'",
     "output_type": "error",
     "traceback": [
      "\u001b[1;31m---------------------------------------------------------------------------\u001b[0m",
      "\u001b[1;31mFileNotFoundError\u001b[0m                         Traceback (most recent call last)",
      "\u001b[1;32mc:\\Codes\\pythonFiles\\Data Science PW\\Week-5\\w5.6. Exceptions Handling With Try Except.ipynb Cell 8\u001b[0m line \u001b[0;36m2\n\u001b[0;32m      <a href='vscode-notebook-cell:/c%3A/Codes/pythonFiles/Data%20Science%20PW/Week-5/w5.6.%20Exceptions%20Handling%20With%20Try%20Except.ipynb#X10sZmlsZQ%3D%3D?line=0'>1</a>\u001b[0m \u001b[39mtry\u001b[39;00m:\n\u001b[1;32m----> <a href='vscode-notebook-cell:/c%3A/Codes/pythonFiles/Data%20Science%20PW/Week-5/w5.6.%20Exceptions%20Handling%20With%20Try%20Except.ipynb#X10sZmlsZQ%3D%3D?line=1'>2</a>\u001b[0m     f \u001b[39m=\u001b[39m \u001b[39mopen\u001b[39;49m(\u001b[39m\"\u001b[39;49m\u001b[39mtest0.txt\u001b[39;49m\u001b[39m\"\u001b[39;49m, \u001b[39m'\u001b[39;49m\u001b[39mr\u001b[39;49m\u001b[39m'\u001b[39;49m)\n\u001b[0;32m      <a href='vscode-notebook-cell:/c%3A/Codes/pythonFiles/Data%20Science%20PW/Week-5/w5.6.%20Exceptions%20Handling%20With%20Try%20Except.ipynb#X10sZmlsZQ%3D%3D?line=2'>3</a>\u001b[0m     f\u001b[39m.\u001b[39mwrite(\u001b[39m\"\u001b[39m\u001b[39mthis is my message.\u001b[39m\u001b[39m\"\u001b[39m)\n\u001b[0;32m      <a href='vscode-notebook-cell:/c%3A/Codes/pythonFiles/Data%20Science%20PW/Week-5/w5.6.%20Exceptions%20Handling%20With%20Try%20Except.ipynb#X10sZmlsZQ%3D%3D?line=4'>5</a>\u001b[0m \u001b[39mfinally\u001b[39;00m:\n",
      "File \u001b[1;32m~\\AppData\\Local\\Packages\\PythonSoftwareFoundation.Python.3.10_qbz5n2kfra8p0\\LocalCache\\local-packages\\Python310\\site-packages\\IPython\\core\\interactiveshell.py:308\u001b[0m, in \u001b[0;36m_modified_open\u001b[1;34m(file, *args, **kwargs)\u001b[0m\n\u001b[0;32m    301\u001b[0m \u001b[39mif\u001b[39;00m file \u001b[39min\u001b[39;00m {\u001b[39m0\u001b[39m, \u001b[39m1\u001b[39m, \u001b[39m2\u001b[39m}:\n\u001b[0;32m    302\u001b[0m     \u001b[39mraise\u001b[39;00m \u001b[39mValueError\u001b[39;00m(\n\u001b[0;32m    303\u001b[0m         \u001b[39mf\u001b[39m\u001b[39m\"\u001b[39m\u001b[39mIPython won\u001b[39m\u001b[39m'\u001b[39m\u001b[39mt let you open fd=\u001b[39m\u001b[39m{\u001b[39;00mfile\u001b[39m}\u001b[39;00m\u001b[39m by default \u001b[39m\u001b[39m\"\u001b[39m\n\u001b[0;32m    304\u001b[0m         \u001b[39m\"\u001b[39m\u001b[39mas it is likely to crash IPython. If you know what you are doing, \u001b[39m\u001b[39m\"\u001b[39m\n\u001b[0;32m    305\u001b[0m         \u001b[39m\"\u001b[39m\u001b[39myou can use builtins\u001b[39m\u001b[39m'\u001b[39m\u001b[39m open.\u001b[39m\u001b[39m\"\u001b[39m\n\u001b[0;32m    306\u001b[0m     )\n\u001b[1;32m--> 308\u001b[0m \u001b[39mreturn\u001b[39;00m io_open(file, \u001b[39m*\u001b[39margs, \u001b[39m*\u001b[39m\u001b[39m*\u001b[39mkwargs)\n",
      "\u001b[1;31mFileNotFoundError\u001b[0m: [Errno 2] No such file or directory: 'test0.txt'"
     ]
    }
   ],
   "source": [
    "try:\n",
    "    f = open(\"test0.txt\", 'r')\n",
    "    f.write(\"this is my message.\")\n",
    "\n",
    "finally:\n",
    "    print(\"This will always execute...\")    "
   ]
  },
  {
   "cell_type": "code",
   "execution_count": 13,
   "metadata": {},
   "outputs": [
    {
     "name": "stdout",
     "output_type": "stream",
     "text": [
      "there is some error with my code.. [Errno 2] No such file or directory: 'test0.txt'\n",
      "This will always execute itself....\n"
     ]
    }
   ],
   "source": [
    "try:\n",
    "    f = open(\"test0.txt\", 'r')\n",
    "    f.write(\"this is my msg.\")\n",
    "    \n",
    "except Exception as e:\n",
    "    print(\"there is some error with my code..\", e)\n",
    "\n",
    "else:\n",
    "    f.close()\n",
    "    print(\"this block will execute once try will execute itself withhout an exception....\")\n",
    "\n",
    "finally:\n",
    "    print(\"This will always execute itself....\")"
   ]
  },
  {
   "cell_type": "code",
   "execution_count": 14,
   "metadata": {},
   "outputs": [
    {
     "name": "stdout",
     "output_type": "stream",
     "text": [
      "this is my msg.\n",
      "this block will execute once try will execute itself withhout an exception....\n",
      "This will always execute itself....\n"
     ]
    }
   ],
   "source": [
    "try:\n",
    "    f = open(\"test.txt\", 'r')\n",
    "    data = f.read()\n",
    "    print(data)\n",
    "except Exception as e:\n",
    "    print(\"there is some error with my code..\", e)\n",
    "\n",
    "else:\n",
    "    f.close()\n",
    "    print(\"this block will execute once try will execute itself withhout an exception....\")\n",
    "finally:\n",
    "    print(\"This will always execute itself....\")"
   ]
  },
  {
   "cell_type": "code",
   "execution_count": null,
   "metadata": {},
   "outputs": [],
   "source": []
  }
 ],
 "metadata": {
  "kernelspec": {
   "display_name": "Python 3",
   "language": "python",
   "name": "python3"
  },
  "language_info": {
   "codemirror_mode": {
    "name": "ipython",
    "version": 3
   },
   "file_extension": ".py",
   "mimetype": "text/x-python",
   "name": "python",
   "nbconvert_exporter": "python",
   "pygments_lexer": "ipython3",
   "version": "3.10.11"
  }
 },
 "nbformat": 4,
 "nbformat_minor": 2
}
