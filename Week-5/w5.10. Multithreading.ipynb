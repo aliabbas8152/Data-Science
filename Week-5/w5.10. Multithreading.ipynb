{
 "cells": [
  {
   "cell_type": "markdown",
   "metadata": {},
   "source": [
    "#  Multithreading"
   ]
  },
  {
   "cell_type": "markdown",
   "metadata": {},
   "source": [
    "Multithreading is a programming concept where multiple threads run concurrently within the context of a single process. Each thread represents a separate flow of control, and the threads share the same resources, such as memory space. Multithreading is often used to achieve parallelism, allowing multiple tasks to be executed simultaneously and improving overall program performance.\n",
    "\n",
    "In Python, the `threading` module provides a way to create and manage threads. Here's a detailed explanation with examples:\n",
    "\n",
    "### Creating Threads:\n",
    "\n",
    "To create a thread, you define a function that represents the task you want the thread to execute. Then, you create a `Thread` object and start it.\n",
    "\n",
    "```python\n",
    "import threading\n",
    "import time\n",
    "\n",
    "def print_numbers():\n",
    "    for i in range(5):\n",
    "        time.sleep(1)\n",
    "        print(f\"Thread: {threading.current_thread().name}, Number: {i}\")\n",
    "\n",
    "# Create two threads\n",
    "thread1 = threading.Thread(target=print_numbers, name='Thread 1')\n",
    "thread2 = threading.Thread(target=print_numbers, name='Thread 2')\n",
    "\n",
    "# Start the threads\n",
    "thread1.start()\n",
    "thread2.start()\n",
    "\n",
    "# Wait for both threads to finish\n",
    "thread1.join()\n",
    "thread2.join()\n",
    "\n",
    "print(\"Main thread exiting.\")\n",
    "```\n",
    "\n",
    "In this example, `print_numbers` is a simple function that prints numbers with a delay. Two threads (`thread1` and `thread2`) are created, and the `start` method is called to begin their execution. The `join` method is then used to wait for the threads to complete before the main thread exits.\n",
    "\n",
    "### Thread Safety:\n",
    "\n",
    "When working with multithreading, it's important to ensure \"thread safety\" to avoid conflicts between threads accessing shared resources. The `Lock` class in the `threading` module can be used to synchronize access to shared resources.\n",
    "\n",
    "```python\n",
    "import threading\n",
    "\n",
    "counter = 0\n",
    "counter_lock = threading.Lock()\n",
    "\n",
    "def increment_counter():\n",
    "    global counter\n",
    "    with counter_lock:\n",
    "        for _ in range(1000000):\n",
    "            counter += 1\n",
    "\n",
    "# Create two threads that increment the counter\n",
    "thread1 = threading.Thread(target=increment_counter)\n",
    "thread2 = threading.Thread(target=increment_counter)\n",
    "\n",
    "thread1.start()\n",
    "thread2.start()\n",
    "\n",
    "thread1.join()\n",
    "thread2.join()\n",
    "\n",
    "print(\"Final counter value:\", counter)\n",
    "```\n",
    "\n",
    "In this example, the `counter` variable is shared between threads, and a `Lock` is used to ensure that only one thread can modify it at a time.\n",
    "\n",
    "### Daemon Threads:\n",
    "\n",
    "Threads can be either daemon or non-daemon. Daemon threads are background threads that automatically exit when the program exits, regardless of whether they have finished their work or not.\n",
    "\n",
    "```python\n",
    "import threading\n",
    "import time\n",
    "\n",
    "def daemon_thread_function():\n",
    "    while True:\n",
    "        print(\"Daemon thread is running.\")\n",
    "        time.sleep(1)\n",
    "\n",
    "# Create a daemon thread\n",
    "daemon_thread = threading.Thread(target=daemon_thread_function, name='DaemonThread', daemon=True)\n",
    "\n",
    "# Start the daemon thread\n",
    "daemon_thread.start()\n",
    "\n",
    "# Main thread continues to execute\n",
    "time.sleep(5)\n",
    "print(\"Main thread exiting.\")\n",
    "```\n",
    "\n",
    "In this example, the `daemon_thread` runs indefinitely in the background. When the main thread exits, the daemon thread will be terminated automatically.\n",
    "\n",
    "### Thread Pools:\n",
    "\n",
    "Thread pools are a mechanism for efficiently managing and reusing a fixed number of threads. The `concurrent.futures` module provides the `ThreadPoolExecutor` class for creating and managing thread pools.\n",
    "\n",
    "```python\n",
    "import concurrent.futures\n",
    "import time\n",
    "\n",
    "def print_numbers(name):\n",
    "    for i in range(5):\n",
    "        time.sleep(1)\n",
    "        print(f\"Thread: {name}, Number: {i}\")\n",
    "\n",
    "# Create a ThreadPoolExecutor with 2 threads\n",
    "with concurrent.futures.ThreadPoolExecutor(max_workers=2) as executor:\n",
    "    # Submit tasks to the thread pool\n",
    "    future1 = executor.submit(print_numbers, 'Thread 1')\n",
    "    future2 = executor.submit(print_numbers, 'Thread 2')\n",
    "\n",
    "    # Wait for tasks to complete\n",
    "    concurrent.futures.wait([future1, future2])\n",
    "```\n",
    "\n",
    "In this example, a `ThreadPoolExecutor` is used to create a thread pool with two threads. Tasks (`print_numbers` function calls) are submitted to the thread pool, and the executor takes care of managing the threads.\n",
    "\n",
    "### Global Interpreter Lock (GIL):\n",
    "\n",
    "In CPython, the Global Interpreter Lock (GIL) ensures that only one thread executes Python bytecode at a time. This can limit the effectiveness of multithreading for CPU-bound tasks. For CPU-bound tasks requiring parallelism, the `multiprocessing` module, which creates separate processes, may be a more suitable option.\n",
    "\n",
    "```python\n",
    "from multiprocessing import Process, Value, Lock\n",
    "\n",
    "counter = Value('i', 0)\n",
    "counter_lock = Lock()\n",
    "\n",
    "def increment_counter():\n",
    "    global counter\n",
    "    with counter_lock:\n",
    "        for _ in range(1000000):\n",
    "            counter.value += 1\n",
    "\n",
    "# Create two processes that increment the counter\n",
    "process1 = Process(target=increment_counter)\n",
    "process2 = Process(target=increment_counter)\n",
    "\n",
    "process1.start()\n",
    "process2.start()\n",
    "\n",
    "process1.join()\n",
    "process2.join()\n",
    "\n",
    "print(\"Final counter value:\", counter.value)\n",
    "```\n",
    "\n",
    "In this example, the `multiprocessing` module is used to create separate processes, each with its own GIL,"
   ]
  },
  {
   "cell_type": "code",
   "execution_count": null,
   "metadata": {},
   "outputs": [],
   "source": []
  },
  {
   "cell_type": "markdown",
   "metadata": {},
   "source": [
    "Certainly! Here are some multithreading-related problem-solving questions that you can use to practice and enhance your understanding of multithreading in Python:\n",
    "\n",
    "1. **Thread Communication:**\n",
    "   - Implement a program where two threads alternate printing even and odd numbers up to a certain limit. Ensure that the threads communicate and synchronize their execution.\n",
    "\n",
    "2. **Producer-Consumer Problem:**\n",
    "   - Solve the classic producer-consumer problem using multithreading. Implement a shared buffer between two threads: one producing items, and the other consuming items.\n",
    "\n",
    "3. **Thread Safety:**\n",
    "   - Write a program that demonstrates the importance of thread safety. Create a shared counter and increment it in multiple threads without proper synchronization. Observe the outcome and then modify the program to ensure thread safety.\n",
    "\n",
    "4. **Thread Pool:**\n",
    "   - Create a simple thread pool manager that allows you to submit tasks for execution. Implement a basic thread pool using the `concurrent.futures` module or by managing a pool of threads manually.\n",
    "\n",
    "5. **Parallelism vs Concurrency:**\n",
    "   - Write a program that performs a CPU-bound task, such as calculating the sum of a large number of prime numbers. Compare the performance of a multithreading approach with a multiprocessing approach. Discuss the results.\n",
    "\n",
    "6. **Download Manager:**\n",
    "   - Build a simple download manager that downloads multiple files concurrently using threads. Implement a queue to manage the download tasks and ensure efficient use of threads.\n",
    "\n",
    "7. **Thread Termination:**\n",
    "   - Create a program where multiple threads perform different tasks. Implement a mechanism to gracefully terminate the threads when a specific condition is met, such as when the user presses a key.\n",
    "\n",
    "8. **Thread-local Storage:**\n",
    "   - Explore the use of thread-local storage. Write a program where each thread maintains its own counter, and the counters are independent of each other.\n",
    "\n",
    "9. **Daemon Threads:**\n",
    "   - Design a program that uses both daemon and non-daemon threads. Observe the behavior of daemon threads and how they terminate when the main program exits.\n",
    "\n",
    "10. **Reader-Writer Problem:**\n",
    "    - Implement a solution to the reader-writer problem using multithreading. Create multiple reader threads and writer threads, ensuring that readers can read simultaneously but writers have exclusive access.\n",
    "\n",
    "These problems cover a range of multithreading concepts, including synchronization, thread communication, thread safety, parallelism, and the use of thread pools. Solving these problems will deepen your understanding of multithreading and help you become more proficient in writing concurrent programs in Python."
   ]
  },
  {
   "cell_type": "code",
   "execution_count": null,
   "metadata": {},
   "outputs": [],
   "source": []
  },
  {
   "cell_type": "markdown",
   "metadata": {},
   "source": [
    "Certainly! Here are examples of code for each of the mentioned multithreading-related problems:\n",
    "\n",
    "### 1. Thread Communication:\n",
    "\n",
    "```python\n",
    "import threading\n",
    "\n",
    "limit = 10\n",
    "lock = threading.Lock()\n",
    "\n",
    "def print_numbers(flag):\n",
    "    for i in range(flag, limit+1, 2):\n",
    "        with lock:\n",
    "            print(f\"Thread {flag}: {i}\")\n",
    "\n",
    "# Create two threads\n",
    "thread1 = threading.Thread(target=print_numbers, args=(0,), name='Thread 1')\n",
    "thread2 = threading.Thread(target=print_numbers, args=(1,), name='Thread 2')\n",
    "\n",
    "# Start the threads\n",
    "thread1.start()\n",
    "thread2.start()\n",
    "\n",
    "# Wait for both threads to finish\n",
    "thread1.join()\n",
    "thread2.join()\n",
    "\n",
    "print(\"Main thread exiting.\")\n",
    "```\n",
    "\n",
    "### 2. Producer-Consumer Problem:\n",
    "\n",
    "```python\n",
    "import threading\n",
    "import queue\n",
    "import time\n",
    "\n",
    "buffer_size = 5\n",
    "buffer = queue.Queue(maxsize=buffer_size)\n",
    "\n",
    "def producer():\n",
    "    for i in range(10):\n",
    "        time.sleep(1)\n",
    "        item = f\"Item-{i}\"\n",
    "        buffer.put(item)\n",
    "        print(f\"Produced: {item}\")\n",
    "\n",
    "def consumer():\n",
    "    while True:\n",
    "        time.sleep(2)\n",
    "        item = buffer.get()\n",
    "        if item is None:\n",
    "            break\n",
    "        print(f\"Consumed: {item}\")\n",
    "\n",
    "# Create producer and consumer threads\n",
    "producer_thread = threading.Thread(target=producer)\n",
    "consumer_thread = threading.Thread(target=consumer)\n",
    "\n",
    "# Start the threads\n",
    "producer_thread.start()\n",
    "consumer_thread.start()\n",
    "\n",
    "# Wait for the producer to finish\n",
    "producer_thread.join()\n",
    "\n",
    "# Stop the consumer by putting None in the buffer\n",
    "buffer.put(None)\n",
    "consumer_thread.join()\n",
    "\n",
    "print(\"Main thread exiting.\")\n",
    "```\n",
    "\n",
    "### 3. Thread Safety:\n",
    "\n",
    "```python\n",
    "import threading\n",
    "\n",
    "counter = 0\n",
    "counter_lock = threading.Lock()\n",
    "\n",
    "def increment_counter():\n",
    "    global counter\n",
    "    for _ in range(1000000):\n",
    "        with counter_lock:\n",
    "            counter += 1\n",
    "\n",
    "# Create two threads that increment the counter\n",
    "thread1 = threading.Thread(target=increment_counter)\n",
    "thread2 = threading.Thread(target=increment_counter)\n",
    "\n",
    "thread1.start()\n",
    "thread2.start()\n",
    "\n",
    "thread1.join()\n",
    "thread2.join()\n",
    "\n",
    "print(\"Final counter value:\", counter)\n",
    "```\n",
    "\n",
    "### 4. Thread Pool:\n",
    "\n",
    "```python\n",
    "import concurrent.futures\n",
    "import time\n",
    "\n",
    "def task(name):\n",
    "    print(f\"Task {name} started.\")\n",
    "    time.sleep(2)\n",
    "    print(f\"Task {name} completed.\")\n",
    "\n",
    "# Create a ThreadPoolExecutor with 2 threads\n",
    "with concurrent.futures.ThreadPoolExecutor(max_workers=2) as executor:\n",
    "    # Submit tasks to the thread pool\n",
    "    future1 = executor.submit(task, 'A')\n",
    "    future2 = executor.submit(task, 'B')\n",
    "\n",
    "    # Wait for tasks to complete\n",
    "    concurrent.futures.wait([future1, future2])\n",
    "\n",
    "print(\"Main thread exiting.\")\n",
    "```\n",
    "\n",
    "### 5. Parallelism vs Concurrency:\n",
    "\n",
    "For this problem, you can write separate examples for multithreading and multiprocessing. Here's a simplified version for multithreading:\n",
    "\n",
    "```python\n",
    "import threading\n",
    "import time\n",
    "\n",
    "def cpu_bound_task():\n",
    "    result = 0\n",
    "    for _ in range(10**7):\n",
    "        result += 1\n",
    "    print(\"Task completed.\")\n",
    "\n",
    "# Create two threads for CPU-bound task\n",
    "thread1 = threading.Thread(target=cpu_bound_task)\n",
    "thread2 = threading.Thread(target=cpu_bound_task)\n",
    "\n",
    "# Start the threads\n",
    "thread1.start()\n",
    "thread2.start()\n",
    "\n",
    "# Wait for both threads to finish\n",
    "thread1.join()\n",
    "thread2.join()\n",
    "\n",
    "print(\"Main thread exiting.\")\n",
    "```\n",
    "\n",
    "### 6. Download Manager:\n",
    "\n",
    "```python\n",
    "import threading\n",
    "import time\n",
    "\n",
    "class DownloadManager:\n",
    "    def __init__(self):\n",
    "        self.download_queue = [\"file1\", \"file2\", \"file3\"]\n",
    "        self.lock = threading.Lock()\n",
    "\n",
    "    def download_file(self, file):\n",
    "        with self.lock:\n",
    "            print(f\"Downloading {file}...\")\n",
    "            time.sleep(2)\n",
    "            print(f\"{file} downloaded.\")\n",
    "\n",
    "    def start_downloads(self):\n",
    "        threads = []\n",
    "        for file in self.download_queue:\n",
    "            thread = threading.Thread(target=self.download_file, args=(file,))\n",
    "            threads.append(thread)\n",
    "            thread.start()\n",
    "\n",
    "        for thread in threads:\n",
    "            thread.join()\n",
    "\n",
    "# Create a DownloadManager\n",
    "manager = DownloadManager()\n",
    "\n",
    "# Start download threads\n",
    "manager.start_downloads()\n",
    "\n",
    "print(\"Main thread exiting.\")\n",
    "```\n",
    "\n",
    "### 7. Thread Termination:\n",
    "\n",
    "```python\n",
    "import threading\n",
    "import time\n",
    "import keyboard\n",
    "\n",
    "def task():\n",
    "    while not keyboard.is_pressed('q'):\n",
    "        print(\"Task running...\")\n",
    "        time.sleep(1)\n",
    "    print(\"Task terminated.\")\n",
    "\n",
    "# Create a thread for the task\n",
    "thread = threading.Thread(target=task)\n",
    "\n",
    "# Start the thread\n",
    "thread.start()\n",
    "\n",
    "# Wait for the user to press 'q' to terminate the thread\n",
    "keyboard.wait('q')\n",
    "\n",
    "# Terminate the thread\n",
    "thread.join()\n",
    "\n",
    "print(\"Main thread exiting.\")\n",
    "```\n",
    "\n",
    "### 8. Reader-Writer Problem:\n",
    "\n",
    "```python\n",
    "import threading\n",
    "import time\n",
    "\n",
    "class SharedResource:\n",
    "    def __init__(self):\n",
    "        self.value = 0\n",
    "        self.readers = 0\n",
    "        self.lock = threading.Lock()\n",
    "        self.readers_cv = threading.Condition(self.lock)\n",
    "\n",
    "    def read(self, reader_name):\n",
    "        with self.lock:\n",
    "            while self.readers > 0:\n",
    "                self.readers_cv.wait()\n",
    "\n",
    "            self.readers += 1\n",
    "            print(f\"Reader {reader_name} reads value: {self.value}\")\n",
    "            self.readers -= 1\n",
    "            self.readers_cv.notify_all()\n",
    "\n",
    "    def write(self, writer_name, new_value):\n",
    "        with self.lock:\n",
    "            while self.readers > 0:\n",
    "                self.readers_cv.wait()\n",
    "\n",
    "            print(f\"Writer {writer_name} writes value: {new_value}\")\n",
    "            self.value = new_value\n",
    "            self.readers_cv.notify_all()\n",
    "\n",
    "def reader(shared_resource, reader_name):\n",
    "    while True:\n",
    "        time.sleep(2)\n",
    "        shared_resource.read(reader_name)\n",
    "\n",
    "def writer(shared\n",
    "\n",
    "_resource, writer_name, new_value):\n",
    "    while True:\n",
    "        time.sleep(4)\n",
    "        shared_resource.write(writer_name, new_value)\n",
    "\n",
    "# Create a shared resource\n",
    "shared_resource = SharedResource()\n",
    "\n",
    "# Create reader and writer threads\n",
    "reader1 = threading.Thread(target=reader, args=(shared_resource, 'A'))\n",
    "reader2 = threading.Thread(target=reader, args=(shared_resource, 'B'))\n",
    "writer1 = threading.Thread(target=writer, args=(shared_resource, 'X', 10))\n",
    "writer2 = threading.Thread(target=writer, args=(shared_resource, 'Y', 20))\n",
    "\n",
    "# Start the threads\n",
    "reader1.start()\n",
    "reader2.start()\n",
    "writer1.start()\n",
    "writer2.start()\n",
    "\n",
    "# Wait for the threads to finish\n",
    "reader1.join()\n",
    "reader2.join()\n",
    "writer1.join()\n",
    "writer2.join()\n",
    "\n",
    "print(\"Main thread exiting.\")\n",
    "```\n",
    "\n",
    "These examples cover various aspects of multithreading, including communication between threads, synchronization, thread safety, and the use of thread pools. Feel free to modify and experiment with these examples to deepen your understanding of multithreading in Python."
   ]
  },
  {
   "cell_type": "code",
   "execution_count": null,
   "metadata": {},
   "outputs": [],
   "source": []
  },
  {
   "cell_type": "code",
   "execution_count": 39,
   "metadata": {},
   "outputs": [
    {
     "name": "stdout",
     "output_type": "stream",
     "text": [
      "Thread 0: 0\n",
      "Thread 0: 2\n",
      "Thread 0: 4\n",
      "Thread 0: 6\n",
      "Thread 0: 8\n",
      "Thread 0: 10\n",
      "Thread 1: 1\n",
      "Thread 1: 3\n",
      "Thread 1: 5\n",
      "Thread 1: 7\n",
      "Thread 1: 9\n",
      "Main thread exiting.\n"
     ]
    }
   ],
   "source": [
    "import threading\n",
    "\n",
    "limit = 10\n",
    "lock = threading.Lock()\n",
    "\n",
    "def print_numbers(flag):\n",
    "    for i in range(flag, limit+1, 2):\n",
    "        with lock:\n",
    "            print(f\"Thread {flag}: {i}\")\n",
    "\n",
    "# Create two threads\n",
    "thread1 = threading.Thread(target=print_numbers, args=(0,), name='Thread 1')\n",
    "thread2 = threading.Thread(target=print_numbers, args=(1,), name='Thread 2')\n",
    "\n",
    "# Start the threads\n",
    "thread1.start()\n",
    "thread2.start()\n",
    "\n",
    "# Wait for both threads to finish\n",
    "thread1.join()\n",
    "thread2.join()\n",
    "\n",
    "print(\"Main thread exiting.\")\n"
   ]
  },
  {
   "cell_type": "code",
   "execution_count": 40,
   "metadata": {},
   "outputs": [
    {
     "name": "stdout",
     "output_type": "stream",
     "text": [
      "Produced: Item-0\n",
      "Consumed: Item-0\n",
      "Produced: Item-1\n",
      "Produced: Item-2\n",
      "Consumed: Item-1\n",
      "Produced: Item-3\n",
      "Produced: Item-4\n",
      "Consumed: Item-2\n",
      "Produced: Item-5\n",
      "Produced: Item-6\n",
      "Consumed: Item-3\n",
      "Produced: Item-7\n",
      "Produced: Item-8\n",
      "Consumed: Item-4\n",
      "Produced: Item-9\n",
      "Consumed: Item-5\n",
      "Consumed: Item-6\n",
      "Consumed: Item-7\n",
      "Consumed: Item-8\n",
      "Consumed: Item-9\n",
      "Main thread exiting.\n"
     ]
    }
   ],
   "source": [
    "import threading\n",
    "import queue\n",
    "import time\n",
    "\n",
    "buffer_size = 5\n",
    "buffer = queue.Queue(maxsize=buffer_size)\n",
    "\n",
    "def producer():\n",
    "    for i in range(10):\n",
    "        time.sleep(1)\n",
    "        item = f\"Item-{i}\"\n",
    "        buffer.put(item)\n",
    "        print(f\"Produced: {item}\")\n",
    "\n",
    "def consumer():\n",
    "    while True:\n",
    "        time.sleep(2)\n",
    "        item = buffer.get()\n",
    "        if item is None:\n",
    "            break\n",
    "        print(f\"Consumed: {item}\")\n",
    "\n",
    "# Create producer and consumer threads\n",
    "producer_thread = threading.Thread(target=producer)\n",
    "consumer_thread = threading.Thread(target=consumer)\n",
    "\n",
    "# Start the threads\n",
    "producer_thread.start()\n",
    "consumer_thread.start()\n",
    "\n",
    "# Wait for the producer to finish\n",
    "producer_thread.join()\n",
    "\n",
    "# Stop the consumer by putting None in the buffer\n",
    "buffer.put(None)\n",
    "consumer_thread.join()\n",
    "\n",
    "print(\"Main thread exiting.\")\n"
   ]
  },
  {
   "cell_type": "code",
   "execution_count": null,
   "metadata": {},
   "outputs": [],
   "source": []
  },
  {
   "cell_type": "code",
   "execution_count": null,
   "metadata": {},
   "outputs": [],
   "source": []
  },
  {
   "cell_type": "code",
   "execution_count": 36,
   "metadata": {},
   "outputs": [
    {
     "name": "stdout",
     "output_type": "stream",
     "text": [
      "Thread: Thread 2, Number: 0\n",
      "Thread: Thread 1, Number: 0\n",
      "Thread: Thread 2, Number: 1Thread: Thread 1, Number: 1\n",
      "\n",
      "Thread: Thread 2, Number: 2Thread: Thread 1, Number: 2\n",
      "\n",
      "Thread: Thread 1, Number: 3\n",
      "Thread: Thread 2, Number: 3\n",
      "Thread: Thread 2, Number: 4Thread: Thread 1, Number: 4\n",
      "\n",
      "Main thread exiting.\n"
     ]
    }
   ],
   "source": [
    "import threading\n",
    "import time\n",
    "\n",
    "def print_numbers():\n",
    "    for i in range(5):\n",
    "        time.sleep(1)\n",
    "        print(f\"Thread: {threading.current_thread().name}, Number: {i}\")\n",
    "\n",
    "# Create two threads\n",
    "thread1 = threading.Thread(target=print_numbers, name='Thread 1')\n",
    "thread2 = threading.Thread(target=print_numbers, name='Thread 2')\n",
    "\n",
    "# Start the threads\n",
    "thread1.start()\n",
    "thread2.start()\n",
    "\n",
    "# Wait for both threads to finish\n",
    "thread1.join()\n",
    "thread2.join()\n",
    "\n",
    "print(\"Main thread exiting.\")\n"
   ]
  },
  {
   "cell_type": "code",
   "execution_count": 37,
   "metadata": {},
   "outputs": [
    {
     "name": "stdout",
     "output_type": "stream",
     "text": [
      "Final counter value: 2000000\n"
     ]
    }
   ],
   "source": [
    "import threading\n",
    "\n",
    "counter = 0\n",
    "counter_lock = threading.Lock()\n",
    "\n",
    "def increment_counter():\n",
    "    global counter\n",
    "    with counter_lock:\n",
    "        for _ in range(1000000):\n",
    "            counter += 1\n",
    "\n",
    "# Create two threads that increment the counter\n",
    "thread1 = threading.Thread(target=increment_counter)\n",
    "thread2 = threading.Thread(target=increment_counter)\n",
    "\n",
    "thread1.start()\n",
    "thread2.start()\n",
    "\n",
    "thread1.join()\n",
    "thread2.join()\n",
    "\n",
    "print(\"Final counter value:\", counter)\n"
   ]
  },
  {
   "cell_type": "code",
   "execution_count": 38,
   "metadata": {},
   "outputs": [
    {
     "name": "stdout",
     "output_type": "stream",
     "text": [
      "Final counter value: 0\n"
     ]
    }
   ],
   "source": [
    "from multiprocessing import Process, Value, Lock\n",
    "\n",
    "counter = Value('i', 0)\n",
    "counter_lock = Lock()\n",
    "\n",
    "def increment_counter():\n",
    "    global counter\n",
    "    with counter_lock:\n",
    "        for _ in range(1000000):\n",
    "            counter.value += 1\n",
    "\n",
    "# Create two processes that increment the counter\n",
    "process1 = Process(target=increment_counter)\n",
    "process2 = Process(target=increment_counter)\n",
    "\n",
    "process1.start()\n",
    "process2.start()\n",
    "\n",
    "process1.join()\n",
    "process2.join()\n",
    "\n",
    "print(\"Final counter value:\", counter.value)\n"
   ]
  },
  {
   "cell_type": "code",
   "execution_count": null,
   "metadata": {},
   "outputs": [],
   "source": []
  },
  {
   "cell_type": "code",
   "execution_count": null,
   "metadata": {},
   "outputs": [],
   "source": []
  },
  {
   "cell_type": "code",
   "execution_count": null,
   "metadata": {},
   "outputs": [],
   "source": []
  },
  {
   "cell_type": "code",
   "execution_count": 1,
   "metadata": {},
   "outputs": [],
   "source": [
    "import threading"
   ]
  },
  {
   "cell_type": "code",
   "execution_count": 2,
   "metadata": {},
   "outputs": [],
   "source": [
    "def test(id):\n",
    "    print(\"This is my test id %d.\" % id)"
   ]
  },
  {
   "cell_type": "code",
   "execution_count": 3,
   "metadata": {},
   "outputs": [
    {
     "name": "stdout",
     "output_type": "stream",
     "text": [
      "This is my test id 10.\n"
     ]
    }
   ],
   "source": [
    "test(10)"
   ]
  },
  {
   "cell_type": "code",
   "execution_count": 4,
   "metadata": {},
   "outputs": [
    {
     "name": "stdout",
     "output_type": "stream",
     "text": [
      "This is my test id 1.\n"
     ]
    }
   ],
   "source": [
    "test(1)"
   ]
  },
  {
   "cell_type": "code",
   "execution_count": 5,
   "metadata": {},
   "outputs": [
    {
     "name": "stdout",
     "output_type": "stream",
     "text": [
      "This is my test id 3.\n"
     ]
    }
   ],
   "source": [
    "test(3)"
   ]
  },
  {
   "cell_type": "code",
   "execution_count": 6,
   "metadata": {},
   "outputs": [],
   "source": [
    "thread = [threading.Thread(target=test, args = (i,)) for i in [10,1,3]]"
   ]
  },
  {
   "cell_type": "code",
   "execution_count": 7,
   "metadata": {},
   "outputs": [
    {
     "data": {
      "text/plain": [
       "[<Thread(Thread-5 (test), initial)>,\n",
       " <Thread(Thread-6 (test), initial)>,\n",
       " <Thread(Thread-7 (test), initial)>]"
      ]
     },
     "execution_count": 7,
     "metadata": {},
     "output_type": "execute_result"
    }
   ],
   "source": [
    "thread"
   ]
  },
  {
   "cell_type": "code",
   "execution_count": 8,
   "metadata": {},
   "outputs": [
    {
     "name": "stdout",
     "output_type": "stream",
     "text": [
      "This is my test id 10.\n",
      "This is my test id 1.\n",
      "This is my test id 3.\n"
     ]
    }
   ],
   "source": [
    "for t in thread:\n",
    "    t.start()"
   ]
  },
  {
   "cell_type": "code",
   "execution_count": null,
   "metadata": {},
   "outputs": [],
   "source": []
  },
  {
   "cell_type": "code",
   "execution_count": 9,
   "metadata": {},
   "outputs": [],
   "source": [
    "import urllib.request \n",
    "def file_download(url, filename):\n",
    "    urllib.request.urlretrieve(url, filename)"
   ]
  },
  {
   "cell_type": "code",
   "execution_count": 10,
   "metadata": {},
   "outputs": [],
   "source": [
    "file_download(\"https://raw.githubusercontent.com/itsfoss/text-files/master/agatha.txt\", \"Thread0.txt\")"
   ]
  },
  {
   "cell_type": "code",
   "execution_count": 11,
   "metadata": {},
   "outputs": [],
   "source": [
    "url_list = ['https://raw.githubusercontent.com/itsfoss/text-files/master/agatha.txt' , 'https://raw.githubusercontent.com/itsfoss/text-files/master/sherlock.txt' ,'https://raw.githubusercontent.com/itsfoss/text-files/master/sample_log_file.txt']"
   ]
  },
  {
   "cell_type": "code",
   "execution_count": 12,
   "metadata": {},
   "outputs": [
    {
     "data": {
      "text/plain": [
       "['https://raw.githubusercontent.com/itsfoss/text-files/master/agatha.txt',\n",
       " 'https://raw.githubusercontent.com/itsfoss/text-files/master/sherlock.txt',\n",
       " 'https://raw.githubusercontent.com/itsfoss/text-files/master/sample_log_file.txt']"
      ]
     },
     "execution_count": 12,
     "metadata": {},
     "output_type": "execute_result"
    }
   ],
   "source": [
    "url_list"
   ]
  },
  {
   "cell_type": "code",
   "execution_count": 13,
   "metadata": {},
   "outputs": [],
   "source": [
    "data_file_list = ['Thread1.txt', 'Thread2.txt', 'Thread3.txt']"
   ]
  },
  {
   "cell_type": "code",
   "execution_count": 14,
   "metadata": {},
   "outputs": [
    {
     "data": {
      "text/plain": [
       "['Thread1.txt', 'Thread2.txt', 'Thread3.txt']"
      ]
     },
     "execution_count": 14,
     "metadata": {},
     "output_type": "execute_result"
    }
   ],
   "source": [
    "data_file_list"
   ]
  },
  {
   "cell_type": "code",
   "execution_count": 15,
   "metadata": {},
   "outputs": [],
   "source": [
    "thread1 = [threading.Thread(target=file_download, args=(url_list[i], data_file_list[i])) for i in range(len(url_list))]"
   ]
  },
  {
   "cell_type": "code",
   "execution_count": 16,
   "metadata": {},
   "outputs": [],
   "source": [
    "for t in thread1:\n",
    "    t.start()"
   ]
  },
  {
   "cell_type": "code",
   "execution_count": 17,
   "metadata": {},
   "outputs": [
    {
     "data": {
      "text/plain": [
       "[<Thread(Thread-8 (file_download), stopped 18484)>,\n",
       " <Thread(Thread-9 (file_download), stopped 19752)>,\n",
       " <Thread(Thread-10 (file_download), stopped 19720)>]"
      ]
     },
     "execution_count": 17,
     "metadata": {},
     "output_type": "execute_result"
    }
   ],
   "source": [
    "thread1"
   ]
  },
  {
   "cell_type": "code",
   "execution_count": 18,
   "metadata": {},
   "outputs": [],
   "source": [
    "import time"
   ]
  },
  {
   "cell_type": "code",
   "execution_count": 24,
   "metadata": {},
   "outputs": [],
   "source": [
    "def test0(x):\n",
    "    for i in range(x):\n",
    "        print(\"test1 prints the value of x %d and prints the value of i %d\" %(x,i))"
   ]
  },
  {
   "cell_type": "code",
   "execution_count": 25,
   "metadata": {},
   "outputs": [
    {
     "name": "stdout",
     "output_type": "stream",
     "text": [
      "test1 prints the value of x 10 and prints the value of i 0\n",
      "test1 prints the value of x 10 and prints the value of i 1\n",
      "test1 prints the value of x 10 and prints the value of i 2\n",
      "test1 prints the value of x 10 and prints the value of i 3\n",
      "test1 prints the value of x 10 and prints the value of i 4\n",
      "test1 prints the value of x 10 and prints the value of i 5\n",
      "test1 prints the value of x 10 and prints the value of i 6\n",
      "test1 prints the value of x 10 and prints the value of i 7\n",
      "test1 prints the value of x 10 and prints the value of i 8\n",
      "test1 prints the value of x 10 and prints the value of i 9\n"
     ]
    }
   ],
   "source": [
    "test0(10)"
   ]
  },
  {
   "cell_type": "code",
   "execution_count": 26,
   "metadata": {},
   "outputs": [
    {
     "name": "stdout",
     "output_type": "stream",
     "text": [
      "test1 prints the value of x 5 and prints the value of i 0\n",
      "test1 prints the value of x 5 and prints the value of i 1\n",
      "test1 prints the value of x 5 and prints the value of i 2\n",
      "test1 prints the value of x 5 and prints the value of i 3\n",
      "test1 prints the value of x 5 and prints the value of i 4\n"
     ]
    }
   ],
   "source": [
    "test0(5)"
   ]
  },
  {
   "cell_type": "code",
   "execution_count": 27,
   "metadata": {},
   "outputs": [],
   "source": [
    "def test1(x):\n",
    "    for i in range(x):\n",
    "        print(\"test1 prints the value of x %d and prints the value of i %d\" %(x,i))\n",
    "        time.sleep(1)"
   ]
  },
  {
   "cell_type": "code",
   "execution_count": 28,
   "metadata": {},
   "outputs": [
    {
     "name": "stdout",
     "output_type": "stream",
     "text": [
      "test1 prints the value of x 10 and prints the value of i 0\n",
      "test1 prints the value of x 10 and prints the value of i 1\n",
      "test1 prints the value of x 10 and prints the value of i 2\n",
      "test1 prints the value of x 10 and prints the value of i 3\n",
      "test1 prints the value of x 10 and prints the value of i 4\n",
      "test1 prints the value of x 10 and prints the value of i 5\n",
      "test1 prints the value of x 10 and prints the value of i 6\n",
      "test1 prints the value of x 10 and prints the value of i 7\n",
      "test1 prints the value of x 10 and prints the value of i 8\n",
      "test1 prints the value of x 10 and prints the value of i 9\n"
     ]
    }
   ],
   "source": [
    "test1(10)"
   ]
  },
  {
   "cell_type": "code",
   "execution_count": 30,
   "metadata": {},
   "outputs": [],
   "source": [
    "def test2(x):\n",
    "    for i in range(10):\n",
    "        print(\"test1 prints the value of x %d and prints the value of i %d\" %(x,i))\n",
    "        time.sleep(0.5)"
   ]
  },
  {
   "cell_type": "code",
   "execution_count": 31,
   "metadata": {},
   "outputs": [
    {
     "name": "stdout",
     "output_type": "stream",
     "text": [
      "test1 prints the value of x 5 and prints the value of i 0\n",
      "test1 prints the value of x 5 and prints the value of i 1\n",
      "test1 prints the value of x 5 and prints the value of i 2\n",
      "test1 prints the value of x 5 and prints the value of i 3\n",
      "test1 prints the value of x 5 and prints the value of i 4\n",
      "test1 prints the value of x 5 and prints the value of i 5\n",
      "test1 prints the value of x 5 and prints the value of i 6\n",
      "test1 prints the value of x 5 and prints the value of i 7\n",
      "test1 prints the value of x 5 and prints the value of i 8\n",
      "test1 prints the value of x 5 and prints the value of i 9\n"
     ]
    }
   ],
   "source": [
    "test2(5)"
   ]
  },
  {
   "cell_type": "code",
   "execution_count": 34,
   "metadata": {},
   "outputs": [
    {
     "name": "stdout",
     "output_type": "stream",
     "text": [
      "test1 prints the value of x 100 and prints the value of i 0 \n",
      "\n",
      "test1 prints the value of x 100 and prints the value of i 1 \n",
      "\n",
      "test1 prints the value of x 100 and prints the value of i 2 \n",
      "\n",
      "test1 prints the value of x 100 and prints the value of i 3 \n",
      "\n",
      "test1 prints the value of x 100 and prints the value of i 4 \n",
      "\n",
      "test1 prints the value of x 100 and prints the value of i 5 \n",
      "\n",
      "test1 prints the value of x 100 and prints the value of i 6 \n",
      "\n",
      "test1 prints the value of x 100 and prints the value of i 7 \n",
      "\n",
      "test1 prints the value of x 100 and prints the value of i 8 \n",
      "\n",
      "test1 prints the value of x 100 and prints the value of i 9 \n",
      "\n",
      "test1 prints the value of x 10 and prints the value of i 0 \n",
      "\n",
      "test1 prints the value of x 10 and prints the value of i 1 \n",
      "\n",
      "test1 prints the value of x 10 and prints the value of i 2 \n",
      "\n",
      "test1 prints the value of x 10 and prints the value of i 3 \n",
      "\n",
      "test1 prints the value of x 10 and prints the value of i 4 \n",
      "\n",
      "test1 prints the value of x 10 and prints the value of i 5 \n",
      "\n",
      "test1 prints the value of x 10 and prints the value of i 6 \n",
      "\n",
      "test1 prints the value of x 10 and prints the value of i 7 \n",
      "\n",
      "test1 prints the value of x 10 and prints the value of i 8 \n",
      "\n",
      "test1 prints the value of x 10 and prints the value of i 9 \n",
      "\n",
      "test1 prints the value of x 20 and prints the value of i 0 \n",
      "\n",
      "test1 prints the value of x 20 and prints the value of i 1 \n",
      "\n",
      "test1 prints the value of x 20 and prints the value of i 2 \n",
      "\n",
      "test1 prints the value of x 20 and prints the value of i 3 \n",
      "\n",
      "test1 prints the value of x 20 and prints the value of i 4 \n",
      "\n",
      "test1 prints the value of x 20 and prints the value of i 5 \n",
      "\n",
      "test1 prints the value of x 20 and prints the value of i 6 \n",
      "\n",
      "test1 prints the value of x 20 and prints the value of i 7 \n",
      "\n",
      "test1 prints the value of x 20 and prints the value of i 8 \n",
      "\n",
      "test1 prints the value of x 20 and prints the value of i 9 \n",
      "\n",
      "test1 prints the value of x 5 and prints the value of i 0 \n",
      "\n",
      "test1 prints the value of x 5 and prints the value of i 1 \n",
      "\n",
      "test1 prints the value of x 5 and prints the value of i 2 \n",
      "\n",
      "test1 prints the value of x 5 and prints the value of i 3 \n",
      "\n",
      "test1 prints the value of x 5 and prints the value of i 4 \n",
      "\n",
      "test1 prints the value of x 5 and prints the value of i 5 \n",
      "\n",
      "test1 prints the value of x 5 and prints the value of i 6 \n",
      "\n",
      "test1 prints the value of x 5 and prints the value of i 7 \n",
      "\n",
      "test1 prints the value of x 5 and prints the value of i 8 \n",
      "\n",
      "test1 prints the value of x 5 and prints the value of i 9 \n",
      "\n"
     ]
    }
   ],
   "source": [
    "def test3(x):\n",
    "    for i in range(10):\n",
    "        print(\"test1 prints the value of x %d and prints the value of i %d \\n\" %(x,i))\n",
    "        # time.sleep(1)\n",
    "# creating 4 threads\n",
    "thread2 = [threading.Thread(target=test3, args=(i,)) for i in [100, 10, 20, 5]]\n",
    "\n",
    "for t in thread2:\n",
    "    t.start()"
   ]
  },
  {
   "cell_type": "code",
   "execution_count": null,
   "metadata": {},
   "outputs": [],
   "source": []
  },
  {
   "cell_type": "code",
   "execution_count": 35,
   "metadata": {},
   "outputs": [
    {
     "name": "stdout",
     "output_type": "stream",
     "text": [
      "Value of x 1 and value of shared_var 1..\n"
     ]
    },
    {
     "name": "stdout",
     "output_type": "stream",
     "text": [
      "Value of x 2 and value of shared_var 2..\n",
      "Value of x 3 and value of shared_var 3..\n",
      "Value of x 4 and value of shared_var 4..\n",
      "Value of x 5 and value of shared_var 5..\n",
      "Value of x 6 and value of shared_var 6..\n",
      "Value of x 7 and value of shared_var 7..\n",
      "Value of x 8 and value of shared_var 8..\n",
      "Value of x 8 and value of shared_var 9..\n",
      "Value of x 9 and value of shared_var 10..\n"
     ]
    }
   ],
   "source": [
    "shared_var = 0\n",
    "lock_var = threading.Lock()\n",
    "\n",
    "def test4(x):\n",
    "    global shared_var\n",
    "    with lock_var:\n",
    "        shared_var = shared_var + 1\n",
    "        print(\"Value of x %d and value of shared_var %d..\" %(x, shared_var))\n",
    "        time.sleep(1)\n",
    "\n",
    "thread3 = [threading.Thread(target=test4, args=(i,)) for i in [1,2,3,4,5,6,7,8,8,9]]\n",
    "\n",
    "for t in thread3:\n",
    "    t.start()"
   ]
  },
  {
   "cell_type": "code",
   "execution_count": null,
   "metadata": {},
   "outputs": [],
   "source": []
  }
 ],
 "metadata": {
  "kernelspec": {
   "display_name": "Python 3",
   "language": "python",
   "name": "python3"
  },
  "language_info": {
   "codemirror_mode": {
    "name": "ipython",
    "version": 3
   },
   "file_extension": ".py",
   "mimetype": "text/x-python",
   "name": "python",
   "nbconvert_exporter": "python",
   "pygments_lexer": "ipython3",
   "version": "3.10.11"
  }
 },
 "nbformat": 4,
 "nbformat_minor": 2
}
