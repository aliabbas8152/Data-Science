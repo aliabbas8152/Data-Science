{
 "cells": [
  {
   "cell_type": "markdown",
   "metadata": {},
   "source": [
    "# Modules And Import Statements"
   ]
  },
  {
   "cell_type": "markdown",
   "metadata": {},
   "source": [
    "In Python, modules and packages are organizational units that help structure code and promote reusability. Let's explore these concepts in more detail:\n",
    "\n",
    "### Modules:\n",
    "\n",
    "A module is a single file containing Python definitions, statements, and functions. It serves as a way to organize code into reusable units. You can think of a module as a Python script that you can import into other scripts. Here's a simple example:\n",
    "\n",
    "```python\n",
    "# module_example.py\n",
    "\n",
    "def greet(name):\n",
    "    return f\"Hello, {name}!\"\n",
    "\n",
    "if __name__ == \"__main__\":\n",
    "    print(greet(\"John\"))\n",
    "```\n",
    "\n",
    "In another script, you can import and use this module:\n",
    "\n",
    "```python\n",
    "# main_script.py\n",
    "\n",
    "import module_example\n",
    "\n",
    "print(module_example.greet(\"Alice\"))\n",
    "```\n",
    "\n",
    "In this example, `module_example` is a module, and `greet` is a function defined within that module. By importing the module in `main_script.py`, you can use the `greet` function from the `module_example` module.\n",
    "\n",
    "### Packages:\n",
    "\n",
    "A package is a way of organizing related modules into a single directory hierarchy. It helps prevent naming conflicts and provides a structured way to manage larger codebases. A package is essentially a directory that contains a special file called `__init__.py` and one or more module files. Here's a simple example:\n",
    "\n",
    "```\n",
    "my_package/\n",
    "|-- __init__.py\n",
    "|-- module1.py\n",
    "|-- module2.py\n",
    "```\n",
    "\n",
    "In this example, `my_package` is a package. The `__init__.py` file can be empty or contain initialization code for the package. The modules `module1.py` and `module2.py` are part of the package.\n",
    "\n",
    "You can then import modules from the package in a similar way as before:\n",
    "\n",
    "```python\n",
    "# main_script.py\n",
    "\n",
    "from my_package import module1, module2\n",
    "\n",
    "print(module1.function1())\n",
    "print(module2.function2())\n",
    "```\n",
    "\n",
    "In this example, `function1` and `function2` are functions defined in `module1` and `module2`, respectively, which are part of the `my_package` package.\n",
    "\n",
    "### Benefits:\n",
    "\n",
    "1. **Modularity:** Modules and packages help organize code into manageable units, promoting modularity and code reuse.\n",
    "\n",
    "2. **Namespace Isolation:** Each module and package has its namespace, preventing naming conflicts in larger projects.\n",
    "\n",
    "3. **Readability:** Organizing code into modules and packages improves code readability and maintainability.\n",
    "\n",
    "4. **Encapsulation:** Modules and packages allow you to encapsulate related functionality, making it easier to understand and use.\n",
    "\n",
    "When working on larger projects, proper organization using modules and packages becomes crucial for maintainability and collaboration. It's a good practice to design your codebase with a modular and organized structure from the beginning.\n",
    "   "
   ]
  },
  {
   "cell_type": "code",
   "execution_count": null,
   "metadata": {},
   "outputs": [],
   "source": []
  },
  {
   "cell_type": "code",
   "execution_count": null,
   "metadata": {},
   "outputs": [],
   "source": [
    "# it will be better to run this code in py domain\n",
    "# below 3 lines are written to merge the path\n",
    "import os, sys\n",
    "from os.path import dirname, join, abspath\n",
    "sys.path.insert(0, abspath(join(dirname(__file__) , '..')))    \n",
    "\n",
    "from Payment import payment_details\n",
    "\n",
    "def course():\n",
    "    print(\"this is my course file.\")\n",
    "\n",
    "\n",
    "payment_details.payment() "
   ]
  },
  {
   "cell_type": "code",
   "execution_count": null,
   "metadata": {},
   "outputs": [],
   "source": []
  }
 ],
 "metadata": {
  "kernelspec": {
   "display_name": "Python 3",
   "language": "python",
   "name": "python3"
  },
  "language_info": {
   "codemirror_mode": {
    "name": "ipython",
    "version": 3
   },
   "file_extension": ".py",
   "mimetype": "text/x-python",
   "name": "python",
   "nbconvert_exporter": "python",
   "pygments_lexer": "ipython3",
   "version": "3.10.11"
  }
 },
 "nbformat": 4,
 "nbformat_minor": 2
}
