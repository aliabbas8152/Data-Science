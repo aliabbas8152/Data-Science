{
 "cells": [
  {
   "cell_type": "markdown",
   "metadata": {},
   "source": [
    "# Best Practice Exception Handling"
   ]
  },
  {
   "cell_type": "markdown",
   "metadata": {},
   "source": [
    "Exception handling is a crucial aspect of writing robust and reliable code. Here are some best practices to follow when working with exception handling in Python:\n",
    "\n",
    "1. **Be Specific in Exception Handling:**\n",
    "   - Catch only the exceptions you expect and can handle. Avoid catching the generic `Exception` unless necessary, as it may catch unexpected errors.\n",
    "\n",
    "   ```python\n",
    "   try:\n",
    "       # Some code that might raise a specific exception\n",
    "   except SpecificException as e:\n",
    "       # Handle SpecificException\n",
    "   ```\n",
    "\n",
    "2. **Use `else` for Code Without Exceptions:**\n",
    "   - Use the `else` block to execute code that should only run if no exceptions were raised. This improves readability by separating exception handling from regular code.\n",
    "\n",
    "   ```python\n",
    "   try:\n",
    "       # Some code that might raise an exception\n",
    "   except SpecificException as e:\n",
    "       # Handle SpecificException\n",
    "   else:\n",
    "       # Code to execute if no exceptions were raised\n",
    "   ```\n",
    "\n",
    "3. **Use `finally` for Cleanup:**\n",
    "   - Use the `finally` block for code that must be executed whether an exception occurs or not, such as cleanup operations (closing files, releasing resources).\n",
    "\n",
    "   ```python\n",
    "   try:\n",
    "       # Some code that might raise an exception\n",
    "   except SpecificException as e:\n",
    "       # Handle SpecificException\n",
    "   finally:\n",
    "       # Cleanup code\n",
    "   ```\n",
    "\n",
    "4. **Provide Meaningful Error Messages:**\n",
    "   - Include meaningful information in error messages to aid in debugging. Include relevant details about the exception, the context, and possible solutions.\n",
    "\n",
    "   ```python\n",
    "   try:\n",
    "       # Some code that might raise an exception\n",
    "   except SpecificException as e:\n",
    "       print(f\"Error: {e}\")\n",
    "   ```\n",
    "\n",
    "5. **Avoid Bare `except`:**\n",
    "   - Avoid using a bare `except` clause as it catches all exceptions, making it harder to identify and debug issues. Be specific about the exceptions you catch.\n",
    "\n",
    "   ```python\n",
    "   try:\n",
    "       # Some code that might raise an exception\n",
    "   except:\n",
    "       # Avoid using bare except; be specific\n",
    "   ```\n",
    "\n",
    "6. **Log Exceptions:**\n",
    "   - Use the `logging` module to log exceptions. This is especially important in production environments to gather information about errors.\n",
    "\n",
    "   ```python\n",
    "   import logging\n",
    "\n",
    "   try:\n",
    "       # Some code that might raise an exception\n",
    "   except SpecificException as e:\n",
    "       logging.error(f\"Error: {e}\")\n",
    "   ```\n",
    "\n",
    "7. **Reraise Exceptions Sparingly:**\n",
    "   - Avoid reraising exceptions unless you have a good reason. If you catch an exception but cannot handle it properly, it's often better to let it propagate up the call stack.\n",
    "\n",
    "   ```python\n",
    "   try:\n",
    "       # Some code that might raise an exception\n",
    "   except SpecificException as e:\n",
    "       # Do some handling\n",
    "       raise  # Reraise the exception\n",
    "   ```\n",
    "\n",
    "8. **Use `with` Statement for Resource Management:**\n",
    "   - When working with resources like files or network connections, use the `with` statement to ensure proper cleanup. This is especially useful with objects that implement the context management protocol.\n",
    "\n",
    "   ```python\n",
    "   with open(\"file.txt\", \"r\") as file:\n",
    "       # Code that uses the file\n",
    "   ```\n",
    "\n",
    "9. **Consider Custom Exceptions:**\n",
    "   - Consider creating custom exception classes for specific error conditions in your application. This provides clarity and allows you to handle different types of errors more precisely.\n",
    "\n",
    "   ```python\n",
    "   class MyCustomError(Exception):\n",
    "       pass\n",
    "\n",
    "   try:\n",
    "       # Some code that might raise MyCustomError\n",
    "   except MyCustomError as e:\n",
    "       # Handle MyCustomError\n",
    "   ```\n",
    "\n",
    "10. **Test Exception Handling:**\n",
    "    - Write tests that cover different scenarios, including those that trigger exceptions. Testing exception handling ensures that your code behaves correctly in various error situations.\n",
    "\n",
    "   ```python\n",
    "   def test_function():\n",
    "       # Test code with various inputs, including those that raise exceptions\n",
    "   ```\n",
    "\n",
    "By following these best practices, you can create more robust and maintainable code that gracefully handles errors and provides meaningful feedback in different situations."
   ]
  },
  {
   "cell_type": "code",
   "execution_count": 1,
   "metadata": {},
   "outputs": [
    {
     "name": "stdout",
     "output_type": "stream",
     "text": [
      "division by zero\n"
     ]
    }
   ],
   "source": [
    "# use always a specific exception\n",
    "\n",
    "try:\n",
    "    10/0\n",
    "except ZeroDivisionError as e:\n",
    "    print(e)    "
   ]
  },
  {
   "cell_type": "code",
   "execution_count": 3,
   "metadata": {},
   "outputs": [
    {
     "name": "stdout",
     "output_type": "stream",
     "text": [
      "this is my Zero divisiion Error i am handling.. division by zero\n"
     ]
    }
   ],
   "source": [
    "# print always a valid message\n",
    "\n",
    "try:\n",
    "    10/0\n",
    "except ZeroDivisionError as e:\n",
    "    print(\"this is my Zero divisiion Error i am handling..\", e)  "
   ]
  },
  {
   "cell_type": "code",
   "execution_count": 4,
   "metadata": {},
   "outputs": [],
   "source": [
    "# always try to log\n",
    "\n",
    "import logging\n",
    "logging.basicConfig(filename=\"error.log\", level = logging.ERROR)\n",
    "try:\n",
    "    10/0\n",
    "except ZeroDivisionError as e:\n",
    "    logging.error(\"This is my Zero division error i am handling...{}\".format(e))    "
   ]
  },
  {
   "cell_type": "code",
   "execution_count": 5,
   "metadata": {},
   "outputs": [],
   "source": [
    "# always avoid to write a multiple handling\n",
    "\n",
    "try:\n",
    "    10/0\n",
    "except FileNotFoundError as e:\n",
    "        logging.error(\"This is my file not found error...{}\".format(e))\n",
    "\n",
    "except AttributeError as e:\n",
    "    logging.error(\"This is my attribute error...{}\".format(e))\n",
    "\n",
    "except ZeroDivisionError as e:\n",
    "    logging.error(\"This is my Zero division error i am handling...{}\".format(e))      "
   ]
  },
  {
   "cell_type": "code",
   "execution_count": 6,
   "metadata": {},
   "outputs": [],
   "source": [
    "# always prepare a proper documentation"
   ]
  },
  {
   "cell_type": "code",
   "execution_count": 7,
   "metadata": {},
   "outputs": [],
   "source": [
    "# cleanup all the resources\n",
    "\n",
    "try:\n",
    "    with open(\"test0.txt\", 'w') as f:\n",
    "        f.write(\"This is my msg to file..\")\n",
    "except FileNotFoundError as e:\n",
    "    logging.error(\"This is my file not found...{}\".format(e))\n",
    "finally:\n",
    "    f.close()            "
   ]
  },
  {
   "cell_type": "code",
   "execution_count": null,
   "metadata": {},
   "outputs": [],
   "source": []
  }
 ],
 "metadata": {
  "kernelspec": {
   "display_name": "Python 3",
   "language": "python",
   "name": "python3"
  },
  "language_info": {
   "codemirror_mode": {
    "name": "ipython",
    "version": 3
   },
   "file_extension": ".py",
   "mimetype": "text/x-python",
   "name": "python",
   "nbconvert_exporter": "python",
   "pygments_lexer": "ipython3",
   "version": "3.10.11"
  }
 },
 "nbformat": 4,
 "nbformat_minor": 2
}
