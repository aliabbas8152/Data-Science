{
 "cells": [
  {
   "cell_type": "markdown",
   "metadata": {},
   "source": [
    "# List Of General Use Exceptions"
   ]
  },
  {
   "cell_type": "markdown",
   "metadata": {},
   "source": [
    "Certainly! Here's a list of general-use exceptions along with examples for each type:\n",
    "\n",
    "1. **`Exception`:**\n",
    "   - Base class for all built-in exceptions.\n",
    "\n",
    "   ```python\n",
    "   try:\n",
    "       # Some code that might raise an exception\n",
    "   except Exception as e:\n",
    "       print(f\"Caught an exception: {e}\")\n",
    "   ```\n",
    "\n",
    "2. **`TypeError`:**\n",
    "   - Raised when an operation or function is applied to an object of inappropriate type.\n",
    "\n",
    "   ```python\n",
    "   try:\n",
    "       result = \"5\" + 10\n",
    "   except TypeError as e:\n",
    "       print(f\"TypeError: {e}\")\n",
    "   ```\n",
    "\n",
    "3. **`ValueError`:**\n",
    "   - Raised when a function receives an argument of the correct type but an inappropriate value.\n",
    "\n",
    "   ```python\n",
    "   try:\n",
    "       value = int(\"abc\")\n",
    "   except ValueError as e:\n",
    "       print(f\"ValueError: {e}\")\n",
    "   ```\n",
    "\n",
    "4. **`AttributeError`:**\n",
    "   - Raised when an attribute reference or assignment fails.\n",
    "\n",
    "   ```python\n",
    "   try:\n",
    "       x = 5\n",
    "       result = x.length\n",
    "   except AttributeError as e:\n",
    "       print(f\"AttributeError: {e}\")\n",
    "   ```\n",
    "\n",
    "5. **`NameError`:**\n",
    "   - Raised when a local or global name is not found.\n",
    "\n",
    "   ```python\n",
    "   try:\n",
    "       result = unknown_variable\n",
    "   except NameError as e:\n",
    "       print(f\"NameError: {e}\")\n",
    "   ```\n",
    "\n",
    "6. **`FileNotFoundError`:**\n",
    "   - Raised when attempting to open a file or directory that does not exist.\n",
    "\n",
    "   ```python\n",
    "   try:\n",
    "       with open(\"nonexistent_file.txt\", \"r\") as file:\n",
    "           content = file.read()\n",
    "   except FileNotFoundError as e:\n",
    "       print(f\"FileNotFoundError: {e}\")\n",
    "   ```\n",
    "\n",
    "7. **`IOError`:**\n",
    "   - Base class for I/O-related errors.\n",
    "\n",
    "   ```python\n",
    "   try:\n",
    "       with open(\"example.txt\", \"r\") as file:\n",
    "           file.write(\"Hello, World!\")\n",
    "   except IOError as e:\n",
    "       print(f\"IOError: {e}\")\n",
    "   ```\n",
    "\n",
    "8. **`IndexError`:**\n",
    "   - Raised when a sequence subscript is out of range.\n",
    "\n",
    "   ```python\n",
    "   try:\n",
    "       my_list = [1, 2, 3]\n",
    "       element = my_list[5]\n",
    "   except IndexError as e:\n",
    "       print(f\"IndexError: {e}\")\n",
    "   ```\n",
    "\n",
    "9. **`KeyError`:**\n",
    "   - Raised when a dictionary key is not found.\n",
    "\n",
    "   ```python\n",
    "   try:\n",
    "       my_dict = {\"name\": \"John\", \"age\": 30}\n",
    "       value = my_dict[\"gender\"]\n",
    "   except KeyError as e:\n",
    "       print(f\"KeyError: {e}\")\n",
    "   ```\n",
    "\n",
    "10. **`ZeroDivisionError`:**\n",
    "    - Raised when the second operand of a division or modulo operation is zero.\n",
    "\n",
    "    ```python\n",
    "    try:\n",
    "        result = 10 / 0\n",
    "    except ZeroDivisionError as e:\n",
    "        print(f\"ZeroDivisionError: {e}\")\n",
    "    ```\n",
    "\n",
    "11. **`OverflowError`:**\n",
    "    - Raised when the result of an arithmetic operation is too large to be represented.\n",
    "\n",
    "    ```python\n",
    "    try:\n",
    "        result = 2 ** 1000\n",
    "    except OverflowError as e:\n",
    "        print(f\"OverflowError: {e}\")\n",
    "    ```\n",
    "\n",
    "12. **`MemoryError`:**\n",
    "    - Raised when an operation runs out of memory.\n",
    "\n",
    "    ```python\n",
    "    try:\n",
    "        big_list = [0] * 10**8\n",
    "    except MemoryError as e:\n",
    "        print(f\"MemoryError: {e}\")\n",
    "    ```\n",
    "\n",
    "13. **`RecursionError`:**\n",
    "    - Raised when the maximum recursion depth is exceeded.\n",
    "\n",
    "    ```python\n",
    "    def recursive_function():\n",
    "        recursive_function()\n",
    "\n",
    "    try:\n",
    "        recursive_function()\n",
    "    except RecursionError as e:\n",
    "        print(f\"RecursionError: {e}\")\n",
    "    ```\n",
    "\n",
    "14. **`IndentationError`:**\n",
    "    - Base class for syntax errors related to incorrect indentation.\n",
    "\n",
    "    ```python\n",
    "    try:\n",
    "        if True:\n",
    "        print(\"Indented incorrectly\")\n",
    "    except IndentationError as e:\n",
    "        print(f\"IndentationError: {e}\")\n",
    "    ```\n",
    "\n",
    "15. **`SyntaxError`:**\n",
    "    - Raised for syntax errors in the Python code.\n",
    "\n",
    "    ```python\n",
    "    try:\n",
    "        eval(\"print('Hello, World!'\")\n",
    "    except SyntaxError as e:\n",
    "        print(f\"SyntaxError: {e}\")\n",
    "    ```\n",
    "\n",
    "16. **`TypeError`:**\n",
    "    - Raised when an operation or function is applied to an object of inappropriate type.\n",
    "\n",
    "    ```python\n",
    "    try:\n",
    "        result = \"5\" + 10\n",
    "    except TypeError as e:\n",
    "        print(f\"TypeError: {e}\")\n",
    "    ```\n",
    "\n",
    "17. **`ImportError`:**\n",
    "    - Raised when an import statement fails to find the module definition.\n",
    "\n",
    "    ```python\n",
    "    try:\n",
    "        import non_existent_module\n",
    "    except ImportError as e:\n",
    "        print(f\"ImportError: {e}\")\n",
    "    ```\n",
    "\n",
    "18. **`RuntimeError`:**\n",
    "    - Raised when an error is detected that doesn't fall into any of the other categories.\n",
    "\n",
    "    ```python\n",
    "    try:\n",
    "        raise RuntimeError(\"This is a runtime error\")\n",
    "    except RuntimeError as e:\n",
    "        print(f\"RuntimeError: {e}\")\n",
    "    ```\n",
    "\n",
    "19. **`OSError`:**\n",
    "    - Base class for operating system-related errors.\n",
    "\n",
    "    ```python\n",
    "    try:\n",
    "        with open(\"/nonexistent/file\", \"r\") as file:\n",
    "            content = file.read()\n",
    "    except OSError as e:\n",
    "        print(f\"OSError: {e}\")\n",
    "    ```\n",
    "\n",
    "These examples illustrate how each exception can be triggered in different situations. Handling these exceptions appropriately in your code helps ensure robustness and provides meaningful error messages to aid in debugging."
   ]
  },
  {
   "cell_type": "code",
   "execution_count": null,
   "metadata": {},
   "outputs": [],
   "source": []
  },
  {
   "cell_type": "code",
   "execution_count": null,
   "metadata": {},
   "outputs": [],
   "source": []
  },
  {
   "cell_type": "code",
   "execution_count": 1,
   "metadata": {},
   "outputs": [
    {
     "name": "stdout",
     "output_type": "stream",
     "text": [
      "division by zero\n"
     ]
    }
   ],
   "source": [
    "try:\n",
    "    a = 10 \n",
    "    a/0\n",
    "except ZeroDivisionError as e:\n",
    "    print(e)    "
   ]
  },
  {
   "cell_type": "code",
   "execution_count": 5,
   "metadata": {},
   "outputs": [
    {
     "name": "stdout",
     "output_type": "stream",
     "text": [
      "division by zero\n"
     ]
    }
   ],
   "source": [
    "try:\n",
    "    a = 10 \n",
    "    a/0\n",
    "except Exception as e:\n",
    "    print(e)    "
   ]
  },
  {
   "cell_type": "code",
   "execution_count": 3,
   "metadata": {},
   "outputs": [
    {
     "name": "stdout",
     "output_type": "stream",
     "text": [
      "invalid literal for int() with base 10: 'ali'\n"
     ]
    }
   ],
   "source": [
    "try:\n",
    "    int(\"ali\")\n",
    "except (ValueError, TypeError) as e:\n",
    "    print(e)\n"
   ]
  },
  {
   "cell_type": "code",
   "execution_count": 4,
   "metadata": {},
   "outputs": [
    {
     "name": "stdout",
     "output_type": "stream",
     "text": [
      "invalid literal for int() with base 10: 'ali'\n"
     ]
    }
   ],
   "source": [
    "try:\n",
    "    int(\"ali\")\n",
    "except Exception as e:\n",
    "    print(e)\n"
   ]
  },
  {
   "cell_type": "code",
   "execution_count": 6,
   "metadata": {},
   "outputs": [
    {
     "name": "stdout",
     "output_type": "stream",
     "text": [
      "No module named 'ali'\n"
     ]
    }
   ],
   "source": [
    "try:\n",
    "    import ali\n",
    "except ImportError as e:\n",
    "    print(e)\n"
   ]
  },
  {
   "cell_type": "code",
   "execution_count": 7,
   "metadata": {},
   "outputs": [
    {
     "name": "stdout",
     "output_type": "stream",
     "text": [
      "No module named 'ali'\n"
     ]
    }
   ],
   "source": [
    "try:\n",
    "    import ali\n",
    "except Exception as e:\n",
    "    print(e)\n"
   ]
  },
  {
   "cell_type": "code",
   "execution_count": 8,
   "metadata": {},
   "outputs": [
    {
     "name": "stdout",
     "output_type": "stream",
     "text": [
      "'key10'\n"
     ]
    }
   ],
   "source": [
    "try:\n",
    "    d = {1:[3,4,5,6], 'key':\"ali\"}\n",
    "    d[\"key10\"]\n",
    "except KeyError as e:\n",
    "    print(e)    "
   ]
  },
  {
   "cell_type": "code",
   "execution_count": 9,
   "metadata": {},
   "outputs": [
    {
     "name": "stdout",
     "output_type": "stream",
     "text": [
      "'key10'\n"
     ]
    }
   ],
   "source": [
    "try:\n",
    "    d = {1:[3,4,5,6], 'key':\"ali\"}\n",
    "    d[\"key10\"]\n",
    "except Exception as e:\n",
    "    print(e)    "
   ]
  },
  {
   "cell_type": "code",
   "execution_count": 10,
   "metadata": {},
   "outputs": [
    {
     "name": "stdout",
     "output_type": "stream",
     "text": [
      "'str' object has no attribute 'test'\n"
     ]
    }
   ],
   "source": [
    "try:\n",
    "    \"ali\".test()\n",
    "except AttributeError as e:\n",
    "    print(e)    "
   ]
  },
  {
   "cell_type": "code",
   "execution_count": 11,
   "metadata": {},
   "outputs": [
    {
     "name": "stdout",
     "output_type": "stream",
     "text": [
      "'str' object has no attribute 'test'\n"
     ]
    }
   ],
   "source": [
    "try:\n",
    "    \"ali\".test()\n",
    "except Exception as e:\n",
    "    print(e)    "
   ]
  },
  {
   "cell_type": "code",
   "execution_count": 12,
   "metadata": {},
   "outputs": [
    {
     "name": "stdout",
     "output_type": "stream",
     "text": [
      "list index out of range\n"
     ]
    }
   ],
   "source": [
    "try:\n",
    "    l = [1,2,3,3]\n",
    "    l[10]\n",
    "except IndexError as e:\n",
    "        print(e)"
   ]
  },
  {
   "cell_type": "code",
   "execution_count": 13,
   "metadata": {},
   "outputs": [
    {
     "name": "stdout",
     "output_type": "stream",
     "text": [
      "list index out of range\n"
     ]
    }
   ],
   "source": [
    "try:\n",
    "    l = [1,2,3,3]\n",
    "    l[10]\n",
    "except Exception as e:\n",
    "        print(e)"
   ]
  },
  {
   "cell_type": "code",
   "execution_count": 14,
   "metadata": {},
   "outputs": [
    {
     "name": "stdout",
     "output_type": "stream",
     "text": [
      "unsupported operand type(s) for +: 'int' and 'str'\n"
     ]
    }
   ],
   "source": [
    "try:\n",
    "    123+\"ali\"\n",
    "except TypeError as e:\n",
    "    print(e)    "
   ]
  },
  {
   "cell_type": "code",
   "execution_count": 15,
   "metadata": {},
   "outputs": [
    {
     "name": "stdout",
     "output_type": "stream",
     "text": [
      "unsupported operand type(s) for +: 'int' and 'str'\n"
     ]
    }
   ],
   "source": [
    "try:\n",
    "    123+\"ali\"\n",
    "except Exception as e:\n",
    "    print(e)    "
   ]
  },
  {
   "cell_type": "code",
   "execution_count": 17,
   "metadata": {},
   "outputs": [
    {
     "name": "stdout",
     "output_type": "stream",
     "text": [
      "[Errno 2] No such file or directory: 'test0.txt'\n"
     ]
    }
   ],
   "source": [
    "try:\n",
    "    with open(\"test0.txt\", 'r') as f:\n",
    "        f.read()\n",
    "except FileNotFoundError as e:\n",
    "    print(e)        "
   ]
  },
  {
   "cell_type": "code",
   "execution_count": 18,
   "metadata": {},
   "outputs": [
    {
     "name": "stdout",
     "output_type": "stream",
     "text": [
      "[Errno 2] No such file or directory: 'test0.txt'\n"
     ]
    }
   ],
   "source": [
    "try:\n",
    "    with open(\"test0.txt\", 'r') as f:\n",
    "        f.read()\n",
    "except Exception as e:\n",
    "    print(e)        "
   ]
  },
  {
   "cell_type": "code",
   "execution_count": 19,
   "metadata": {},
   "outputs": [
    {
     "name": "stdout",
     "output_type": "stream",
     "text": [
      "test:- [Errno 2] No such file or directory: 'test0.txt'\n"
     ]
    }
   ],
   "source": [
    "try:\n",
    "    with open(\"test0.txt\", 'r') as f:\n",
    "        f.read()\n",
    "except Exception as e:           # this is block will run because every error comes into this superclass\n",
    "    print(\"test:-\", e)     \n",
    "except FileNotFoundError as e:\n",
    "    print(\"this is my file not found error\", e)    "
   ]
  },
  {
   "cell_type": "code",
   "execution_count": 20,
   "metadata": {},
   "outputs": [],
   "source": [
    "def test(file):\n",
    "    try:\n",
    "        with open(\"test0.txt\", 'r') as f:\n",
    "            f.read()\n",
    "    except Exception as e:           # this is block will run because every error comes into this superclass\n",
    "        print(\"test:-\", e)     \n",
    "    except FileNotFoundError as e:\n",
    "        print(\"this is my file not found error\", e)    "
   ]
  },
  {
   "cell_type": "code",
   "execution_count": null,
   "metadata": {},
   "outputs": [],
   "source": []
  }
 ],
 "metadata": {
  "kernelspec": {
   "display_name": "Python 3",
   "language": "python",
   "name": "python3"
  },
  "language_info": {
   "codemirror_mode": {
    "name": "ipython",
    "version": 3
   },
   "file_extension": ".py",
   "mimetype": "text/x-python",
   "name": "python",
   "nbconvert_exporter": "python",
   "pygments_lexer": "ipython3",
   "version": "3.10.11"
  }
 },
 "nbformat": 4,
 "nbformat_minor": 2
}
