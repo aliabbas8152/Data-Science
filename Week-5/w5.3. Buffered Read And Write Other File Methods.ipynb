{
 "cells": [
  {
   "cell_type": "markdown",
   "metadata": {},
   "source": [
    "# Buffered Read And Write Other File Methods"
   ]
  },
  {
   "cell_type": "markdown",
   "metadata": {},
   "source": [
    "In Python, you can perform buffered read and write operations on files using the `open()` function and the file object's `read()` and `write()` methods. When you open a file, you can specify the buffering mode using the `buffering` parameter.\n",
    "\n",
    "Here's a brief overview of buffered read and write methods:\n",
    "\n",
    "### Buffered Reading:\n",
    "\n",
    "```python\n",
    "# Buffered Reading with open() and read()\n",
    "with open('example.txt', 'r', buffering=1024) as file:\n",
    "    while True:\n",
    "        data = file.read(1024)\n",
    "        if not data:\n",
    "            break\n",
    "        # Process the data\n",
    "\n",
    "# Alternatively, you can use a for loop to iterate over lines:\n",
    "with open('example.txt', 'r', buffering=1024) as file:\n",
    "    for line in file:\n",
    "        # Process each line\n",
    "```\n",
    "\n",
    "In the examples above, the `buffering` parameter specifies the buffer size in bytes. The `read()` method reads the specified number of bytes from the file.\n",
    "\n",
    "### Buffered Writing:\n",
    "\n",
    "```python\n",
    "# Buffered Writing with open() and write()\n",
    "with open('output.txt', 'w', buffering=1024) as file:\n",
    "    data_to_write = \"This is some data to write to the file.\"\n",
    "    file.write(data_to_write)\n",
    "\n",
    "# Alternatively, you can use writelines() to write a list of lines:\n",
    "lines_to_write = [\"Line 1\\n\", \"Line 2\\n\", \"Line 3\\n\"]\n",
    "with open('output.txt', 'w', buffering=1024) as file:\n",
    "    file.writelines(lines_to_write)\n",
    "```\n",
    "\n",
    "In the writing examples, the `buffering` parameter specifies the buffer size for writing. The `write()` method writes the specified data to the file, and `writelines()` writes a list of lines.\n",
    "\n",
    "Buffering can improve the performance of file operations, especially when dealing with large files. The buffer size should be chosen based on the nature of your application and the size of the data you are working with.\n",
    "\n",
    "Remember to handle exceptions appropriately (using try-except blocks) when working with files to handle potential errors, such as file not found or permission issues."
   ]
  },
  {
   "cell_type": "code",
   "execution_count": null,
   "metadata": {},
   "outputs": [],
   "source": []
  },
  {
   "cell_type": "code",
   "execution_count": 1,
   "metadata": {},
   "outputs": [],
   "source": [
    "import io"
   ]
  },
  {
   "cell_type": "code",
   "execution_count": 4,
   "metadata": {},
   "outputs": [],
   "source": [
    "with open(\"test5.txt\", \"wb\") as f:\n",
    "    file = io.BufferedWriter(f)\n",
    "    file.write(b\"I am Ali Abbas.\\n\")\n",
    "    file.write(b\"I am learning Data Science.\")\n",
    "    file.flush()"
   ]
  },
  {
   "cell_type": "code",
   "execution_count": 5,
   "metadata": {},
   "outputs": [
    {
     "name": "stdout",
     "output_type": "stream",
     "text": [
      "b'I am Ali Abbas.\\nI am learning Data Science.'\n"
     ]
    }
   ],
   "source": [
    "with open(\"test5.txt\", \"rb\") as f:\n",
    "    file = io.BufferedReader(f)\n",
    "    data = file.read()\n",
    "    print(data)"
   ]
  },
  {
   "cell_type": "code",
   "execution_count": 6,
   "metadata": {},
   "outputs": [
    {
     "name": "stdout",
     "output_type": "stream",
     "text": [
      "b'I am Ali A'\n"
     ]
    }
   ],
   "source": [
    "with open(\"test5.txt\", \"rb\") as f:\n",
    "    file = io.BufferedReader(f)\n",
    "    data = file.read(10)\n",
    "    print(data)"
   ]
  },
  {
   "cell_type": "code",
   "execution_count": 7,
   "metadata": {},
   "outputs": [
    {
     "name": "stdout",
     "output_type": "stream",
     "text": [
      "b'I am Ali Abbas.\\nI am'\n"
     ]
    }
   ],
   "source": [
    "with open(\"test5.txt\", \"rb\") as f:\n",
    "    file = io.BufferedReader(f)\n",
    "    data = file.read(20)\n",
    "    print(data)"
   ]
  },
  {
   "cell_type": "code",
   "execution_count": null,
   "metadata": {},
   "outputs": [],
   "source": []
  }
 ],
 "metadata": {
  "kernelspec": {
   "display_name": "Python 3",
   "language": "python",
   "name": "python3"
  },
  "language_info": {
   "codemirror_mode": {
    "name": "ipython",
    "version": 3
   },
   "file_extension": ".py",
   "mimetype": "text/x-python",
   "name": "python",
   "nbconvert_exporter": "python",
   "pygments_lexer": "ipython3",
   "version": "3.10.11"
  }
 },
 "nbformat": 4,
 "nbformat_minor": 2
}
