{
 "cells": [
  {
   "cell_type": "markdown",
   "metadata": {},
   "source": [
    "# Numpy"
   ]
  },
  {
   "cell_type": "markdown",
   "metadata": {},
   "source": [
    "NumPy is a fundamental library for numerical computing in Python. It provides support for large, multi-dimensional arrays and matrices, along with a collection of mathematical functions to operate on these arrays efficiently.\n",
    "\n",
    "Here are some key aspects of NumPy you should know about:\n",
    "\n",
    "1. **Arrays**: The core of NumPy is its ndarray (n-dimensional array) object. These arrays can be created from Python lists, tuples, or other arrays using functions like `numpy.array()`.\n",
    "\n",
    "2. **Array Attributes**: NumPy arrays have attributes like `shape` (dimensions of the array), `size` (total number of elements), `dtype` (data type of the elements), and more.\n",
    "\n",
    "3. **Array Operations**: NumPy allows you to perform various mathematical and logical operations on arrays. You can perform element-wise operations, array broadcasting, array indexing, slicing, and more.\n",
    "\n",
    "4. **Universal Functions (ufuncs)**: NumPy provides a wide range of mathematical functions that operate element-wise on arrays. These are called universal functions or ufuncs. Examples include `numpy.sin()`, `numpy.cos()`, `numpy.exp()`, etc.\n",
    "\n",
    "5. **Array Indexing and Slicing**: NumPy arrays can be sliced and indexed like Python lists, but with additional capabilities for multi-dimensional arrays.\n",
    "\n",
    "6. **Broadcasting**: NumPy can automatically perform operations on arrays of different shapes and sizes through broadcasting. This allows you to write code that looks similar to scalar operations but works with arrays of different shapes.\n",
    "\n",
    "7. **Linear Algebra**: NumPy provides various functions for linear algebra operations like matrix multiplication (`numpy.dot()`), matrix inversion (`numpy.linalg.inv()`), eigenvalue decomposition (`numpy.linalg.eig()`), and more.\n",
    "\n",
    "8. **Random Number Generation**: NumPy has a submodule called `numpy.random` that provides functions for generating random numbers and random arrays.\n",
    "\n",
    "9. **File I/O**: NumPy provides functions for reading and writing data from/to disk. You can save NumPy arrays to disk using functions like `numpy.save()` and `numpy.savez()`, and load them back using `numpy.load()`.\n",
    "\n",
    "10. **Performance**: NumPy operations are implemented in C, which makes them much faster than equivalent operations performed using Python lists. NumPy also supports vectorized operations, which further enhances performance.\n",
    "\n",
    "To get started with NumPy, you can install it using pip:\n",
    "\n",
    "```\n",
    "pip install numpy\n",
    "```\n",
    "\n",
    "Once installed, you can import it into your Python code:\n",
    "\n",
    "```python\n",
    "import numpy as np\n",
    "```\n",
    "\n",
    "Then you can start using NumPy arrays and functions in your code. If you have any specific questions or topics you'd like to dive deeper into, feel free to ask!"
   ]
  },
  {
   "cell_type": "code",
   "execution_count": null,
   "metadata": {},
   "outputs": [],
   "source": []
  },
  {
   "cell_type": "markdown",
   "metadata": {},
   "source": [
    "Let's delve into each point with some code examples to illustrate them more clearly.\n",
    "\n",
    "### 1. Arrays\n",
    "\n",
    "NumPy arrays are the core data structure in NumPy. You can create arrays using the `numpy.array()` function."
   ]
  },
  {
   "cell_type": "code",
   "execution_count": 1,
   "metadata": {},
   "outputs": [
    {
     "name": "stdout",
     "output_type": "stream",
     "text": [
      "1D Array: [1 2 3 4 5]\n",
      "2D Array:\n",
      "[[1 2 3]\n",
      " [4 5 6]\n",
      " [7 8 9]]\n"
     ]
    }
   ],
   "source": [
    "import numpy as np\n",
    "\n",
    "# Create a 1D array from a Python list\n",
    "arr1d = np.array([1, 2, 3, 4, 5])\n",
    "print(\"1D Array:\", arr1d)\n",
    "\n",
    "# Create a 2D array from a list of lists\n",
    "arr2d = np.array([[1, 2, 3], [4, 5, 6], [7, 8, 9]])\n",
    "print(\"2D Array:\")\n",
    "print(arr2d)"
   ]
  },
  {
   "cell_type": "code",
   "execution_count": null,
   "metadata": {},
   "outputs": [],
   "source": []
  },
  {
   "cell_type": "markdown",
   "metadata": {},
   "source": [
    "### 2. Array Attributes\n",
    "\n",
    "NumPy arrays have several attributes to describe their shape, size, and data type."
   ]
  },
  {
   "cell_type": "code",
   "execution_count": 2,
   "metadata": {},
   "outputs": [
    {
     "name": "stdout",
     "output_type": "stream",
     "text": [
      "Shape of arr2d: (3, 3)\n",
      "Size of arr2d: 9\n",
      "Data type of arr2d: int32\n"
     ]
    }
   ],
   "source": [
    "# Shape of the array\n",
    "print(\"Shape of arr2d:\", arr2d.shape)\n",
    "\n",
    "# Size of the array (total number of elements)\n",
    "print(\"Size of arr2d:\", arr2d.size)\n",
    "\n",
    "# Data type of the elements\n",
    "print(\"Data type of arr2d:\", arr2d.dtype)"
   ]
  },
  {
   "cell_type": "code",
   "execution_count": null,
   "metadata": {},
   "outputs": [],
   "source": []
  },
  {
   "cell_type": "markdown",
   "metadata": {},
   "source": [
    "### 3. Array Operations\n",
    "\n",
    "You can perform various mathematical operations on NumPy arrays."
   ]
  },
  {
   "cell_type": "code",
   "execution_count": 3,
   "metadata": {},
   "outputs": [
    {
     "name": "stdout",
     "output_type": "stream",
     "text": [
      "Element-wise addition: [5 7 9]\n",
      "Array multiplication: [ 4 10 18]\n"
     ]
    }
   ],
   "source": [
    "# Element-wise addition\n",
    "arr1 = np.array([1, 2, 3])\n",
    "arr2 = np.array([4, 5, 6])\n",
    "print(\"Element-wise addition:\", arr1 + arr2)\n",
    "\n",
    "# Array multiplication\n",
    "print(\"Array multiplication:\", arr1 * arr2)"
   ]
  },
  {
   "cell_type": "code",
   "execution_count": null,
   "metadata": {},
   "outputs": [],
   "source": []
  },
  {
   "cell_type": "markdown",
   "metadata": {},
   "source": [
    "### 4. Universal Functions (ufuncs)\n",
    "\n",
    "NumPy provides many mathematical functions that can operate element-wise on arrays."
   ]
  },
  {
   "cell_type": "code",
   "execution_count": 4,
   "metadata": {},
   "outputs": [
    {
     "name": "stdout",
     "output_type": "stream",
     "text": [
      "Sine of arr1: [0.84147098 0.90929743 0.14112001]\n",
      "Exponential of arr2: [ 54.59815003 148.4131591  403.42879349]\n"
     ]
    }
   ],
   "source": [
    "# Calculate sine of each element\n",
    "print(\"Sine of arr1:\", np.sin(arr1))\n",
    "\n",
    "# Calculate exponential of each element\n",
    "print(\"Exponential of arr2:\", np.exp(arr2))"
   ]
  },
  {
   "cell_type": "code",
   "execution_count": null,
   "metadata": {},
   "outputs": [],
   "source": []
  },
  {
   "cell_type": "markdown",
   "metadata": {},
   "source": [
    "### 5. Array Indexing and Slicing\n",
    "\n",
    "You can access elements of NumPy arrays using indexing and slicing.\n"
   ]
  },
  {
   "cell_type": "code",
   "execution_count": 5,
   "metadata": {},
   "outputs": [
    {
     "name": "stdout",
     "output_type": "stream",
     "text": [
      "First element of arr1: 1\n",
      "Sliced array: [2 3]\n"
     ]
    }
   ],
   "source": [
    "# Access elements using indexing\n",
    "print(\"First element of arr1:\", arr1[0])\n",
    "\n",
    "# Slicing\n",
    "print(\"Sliced array:\", arr1[1:3])"
   ]
  },
  {
   "cell_type": "code",
   "execution_count": null,
   "metadata": {},
   "outputs": [],
   "source": []
  },
  {
   "cell_type": "markdown",
   "metadata": {},
   "source": [
    "### 6. Broadcasting\n",
    "\n",
    "NumPy allows you to perform operations on arrays of different shapes and sizes."
   ]
  },
  {
   "cell_type": "code",
   "execution_count": 6,
   "metadata": {},
   "outputs": [
    {
     "name": "stdout",
     "output_type": "stream",
     "text": [
      "Broadcasting scalar: [2 3 4]\n",
      "Broadcasting arrays:\n",
      "[[ 2  3  4]\n",
      " [ 6  7  8]\n",
      " [10 11 12]]\n"
     ]
    }
   ],
   "source": [
    "# Broadcasting scalar to array\n",
    "print(\"Broadcasting scalar:\", arr1 + 1)\n",
    "\n",
    "# Broadcasting arrays of different shapes\n",
    "arr3 = np.array([[1], [2], [3]])\n",
    "print(\"Broadcasting arrays:\")\n",
    "print(arr2d + arr3)"
   ]
  },
  {
   "cell_type": "code",
   "execution_count": null,
   "metadata": {},
   "outputs": [],
   "source": []
  },
  {
   "cell_type": "markdown",
   "metadata": {},
   "source": [
    "### 7. Linear Algebra\n",
    "\n",
    "NumPy provides functions for various linear algebra operations."
   ]
  },
  {
   "cell_type": "code",
   "execution_count": 7,
   "metadata": {},
   "outputs": [
    {
     "name": "stdout",
     "output_type": "stream",
     "text": [
      "Matrix multiplication:\n",
      "[[19 22]\n",
      " [43 50]]\n"
     ]
    }
   ],
   "source": [
    "# Matrix multiplication\n",
    "mat1 = np.array([[1, 2], [3, 4]])\n",
    "mat2 = np.array([[5, 6], [7, 8]])\n",
    "print(\"Matrix multiplication:\")\n",
    "print(np.dot(mat1, mat2))"
   ]
  },
  {
   "cell_type": "code",
   "execution_count": null,
   "metadata": {},
   "outputs": [],
   "source": []
  },
  {
   "cell_type": "markdown",
   "metadata": {},
   "source": [
    "### 8. Random Number Generation\n",
    "\n",
    "NumPy provides functions for generating random numbers and arrays.\n"
   ]
  },
  {
   "cell_type": "code",
   "execution_count": 8,
   "metadata": {},
   "outputs": [
    {
     "name": "stdout",
     "output_type": "stream",
     "text": [
      "Random array:\n",
      "[[0.94491725 0.21502842 0.63525034]\n",
      " [0.18050184 0.65916968 0.63908976]]\n"
     ]
    }
   ],
   "source": [
    "# Generate a random array of shape (2, 3)\n",
    "random_array = np.random.rand(2, 3)\n",
    "print(\"Random array:\")\n",
    "print(random_array)"
   ]
  },
  {
   "cell_type": "code",
   "execution_count": null,
   "metadata": {},
   "outputs": [],
   "source": []
  },
  {
   "cell_type": "markdown",
   "metadata": {},
   "source": [
    "### 9. File I/O\n",
    "\n",
    "NumPy allows you to save and load arrays from/to disk."
   ]
  },
  {
   "cell_type": "code",
   "execution_count": 9,
   "metadata": {},
   "outputs": [
    {
     "name": "stdout",
     "output_type": "stream",
     "text": [
      "Loaded array: [1 2 3]\n"
     ]
    }
   ],
   "source": [
    "# Save array to a file\n",
    "np.save('my_array.npy', arr1)\n",
    "\n",
    "# Load array from file\n",
    "loaded_array = np.load('my_array.npy')\n",
    "print(\"Loaded array:\", loaded_array)"
   ]
  },
  {
   "cell_type": "code",
   "execution_count": null,
   "metadata": {},
   "outputs": [],
   "source": []
  },
  {
   "cell_type": "markdown",
   "metadata": {},
   "source": [
    "### 10. Performance\n",
    "\n",
    "NumPy operations are implemented in C, making them much faster than equivalent operations using Python lists."
   ]
  },
  {
   "cell_type": "code",
   "execution_count": 10,
   "metadata": {},
   "outputs": [
    {
     "name": "stdout",
     "output_type": "stream",
     "text": [
      "204 ms ± 4.26 ms per loop (mean ± std. dev. of 7 runs, 10 loops each)\n",
      "2.63 ms ± 203 µs per loop (mean ± std. dev. of 7 runs, 100 loops each)\n"
     ]
    }
   ],
   "source": [
    "# Performance comparison\n",
    "py_list = list(range(1000000))\n",
    "np_array = np.array(py_list)\n",
    "\n",
    "# Time taken to square each element using Python list\n",
    "%timeit [x**2 for x in py_list]\n",
    "\n",
    "# Time taken to square each element using NumPy array\n",
    "%timeit np_array**2"
   ]
  },
  {
   "cell_type": "markdown",
   "metadata": {},
   "source": [
    "These examples should give you a good understanding of the key features and capabilities of NumPy. Experimenting with these concepts in your own code will deepen your understanding even further. Let me know if you have any questions!"
   ]
  },
  {
   "cell_type": "code",
   "execution_count": null,
   "metadata": {},
   "outputs": [],
   "source": []
  },
  {
   "cell_type": "code",
   "execution_count": null,
   "metadata": {},
   "outputs": [],
   "source": []
  },
  {
   "cell_type": "markdown",
   "metadata": {},
   "source": [
    "Let's dive deeper into some additional features and functionalities of NumPy.\n",
    "\n",
    "### 1. Reshaping Arrays\n",
    "NumPy allows you to reshape arrays without changing their data. This can be useful when you need to change the dimensions of an array."
   ]
  },
  {
   "cell_type": "code",
   "execution_count": 11,
   "metadata": {},
   "outputs": [
    {
     "name": "stdout",
     "output_type": "stream",
     "text": [
      "Reshaped array:\n",
      "[[1 2 3]\n",
      " [4 5 6]]\n"
     ]
    }
   ],
   "source": [
    "# Create a 1D array\n",
    "arr = np.array([1, 2, 3, 4, 5, 6])\n",
    "\n",
    "# Reshape to a 2x3 array\n",
    "reshaped_arr = arr.reshape(2, 3)\n",
    "print(\"Reshaped array:\")\n",
    "print(reshaped_arr)\n"
   ]
  },
  {
   "cell_type": "code",
   "execution_count": null,
   "metadata": {},
   "outputs": [],
   "source": []
  },
  {
   "cell_type": "markdown",
   "metadata": {},
   "source": [
    "### 2. Array Concatenation and Splitting\n",
    "You can concatenate multiple arrays together or split a single array into multiple smaller arrays."
   ]
  },
  {
   "cell_type": "code",
   "execution_count": 12,
   "metadata": {},
   "outputs": [
    {
     "name": "stdout",
     "output_type": "stream",
     "text": [
      "Concatenated array: [1 2 3 4 5 6]\n",
      "Split arrays: [array([1, 2, 3]), array([4, 5, 6])]\n"
     ]
    }
   ],
   "source": [
    "# Concatenate arrays\n",
    "arr1 = np.array([1, 2, 3])\n",
    "arr2 = np.array([4, 5, 6])\n",
    "concatenated_arr = np.concatenate([arr1, arr2])\n",
    "print(\"Concatenated array:\", concatenated_arr)\n",
    "\n",
    "# Split array\n",
    "split_arrays = np.split(concatenated_arr, 2)\n",
    "print(\"Split arrays:\", split_arrays)"
   ]
  },
  {
   "cell_type": "code",
   "execution_count": null,
   "metadata": {},
   "outputs": [],
   "source": []
  },
  {
   "cell_type": "markdown",
   "metadata": {},
   "source": [
    "### 3. Aggregation Functions\n",
    "NumPy provides functions for aggregating data in arrays, such as computing the sum, mean, minimum, and maximum."
   ]
  },
  {
   "cell_type": "code",
   "execution_count": 13,
   "metadata": {},
   "outputs": [
    {
     "name": "stdout",
     "output_type": "stream",
     "text": [
      "Sum: 21\n",
      "Mean: 3.5\n",
      "Minimum: 1\n",
      "Maximum: 6\n"
     ]
    }
   ],
   "source": [
    "arr = np.array([[1, 2, 3], [4, 5, 6]])\n",
    "\n",
    "# Compute sum of all elements\n",
    "print(\"Sum:\", np.sum(arr))\n",
    "\n",
    "# Compute mean of all elements\n",
    "print(\"Mean:\", np.mean(arr))\n",
    "\n",
    "# Compute minimum and maximum values\n",
    "print(\"Minimum:\", np.min(arr))\n",
    "print(\"Maximum:\", np.max(arr))\n"
   ]
  },
  {
   "cell_type": "code",
   "execution_count": null,
   "metadata": {},
   "outputs": [],
   "source": []
  },
  {
   "cell_type": "markdown",
   "metadata": {},
   "source": [
    "### 4. Broadcasting Rules\n",
    "Understanding broadcasting rules is essential in NumPy. Broadcasting allows NumPy to work with arrays of different shapes when performing arithmetic operations.\n",
    "\n"
   ]
  },
  {
   "cell_type": "code",
   "execution_count": 14,
   "metadata": {},
   "outputs": [
    {
     "name": "stdout",
     "output_type": "stream",
     "text": [
      "Broadcasting scalar: [2 3 4]\n",
      "Broadcasting arrays: [[2 4 6]\n",
      " [5 7 9]]\n"
     ]
    }
   ],
   "source": [
    "# Broadcasting scalar to array\n",
    "arr = np.array([1, 2, 3])\n",
    "result = arr + 1\n",
    "print(\"Broadcasting scalar:\", result)\n",
    "\n",
    "# Broadcasting arrays with different shapes\n",
    "arr1 = np.array([[1, 2, 3], [4, 5, 6]])\n",
    "arr2 = np.array([1, 2, 3])\n",
    "result = arr1 + arr2\n",
    "print(\"Broadcasting arrays:\", result)\n",
    "\n"
   ]
  },
  {
   "cell_type": "code",
   "execution_count": null,
   "metadata": {},
   "outputs": [],
   "source": []
  },
  {
   "cell_type": "markdown",
   "metadata": {},
   "source": [
    "### 5. Advanced Indexing and Masking\n",
    "NumPy supports advanced indexing techniques like using arrays as indices and boolean masks to select elements from an array."
   ]
  },
  {
   "cell_type": "code",
   "execution_count": 15,
   "metadata": {},
   "outputs": [
    {
     "name": "stdout",
     "output_type": "stream",
     "text": [
      "Advanced indexing: [10 30]\n",
      "Boolean masking: [3 4 5]\n"
     ]
    }
   ],
   "source": [
    "# Advanced indexing\n",
    "arr = np.array([10, 20, 30, 40])\n",
    "indices = np.array([0, 2])\n",
    "print(\"Advanced indexing:\", arr[indices])\n",
    "\n",
    "# Boolean masking\n",
    "arr = np.array([1, 2, 3, 4, 5])\n",
    "mask = arr > 2\n",
    "print(\"Boolean masking:\", arr[mask])\n"
   ]
  },
  {
   "cell_type": "code",
   "execution_count": null,
   "metadata": {},
   "outputs": [],
   "source": []
  },
  {
   "cell_type": "markdown",
   "metadata": {},
   "source": [
    "### 6. Vectorization\n",
    "Vectorization is a powerful feature of NumPy that allows you to apply operations to entire arrays at once, rather than looping over individual elements."
   ]
  },
  {
   "cell_type": "code",
   "execution_count": 16,
   "metadata": {},
   "outputs": [
    {
     "name": "stdout",
     "output_type": "stream",
     "text": [
      "Vectorized operation: [ 1  4  9 16 25]\n"
     ]
    }
   ],
   "source": [
    "# Vectorized operations\n",
    "arr = np.array([1, 2, 3, 4, 5])\n",
    "result = arr ** 2\n",
    "print(\"Vectorized operation:\", result)\n"
   ]
  },
  {
   "cell_type": "code",
   "execution_count": null,
   "metadata": {},
   "outputs": [],
   "source": []
  },
  {
   "cell_type": "markdown",
   "metadata": {},
   "source": [
    "### 7. Linear Algebra Functions\n",
    "NumPy provides a rich set of functions for linear algebra operations, such as matrix multiplication, eigenvalue decomposition, and singular value decomposition."
   ]
  },
  {
   "cell_type": "code",
   "execution_count": 17,
   "metadata": {},
   "outputs": [
    {
     "name": "stdout",
     "output_type": "stream",
     "text": [
      "Matrix multiplication: [[19 22]\n",
      " [43 50]]\n"
     ]
    }
   ],
   "source": [
    "# Matrix multiplication\n",
    "mat1 = np.array([[1, 2], [3, 4]])\n",
    "mat2 = np.array([[5, 6], [7, 8]])\n",
    "result = np.dot(mat1, mat2)\n",
    "print(\"Matrix multiplication:\", result)\n"
   ]
  },
  {
   "cell_type": "code",
   "execution_count": null,
   "metadata": {},
   "outputs": [],
   "source": []
  },
  {
   "cell_type": "markdown",
   "metadata": {},
   "source": [
    "### 8. Masked Arrays\n",
    "Masked arrays are arrays that have a mask associated with them. The mask indicates which elements should be ignored in computations."
   ]
  },
  {
   "cell_type": "code",
   "execution_count": 18,
   "metadata": {},
   "outputs": [
    {
     "name": "stdout",
     "output_type": "stream",
     "text": [
      "Masked array: [1 -- 3 4 --]\n"
     ]
    }
   ],
   "source": [
    "# Create a masked array\n",
    "arr = np.ma.array([1, 2, 3, 4, 5], mask=[False, True, False, False, True])\n",
    "print(\"Masked array:\", arr)\n"
   ]
  },
  {
   "cell_type": "markdown",
   "metadata": {},
   "source": [
    "These are just a few additional aspects of NumPy that you can explore. NumPy is a vast library with many functionalities, so don't hesitate to experiment and explore its capabilities further. "
   ]
  },
  {
   "cell_type": "code",
   "execution_count": null,
   "metadata": {},
   "outputs": [],
   "source": []
  },
  {
   "cell_type": "code",
   "execution_count": null,
   "metadata": {},
   "outputs": [],
   "source": []
  },
  {
   "cell_type": "markdown",
   "metadata": {},
   "source": [
    "Let's explore some more advanced features and techniques in NumPy:\n",
    "\n",
    "### 1. Broadcasting with Advanced Indexing\n",
    "You can combine broadcasting with advanced indexing to perform complex operations efficiently."
   ]
  },
  {
   "cell_type": "code",
   "execution_count": 19,
   "metadata": {},
   "outputs": [
    {
     "name": "stdout",
     "output_type": "stream",
     "text": [
      "Broadcasting with advanced indexing:\n",
      "[[1 3]\n",
      " [4 6]]\n"
     ]
    }
   ],
   "source": [
    "# Broadcasting with advanced indexing\n",
    "arr = np.array([[1, 2, 3], [4, 5, 6]])\n",
    "indices = np.array([0, 2])\n",
    "result = arr[:, indices]  # Selecting columns 0 and 2\n",
    "print(\"Broadcasting with advanced indexing:\")\n",
    "print(result)\n"
   ]
  },
  {
   "cell_type": "code",
   "execution_count": null,
   "metadata": {},
   "outputs": [],
   "source": []
  },
  {
   "cell_type": "markdown",
   "metadata": {},
   "source": [
    "### 2. Fancy Indexing\n",
    "Fancy indexing allows you to use arrays of indices to access or modify specific elements of an array."
   ]
  },
  {
   "cell_type": "code",
   "execution_count": 20,
   "metadata": {},
   "outputs": [
    {
     "name": "stdout",
     "output_type": "stream",
     "text": [
      "Fancy indexing:\n",
      "[[1 2]\n",
      " [5 6]]\n"
     ]
    }
   ],
   "source": [
    "# Fancy indexing\n",
    "arr = np.array([[1, 2], [3, 4], [5, 6]])\n",
    "indices = np.array([0, 2])\n",
    "result = arr[indices]  # Selecting rows at indices 0 and 2\n",
    "print(\"Fancy indexing:\")\n",
    "print(result)\n"
   ]
  },
  {
   "cell_type": "code",
   "execution_count": null,
   "metadata": {},
   "outputs": [],
   "source": []
  },
  {
   "cell_type": "markdown",
   "metadata": {},
   "source": [
    "### 3. NumPy Data Types\n",
    "NumPy supports various data types, including integers, floats, complex numbers, and more. You can specify the data type when creating arrays."
   ]
  },
  {
   "cell_type": "code",
   "execution_count": 21,
   "metadata": {},
   "outputs": [
    {
     "name": "stdout",
     "output_type": "stream",
     "text": [
      "Integer array: [1 2 3]\n",
      "Float array: [1. 2. 3.]\n"
     ]
    }
   ],
   "source": [
    "# Specifying data types\n",
    "arr_int = np.array([1, 2, 3], dtype=np.int32)\n",
    "arr_float = np.array([1.0, 2.0, 3.0], dtype=np.float64)\n",
    "print(\"Integer array:\", arr_int)\n",
    "print(\"Float array:\", arr_float)\n"
   ]
  },
  {
   "cell_type": "code",
   "execution_count": null,
   "metadata": {},
   "outputs": [],
   "source": []
  },
  {
   "cell_type": "markdown",
   "metadata": {},
   "source": [
    "### 4. Structured Arrays\n",
    "Structured arrays allow you to create arrays with compound data types, similar to structs in C."
   ]
  },
  {
   "cell_type": "code",
   "execution_count": 22,
   "metadata": {},
   "outputs": [
    {
     "name": "stdout",
     "output_type": "stream",
     "text": [
      "Structured array:\n",
      "[(1, b'John', 25) (2, b'Jane', 30)]\n"
     ]
    }
   ],
   "source": [
    "# Structured arrays\n",
    "data = np.array([(1, 'John', 25), (2, 'Jane', 30)], dtype=[('id', int), ('name', 'S10'), ('age', int)])\n",
    "print(\"Structured array:\")\n",
    "print(data)\n"
   ]
  },
  {
   "cell_type": "code",
   "execution_count": null,
   "metadata": {},
   "outputs": [],
   "source": []
  },
  {
   "cell_type": "markdown",
   "metadata": {},
   "source": [
    "### 5. Linear Algebra Decompositions\n",
    "NumPy provides functions for various matrix decompositions like Singular Value Decomposition (SVD), QR decomposition, and Cholesky decomposition."
   ]
  },
  {
   "cell_type": "code",
   "execution_count": 23,
   "metadata": {},
   "outputs": [
    {
     "name": "stdout",
     "output_type": "stream",
     "text": [
      "SVD:\n",
      "U: [[-0.40455358 -0.9145143 ]\n",
      " [-0.9145143   0.40455358]]\n",
      "S: [5.4649857  0.36596619]\n",
      "V: [[-0.57604844 -0.81741556]\n",
      " [ 0.81741556 -0.57604844]]\n"
     ]
    }
   ],
   "source": [
    "# Singular Value Decomposition (SVD)\n",
    "arr = np.array([[1, 2], [3, 4]])\n",
    "U, S, V = np.linalg.svd(arr)\n",
    "print(\"SVD:\")\n",
    "print(\"U:\", U)\n",
    "print(\"S:\", S)\n",
    "print(\"V:\", V)\n"
   ]
  },
  {
   "cell_type": "code",
   "execution_count": null,
   "metadata": {},
   "outputs": [],
   "source": []
  },
  {
   "cell_type": "markdown",
   "metadata": {},
   "source": [
    "### 6. FFT and Signal Processing\n",
    "NumPy offers functions for computing the Fast Fourier Transform (FFT) and various signal processing operations."
   ]
  },
  {
   "cell_type": "code",
   "execution_count": 24,
   "metadata": {},
   "outputs": [
    {
     "name": "stdout",
     "output_type": "stream",
     "text": [
      "FFT result: [10.+0.j -2.+2.j -2.+0.j -2.-2.j]\n"
     ]
    }
   ],
   "source": [
    "# Fast Fourier Transform (FFT)\n",
    "signal = np.array([1, 2, 3, 4])\n",
    "fft_result = np.fft.fft(signal)\n",
    "print(\"FFT result:\", fft_result)\n"
   ]
  },
  {
   "cell_type": "code",
   "execution_count": null,
   "metadata": {},
   "outputs": [],
   "source": []
  },
  {
   "cell_type": "markdown",
   "metadata": {},
   "source": [
    "### 7. Masked Arrays for Data Cleaning\n",
    "Masked arrays can be useful for data cleaning tasks where you need to handle missing or invalid values."
   ]
  },
  {
   "cell_type": "code",
   "execution_count": 25,
   "metadata": {},
   "outputs": [
    {
     "name": "stdout",
     "output_type": "stream",
     "text": [
      "Masked array:\n",
      "[1 2 -- 4 5]\n"
     ]
    }
   ],
   "source": [
    "# Masked arrays for data cleaning\n",
    "data = np.array([1, 2, -999, 4, 5])\n",
    "masked_data = np.ma.masked_equal(data, -999)\n",
    "print(\"Masked array:\")\n",
    "print(masked_data)\n"
   ]
  },
  {
   "cell_type": "code",
   "execution_count": null,
   "metadata": {},
   "outputs": [],
   "source": []
  },
  {
   "cell_type": "markdown",
   "metadata": {},
   "source": [
    "### 8. Universal Functions (ufuncs) with Custom Functions\n",
    "You can create custom functions and apply them element-wise to NumPy arrays using universal functions (ufuncs)."
   ]
  },
  {
   "cell_type": "code",
   "execution_count": 26,
   "metadata": {},
   "outputs": [
    {
     "name": "stdout",
     "output_type": "stream",
     "text": [
      "Custom ufunc result: [ 2  5 10]\n"
     ]
    }
   ],
   "source": [
    "# Custom ufunc\n",
    "def my_func(x):\n",
    "    return x ** 2 + 1\n",
    "\n",
    "arr = np.array([1, 2, 3])\n",
    "result = my_func(arr)\n",
    "print(\"Custom ufunc result:\", result)\n"
   ]
  },
  {
   "cell_type": "markdown",
   "metadata": {},
   "source": [
    "These advanced features expand the capabilities of NumPy and make it a powerful tool for various scientific and numerical computing tasks. Experimenting with these features will deepen your understanding of NumPy and enhance your proficiency in using it."
   ]
  },
  {
   "cell_type": "code",
   "execution_count": null,
   "metadata": {},
   "outputs": [],
   "source": []
  },
  {
   "cell_type": "code",
   "execution_count": null,
   "metadata": {},
   "outputs": [],
   "source": []
  },
  {
   "cell_type": "code",
   "execution_count": null,
   "metadata": {},
   "outputs": [],
   "source": []
  }
 ],
 "metadata": {
  "kernelspec": {
   "display_name": "Python 3",
   "language": "python",
   "name": "python3"
  },
  "language_info": {
   "codemirror_mode": {
    "name": "ipython",
    "version": 3
   },
   "file_extension": ".py",
   "mimetype": "text/x-python",
   "name": "python",
   "nbconvert_exporter": "python",
   "pygments_lexer": "ipython3",
   "version": "3.10.11"
  }
 },
 "nbformat": 4,
 "nbformat_minor": 2
}
