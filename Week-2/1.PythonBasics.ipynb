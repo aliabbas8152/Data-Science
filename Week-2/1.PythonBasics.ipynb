{
 "cells": [
  {
   "cell_type": "code",
   "execution_count": 2,
   "metadata": {},
   "outputs": [
    {
     "name": "stdout",
     "output_type": "stream",
     "text": [
      "Hello World\n"
     ]
    }
   ],
   "source": [
    "print('Hello World')"
   ]
  },
  {
   "cell_type": "code",
   "execution_count": 3,
   "metadata": {},
   "outputs": [
    {
     "name": "stdout",
     "output_type": "stream",
     "text": [
      "Ali\n"
     ]
    }
   ],
   "source": [
    "print(\"Ali\")"
   ]
  },
  {
   "cell_type": "code",
   "execution_count": 4,
   "metadata": {},
   "outputs": [
    {
     "name": "stdout",
     "output_type": "stream",
     "text": [
      "'Abbas'\n"
     ]
    }
   ],
   "source": [
    "print(\"'Abbas'\")"
   ]
  },
  {
   "cell_type": "code",
   "execution_count": 5,
   "metadata": {},
   "outputs": [
    {
     "name": "stdout",
     "output_type": "stream",
     "text": [
      "123\n"
     ]
    }
   ],
   "source": [
    "print(123)\n"
   ]
  },
  {
   "cell_type": "code",
   "execution_count": 2,
   "metadata": {},
   "outputs": [
    {
     "name": "stdout",
     "output_type": "stream",
     "text": [
      "My age is :  23\n"
     ]
    }
   ],
   "source": [
    "age = 23\n",
    "print(\"My age is : \",age)\n"
   ]
  },
  {
   "cell_type": "code",
   "execution_count": 3,
   "metadata": {},
   "outputs": [
    {
     "name": "stdout",
     "output_type": "stream",
     "text": [
      "My age is : 23\n"
     ]
    }
   ],
   "source": [
    "# f string\n",
    "print(f\"My age is : {age}\")"
   ]
  },
  {
   "cell_type": "code",
   "execution_count": 4,
   "metadata": {},
   "outputs": [
    {
     "name": "stdout",
     "output_type": "stream",
     "text": [
      "My name is 23 and age is Ali Abbas\n"
     ]
    }
   ],
   "source": [
    "# format()\n",
    "name=\"Ali Abbas\"\n",
    "age=23\n",
    "print(\"My name is {} and age is {}\".format(age,name))"
   ]
  },
  {
   "cell_type": "code",
   "execution_count": 5,
   "metadata": {},
   "outputs": [
    {
     "name": "stdout",
     "output_type": "stream",
     "text": [
      "My name is Ali Abbas and age is 23\n"
     ]
    }
   ],
   "source": [
    "print(\"My name is {} and age is {}\".format(name, age))"
   ]
  },
  {
   "cell_type": "code",
   "execution_count": 6,
   "metadata": {},
   "outputs": [
    {
     "name": "stdout",
     "output_type": "stream",
     "text": [
      "My name is Ali Abbas and age is 23\n"
     ]
    }
   ],
   "source": [
    "# placeholder\n",
    "print(\"My name is {firstname} and age is {firstage}\".format(firstage=age, firstname=name))"
   ]
  },
  {
   "cell_type": "code",
   "execution_count": 7,
   "metadata": {},
   "outputs": [
    {
     "name": "stdout",
     "output_type": "stream",
     "text": [
      "My age is 23 and i have completed my degree of MCA with the name of Ali\n"
     ]
    }
   ],
   "source": [
    "name = 'Ali'\n",
    "age = 23\n",
    "degree = 'MCA'\n",
    "print(\"My age is {} and i have completed my degree of {} with the name of {}\".format(age, degree, name))\n"
   ]
  },
  {
   "cell_type": "markdown",
   "metadata": {},
   "source": [
    "## Control Flow\n",
    "### Decision Making statements"
   ]
  },
  {
   "cell_type": "code",
   "execution_count": 9,
   "metadata": {},
   "outputs": [
    {
     "name": "stdout",
     "output_type": "stream",
     "text": [
      "You are eligible to Vote.\n"
     ]
    }
   ],
   "source": [
    "## if Statements\n",
    "\n",
    "age = 18\n",
    "if age>=18:\n",
    "    print(\"You are eligible to Vote.\")\n",
    "    "
   ]
  },
  {
   "cell_type": "code",
   "execution_count": 12,
   "metadata": {},
   "outputs": [
    {
     "name": "stdout",
     "output_type": "stream",
     "text": [
      "You are not eligible to vote\n"
     ]
    }
   ],
   "source": [
    "age = 17\n",
    "if age>=18:\n",
    "    print(\"You are eligible to Vote.\")\n",
    "else:\n",
    "    print(\"You are not eligible to vote\")"
   ]
  },
  {
   "cell_type": "code",
   "execution_count": 18,
   "metadata": {},
   "outputs": [],
   "source": [
    "name = input('Enter the name')"
   ]
  },
  {
   "cell_type": "code",
   "execution_count": 17,
   "metadata": {},
   "outputs": [
    {
     "name": "stdout",
     "output_type": "stream",
     "text": [
      "You are eligible to Vote.\n"
     ]
    }
   ],
   "source": [
    "age = int(input(\"Enter the age\"))\n",
    "if age >= 18:\n",
    "    print(\"You are eligible to Vote.\")\n",
    "else:\n",
    "    print(\"You are not eligible to vote\")"
   ]
  },
  {
   "cell_type": "code",
   "execution_count": 21,
   "metadata": {},
   "outputs": [
    {
     "name": "stdout",
     "output_type": "stream",
     "text": [
      "Hello Ali, you are not eligible to vote\n"
     ]
    }
   ],
   "source": [
    "name = input('Enter the name')\n",
    "age = int(input(\"Enter the age\"))\n",
    "if age >= 18:\n",
    "    print(f\"Hello {name}, you are eligible to Vote.\")\n",
    "else:\n",
    "    print(f\"Hello {name}, you are not eligible to Vote.\")"
   ]
  },
  {
   "cell_type": "code",
   "execution_count": 23,
   "metadata": {},
   "outputs": [],
   "source": [
    "age = int(input(\"Enter the age\"))\n",
    "if age >= 18 and age <=45:\n",
    "    print(\"You are Young Blood.\")"
   ]
  },
  {
   "cell_type": "code",
   "execution_count": 28,
   "metadata": {},
   "outputs": [
    {
     "name": "stdout",
     "output_type": "stream",
     "text": [
      "You will be gettig 30% off on the product\n",
      "The price of the product is 7.0, after the discount\n"
     ]
    }
   ],
   "source": [
    "price = int(input('Enter the price : '))\n",
    "\n",
    "if price > 1000:\n",
    "    print(\"You will be gettig 20% off on the product\")\n",
    "    disc = price - price * 0.2\n",
    "    print(f\"The price of the product is {disc}, after the discount\")\n",
    "elif price <= 1000:\n",
    "    print(\"You will be gettig 30% off on the product\")\n",
    "    disc = price - price * 0.3\n",
    "    print(f\"The price of the product is {disc}, after the discount\")"
   ]
  },
  {
   "cell_type": "code",
   "execution_count": 38,
   "metadata": {},
   "outputs": [
    {
     "name": "stdout",
     "output_type": "stream",
     "text": [
      "You will be gettig 40% off on the product\n",
      "The price of the product is 1199.4, after the discount\n"
     ]
    }
   ],
   "source": [
    "price = int(input('Enter the price : '))\n",
    "\n",
    "if price > 3000:\n",
    "    if price == 4000:\n",
    "        print(\"Congratulations You got a Goa trip.\")\n",
    "    print(\"You will be gettig 20% off on the product\")\n",
    "    disc = price - price * 0.2\n",
    "    print(f\"The price of the product is {disc}, after the discount\")\n",
    "elif price >= 2000 and price <= 3000:\n",
    "    if price == 2999:\n",
    "        print(\"Congratulations you will get an additional Gift.\")\n",
    "    print(\"You will be gettig 30% off on the product\")\n",
    "    disc = price - price * 0.3\n",
    "    print(f\"The price of the product is {disc}, after the discount\")\n",
    "elif price >= 1000 and price < 2000:\n",
    "    print(\"You will be gettig 40% off on the product\")\n",
    "    disc = price - price * 0.4\n",
    "    print(f\"The price of the product is {disc}, after the discount\")    "
   ]
  },
  {
   "cell_type": "code",
   "execution_count": 2,
   "metadata": {},
   "outputs": [
    {
     "name": "stdout",
     "output_type": "stream",
     "text": [
      "Value is less than or equal to 1000\n"
     ]
    }
   ],
   "source": [
    "# Single Statement Suites\n",
    "val=int(input('Enter the number'))\n",
    "if(val<=1000):print('Value is less than or equal to 1000')\n",
    "else:print('Go Home')"
   ]
  },
  {
   "cell_type": "markdown",
   "metadata": {},
   "source": [
    "# Loops Statements"
   ]
  },
  {
   "cell_type": "markdown",
   "metadata": {},
   "source": [
    "## 1. While Loop\n"
   ]
  },
  {
   "cell_type": "code",
   "execution_count": 3,
   "metadata": {},
   "outputs": [
    {
     "name": "stdout",
     "output_type": "stream",
     "text": [
      "Age of Student is:  5\n",
      "Age of Student is:  6\n",
      "Age of Student is:  7\n",
      "Age of Student is:  8\n",
      "Age of Student is:  9\n",
      "Age of Student is:  10\n",
      "Age of Student is:  11\n",
      "Age of Student is:  12\n",
      "Age of Student is:  13\n",
      "Age of Student is:  14\n",
      "Age of Student is:  15\n",
      "You should go to Junior College.\n"
     ]
    }
   ],
   "source": [
    "age = int(input(\"Enter the number: \"))\n",
    "while age <= 15:\n",
    "    print(\"Age of Student is: \", age)\n",
    "    age = age + 1\n",
    "else:\n",
    "    print(\"You should go to Junior College.\")    "
   ]
  },
  {
   "cell_type": "code",
   "execution_count": 10,
   "metadata": {},
   "outputs": [
    {
     "name": "stdout",
     "output_type": "stream",
     "text": [
      "101\n",
      "Remaining amount is 1. Put more money in the bank.\n"
     ]
    }
   ],
   "source": [
    "total_amount = int(input(\"Enter the amount: \"))\n",
    "while total_amount != 0 and total_amount > 100:\n",
    "    print(total_amount)\n",
    "    total_amount = total_amount - 100\n",
    "else:\n",
    "    print(f\"Remaining amount is {total_amount}. Put more money in the bank.\")    "
   ]
  },
  {
   "cell_type": "markdown",
   "metadata": {},
   "source": [
    "## 2. For Loop"
   ]
  },
  {
   "cell_type": "code",
   "execution_count": 11,
   "metadata": {},
   "outputs": [],
   "source": [
    "lst = [1, 0, -45, \"Ali\", True, \"Jawed\", False, 0.153]"
   ]
  },
  {
   "cell_type": "code",
   "execution_count": 12,
   "metadata": {},
   "outputs": [
    {
     "name": "stdout",
     "output_type": "stream",
     "text": [
      "1\n",
      "0\n",
      "-45\n",
      "Ali\n",
      "True\n",
      "Jawed\n",
      "False\n",
      "0.153\n"
     ]
    }
   ],
   "source": [
    "for x in lst:\n",
    "    print(x)"
   ]
  },
  {
   "cell_type": "code",
   "execution_count": 13,
   "metadata": {},
   "outputs": [
    {
     "name": "stdout",
     "output_type": "stream",
     "text": [
      "apple\n",
      "banana\n",
      "mango\n",
      "pineapple\n",
      "cherry\n",
      "papaya\n"
     ]
    }
   ],
   "source": [
    "fruits_list = ['apple', 'banana', 'mango', 'pineapple', 'cherry', 'papaya']\n",
    "for f in fruits_list:\n",
    "    print(f)"
   ]
  },
  {
   "cell_type": "code",
   "execution_count": 14,
   "metadata": {},
   "outputs": [
    {
     "name": "stdout",
     "output_type": "stream",
     "text": [
      "W\n",
      "a\n",
      "t\n",
      "e\n",
      "r\n",
      "m\n",
      "e\n",
      "l\n",
      "o\n",
      "n\n"
     ]
    }
   ],
   "source": [
    "fruit = 'Watermelon'\n",
    "for a in fruit:\n",
    "    print(a)"
   ]
  },
  {
   "cell_type": "code",
   "execution_count": 15,
   "metadata": {},
   "outputs": [
    {
     "data": {
      "text/plain": [
       "'W'"
      ]
     },
     "execution_count": 15,
     "metadata": {},
     "output_type": "execute_result"
    }
   ],
   "source": [
    "fruit[0]"
   ]
  },
  {
   "cell_type": "code",
   "execution_count": 16,
   "metadata": {},
   "outputs": [
    {
     "data": {
      "text/plain": [
       "'m'"
      ]
     },
     "execution_count": 16,
     "metadata": {},
     "output_type": "execute_result"
    }
   ],
   "source": [
    "fruit[5]"
   ]
  },
  {
   "cell_type": "code",
   "execution_count": 17,
   "metadata": {},
   "outputs": [
    {
     "name": "stdout",
     "output_type": "stream",
     "text": [
      "1\n",
      "2\n",
      "3\n",
      "4\n",
      "5\n",
      "6\n",
      "7\n",
      "8\n"
     ]
    }
   ],
   "source": [
    "# range\n",
    "\n",
    "for i in range(1, 9):\n",
    "    print(i)"
   ]
  },
  {
   "cell_type": "code",
   "execution_count": 18,
   "metadata": {},
   "outputs": [
    {
     "name": "stdout",
     "output_type": "stream",
     "text": [
      "0\n",
      "3\n",
      "6\n",
      "9\n",
      "12\n"
     ]
    }
   ],
   "source": [
    "for i in range(0, 15, 3):\n",
    "    print(i)"
   ]
  },
  {
   "cell_type": "markdown",
   "metadata": {},
   "source": [
    "## 3. Nested Loop"
   ]
  },
  {
   "cell_type": "code",
   "execution_count": 26,
   "metadata": {},
   "outputs": [
    {
     "name": "stdout",
     "output_type": "stream",
     "text": [
      "* \n",
      "* * \n",
      "* * * \n",
      "* * * * \n",
      "* * * * * \n",
      "* * * * * * \n",
      "* * * * * * * \n"
     ]
    }
   ],
   "source": [
    "n=7\n",
    "\n",
    "for i in range(0, n):\n",
    "    for j in range(0, i+1):\n",
    "        print(\"*\", end=\" \")\n",
    "    print(\"\\r\")    "
   ]
  },
  {
   "cell_type": "markdown",
   "metadata": {},
   "source": [
    "### LOOP Control\n",
    "\n",
    "#### Break and Continue"
   ]
  },
  {
   "cell_type": "code",
   "execution_count": 36,
   "metadata": {},
   "outputs": [],
   "source": [
    "fruits_list = ['apple', 'banana', 'mango', 'pineapple', 'cherry', 'papaya']\n"
   ]
  },
  {
   "cell_type": "code",
   "execution_count": 37,
   "metadata": {},
   "outputs": [
    {
     "name": "stdout",
     "output_type": "stream",
     "text": [
      "apple\n",
      "banana\n",
      "mango\n",
      "The fruit is pineapple.\n"
     ]
    }
   ],
   "source": [
    "# Break\n",
    "\n",
    "for i in fruits_list:\n",
    "    if i == 'pineapple':\n",
    "        print(\"The fruit is pineapple.\")\n",
    "        break\n",
    "    print(i)\n"
   ]
  },
  {
   "cell_type": "code",
   "execution_count": 38,
   "metadata": {},
   "outputs": [
    {
     "name": "stdout",
     "output_type": "stream",
     "text": [
      "apple\n",
      "banana\n",
      "mango\n",
      "The fruit is pineapple.\n",
      "pineapple\n",
      "cherry\n",
      "papaya\n"
     ]
    }
   ],
   "source": [
    "# Pass\n",
    "\n",
    "for i in fruits_list:\n",
    "    if i == 'pineapple':\n",
    "        print(\"The fruit is pineapple.\")\n",
    "        pass\n",
    "    print(i)\n"
   ]
  },
  {
   "cell_type": "code",
   "execution_count": 39,
   "metadata": {},
   "outputs": [
    {
     "name": "stdout",
     "output_type": "stream",
     "text": [
      "apple\n",
      "banana\n",
      "mango\n",
      "The fruit is pineapple.\n",
      "cherry\n",
      "papaya\n"
     ]
    }
   ],
   "source": [
    "# Continue\n",
    "\n",
    "for i in fruits_list:\n",
    "    if i == 'pineapple':\n",
    "        print(\"The fruit is pineapple.\")\n",
    "        continue\n",
    "    print(i)\n"
   ]
  },
  {
   "cell_type": "code",
   "execution_count": 41,
   "metadata": {},
   "outputs": [
    {
     "name": "stdout",
     "output_type": "stream",
     "text": [
      "apple\n",
      "banana\n",
      "mango\n",
      "p\n",
      "i\n",
      "n\n",
      "e\n",
      "a\n",
      "p\n",
      "p\n",
      "l\n",
      "e\n",
      "cherry\n",
      "papaya\n"
     ]
    }
   ],
   "source": [
    "# Continue\n",
    "\n",
    "for i in fruits_list:\n",
    "    if i == 'pineapple':\n",
    "        for x in i:\n",
    "            print(x)\n",
    "        continue    \n",
    "    print(i)\n"
   ]
  },
  {
   "cell_type": "code",
   "execution_count": null,
   "metadata": {},
   "outputs": [],
   "source": []
  }
 ],
 "metadata": {
  "kernelspec": {
   "display_name": ".venv",
   "language": "python",
   "name": "python3"
  },
  "language_info": {
   "codemirror_mode": {
    "name": "ipython",
    "version": 3
   },
   "file_extension": ".py",
   "mimetype": "text/x-python",
   "name": "python",
   "nbconvert_exporter": "python",
   "pygments_lexer": "ipython3",
   "version": "3.10.11"
  },
  "orig_nbformat": 4
 },
 "nbformat": 4,
 "nbformat_minor": 2
}
