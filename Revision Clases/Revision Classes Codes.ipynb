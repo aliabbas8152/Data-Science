{
 "cells": [
  {
   "cell_type": "code",
   "execution_count": 1,
   "metadata": {},
   "outputs": [
    {
     "name": "stdout",
     "output_type": "stream",
     "text": [
      "1 2 3 4 6 12 "
     ]
    }
   ],
   "source": [
    "# To find the factors of a number with while loop\n",
    "n = int(input(\"Enter a number for computing the factor: \"))\n",
    "print(1,end = ' ')\n",
    "factor = 2\n",
    "while factor <= n / 2:\n",
    "    if n % factor == 0:\n",
    "        print(factor, end =' ')\n",
    "    factor +=1\n",
    "\n",
    "print(n, end =' ')\n"
   ]
  },
  {
   "cell_type": "code",
   "execution_count": 6,
   "metadata": {},
   "outputs": [
    {
     "name": "stdout",
     "output_type": "stream",
     "text": [
      "1 3 9 "
     ]
    }
   ],
   "source": [
    "# To find the factors of a number with for loop\n",
    "n = int(input(\"Enter a number for computing the factor: \"))\n",
    "print(1,end = ' ')\n",
    "for fact in range(2,n):\n",
    "    if n%fact == 0:\n",
    "        print(fact, end=' ')\n",
    "print(n, end =' ')        "
   ]
  },
  {
   "cell_type": "code",
   "execution_count": null,
   "metadata": {},
   "outputs": [],
   "source": []
  },
  {
   "cell_type": "code",
   "execution_count": 7,
   "metadata": {},
   "outputs": [
    {
     "name": "stdout",
     "output_type": "stream",
     "text": [
      "Enter numbers to find their sum, negative number ends the loop\n",
      "sum = 17\n"
     ]
    }
   ],
   "source": [
    "# Finding the sum of the positive numbers, negative number ends the loop\n",
    "entry = 0\n",
    "sum1 = 0\n",
    "print(\"Enter numbers to find their sum, negative number ends the loop\")\n",
    "while True:\n",
    "    entry = int(input())\n",
    "    if (entry <0):\n",
    "        break\n",
    "    sum1 += entry\n",
    "print(\"sum =\", sum1)"
   ]
  },
  {
   "cell_type": "code",
   "execution_count": null,
   "metadata": {},
   "outputs": [],
   "source": []
  },
  {
   "cell_type": "code",
   "execution_count": 9,
   "metadata": {},
   "outputs": [
    {
     "name": "stdout",
     "output_type": "stream",
     "text": [
      "1 \n",
      "1 2 \n",
      "1 2 3 \n",
      "1 2 3 4 \n",
      "1 2 3 4 5 \n"
     ]
    }
   ],
   "source": [
    "# To print a right triangle pattern of numbers\n",
    "num = int(input('Enter a number to generate its pattern :'))\n",
    "for i in range(1, num+1):\n",
    "    for j in range(1,i+1):\n",
    "        print(j, end =\" \")\n",
    "    print()"
   ]
  },
  {
   "cell_type": "code",
   "execution_count": 11,
   "metadata": {},
   "outputs": [
    {
     "name": "stdout",
     "output_type": "stream",
     "text": [
      "1 \n",
      "2 2 \n",
      "3 3 3 \n",
      "4 4 4 4 \n",
      "5 5 5 5 5 \n"
     ]
    }
   ],
   "source": [
    "num = int(input('Enter a number to generate its pattern :'))\n",
    "for i in range(1, num+1):\n",
    "    for j in range(1,i+1):\n",
    "        print(i, end =\" \")\n",
    "    print()"
   ]
  },
  {
   "cell_type": "code",
   "execution_count": null,
   "metadata": {},
   "outputs": [],
   "source": []
  },
  {
   "cell_type": "code",
   "execution_count": 1,
   "metadata": {},
   "outputs": [
    {
     "name": "stdout",
     "output_type": "stream",
     "text": [
      "[2, 4, 6]\n"
     ]
    }
   ],
   "source": [
    "my_list = [1,2,3,4,5,6]\n",
    "\n",
    "for i in my_list:\n",
    "    my_list.remove(i)\n",
    "\n",
    "print(my_list)    "
   ]
  },
  {
   "cell_type": "code",
   "execution_count": null,
   "metadata": {},
   "outputs": [],
   "source": []
  },
  {
   "cell_type": "code",
   "execution_count": 3,
   "metadata": {},
   "outputs": [
    {
     "name": "stdout",
     "output_type": "stream",
     "text": [
      "You entered:  15 / 2\n",
      "The mixed fraction is =  7 ( 1 / 2 )\n"
     ]
    }
   ],
   "source": [
    "# Write a program that accepts numerator and denominator of a fractional number and calls a user defined function mixedfraction() when the fraction formed is not a proper fraction. The default value of denominator is 1. The function displays a mixed fraction only if the fraction formed by the parameters does not evaluate to a whole number.\n",
    "\n",
    "def mixedfraction(num, deno=1):\n",
    "    remainder = num%deno\n",
    "    if remainder != 0 :\n",
    "        quotient = int(num/deno)\n",
    "        print(\"The mixed fraction is = \", quotient, \"(\", remainder, \"/\", deno, \")\")\n",
    "    else:\n",
    "        print(\"The given fraction evaluates to whole number..\")\n",
    "\n",
    "num = int(input(\"Enter the numerator: \"))   \n",
    "deno = int(input(\"Enter the denominator: \")) \n",
    "\n",
    "print(\"You entered: \", num, \"/\", deno)\n",
    "if num>deno:\n",
    "    mixedfraction(num, deno)\n",
    "else:\n",
    "    print(\"It is a proper fraction...\")    "
   ]
  },
  {
   "cell_type": "code",
   "execution_count": null,
   "metadata": {},
   "outputs": [],
   "source": []
  },
  {
   "cell_type": "code",
   "execution_count": 5,
   "metadata": {},
   "outputs": [
    {
     "name": "stdout",
     "output_type": "stream",
     "text": [
      "id of argument number is : 2870184050896\n",
      "Prameter num has value:  0 \n",
      "id =  2870184050896\n",
      "Numbere is incremented by 5 is 5 \n",
      "Now id is 2870184051056\n"
     ]
    }
   ],
   "source": [
    "# Write a program using user defined function that accepts an integer and increments the value by 5. Also display the id of argument (before function call), id of parameter before increment and after increment.\n",
    "\n",
    "def incvalue(num):\n",
    "    print(\"Prameter num has value: \", num, \"\\nid = \", id(num))\n",
    "    num = num + 5\n",
    "    print(\"Numbere is incremented by 5 is\", num, \"\\nNow id is\", id(num))\n",
    "\n",
    "number = int(input(\"Enter a number: \"))\n",
    "print(\"id of argument number is :\", id(number))\n",
    "incvalue(number)    "
   ]
  },
  {
   "cell_type": "code",
   "execution_count": null,
   "metadata": {},
   "outputs": [],
   "source": []
  },
  {
   "cell_type": "code",
   "execution_count": 8,
   "metadata": {},
   "outputs": [
    {
     "name": "stdout",
     "output_type": "stream",
     "text": [
      "10\n",
      "5\n"
     ]
    }
   ],
   "source": [
    "num = 5\n",
    "def my():\n",
    "    num = 10    \n",
    "    return num\n",
    "\n",
    "def my1():\n",
    "    return num\n",
    "print(my()) \n",
    "print(my1())   "
   ]
  },
  {
   "cell_type": "code",
   "execution_count": 9,
   "metadata": {},
   "outputs": [
    {
     "name": "stdout",
     "output_type": "stream",
     "text": [
      "10\n",
      "10\n"
     ]
    }
   ],
   "source": [
    "# By using global keyword we can change the value of variable which will be accesed outside the function\n",
    "num = 5\n",
    "def my():\n",
    "    global num \n",
    "    num = 10      \n",
    "    return num\n",
    "\n",
    "def my1():\n",
    "    return num\n",
    "print(my()) \n",
    "print(my1())   \n"
   ]
  },
  {
   "cell_type": "code",
   "execution_count": null,
   "metadata": {},
   "outputs": [],
   "source": []
  },
  {
   "cell_type": "markdown",
   "metadata": {},
   "source": [
    "## map() function \n",
    "\n",
    "The `map()` function in Python is a built-in function that applies a specified function to all the items in an iterable (such as a list, tuple, or string) and returns an iterator that produces the results. The syntax for `map()` is as follows:\n",
    "\n",
    "```python\n",
    "map(function, iterable, ...)\n",
    "```\n",
    "\n",
    "- `function`: The function to apply to each item in the iterable.\n",
    "- `iterable`: The iterable (e.g., a list, tuple, or string) whose elements will be processed by the function.\n",
    "\n",
    "Here's a simple example to illustrate how `map()` works:\n",
    "\n",
    "```python\n",
    "# Define a function to square a number\n",
    "def square(x):\n",
    "    return x ** 2\n",
    "\n",
    "# Use map to apply the square function to each element in the list\n",
    "numbers = [1, 2, 3, 4, 5]\n",
    "squared_numbers = map(square, numbers)\n",
    "\n",
    "# Convert the result to a list (in Python 3, map returns an iterator)\n",
    "squared_numbers_list = list(squared_numbers)\n",
    "\n",
    "# Print the result\n",
    "print(squared_numbers_list)\n",
    "```\n",
    "\n",
    "In this example, the `square()` function is defined to square a given number. The `map()` function is then used to apply this function to each element in the `numbers` list. The result is an iterator that produces the squared values, which are then converted to a list for printing.\n",
    "\n",
    "Output:\n",
    "```\n",
    "[1, 4, 9, 16, 25]\n",
    "```\n",
    "\n",
    "Note that `map()` returns an iterator in Python 3, so you need to convert it to a list or another iterable type to view the results. In Python 2, `map()` returns a list directly.\n",
    "\n",
    "You can also use `map()` with multiple iterables. The function should take as many arguments as there are iterables. For example:\n",
    "\n",
    "```python\n",
    "# Define a function to add two numbers\n",
    "def add(x, y):\n",
    "    return x + y\n",
    "\n",
    "# Use map to apply the add function to corresponding elements in two lists\n",
    "numbers1 = [1, 2, 3, 4]\n",
    "numbers2 = [5, 6, 7, 8]\n",
    "sums = map(add, numbers1, numbers2)\n",
    "\n",
    "# Convert the result to a list\n",
    "sums_list = list(sums)\n",
    "\n",
    "# Print the result\n",
    "print(sums_list)\n",
    "```\n",
    "\n",
    "Output:\n",
    "```\n",
    "[6, 8, 10, 12]\n",
    "```\n",
    "\n",
    "In this example, the `add()` function takes two arguments, and `map()` applies it to corresponding elements from `numbers1` and `numbers2`. The result is a list of sums."
   ]
  },
  {
   "cell_type": "code",
   "execution_count": 11,
   "metadata": {},
   "outputs": [
    {
     "name": "stdout",
     "output_type": "stream",
     "text": [
      "(1, 4, 9, 16, 25, 36, 49, 64, 81)\n"
     ]
    }
   ],
   "source": [
    "tup = (1,2,3,4,5,6,7,8,9)\n",
    "\n",
    "new_tup = tuple(map(lambda x:x**2, tup))\n",
    "\n",
    "print(new_tup)"
   ]
  },
  {
   "cell_type": "code",
   "execution_count": 16,
   "metadata": {},
   "outputs": [
    {
     "name": "stdout",
     "output_type": "stream",
     "text": [
      "(1, 4, 9, 16, 25, 36, 49, 64, 81)\n"
     ]
    }
   ],
   "source": [
    "lst = [1,2,3,4,5,6,7,8,9]\n",
    "\n",
    "new_tup = tuple(map(lambda x:x**2, tup))\n",
    "\n",
    "print(new_tup)"
   ]
  },
  {
   "cell_type": "code",
   "execution_count": 17,
   "metadata": {},
   "outputs": [
    {
     "name": "stdout",
     "output_type": "stream",
     "text": [
      "(1, 8, 27, 64, 125, 216, 343, 512, 729)\n"
     ]
    }
   ],
   "source": [
    "tup = (1,2,3,4,5,6,7,8,9)\n",
    "\n",
    "cube = tuple(map(lambda x:x**3, tup))\n",
    "\n",
    "print(cube)"
   ]
  },
  {
   "cell_type": "code",
   "execution_count": null,
   "metadata": {},
   "outputs": [],
   "source": []
  },
  {
   "cell_type": "markdown",
   "metadata": {},
   "source": [
    "## filter() Function\n",
    "\n",
    "The `filter()` function in Python is a built-in function that constructs an iterator from elements of an iterable for which a function returns true. The syntax for `filter()` is as follows:\n",
    "\n",
    "```python\n",
    "filter(function, iterable)\n",
    "```\n",
    "\n",
    "- `function`: A function that tests whether each element of an iterable returns true or false. If `None`, it simply returns the elements of the iterable that are true.\n",
    "- `iterable`: The iterable (e.g., a list, tuple, or string) whose elements will be tested by the function.\n",
    "\n",
    "Here's a simple example to illustrate how `filter()` works:\n",
    "\n",
    "```python\n",
    "# Define a function to check if a number is even\n",
    "def is_even(x):\n",
    "    return x % 2 == 0\n",
    "\n",
    "# Use filter to get a list of even numbers from a list\n",
    "numbers = [1, 2, 3, 4, 5, 6, 7, 8, 9, 10]\n",
    "even_numbers = filter(is_even, numbers)\n",
    "\n",
    "# Convert the result to a list (in Python 3, filter returns an iterator)\n",
    "even_numbers_list = list(even_numbers)\n",
    "\n",
    "# Print the result\n",
    "print(even_numbers_list)\n",
    "```\n",
    "\n",
    "In this example, the `is_even()` function is defined to check if a given number is even. The `filter()` function is then used to filter the `numbers` list, returning an iterator that produces only the elements for which `is_even()` returns `True`. The result is then converted to a list for printing.\n",
    "\n",
    "Output:\n",
    "```\n",
    "[2, 4, 6, 8, 10]\n",
    "```\n",
    "\n",
    "Similar to `map()`, `filter()` returns an iterator in Python 3, so you need to convert it to a list or another iterable type to view the results.\n",
    "\n",
    "If the `function` argument is `None`, it simply returns the elements of the iterable that are true. For example:\n",
    "\n",
    "```python\n",
    "# Use filter with None as the function to get only truthy values from a list\n",
    "mixed_values = [0, '', None, 1, 'hello', True, False, 42]\n",
    "truthy_values = filter(None, mixed_values)\n",
    "\n",
    "# Convert the result to a list\n",
    "truthy_values_list = list(truthy_values)\n",
    "\n",
    "# Print the result\n",
    "print(truthy_values_list)\n",
    "```\n",
    "\n",
    "Output:\n",
    "```\n",
    "[1, 'hello', True, 42]\n",
    "```\n",
    "\n",
    "In this example, `filter(None, mixed_values)` filters out falsy values (0, '', None, False) and returns an iterator that produces the truthy values."
   ]
  },
  {
   "cell_type": "code",
   "execution_count": 18,
   "metadata": {},
   "outputs": [
    {
     "name": "stdout",
     "output_type": "stream",
     "text": [
      "<filter object at 0x0000029C4851F3D0>\n",
      "[3, 4, 5, 6]\n"
     ]
    }
   ],
   "source": [
    "def func(x):\n",
    "    if x>=3:\n",
    "        return x\n",
    "    \n",
    "y = filter(func, (0,-1,-2,1,2,3,4,5,6))    \n",
    "print(y)\n",
    "print(list(y))"
   ]
  },
  {
   "cell_type": "code",
   "execution_count": 19,
   "metadata": {},
   "outputs": [
    {
     "name": "stdout",
     "output_type": "stream",
     "text": [
      "[0, -1, -2, 1, 2, 3]\n"
     ]
    }
   ],
   "source": [
    "y = filter(lambda x:x<=3, (0,-1,-2,1,2,3,4,5,6))\n",
    "print(list(y))"
   ]
  },
  {
   "cell_type": "code",
   "execution_count": null,
   "metadata": {},
   "outputs": [],
   "source": []
  },
  {
   "cell_type": "markdown",
   "metadata": {},
   "source": [
    "## reduce() Function\n",
    "\n",
    "The `reduce()` function in Python is part of the `functools` module (in Python 3, it was moved from the built-in functions to `functools`). It performs a rolling computation on an iterable, applying a specified function cumulatively to the items of the iterable from left to right to reduce the iterable to a single value. The syntax for `reduce()` is as follows:\n",
    "\n",
    "```python\n",
    "from functools import reduce\n",
    "\n",
    "reduce(function, iterable[, initializer])\n",
    "```\n",
    "\n",
    "- `function`: A function that takes two arguments and performs some operation on them.\n",
    "- `iterable`: The iterable (e.g., a list, tuple, or string) to be reduced.\n",
    "- `initializer` (optional): An initial value. If provided, it will be placed before the elements of the iterable in the calculation.\n",
    "\n",
    "Here's a simple example to illustrate how `reduce()` works:\n",
    "\n",
    "```python\n",
    "from functools import reduce\n",
    "\n",
    "# Define a function to add two numbers\n",
    "def add(x, y):\n",
    "    return x + y\n",
    "\n",
    "# Use reduce to calculate the sum of numbers in a list\n",
    "numbers = [1, 2, 3, 4, 5]\n",
    "sum_result = reduce(add, numbers)\n",
    "\n",
    "# Print the result\n",
    "print(sum_result)\n",
    "```\n",
    "\n",
    "In this example, the `add()` function takes two arguments and returns their sum. The `reduce()` function applies the `add()` function cumulatively to the items of the `numbers` list, resulting in the sum of all elements.\n",
    "\n",
    "Output:\n",
    "```\n",
    "15\n",
    "```\n",
    "\n",
    "If an `initializer` is provided, it will be used as the initial value in the computation. For instance:\n",
    "\n",
    "```python\n",
    "from functools import reduce\n",
    "\n",
    "# Define a function to multiply two numbers\n",
    "def multiply(x, y):\n",
    "    return x * y\n",
    "\n",
    "# Use reduce to calculate the product of numbers in a list with an initializer\n",
    "numbers = [1, 2, 3, 4, 5]\n",
    "product_result = reduce(multiply, numbers, 10)  # Using 10 as the initializer\n",
    "\n",
    "# Print the result\n",
    "print(product_result)\n",
    "```\n",
    "\n",
    "In this example, the `multiply()` function multiplies two numbers. The `reduce()` function calculates the product of all elements in the `numbers` list, starting with the initial value of 10.\n",
    "\n",
    "Output:\n",
    "```\n",
    "1200  # (10 * 1 * 2 * 3 * 4 * 5)\n",
    "```\n",
    "\n",
    "It's important to note that in Python 3, `reduce()` was moved to the `functools` module, so you need to import it from there (`from functools import reduce`). Additionally, for simple operations like summing or multiplying, using built-in functions (`sum()` or `math.prod()` for Python 3.8+) might be more readable and efficient."
   ]
  },
  {
   "cell_type": "code",
   "execution_count": 20,
   "metadata": {},
   "outputs": [
    {
     "name": "stdout",
     "output_type": "stream",
     "text": [
      "15\n"
     ]
    }
   ],
   "source": [
    "from functools import reduce\n",
    "\n",
    "# Define a function to add two numbers\n",
    "def add(x, y):\n",
    "    return x + y\n",
    "\n",
    "# Use reduce to calculate the sum of numbers in a list\n",
    "numbers = [1, 2, 3, 4, 5]\n",
    "sum_result = reduce(add, numbers)\n",
    "\n",
    "# Print the result\n",
    "print(sum_result)\n"
   ]
  },
  {
   "cell_type": "code",
   "execution_count": 23,
   "metadata": {},
   "outputs": [
    {
     "name": "stdout",
     "output_type": "stream",
     "text": [
      "1200\n"
     ]
    }
   ],
   "source": [
    "from functools import reduce\n",
    "\n",
    "# Define a function to multiply two numbers\n",
    "def multiply(x, y):\n",
    "    return x * y\n",
    "\n",
    "# Use reduce to calculate the product of numbers in a list with an initializer\n",
    "numbers = [1, 2, 3, 4, 5]\n",
    "product_result = reduce(multiply, numbers, 10)  # Using 10 as the initializer\n",
    "\n",
    "# Print the result\n",
    "print(product_result)\n"
   ]
  },
  {
   "cell_type": "code",
   "execution_count": 25,
   "metadata": {},
   "outputs": [
    {
     "name": "stdout",
     "output_type": "stream",
     "text": [
      "45\n"
     ]
    }
   ],
   "source": [
    "from functools import reduce\n",
    "\n",
    "add = reduce(lambda a,b:a+b, (1,2,3,4,5,6,7,8,9))\n",
    "\n",
    "print(add)"
   ]
  },
  {
   "cell_type": "code",
   "execution_count": 26,
   "metadata": {},
   "outputs": [
    {
     "name": "stdout",
     "output_type": "stream",
     "text": [
      "[1, 2, 3, 4, 'a', 'b', 'c', 1.1, 10.0, (1+2j)]\n"
     ]
    }
   ],
   "source": [
    "# program to store elements in a list from nested list\n",
    "nested_list = [[1,2,3,4], [\"a\", \"b\", \"c\"], [1.1, 1.0E1, 1+2j]]\n",
    "\n",
    "flatlist = []\n",
    "for i in nested_list:\n",
    "    for x in i:\n",
    "        flatlist.append(x)\n",
    "\n",
    "print(flatlist)"
   ]
  },
  {
   "cell_type": "code",
   "execution_count": 27,
   "metadata": {},
   "outputs": [
    {
     "name": "stdout",
     "output_type": "stream",
     "text": [
      "[1, 2, 3, 4, 'a', 'b', 'c', 1.1, 10.0, (1+2j)]\n"
     ]
    }
   ],
   "source": [
    "# by using the reduce() function\n",
    "from operator import concat \n",
    "flatlist = reduce(concat, nested_list)\n",
    "print(flatlist)"
   ]
  },
  {
   "cell_type": "code",
   "execution_count": 28,
   "metadata": {},
   "outputs": [
    {
     "name": "stdout",
     "output_type": "stream",
     "text": [
      "[1, 2, 3, 4, 'a', 'b', 'c', 1.1, 10.0, (1+2j)]\n"
     ]
    }
   ],
   "source": [
    "# by using list comprehension\n",
    "flatlist = [a for i in nested_list for a in i]\n",
    "print(flatlist)"
   ]
  },
  {
   "cell_type": "code",
   "execution_count": null,
   "metadata": {},
   "outputs": [],
   "source": []
  },
  {
   "cell_type": "markdown",
   "metadata": {},
   "source": [
    "## Convert file data to list"
   ]
  },
  {
   "cell_type": "code",
   "execution_count": 2,
   "metadata": {},
   "outputs": [],
   "source": [
    "# creating a file and writing data to it\n",
    "a = open(\"test.txt\", 'w')\n",
    "a.write(\"This is Ali Abbas. \\nI live in New Delhi. \\nAnd i am from Uttar Pradesh. \\nBye!\")\n",
    "a.close()"
   ]
  },
  {
   "cell_type": "code",
   "execution_count": 11,
   "metadata": {},
   "outputs": [
    {
     "data": {
      "text/plain": [
       "'This is Ali Abbas. \\nI live in New Delhi. \\nAnd i am from Uttar Pradesh. \\nBye!'"
      ]
     },
     "execution_count": 11,
     "metadata": {},
     "output_type": "execute_result"
    }
   ],
   "source": [
    "# reading data from a file\n",
    "b = open(\"test.txt\", 'r')\n",
    "b.read()\n"
   ]
  },
  {
   "cell_type": "code",
   "execution_count": 12,
   "metadata": {},
   "outputs": [
    {
     "name": "stdout",
     "output_type": "stream",
     "text": [
      "['This is Ali Abbas.', 'I live in New Delhi.', 'And i am from Uttar Pradesh.', 'Bye!']\n"
     ]
    }
   ],
   "source": [
    "file = open(\"test.txt\")\n",
    "\n",
    "lines = file.readlines()\n",
    "lines = [i.strip() for i in lines]\n",
    "print(lines)"
   ]
  },
  {
   "cell_type": "code",
   "execution_count": 3,
   "metadata": {},
   "outputs": [
    {
     "name": "stdout",
     "output_type": "stream",
     "text": [
      "This is Ali Abbas. \n",
      "I live in New Delhi. \n",
      "And i am from Uttar Pradesh. \n",
      "Bye!\n"
     ]
    }
   ],
   "source": [
    "# reading the content of a file as it stores ... by with keyword\n",
    "with open(\"test.txt\", 'r') as f:\n",
    "    content = f.read()\n",
    "    print(content)"
   ]
  },
  {
   "cell_type": "code",
   "execution_count": 4,
   "metadata": {},
   "outputs": [],
   "source": [
    "try:\n",
    "    f = open(\"test1.txt\", \"w\")\n",
    "    f.write(\"My name is Al Abbas...\")\n",
    "except Exception as e:\n",
    "    print(e)\n",
    "finally:\n",
    "    f.close()        "
   ]
  },
  {
   "cell_type": "code",
   "execution_count": 6,
   "metadata": {},
   "outputs": [
    {
     "name": "stdout",
     "output_type": "stream",
     "text": [
      "The file pointer is at byte:  0\n",
      "After reading the file pointer is at:  20\n",
      "\n",
      "I live in New Delhi. \n",
      "And i am from Uttar Pradesh. \n",
      "Bye!\n"
     ]
    }
   ],
   "source": [
    "f = open(\"test.txt\", 'r')\n",
    "print(\"The file pointer is at byte: \", f.tell())\n",
    "\n",
    "f.seek(20)\n",
    "\n",
    "print(\"After reading the file pointer is at: \", f.tell())\n",
    "\n",
    "print(f.read())"
   ]
  },
  {
   "cell_type": "code",
   "execution_count": null,
   "metadata": {},
   "outputs": [],
   "source": []
  },
  {
   "cell_type": "markdown",
   "metadata": {},
   "source": [
    "## Exception Handling"
   ]
  },
  {
   "cell_type": "code",
   "execution_count": 8,
   "metadata": {},
   "outputs": [
    {
     "name": "stdout",
     "output_type": "stream",
     "text": [
      "Please input a Valid Number....\n",
      "232\n"
     ]
    }
   ],
   "source": [
    "while True:\n",
    "    try:\n",
    "        x = int(input(\"Enter a number: \"))\n",
    "        print(x)\n",
    "        break\n",
    "    except ValueError:\n",
    "        print(\"Please input a Valid Number....\")"
   ]
  },
  {
   "cell_type": "code",
   "execution_count": 9,
   "metadata": {},
   "outputs": [
    {
     "name": "stdout",
     "output_type": "stream",
     "text": [
      "<class 'Exception'>\n",
      "('spam', 'eggs')\n",
      "('spam', 'eggs')\n",
      "x =  spam\n",
      "y =  eggs\n"
     ]
    }
   ],
   "source": [
    "try:\n",
    "    raise Exception('spam', 'eggs')\n",
    "except Exception as e:\n",
    "    print(type(e))\n",
    "    print(e.args)\n",
    "    print(e)\n",
    "\n",
    "    x,y = e.args\n",
    "    print('x = ', x)\n",
    "    print('y = ', y)"
   ]
  },
  {
   "cell_type": "code",
   "execution_count": 11,
   "metadata": {},
   "outputs": [
    {
     "name": "stdout",
     "output_type": "stream",
     "text": [
      "Could not convert data to an integer..\n"
     ]
    }
   ],
   "source": [
    "import sys\n",
    "try:\n",
    "    f = open(\"test1.txt\")\n",
    "    s = f.readline()\n",
    "    i = int(s.strip())\n",
    "except OSError as e:\n",
    "    print(\"OS Error: \", e)\n",
    "except ValueError:\n",
    "    print(\"Could not convert data to an integer..\") \n",
    "except Exception as e:\n",
    "    print(f\"Unexpected {e=}, {type(e)=}\")\n",
    "    raise           "
   ]
  },
  {
   "cell_type": "code",
   "execution_count": 12,
   "metadata": {},
   "outputs": [
    {
     "ename": "NameError",
     "evalue": "Hi",
     "output_type": "error",
     "traceback": [
      "\u001b[1;31m---------------------------------------------------------------------------\u001b[0m",
      "\u001b[1;31mNameError\u001b[0m                                 Traceback (most recent call last)",
      "\u001b[1;32mc:\\Codes\\pythonFiles\\Data Science PW\\Revision Clases\\Revision Classes Codes.ipynb Cell 47\u001b[0m line \u001b[0;36m1\n\u001b[1;32m----> <a href='vscode-notebook-cell:/c%3A/Codes/pythonFiles/Data%20Science%20PW/Revision%20Clases/Revision%20Classes%20Codes.ipynb#X64sZmlsZQ%3D%3D?line=0'>1</a>\u001b[0m \u001b[39mraise\u001b[39;00m \u001b[39mNameError\u001b[39;00m(\u001b[39m'\u001b[39m\u001b[39mHi\u001b[39m\u001b[39m'\u001b[39m)\n",
      "\u001b[1;31mNameError\u001b[0m: Hi"
     ]
    }
   ],
   "source": [
    "raise NameError('Hi')"
   ]
  },
  {
   "cell_type": "code",
   "execution_count": 13,
   "metadata": {},
   "outputs": [
    {
     "name": "stdout",
     "output_type": "stream",
     "text": [
      "Good Bye!\n"
     ]
    },
    {
     "ename": "KeyboardInterrupt",
     "evalue": "",
     "output_type": "error",
     "traceback": [
      "\u001b[1;31m---------------------------------------------------------------------------\u001b[0m",
      "\u001b[1;31mKeyboardInterrupt\u001b[0m                         Traceback (most recent call last)",
      "\u001b[1;32mc:\\Codes\\pythonFiles\\Data Science PW\\Revision Clases\\Revision Classes Codes.ipynb Cell 48\u001b[0m line \u001b[0;36m2\n\u001b[0;32m      <a href='vscode-notebook-cell:/c%3A/Codes/pythonFiles/Data%20Science%20PW/Revision%20Clases/Revision%20Classes%20Codes.ipynb#X65sZmlsZQ%3D%3D?line=0'>1</a>\u001b[0m \u001b[39mtry\u001b[39;00m:\n\u001b[1;32m----> <a href='vscode-notebook-cell:/c%3A/Codes/pythonFiles/Data%20Science%20PW/Revision%20Clases/Revision%20Classes%20Codes.ipynb#X65sZmlsZQ%3D%3D?line=1'>2</a>\u001b[0m     \u001b[39mraise\u001b[39;00m \u001b[39mKeyboardInterrupt\u001b[39;00m\n\u001b[0;32m      <a href='vscode-notebook-cell:/c%3A/Codes/pythonFiles/Data%20Science%20PW/Revision%20Clases/Revision%20Classes%20Codes.ipynb#X65sZmlsZQ%3D%3D?line=2'>3</a>\u001b[0m \u001b[39mfinally\u001b[39;00m:\n\u001b[0;32m      <a href='vscode-notebook-cell:/c%3A/Codes/pythonFiles/Data%20Science%20PW/Revision%20Clases/Revision%20Classes%20Codes.ipynb#X65sZmlsZQ%3D%3D?line=3'>4</a>\u001b[0m     \u001b[39mprint\u001b[39m(\u001b[39m\"\u001b[39m\u001b[39mGood Bye!\u001b[39m\u001b[39m\"\u001b[39m)\n",
      "\u001b[1;31mKeyboardInterrupt\u001b[0m: "
     ]
    }
   ],
   "source": [
    "try:\n",
    "    raise KeyboardInterrupt\n",
    "finally:\n",
    "    print(\"Good Bye!\")"
   ]
  },
  {
   "cell_type": "code",
   "execution_count": 15,
   "metadata": {},
   "outputs": [],
   "source": [
    "def div(x,y):\n",
    "    try:\n",
    "        res = x/y\n",
    "    except ZeroDivisionError:\n",
    "        print(\"Division by Zero\")\n",
    "    else:\n",
    "        print(\"Result is: \", res)\n",
    "    finally:\n",
    "        print(\"Executing the finally Clause...\")                    "
   ]
  },
  {
   "cell_type": "code",
   "execution_count": 16,
   "metadata": {},
   "outputs": [
    {
     "name": "stdout",
     "output_type": "stream",
     "text": [
      "Division by Zero\n",
      "Executing the finally Clause...\n"
     ]
    }
   ],
   "source": [
    "div(2,0)"
   ]
  },
  {
   "cell_type": "code",
   "execution_count": 17,
   "metadata": {},
   "outputs": [
    {
     "name": "stdout",
     "output_type": "stream",
     "text": [
      "Result is:  1.5\n",
      "Executing the finally Clause...\n"
     ]
    }
   ],
   "source": [
    "div(3,2)"
   ]
  },
  {
   "cell_type": "code",
   "execution_count": 18,
   "metadata": {},
   "outputs": [],
   "source": [
    "def f():\n",
    "    excs = [OSError('error 1'), SystemError('error 2')]\n",
    "    raise ExceptionGroup('there were a problem', excs)"
   ]
  },
  {
   "cell_type": "code",
   "execution_count": null,
   "metadata": {},
   "outputs": [],
   "source": []
  },
  {
   "cell_type": "code",
   "execution_count": 19,
   "metadata": {},
   "outputs": [
    {
     "ename": "NameError",
     "evalue": "name 'ExceptionGroup' is not defined",
     "output_type": "error",
     "traceback": [
      "\u001b[1;31m---------------------------------------------------------------------------\u001b[0m",
      "\u001b[1;31mNameError\u001b[0m                                 Traceback (most recent call last)",
      "\u001b[1;32mc:\\Codes\\pythonFiles\\Data Science PW\\Revision Clases\\Revision Classes Codes.ipynb Cell 53\u001b[0m line \u001b[0;36m1\n\u001b[1;32m----> <a href='vscode-notebook-cell:/c%3A/Codes/pythonFiles/Data%20Science%20PW/Revision%20Clases/Revision%20Classes%20Codes.ipynb#Y103sZmlsZQ%3D%3D?line=0'>1</a>\u001b[0m f()\n",
      "\u001b[1;32mc:\\Codes\\pythonFiles\\Data Science PW\\Revision Clases\\Revision Classes Codes.ipynb Cell 53\u001b[0m line \u001b[0;36m3\n\u001b[0;32m      <a href='vscode-notebook-cell:/c%3A/Codes/pythonFiles/Data%20Science%20PW/Revision%20Clases/Revision%20Classes%20Codes.ipynb#Y103sZmlsZQ%3D%3D?line=0'>1</a>\u001b[0m \u001b[39mdef\u001b[39;00m \u001b[39mf\u001b[39m():\n\u001b[0;32m      <a href='vscode-notebook-cell:/c%3A/Codes/pythonFiles/Data%20Science%20PW/Revision%20Clases/Revision%20Classes%20Codes.ipynb#Y103sZmlsZQ%3D%3D?line=1'>2</a>\u001b[0m     excs \u001b[39m=\u001b[39m [\u001b[39mOSError\u001b[39;00m(\u001b[39m'\u001b[39m\u001b[39merror 1\u001b[39m\u001b[39m'\u001b[39m), \u001b[39mSystemError\u001b[39;00m(\u001b[39m'\u001b[39m\u001b[39merror 2\u001b[39m\u001b[39m'\u001b[39m)]\n\u001b[1;32m----> <a href='vscode-notebook-cell:/c%3A/Codes/pythonFiles/Data%20Science%20PW/Revision%20Clases/Revision%20Classes%20Codes.ipynb#Y103sZmlsZQ%3D%3D?line=2'>3</a>\u001b[0m     \u001b[39mraise\u001b[39;00m ExceptionGroup(\u001b[39m'\u001b[39m\u001b[39mthere were a problem\u001b[39m\u001b[39m'\u001b[39m, excs)\n",
      "\u001b[1;31mNameError\u001b[0m: name 'ExceptionGroup' is not defined"
     ]
    }
   ],
   "source": [
    "f()"
   ]
  },
  {
   "cell_type": "code",
   "execution_count": 20,
   "metadata": {},
   "outputs": [
    {
     "name": "stdout",
     "output_type": "stream",
     "text": [
      "caught <class 'NameError'>:e\n"
     ]
    }
   ],
   "source": [
    "try: \n",
    "    f()\n",
    "except Exception as e:\n",
    "    print(f'caught {type(e)}:e')    "
   ]
  },
  {
   "cell_type": "code",
   "execution_count": null,
   "metadata": {},
   "outputs": [],
   "source": []
  }
 ],
 "metadata": {
  "kernelspec": {
   "display_name": "Python 3",
   "language": "python",
   "name": "python3"
  },
  "language_info": {
   "codemirror_mode": {
    "name": "ipython",
    "version": 3
   },
   "file_extension": ".py",
   "mimetype": "text/x-python",
   "name": "python",
   "nbconvert_exporter": "python",
   "pygments_lexer": "ipython3",
   "version": "3.10.11"
  }
 },
 "nbformat": 4,
 "nbformat_minor": 2
}
